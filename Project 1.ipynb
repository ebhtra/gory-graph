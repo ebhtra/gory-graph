{
 "cells": [
  {
   "cell_type": "markdown",
   "id": "f07e1dfc",
   "metadata": {},
   "source": [
    "### Project 1\n",
    "#### Summer 2021\n",
    "**Authors:** GOAT Team (Estaban Aramayo, Ethan Haley, Claire Meyer, and Tyler Frankenburg)"
   ]
  },
  {
   "cell_type": "markdown",
   "id": "89c92507",
   "metadata": {},
   "source": [
    "The [Cocktail DB](https://www.thecocktaildb.com/api.php) is a database of cocktails and ingredients. In this assignment, we describe how we could use the Cocktail DB's API to generate a network of cocktails and ingredients. We can use some example data to explore how we might be able to predict outcomes from this data using centrality metrics. "
   ]
  },
  {
   "cell_type": "markdown",
   "id": "54f01a10",
   "metadata": {},
   "source": [
    "##### Loading the Data\n",
    "\n",
    "Without digging too deeply into the intricacies of the Cocktail DB API, we can leverage [this code](https://holypython.com/api-12-cocktail-database/) as a start for grabbing some example output from the API. This code leverages 2 libraries: `requests` to make an API request, and `json` to load the JSON output from the API. We can then iterate through each cocktail output to grab the relevant components. \n",
    "\n",
    "We can bulid a search query to pull all cocktail names (`strDrink`), the ingredients for each, and the drink categories (`strCategory`) for each cocktail.\n",
    "\n",
    "First, we get all drinks, by first letter of name."
   ]
  },
  {
   "cell_type": "code",
   "execution_count": 1,
   "id": "33d37bf6",
   "metadata": {},
   "outputs": [],
   "source": [
    "import networkx as net\n",
    "import requests\n",
    "import json\n",
    "import pandas as pd\n",
    "import matplotlib.pyplot as plt\n",
    "%matplotlib inline\n",
    "import warnings\n",
    "warnings.filterwarnings(\"ignore\")"
   ]
  },
  {
   "cell_type": "code",
   "execution_count": 2,
   "id": "e4f956a6",
   "metadata": {},
   "outputs": [],
   "source": [
    "baseUrl = \"https://www.thecocktaildb.com/api/json/v1/1/\"\n",
    "letterEndpoint = \"search.php?f=\"\n",
    "\n",
    "def searchLetter(letter):\n",
    "    data = requests.get(baseUrl + letterEndpoint + letter)\n",
    "    return json.loads(data.text)"
   ]
  },
  {
   "cell_type": "code",
   "execution_count": 3,
   "id": "89bdf521",
   "metadata": {},
   "outputs": [],
   "source": [
    "# Build a dataframe\n",
    "name = []  # drink name\n",
    "ids = []   # drink ID\n",
    "cat = []   # drink category\n",
    "pic = []   # thumbnail url\n",
    "ingr = []  # ingredients"
   ]
  },
  {
   "cell_type": "code",
   "execution_count": 4,
   "id": "bf2aa4d4",
   "metadata": {},
   "outputs": [],
   "source": [
    "# helper function to parse ingredients\n",
    "def ingreds(drinkDict):\n",
    "    ing = []\n",
    "    for i in range(1,16):  # API has 16 fields for ingredients of each drink, most of them empty/None\n",
    "        s = \"strIngredient\" + str(i)\n",
    "        if not d[s]:\n",
    "            break\n",
    "        ing.append(d[s])\n",
    "    return ing"
   ]
  },
  {
   "cell_type": "code",
   "execution_count": 9,
   "id": "9961ca1c",
   "metadata": {},
   "outputs": [],
   "source": [
    "for l in 'abcdefghijklmnopqrstuvwxyz':\n",
    "    \n",
    "    drinks = searchLetter(l)['drinks']\n",
    "    if not drinks: continue   #(some letters have no drinks)\n",
    "    for d in drinks:\n",
    "        name.append(d['strDrink'])\n",
    "        ids.append(d['idDrink'])\n",
    "        cat.append(d['strCategory'])\n",
    "        pic.append(d['strDrinkThumb'])\n",
    "        ingr.append(ingreds(d))"
   ]
  },
  {
   "cell_type": "code",
   "execution_count": 13,
   "id": "a1185d8f",
   "metadata": {},
   "outputs": [
    {
     "data": {
      "text/html": [
       "<div>\n",
       "<style scoped>\n",
       "    .dataframe tbody tr th:only-of-type {\n",
       "        vertical-align: middle;\n",
       "    }\n",
       "\n",
       "    .dataframe tbody tr th {\n",
       "        vertical-align: top;\n",
       "    }\n",
       "\n",
       "    .dataframe thead th {\n",
       "        text-align: right;\n",
       "    }\n",
       "</style>\n",
       "<table border=\"1\" class=\"dataframe\">\n",
       "  <thead>\n",
       "    <tr style=\"text-align: right;\">\n",
       "      <th></th>\n",
       "      <th>name</th>\n",
       "      <th>id</th>\n",
       "      <th>category</th>\n",
       "      <th>photoURL</th>\n",
       "      <th>ingredients</th>\n",
       "    </tr>\n",
       "  </thead>\n",
       "  <tbody>\n",
       "    <tr>\n",
       "      <th>0</th>\n",
       "      <td>A1</td>\n",
       "      <td>17222</td>\n",
       "      <td>Cocktail</td>\n",
       "      <td>https://www.thecocktaildb.com/images/media/dri...</td>\n",
       "      <td>[Gin, Grand Marnier, Lemon Juice, Grenadine]</td>\n",
       "    </tr>\n",
       "    <tr>\n",
       "      <th>1</th>\n",
       "      <td>ABC</td>\n",
       "      <td>13501</td>\n",
       "      <td>Shot</td>\n",
       "      <td>https://www.thecocktaildb.com/images/media/dri...</td>\n",
       "      <td>[Amaretto, Baileys irish cream, Cognac]</td>\n",
       "    </tr>\n",
       "    <tr>\n",
       "      <th>2</th>\n",
       "      <td>Ace</td>\n",
       "      <td>17225</td>\n",
       "      <td>Cocktail</td>\n",
       "      <td>https://www.thecocktaildb.com/images/media/dri...</td>\n",
       "      <td>[Gin, Grenadine, Heavy cream, Milk, Egg White]</td>\n",
       "    </tr>\n",
       "    <tr>\n",
       "      <th>3</th>\n",
       "      <td>Adam</td>\n",
       "      <td>17837</td>\n",
       "      <td>Ordinary Drink</td>\n",
       "      <td>https://www.thecocktaildb.com/images/media/dri...</td>\n",
       "      <td>[Dark rum, Lemon juice, Grenadine]</td>\n",
       "    </tr>\n",
       "    <tr>\n",
       "      <th>4</th>\n",
       "      <td>AT&amp;T</td>\n",
       "      <td>13938</td>\n",
       "      <td>Ordinary Drink</td>\n",
       "      <td>https://www.thecocktaildb.com/images/media/dri...</td>\n",
       "      <td>[Absolut Vodka, Gin, Tonic water]</td>\n",
       "    </tr>\n",
       "    <tr>\n",
       "      <th>...</th>\n",
       "      <td>...</td>\n",
       "      <td>...</td>\n",
       "      <td>...</td>\n",
       "      <td>...</td>\n",
       "      <td>...</td>\n",
       "    </tr>\n",
       "    <tr>\n",
       "      <th>829</th>\n",
       "      <td>Zima Blaster</td>\n",
       "      <td>17027</td>\n",
       "      <td>Ordinary Drink</td>\n",
       "      <td>https://www.thecocktaildb.com/images/media/dri...</td>\n",
       "      <td>[Zima, Chambord raspberry liqueur]</td>\n",
       "    </tr>\n",
       "    <tr>\n",
       "      <th>830</th>\n",
       "      <td>Zizi Coin-coin</td>\n",
       "      <td>14594</td>\n",
       "      <td>Punch / Party Drink</td>\n",
       "      <td>https://www.thecocktaildb.com/images/media/dri...</td>\n",
       "      <td>[Cointreau, Lemon juice, Ice, Lemon]</td>\n",
       "    </tr>\n",
       "    <tr>\n",
       "      <th>831</th>\n",
       "      <td>Zippy's Revenge</td>\n",
       "      <td>14065</td>\n",
       "      <td>Cocktail</td>\n",
       "      <td>https://www.thecocktaildb.com/images/media/dri...</td>\n",
       "      <td>[Amaretto, Rum, Kool-Aid]</td>\n",
       "    </tr>\n",
       "    <tr>\n",
       "      <th>832</th>\n",
       "      <td>Zimadori Zinger</td>\n",
       "      <td>15801</td>\n",
       "      <td>Punch / Party Drink</td>\n",
       "      <td>https://www.thecocktaildb.com/images/media/dri...</td>\n",
       "      <td>[Midori melon liqueur, Zima]</td>\n",
       "    </tr>\n",
       "    <tr>\n",
       "      <th>833</th>\n",
       "      <td>Ziemes Martini Apfelsaft</td>\n",
       "      <td>14157</td>\n",
       "      <td>Ordinary Drink</td>\n",
       "      <td>https://www.thecocktaildb.com/images/media/dri...</td>\n",
       "      <td>[Vermouth, Apple juice]</td>\n",
       "    </tr>\n",
       "  </tbody>\n",
       "</table>\n",
       "<p>834 rows × 5 columns</p>\n",
       "</div>"
      ],
      "text/plain": [
       "                         name     id             category  \\\n",
       "0                          A1  17222             Cocktail   \n",
       "1                         ABC  13501                 Shot   \n",
       "2                         Ace  17225             Cocktail   \n",
       "3                        Adam  17837       Ordinary Drink   \n",
       "4                        AT&T  13938       Ordinary Drink   \n",
       "..                        ...    ...                  ...   \n",
       "829              Zima Blaster  17027       Ordinary Drink   \n",
       "830            Zizi Coin-coin  14594  Punch / Party Drink   \n",
       "831           Zippy's Revenge  14065             Cocktail   \n",
       "832           Zimadori Zinger  15801  Punch / Party Drink   \n",
       "833  Ziemes Martini Apfelsaft  14157       Ordinary Drink   \n",
       "\n",
       "                                              photoURL  \\\n",
       "0    https://www.thecocktaildb.com/images/media/dri...   \n",
       "1    https://www.thecocktaildb.com/images/media/dri...   \n",
       "2    https://www.thecocktaildb.com/images/media/dri...   \n",
       "3    https://www.thecocktaildb.com/images/media/dri...   \n",
       "4    https://www.thecocktaildb.com/images/media/dri...   \n",
       "..                                                 ...   \n",
       "829  https://www.thecocktaildb.com/images/media/dri...   \n",
       "830  https://www.thecocktaildb.com/images/media/dri...   \n",
       "831  https://www.thecocktaildb.com/images/media/dri...   \n",
       "832  https://www.thecocktaildb.com/images/media/dri...   \n",
       "833  https://www.thecocktaildb.com/images/media/dri...   \n",
       "\n",
       "                                        ingredients  \n",
       "0      [Gin, Grand Marnier, Lemon Juice, Grenadine]  \n",
       "1           [Amaretto, Baileys irish cream, Cognac]  \n",
       "2    [Gin, Grenadine, Heavy cream, Milk, Egg White]  \n",
       "3                [Dark rum, Lemon juice, Grenadine]  \n",
       "4                 [Absolut Vodka, Gin, Tonic water]  \n",
       "..                                              ...  \n",
       "829              [Zima, Chambord raspberry liqueur]  \n",
       "830            [Cointreau, Lemon juice, Ice, Lemon]  \n",
       "831                       [Amaretto, Rum, Kool-Aid]  \n",
       "832                    [Midori melon liqueur, Zima]  \n",
       "833                         [Vermouth, Apple juice]  \n",
       "\n",
       "[834 rows x 5 columns]"
      ]
     },
     "execution_count": 13,
     "metadata": {},
     "output_type": "execute_result"
    }
   ],
   "source": [
    "drinkDF = pd.DataFrame({'name': name,\n",
    "                       'id': ids,\n",
    "                       'category': cat,\n",
    "                       'photoURL': pic,\n",
    "                       'ingredients': ingr})\n",
    "drinkDF"
   ]
  },
  {
   "cell_type": "markdown",
   "id": "23f7dc72",
   "metadata": {},
   "source": [
    "Save/load the df so as not to have to make 26 API calls every time notebook opens"
   ]
  },
  {
   "cell_type": "code",
   "execution_count": 14,
   "id": "2482343e",
   "metadata": {},
   "outputs": [],
   "source": [
    "#drinkDF.to_csv('drinkDF.csv')\n",
    "#drinkDF = pd.read_csv('drinkDF.csv', index_col=0)"
   ]
  },
  {
   "cell_type": "markdown",
   "id": "52706745",
   "metadata": {},
   "source": [
    "One more step needed on the load, since pandas converts lists to string literals on csv storage"
   ]
  },
  {
   "cell_type": "code",
   "execution_count": 15,
   "id": "c184044f",
   "metadata": {},
   "outputs": [],
   "source": [
    "#import ast\n",
    "#drinkDF['ingredients'] = drinkDF.ingredients.apply(ast.literal_eval)"
   ]
  },
  {
   "cell_type": "markdown",
   "id": "27be0b5f",
   "metadata": {},
   "source": [
    "##### Make a bipartite graph, with cocktails as one type and ingredients as the other.\n",
    "\n",
    "First we can play with a high-level graph of the full dataset, creating a bipartite graph where drinks are one type and ingredients are the other."
   ]
  },
  {
   "cell_type": "code",
   "execution_count": 16,
   "id": "1284096d",
   "metadata": {},
   "outputs": [],
   "source": [
    "from networkx.algorithms import bipartite\n",
    "\n",
    "name = drinkDF.name.values\n",
    "cat = drinkDF.category.values\n",
    "ingr = drinkDF.ingredients.values\n",
    "\n",
    "drinks = set(name)\n",
    "ingreds = set(i for iList in ingr for i in iList)\n",
    "\n",
    "B = net.Graph()\n",
    "B.add_nodes_from(drinks, bipartite='Cocktail')\n",
    "B.add_nodes_from(ingreds, bipartite='Ingredient')\n",
    "\n",
    "for d in range(len(drinkDF)):\n",
    "    B.add_node(name[d], category=cat[d])\n",
    "    for ing in ingr[d]:\n",
    "        B.add_edge(name[d], ing)"
   ]
  },
  {
   "cell_type": "markdown",
   "id": "fb191b27",
   "metadata": {},
   "source": [
    "Then the 2 bipartite projection graphs are these:"
   ]
  },
  {
   "cell_type": "code",
   "execution_count": 17,
   "id": "fe27ef05",
   "metadata": {},
   "outputs": [],
   "source": [
    "D = bipartite.weighted_projected_graph(B, drinks)\n",
    "I = bipartite.weighted_projected_graph(B, ingreds)"
   ]
  },
  {
   "cell_type": "markdown",
   "id": "85438bd5",
   "metadata": {},
   "source": [
    "#### Calculate Centrality by Category"
   ]
  },
  {
   "cell_type": "markdown",
   "id": "301b1e76",
   "metadata": {},
   "source": [
    "Then we want to create sub-dataframes of 3 key categories: 'cocktail', 'shot', and 'ordinary drink', that we can then compare key centrality measures across."
   ]
  },
  {
   "cell_type": "code",
   "execution_count": 18,
   "id": "3686333e",
   "metadata": {},
   "outputs": [
    {
     "data": {
      "text/html": [
       "<div>\n",
       "<style scoped>\n",
       "    .dataframe tbody tr th:only-of-type {\n",
       "        vertical-align: middle;\n",
       "    }\n",
       "\n",
       "    .dataframe tbody tr th {\n",
       "        vertical-align: top;\n",
       "    }\n",
       "\n",
       "    .dataframe thead th {\n",
       "        text-align: right;\n",
       "    }\n",
       "</style>\n",
       "<table border=\"1\" class=\"dataframe\">\n",
       "  <thead>\n",
       "    <tr style=\"text-align: right;\">\n",
       "      <th></th>\n",
       "      <th>name</th>\n",
       "      <th>id</th>\n",
       "      <th>category</th>\n",
       "      <th>photoURL</th>\n",
       "      <th>ingredients</th>\n",
       "    </tr>\n",
       "  </thead>\n",
       "  <tbody>\n",
       "    <tr>\n",
       "      <th>0</th>\n",
       "      <td>A1</td>\n",
       "      <td>17222</td>\n",
       "      <td>Cocktail</td>\n",
       "      <td>https://www.thecocktaildb.com/images/media/dri...</td>\n",
       "      <td>[Gin, Grand Marnier, Lemon Juice, Grenadine]</td>\n",
       "    </tr>\n",
       "    <tr>\n",
       "      <th>2</th>\n",
       "      <td>Ace</td>\n",
       "      <td>17225</td>\n",
       "      <td>Cocktail</td>\n",
       "      <td>https://www.thecocktaildb.com/images/media/dri...</td>\n",
       "      <td>[Gin, Grenadine, Heavy cream, Milk, Egg White]</td>\n",
       "    </tr>\n",
       "    <tr>\n",
       "      <th>12</th>\n",
       "      <td>Addison</td>\n",
       "      <td>17228</td>\n",
       "      <td>Cocktail</td>\n",
       "      <td>https://www.thecocktaildb.com/images/media/dri...</td>\n",
       "      <td>[Gin, Vermouth]</td>\n",
       "    </tr>\n",
       "    <tr>\n",
       "      <th>16</th>\n",
       "      <td>Aviation</td>\n",
       "      <td>17180</td>\n",
       "      <td>Cocktail</td>\n",
       "      <td>https://www.thecocktaildb.com/images/media/dri...</td>\n",
       "      <td>[Gin, lemon juice, maraschino liqueur]</td>\n",
       "    </tr>\n",
       "    <tr>\n",
       "      <th>21</th>\n",
       "      <td>Afterglow</td>\n",
       "      <td>12560</td>\n",
       "      <td>Cocktail</td>\n",
       "      <td>https://www.thecocktaildb.com/images/media/dri...</td>\n",
       "      <td>[Grenadine, Orange juice, Pineapple juice]</td>\n",
       "    </tr>\n",
       "  </tbody>\n",
       "</table>\n",
       "</div>"
      ],
      "text/plain": [
       "         name     id  category  \\\n",
       "0          A1  17222  Cocktail   \n",
       "2         Ace  17225  Cocktail   \n",
       "12    Addison  17228  Cocktail   \n",
       "16   Aviation  17180  Cocktail   \n",
       "21  Afterglow  12560  Cocktail   \n",
       "\n",
       "                                             photoURL  \\\n",
       "0   https://www.thecocktaildb.com/images/media/dri...   \n",
       "2   https://www.thecocktaildb.com/images/media/dri...   \n",
       "12  https://www.thecocktaildb.com/images/media/dri...   \n",
       "16  https://www.thecocktaildb.com/images/media/dri...   \n",
       "21  https://www.thecocktaildb.com/images/media/dri...   \n",
       "\n",
       "                                       ingredients  \n",
       "0     [Gin, Grand Marnier, Lemon Juice, Grenadine]  \n",
       "2   [Gin, Grenadine, Heavy cream, Milk, Egg White]  \n",
       "12                                 [Gin, Vermouth]  \n",
       "16          [Gin, lemon juice, maraschino liqueur]  \n",
       "21      [Grenadine, Orange juice, Pineapple juice]  "
      ]
     },
     "execution_count": 18,
     "metadata": {},
     "output_type": "execute_result"
    }
   ],
   "source": [
    "drinks_cocktails = drinkDF[(drinkDF['category']==\"Cocktail\")]\n",
    "drinks_cocktails.head()"
   ]
  },
  {
   "cell_type": "code",
   "execution_count": 101,
   "id": "fb52bfc6",
   "metadata": {},
   "outputs": [
    {
     "data": {
      "text/html": [
       "<div>\n",
       "<style scoped>\n",
       "    .dataframe tbody tr th:only-of-type {\n",
       "        vertical-align: middle;\n",
       "    }\n",
       "\n",
       "    .dataframe tbody tr th {\n",
       "        vertical-align: top;\n",
       "    }\n",
       "\n",
       "    .dataframe thead th {\n",
       "        text-align: right;\n",
       "    }\n",
       "</style>\n",
       "<table border=\"1\" class=\"dataframe\">\n",
       "  <thead>\n",
       "    <tr style=\"text-align: right;\">\n",
       "      <th></th>\n",
       "      <th>name</th>\n",
       "      <th>id</th>\n",
       "      <th>category</th>\n",
       "      <th>photoURL</th>\n",
       "      <th>ingredients</th>\n",
       "    </tr>\n",
       "  </thead>\n",
       "  <tbody>\n",
       "    <tr>\n",
       "      <th>3</th>\n",
       "      <td>Adam</td>\n",
       "      <td>17837</td>\n",
       "      <td>Ordinary Drink</td>\n",
       "      <td>https://www.thecocktaildb.com/images/media/dri...</td>\n",
       "      <td>[Dark rum, Lemon juice, Grenadine]</td>\n",
       "    </tr>\n",
       "    <tr>\n",
       "      <th>4</th>\n",
       "      <td>AT&amp;T</td>\n",
       "      <td>13938</td>\n",
       "      <td>Ordinary Drink</td>\n",
       "      <td>https://www.thecocktaildb.com/images/media/dri...</td>\n",
       "      <td>[Absolut Vodka, Gin, Tonic water]</td>\n",
       "    </tr>\n",
       "    <tr>\n",
       "      <th>6</th>\n",
       "      <td>A. J.</td>\n",
       "      <td>17833</td>\n",
       "      <td>Ordinary Drink</td>\n",
       "      <td>https://www.thecocktaildb.com/images/media/dri...</td>\n",
       "      <td>[Applejack, Grapefruit juice]</td>\n",
       "    </tr>\n",
       "    <tr>\n",
       "      <th>7</th>\n",
       "      <td>Affair</td>\n",
       "      <td>17839</td>\n",
       "      <td>Ordinary Drink</td>\n",
       "      <td>https://www.thecocktaildb.com/images/media/dri...</td>\n",
       "      <td>[Strawberry schnapps, Orange juice, Cranberry ...</td>\n",
       "    </tr>\n",
       "    <tr>\n",
       "      <th>9</th>\n",
       "      <td>Avalon</td>\n",
       "      <td>15266</td>\n",
       "      <td>Ordinary Drink</td>\n",
       "      <td>https://www.thecocktaildb.com/images/media/dri...</td>\n",
       "      <td>[Vodka, Pisang Ambon, Apple juice, Lemon juice...</td>\n",
       "    </tr>\n",
       "  </tbody>\n",
       "</table>\n",
       "</div>"
      ],
      "text/plain": [
       "     name     id        category  \\\n",
       "3    Adam  17837  Ordinary Drink   \n",
       "4    AT&T  13938  Ordinary Drink   \n",
       "6   A. J.  17833  Ordinary Drink   \n",
       "7  Affair  17839  Ordinary Drink   \n",
       "9  Avalon  15266  Ordinary Drink   \n",
       "\n",
       "                                            photoURL  \\\n",
       "3  https://www.thecocktaildb.com/images/media/dri...   \n",
       "4  https://www.thecocktaildb.com/images/media/dri...   \n",
       "6  https://www.thecocktaildb.com/images/media/dri...   \n",
       "7  https://www.thecocktaildb.com/images/media/dri...   \n",
       "9  https://www.thecocktaildb.com/images/media/dri...   \n",
       "\n",
       "                                         ingredients  \n",
       "3                 [Dark rum, Lemon juice, Grenadine]  \n",
       "4                  [Absolut Vodka, Gin, Tonic water]  \n",
       "6                      [Applejack, Grapefruit juice]  \n",
       "7  [Strawberry schnapps, Orange juice, Cranberry ...  \n",
       "9  [Vodka, Pisang Ambon, Apple juice, Lemon juice...  "
      ]
     },
     "execution_count": 101,
     "metadata": {},
     "output_type": "execute_result"
    }
   ],
   "source": [
    "drinks_ordinary = drinkDF[(drinkDF['category']==\"Ordinary Drink\")]\n",
    "drinks_ordinary.head()"
   ]
  },
  {
   "cell_type": "code",
   "execution_count": 20,
   "id": "945eff67",
   "metadata": {},
   "outputs": [
    {
     "data": {
      "text/html": [
       "<div>\n",
       "<style scoped>\n",
       "    .dataframe tbody tr th:only-of-type {\n",
       "        vertical-align: middle;\n",
       "    }\n",
       "\n",
       "    .dataframe tbody tr th {\n",
       "        vertical-align: top;\n",
       "    }\n",
       "\n",
       "    .dataframe thead th {\n",
       "        text-align: right;\n",
       "    }\n",
       "</style>\n",
       "<table border=\"1\" class=\"dataframe\">\n",
       "  <thead>\n",
       "    <tr style=\"text-align: right;\">\n",
       "      <th></th>\n",
       "      <th>name</th>\n",
       "      <th>id</th>\n",
       "      <th>category</th>\n",
       "      <th>photoURL</th>\n",
       "      <th>ingredients</th>\n",
       "    </tr>\n",
       "  </thead>\n",
       "  <tbody>\n",
       "    <tr>\n",
       "      <th>1</th>\n",
       "      <td>ABC</td>\n",
       "      <td>13501</td>\n",
       "      <td>Shot</td>\n",
       "      <td>https://www.thecocktaildb.com/images/media/dri...</td>\n",
       "      <td>[Amaretto, Baileys irish cream, Cognac]</td>\n",
       "    </tr>\n",
       "    <tr>\n",
       "      <th>5</th>\n",
       "      <td>ACID</td>\n",
       "      <td>14610</td>\n",
       "      <td>Shot</td>\n",
       "      <td>https://www.thecocktaildb.com/images/media/dri...</td>\n",
       "      <td>[151 proof rum, Wild Turkey]</td>\n",
       "    </tr>\n",
       "    <tr>\n",
       "      <th>25</th>\n",
       "      <td>B-53</td>\n",
       "      <td>13332</td>\n",
       "      <td>Shot</td>\n",
       "      <td>https://www.thecocktaildb.com/images/media/dri...</td>\n",
       "      <td>[Kahlua, Sambuca, Grand Marnier]</td>\n",
       "    </tr>\n",
       "    <tr>\n",
       "      <th>26</th>\n",
       "      <td>B-52</td>\n",
       "      <td>15853</td>\n",
       "      <td>Shot</td>\n",
       "      <td>https://www.thecocktaildb.com/images/media/dri...</td>\n",
       "      <td>[Baileys irish cream, Grand Marnier, Kahlua]</td>\n",
       "    </tr>\n",
       "    <tr>\n",
       "      <th>29</th>\n",
       "      <td>Big Red</td>\n",
       "      <td>13222</td>\n",
       "      <td>Shot</td>\n",
       "      <td>https://www.thecocktaildb.com/images/media/dri...</td>\n",
       "      <td>[Irish cream, Goldschlager]</td>\n",
       "    </tr>\n",
       "  </tbody>\n",
       "</table>\n",
       "</div>"
      ],
      "text/plain": [
       "       name     id category  \\\n",
       "1       ABC  13501     Shot   \n",
       "5      ACID  14610     Shot   \n",
       "25     B-53  13332     Shot   \n",
       "26     B-52  15853     Shot   \n",
       "29  Big Red  13222     Shot   \n",
       "\n",
       "                                             photoURL  \\\n",
       "1   https://www.thecocktaildb.com/images/media/dri...   \n",
       "5   https://www.thecocktaildb.com/images/media/dri...   \n",
       "25  https://www.thecocktaildb.com/images/media/dri...   \n",
       "26  https://www.thecocktaildb.com/images/media/dri...   \n",
       "29  https://www.thecocktaildb.com/images/media/dri...   \n",
       "\n",
       "                                     ingredients  \n",
       "1        [Amaretto, Baileys irish cream, Cognac]  \n",
       "5                   [151 proof rum, Wild Turkey]  \n",
       "25              [Kahlua, Sambuca, Grand Marnier]  \n",
       "26  [Baileys irish cream, Grand Marnier, Kahlua]  \n",
       "29                   [Irish cream, Goldschlager]  "
      ]
     },
     "execution_count": 20,
     "metadata": {},
     "output_type": "execute_result"
    }
   ],
   "source": [
    "drinks_shots = drinkDF[(drinkDF['category']==\"Shot\")]\n",
    "drinks_shots.head()"
   ]
  },
  {
   "cell_type": "markdown",
   "id": "d73f9c1b",
   "metadata": {},
   "source": [
    "From the subsetted dataframes, create bipartite drink and ingredient graphs."
   ]
  },
  {
   "cell_type": "code",
   "execution_count": 21,
   "id": "240c5d06",
   "metadata": {},
   "outputs": [],
   "source": [
    "drinks_c = set(drinks_cocktails.name.values)\n",
    "ingreds_c = set(i for iList in drinks_cocktails.ingredients.values for i in iList)\n",
    "\n",
    "dc_graph = net.Graph()\n",
    "\n",
    "dc_graph.add_nodes_from(drinks_c, bipartite='Drink')\n",
    "dc_graph.add_nodes_from(ingreds_c,bipartite='Ingredient')\n",
    "\n",
    "for d in drinks_cocktails.index:\n",
    "    dc_graph.add_node(name[d], category=cat[d])\n",
    "    for ing in ingr[d]:\n",
    "        dc_graph.add_edge(name[d], ing)"
   ]
  },
  {
   "cell_type": "markdown",
   "id": "63550153",
   "metadata": {},
   "source": [
    "Then we create a dataframe of degree and eigenvector centrality by each drink."
   ]
  },
  {
   "cell_type": "code",
   "execution_count": 22,
   "id": "0cb82ad2",
   "metadata": {},
   "outputs": [],
   "source": [
    "cocktail_degree = net.degree_centrality(dc_graph)\n",
    "cocktail_degree = pd.DataFrame.from_dict(cocktail_degree, orient='index').reset_index()"
   ]
  },
  {
   "cell_type": "code",
   "execution_count": 23,
   "id": "270fe36a",
   "metadata": {},
   "outputs": [],
   "source": [
    "cocktail_eig = net.eigenvector_centrality_numpy(dc_graph)\n",
    "cocktail_eig = pd.DataFrame.from_dict(cocktail_eig, orient='index').reset_index()"
   ]
  },
  {
   "cell_type": "markdown",
   "id": "2c4f8406",
   "metadata": {},
   "source": [
    "We repeat these steps across the two other categories: "
   ]
  },
  {
   "cell_type": "code",
   "execution_count": 99,
   "id": "69f8dd1a",
   "metadata": {},
   "outputs": [],
   "source": [
    "drinks_o = set(drinks_ordinary.name.values)\n",
    "ingreds_o = set(i for iList in drinks_ordinary.ingredients.values for i in iList)\n",
    "\n",
    "do_graph = net.Graph()\n",
    "\n",
    "do_graph.add_nodes_from(drinks_o, bipartite='Drink')\n",
    "do_graph.add_nodes_from(ingreds_o,bipartite='Ingredient')\n",
    "\n",
    "for d in drinks_ordinary.index:\n",
    "    dc_graph.add_node(name[d], category=cat[d])\n",
    "    for ing in ingr[d]:\n",
    "        dc_graph.add_edge(name[d], ing)"
   ]
  },
  {
   "cell_type": "code",
   "execution_count": 100,
   "id": "9ad9c086",
   "metadata": {},
   "outputs": [],
   "source": [
    "ordinary_degree = net.degree_centrality(do_graph)\n",
    "ordinary_degree = pd.DataFrame.from_dict(ordinary_degree, orient='index').reset_index()"
   ]
  },
  {
   "cell_type": "code",
   "execution_count": 26,
   "id": "e663dcde",
   "metadata": {},
   "outputs": [],
   "source": [
    "ordinary_eig = net.eigenvector_centrality_numpy(do_graph)\n",
    "ordinary_eig = pd.DataFrame.from_dict(ordinary_eig, orient='index').reset_index()"
   ]
  },
  {
   "cell_type": "code",
   "execution_count": 27,
   "id": "8bb2c7f1",
   "metadata": {},
   "outputs": [],
   "source": [
    "drinks_s = set(drinks_shots.name.values)\n",
    "ingreds_s = set(i for iList in drinks_shots.ingredients.values for i in iList)\n",
    "\n",
    "ds_graph = net.Graph()\n",
    "\n",
    "ds_graph.add_nodes_from(drinks_s, bipartite='Drink')\n",
    "ds_graph.add_nodes_from(ingreds_s,bipartite='Ingredient')\n",
    "\n",
    "for d in drinks_shots.index:\n",
    "    ds_graph.add_node(name[d], category=cat[d])\n",
    "    for ing in ingr[d]:\n",
    "        ds_graph.add_edge(name[d], ing)"
   ]
  },
  {
   "cell_type": "code",
   "execution_count": 28,
   "id": "2b28f139",
   "metadata": {},
   "outputs": [],
   "source": [
    "shots_degree = net.degree_centrality(ds_graph)\n",
    "shots_degree = pd.DataFrame.from_dict(shots_degree, orient='index').reset_index()"
   ]
  },
  {
   "cell_type": "code",
   "execution_count": 29,
   "id": "243d7f2e",
   "metadata": {},
   "outputs": [],
   "source": [
    "shots_eig = net.eigenvector_centrality_numpy(ds_graph)\n",
    "shots_eig = pd.DataFrame.from_dict(shots_eig, orient='index').reset_index()"
   ]
  },
  {
   "cell_type": "markdown",
   "id": "94f6b44c",
   "metadata": {},
   "source": [
    "##### Compare Centrality Measures across Categories\n",
    "Then we can create summary dataframes of both centrality measures, and sort by each to see top 10 cocktails, shots, and ordinary drinks by each centrality measure."
   ]
  },
  {
   "cell_type": "code",
   "execution_count": 78,
   "id": "7d7ebe53",
   "metadata": {},
   "outputs": [
    {
     "data": {
      "text/html": [
       "<div>\n",
       "<style scoped>\n",
       "    .dataframe tbody tr th:only-of-type {\n",
       "        vertical-align: middle;\n",
       "    }\n",
       "\n",
       "    .dataframe tbody tr th {\n",
       "        vertical-align: top;\n",
       "    }\n",
       "\n",
       "    .dataframe thead th {\n",
       "        text-align: right;\n",
       "    }\n",
       "</style>\n",
       "<table border=\"1\" class=\"dataframe\">\n",
       "  <thead>\n",
       "    <tr style=\"text-align: right;\">\n",
       "      <th></th>\n",
       "      <th>Name</th>\n",
       "      <th>degree</th>\n",
       "      <th>eigenvector</th>\n",
       "      <th>category</th>\n",
       "    </tr>\n",
       "  </thead>\n",
       "  <tbody>\n",
       "    <tr>\n",
       "      <th>0</th>\n",
       "      <td>Brigadier</td>\n",
       "      <td>0.012295</td>\n",
       "      <td>0.006473</td>\n",
       "      <td>Cocktail</td>\n",
       "    </tr>\n",
       "    <tr>\n",
       "      <th>1</th>\n",
       "      <td>Elderflower Caipirinha</td>\n",
       "      <td>0.012295</td>\n",
       "      <td>0.031961</td>\n",
       "      <td>Cocktail</td>\n",
       "    </tr>\n",
       "    <tr>\n",
       "      <th>2</th>\n",
       "      <td>Pegu Club</td>\n",
       "      <td>0.020492</td>\n",
       "      <td>0.167583</td>\n",
       "      <td>Cocktail</td>\n",
       "    </tr>\n",
       "    <tr>\n",
       "      <th>3</th>\n",
       "      <td>Oatmeal Cookie</td>\n",
       "      <td>0.020492</td>\n",
       "      <td>0.001177</td>\n",
       "      <td>Cocktail</td>\n",
       "    </tr>\n",
       "    <tr>\n",
       "      <th>4</th>\n",
       "      <td>Midnight Mint</td>\n",
       "      <td>0.012295</td>\n",
       "      <td>0.001055</td>\n",
       "      <td>Cocktail</td>\n",
       "    </tr>\n",
       "  </tbody>\n",
       "</table>\n",
       "</div>"
      ],
      "text/plain": [
       "                     Name    degree  eigenvector  category\n",
       "0               Brigadier  0.012295     0.006473  Cocktail\n",
       "1  Elderflower Caipirinha  0.012295     0.031961  Cocktail\n",
       "2               Pegu Club  0.020492     0.167583  Cocktail\n",
       "3          Oatmeal Cookie  0.020492     0.001177  Cocktail\n",
       "4           Midnight Mint  0.012295     0.001055  Cocktail"
      ]
     },
     "execution_count": 78,
     "metadata": {},
     "output_type": "execute_result"
    }
   ],
   "source": [
    "summary_cocktails = pd.merge(cocktail_degree, cocktail_eig, how = \"inner\", on = \"index\")\n",
    "summary_cocktails = summary_cocktails.rename(columns = \n",
    "        {\"index\":\"Name\",\"0_x\":\"degree\",\"0_y\":\"eigenvector\"})\n",
    "summary_cocktails['category'] = 'Cocktail'\n",
    "summary_cocktails.head()"
   ]
  },
  {
   "cell_type": "code",
   "execution_count": 79,
   "id": "ec134d09",
   "metadata": {},
   "outputs": [
    {
     "data": {
      "text/html": [
       "<div>\n",
       "<style scoped>\n",
       "    .dataframe tbody tr th:only-of-type {\n",
       "        vertical-align: middle;\n",
       "    }\n",
       "\n",
       "    .dataframe tbody tr th {\n",
       "        vertical-align: top;\n",
       "    }\n",
       "\n",
       "    .dataframe thead th {\n",
       "        text-align: right;\n",
       "    }\n",
       "</style>\n",
       "<table border=\"1\" class=\"dataframe\">\n",
       "  <thead>\n",
       "    <tr style=\"text-align: right;\">\n",
       "      <th></th>\n",
       "      <th>Name</th>\n",
       "      <th>degree</th>\n",
       "      <th>eigenvector</th>\n",
       "      <th>category</th>\n",
       "    </tr>\n",
       "  </thead>\n",
       "  <tbody>\n",
       "    <tr>\n",
       "      <th>0</th>\n",
       "      <td>Havana Cocktail</td>\n",
       "      <td>0.0</td>\n",
       "      <td>0.052066</td>\n",
       "      <td>Ordinary</td>\n",
       "    </tr>\n",
       "    <tr>\n",
       "      <th>1</th>\n",
       "      <td>Queen Elizabeth</td>\n",
       "      <td>0.0</td>\n",
       "      <td>0.066576</td>\n",
       "      <td>Ordinary</td>\n",
       "    </tr>\n",
       "    <tr>\n",
       "      <th>2</th>\n",
       "      <td>Gin Fizz</td>\n",
       "      <td>0.0</td>\n",
       "      <td>-0.077285</td>\n",
       "      <td>Ordinary</td>\n",
       "    </tr>\n",
       "    <tr>\n",
       "      <th>3</th>\n",
       "      <td>Pink Lady</td>\n",
       "      <td>0.0</td>\n",
       "      <td>0.013173</td>\n",
       "      <td>Ordinary</td>\n",
       "    </tr>\n",
       "    <tr>\n",
       "      <th>4</th>\n",
       "      <td>After sex</td>\n",
       "      <td>0.0</td>\n",
       "      <td>0.059509</td>\n",
       "      <td>Ordinary</td>\n",
       "    </tr>\n",
       "  </tbody>\n",
       "</table>\n",
       "</div>"
      ],
      "text/plain": [
       "              Name  degree  eigenvector  category\n",
       "0  Havana Cocktail     0.0     0.052066  Ordinary\n",
       "1  Queen Elizabeth     0.0     0.066576  Ordinary\n",
       "2         Gin Fizz     0.0    -0.077285  Ordinary\n",
       "3        Pink Lady     0.0     0.013173  Ordinary\n",
       "4        After sex     0.0     0.059509  Ordinary"
      ]
     },
     "execution_count": 79,
     "metadata": {},
     "output_type": "execute_result"
    }
   ],
   "source": [
    "summary_ordinary = pd.merge(ordinary_degree, ordinary_eig, how = \"inner\", on = \"index\")\n",
    "summary_ordinary = summary_ordinary.rename(columns = \n",
    "        {\"index\":\"Name\",\"0_x\":\"degree\",\"0_y\":\"eigenvector\"})\n",
    "summary_ordinary['category'] = 'Ordinary'\n",
    "summary_ordinary.head()"
   ]
  },
  {
   "cell_type": "code",
   "execution_count": 80,
   "id": "392f595a",
   "metadata": {},
   "outputs": [
    {
     "data": {
      "text/html": [
       "<div>\n",
       "<style scoped>\n",
       "    .dataframe tbody tr th:only-of-type {\n",
       "        vertical-align: middle;\n",
       "    }\n",
       "\n",
       "    .dataframe tbody tr th {\n",
       "        vertical-align: top;\n",
       "    }\n",
       "\n",
       "    .dataframe thead th {\n",
       "        text-align: right;\n",
       "    }\n",
       "</style>\n",
       "<table border=\"1\" class=\"dataframe\">\n",
       "  <thead>\n",
       "    <tr style=\"text-align: right;\">\n",
       "      <th></th>\n",
       "      <th>Name</th>\n",
       "      <th>degree</th>\n",
       "      <th>eigenvector</th>\n",
       "      <th>category</th>\n",
       "    </tr>\n",
       "  </thead>\n",
       "  <tbody>\n",
       "    <tr>\n",
       "      <th>0</th>\n",
       "      <td>Mother's Milk</td>\n",
       "      <td>0.034483</td>\n",
       "      <td>0.012431</td>\n",
       "      <td>Shots</td>\n",
       "    </tr>\n",
       "    <tr>\n",
       "      <th>1</th>\n",
       "      <td>Jello shots</td>\n",
       "      <td>0.034483</td>\n",
       "      <td>0.127536</td>\n",
       "      <td>Shots</td>\n",
       "    </tr>\n",
       "    <tr>\n",
       "      <th>2</th>\n",
       "      <td>Bubble Gum</td>\n",
       "      <td>0.045977</td>\n",
       "      <td>0.166923</td>\n",
       "      <td>Shots</td>\n",
       "    </tr>\n",
       "    <tr>\n",
       "      <th>3</th>\n",
       "      <td>Kool First Aid</td>\n",
       "      <td>0.022989</td>\n",
       "      <td>0.041629</td>\n",
       "      <td>Shots</td>\n",
       "    </tr>\n",
       "    <tr>\n",
       "      <th>4</th>\n",
       "      <td>ACID</td>\n",
       "      <td>0.022989</td>\n",
       "      <td>0.040593</td>\n",
       "      <td>Shots</td>\n",
       "    </tr>\n",
       "  </tbody>\n",
       "</table>\n",
       "</div>"
      ],
      "text/plain": [
       "             Name    degree  eigenvector category\n",
       "0   Mother's Milk  0.034483     0.012431    Shots\n",
       "1     Jello shots  0.034483     0.127536    Shots\n",
       "2      Bubble Gum  0.045977     0.166923    Shots\n",
       "3  Kool First Aid  0.022989     0.041629    Shots\n",
       "4            ACID  0.022989     0.040593    Shots"
      ]
     },
     "execution_count": 80,
     "metadata": {},
     "output_type": "execute_result"
    }
   ],
   "source": [
    "summary_shots = pd.merge(shots_degree, shots_eig, how = \"inner\", on = \"index\")\n",
    "summary_shots = summary_shots.rename(columns = \n",
    "        {\"index\":\"Name\",\"0_x\":\"degree\",\"0_y\":\"eigenvector\"})\n",
    "summary_shots['category'] = 'Shots'\n",
    "summary_shots.head()"
   ]
  },
  {
   "cell_type": "markdown",
   "id": "aa7c0553",
   "metadata": {},
   "source": [
    "##### Digging into the Results\n",
    "\n",
    "Then we can explore the values we see in centrality by each category. First we'll sort, to see how the highest values compare, and then we can look at means and medians."
   ]
  },
  {
   "cell_type": "code",
   "execution_count": 81,
   "id": "eff8d501",
   "metadata": {},
   "outputs": [
    {
     "data": {
      "text/html": [
       "<div>\n",
       "<style scoped>\n",
       "    .dataframe tbody tr th:only-of-type {\n",
       "        vertical-align: middle;\n",
       "    }\n",
       "\n",
       "    .dataframe tbody tr th {\n",
       "        vertical-align: top;\n",
       "    }\n",
       "\n",
       "    .dataframe thead th {\n",
       "        text-align: right;\n",
       "    }\n",
       "</style>\n",
       "<table border=\"1\" class=\"dataframe\">\n",
       "  <thead>\n",
       "    <tr style=\"text-align: right;\">\n",
       "      <th></th>\n",
       "      <th>Name</th>\n",
       "      <th>degree</th>\n",
       "      <th>eigenvector</th>\n",
       "      <th>category</th>\n",
       "    </tr>\n",
       "  </thead>\n",
       "  <tbody>\n",
       "    <tr>\n",
       "      <th>0</th>\n",
       "      <td>Brigadier</td>\n",
       "      <td>0.012295</td>\n",
       "      <td>0.006473</td>\n",
       "      <td>Cocktail</td>\n",
       "    </tr>\n",
       "    <tr>\n",
       "      <th>1</th>\n",
       "      <td>Elderflower Caipirinha</td>\n",
       "      <td>0.012295</td>\n",
       "      <td>0.031961</td>\n",
       "      <td>Cocktail</td>\n",
       "    </tr>\n",
       "    <tr>\n",
       "      <th>2</th>\n",
       "      <td>Pegu Club</td>\n",
       "      <td>0.020492</td>\n",
       "      <td>0.167583</td>\n",
       "      <td>Cocktail</td>\n",
       "    </tr>\n",
       "    <tr>\n",
       "      <th>3</th>\n",
       "      <td>Oatmeal Cookie</td>\n",
       "      <td>0.020492</td>\n",
       "      <td>0.001177</td>\n",
       "      <td>Cocktail</td>\n",
       "    </tr>\n",
       "    <tr>\n",
       "      <th>4</th>\n",
       "      <td>Midnight Mint</td>\n",
       "      <td>0.012295</td>\n",
       "      <td>0.001055</td>\n",
       "      <td>Cocktail</td>\n",
       "    </tr>\n",
       "  </tbody>\n",
       "</table>\n",
       "</div>"
      ],
      "text/plain": [
       "                     Name    degree  eigenvector  category\n",
       "0               Brigadier  0.012295     0.006473  Cocktail\n",
       "1  Elderflower Caipirinha  0.012295     0.031961  Cocktail\n",
       "2               Pegu Club  0.020492     0.167583  Cocktail\n",
       "3          Oatmeal Cookie  0.020492     0.001177  Cocktail\n",
       "4           Midnight Mint  0.012295     0.001055  Cocktail"
      ]
     },
     "execution_count": 81,
     "metadata": {},
     "output_type": "execute_result"
    }
   ],
   "source": [
    "summary_all = summary_cocktails\n",
    "summary_all = summary_all.append([summary_shots,summary_ordinary])\n",
    "summary_all.head()"
   ]
  },
  {
   "cell_type": "code",
   "execution_count": 102,
   "id": "85224002",
   "metadata": {},
   "outputs": [
    {
     "data": {
      "text/html": [
       "<div>\n",
       "<style scoped>\n",
       "    .dataframe tbody tr th:only-of-type {\n",
       "        vertical-align: middle;\n",
       "    }\n",
       "\n",
       "    .dataframe tbody tr th {\n",
       "        vertical-align: top;\n",
       "    }\n",
       "\n",
       "    .dataframe thead th {\n",
       "        text-align: right;\n",
       "    }\n",
       "</style>\n",
       "<table border=\"1\" class=\"dataframe\">\n",
       "  <thead>\n",
       "    <tr style=\"text-align: right;\">\n",
       "      <th></th>\n",
       "      <th>category</th>\n",
       "      <th>degree</th>\n",
       "      <th>eigenvector</th>\n",
       "    </tr>\n",
       "  </thead>\n",
       "  <tbody>\n",
       "    <tr>\n",
       "      <th>0</th>\n",
       "      <td>Cocktail</td>\n",
       "      <td>0.011743</td>\n",
       "      <td>0.034674</td>\n",
       "    </tr>\n",
       "    <tr>\n",
       "      <th>1</th>\n",
       "      <td>Ordinary</td>\n",
       "      <td>0.000000</td>\n",
       "      <td>0.000419</td>\n",
       "    </tr>\n",
       "    <tr>\n",
       "      <th>2</th>\n",
       "      <td>Shots</td>\n",
       "      <td>0.026907</td>\n",
       "      <td>0.069453</td>\n",
       "    </tr>\n",
       "  </tbody>\n",
       "</table>\n",
       "</div>"
      ],
      "text/plain": [
       "   category    degree  eigenvector\n",
       "0  Cocktail  0.011743     0.034674\n",
       "1  Ordinary  0.000000     0.000419\n",
       "2     Shots  0.026907     0.069453"
      ]
     },
     "execution_count": 102,
     "metadata": {},
     "output_type": "execute_result"
    }
   ],
   "source": [
    "grouped_summary = summary_all.groupby(\"category\")\n",
    "mean_grouped = grouped_summary.mean()\n",
    "mean_grouped = mean_grouped.reset_index()\n",
    "mean_grouped"
   ]
  },
  {
   "cell_type": "markdown",
   "id": "ad77f7f5",
   "metadata": {},
   "source": [
    "##### ANOVA Test\n",
    "\n",
    "We can conduct an ANOVA test to see if the means across these groups are materially different.\n",
    "\n",
    "Assumptions: \n",
    "- independence\n",
    "- normally distributed within each group\n",
    "- equal variances between all groups\n",
    "\n",
    "Our hypothesis is that there is a difference in centrality between groups."
   ]
  },
  {
   "cell_type": "code",
   "execution_count": 104,
   "id": "156fa0b7",
   "metadata": {},
   "outputs": [
    {
     "data": {
      "text/plain": [
       "<matplotlib.axes._subplots.AxesSubplot at 0x7ffbe064ded0>"
      ]
     },
     "execution_count": 104,
     "metadata": {},
     "output_type": "execute_result"
    },
    {
     "data": {
      "image/png": "[encoded data removed]",
      "text/plain": [
       "<Figure size 432x288 with 1 Axes>"
      ]
     },
     "metadata": {
      "needs_background": "light"
     },
     "output_type": "display_data"
    }
   ],
   "source": [
    "summary_all.boxplot('degree',by='category')"
   ]
  },
  {
   "cell_type": "code",
   "execution_count": 103,
   "id": "de00c153",
   "metadata": {},
   "outputs": [
    {
     "data": {
      "text/plain": [
       "<matplotlib.axes._subplots.AxesSubplot at 0x7ffbf10f2910>"
      ]
     },
     "execution_count": 103,
     "metadata": {},
     "output_type": "execute_result"
    },
    {
     "data": {
      "image/png": "[encoded data removed]",
      "text/plain": [
       "<Figure size 432x288 with 1 Axes>"
      ]
     },
     "metadata": {
      "needs_background": "light"
     },
     "output_type": "display_data"
    }
   ],
   "source": [
    "summary_all.boxplot('eigenvector',by='category')"
   ]
  },
  {
   "cell_type": "code",
   "execution_count": 129,
   "id": "7997a883",
   "metadata": {},
   "outputs": [
    {
     "data": {
      "text/html": [
       "<div>\n",
       "<style scoped>\n",
       "    .dataframe tbody tr th:only-of-type {\n",
       "        vertical-align: middle;\n",
       "    }\n",
       "\n",
       "    .dataframe tbody tr th {\n",
       "        vertical-align: top;\n",
       "    }\n",
       "\n",
       "    .dataframe thead th {\n",
       "        text-align: right;\n",
       "    }\n",
       "</style>\n",
       "<table border=\"1\" class=\"dataframe\">\n",
       "  <thead>\n",
       "    <tr style=\"text-align: right;\">\n",
       "      <th></th>\n",
       "      <th>SS</th>\n",
       "      <th>df</th>\n",
       "      <th>MS</th>\n",
       "      <th>F</th>\n",
       "      <th>P-value</th>\n",
       "      <th>F crit</th>\n",
       "    </tr>\n",
       "    <tr>\n",
       "      <th>Source of Variation</th>\n",
       "      <th></th>\n",
       "      <th></th>\n",
       "      <th></th>\n",
       "      <th></th>\n",
       "      <th></th>\n",
       "      <th></th>\n",
       "    </tr>\n",
       "  </thead>\n",
       "  <tbody>\n",
       "    <tr>\n",
       "      <th>Between Groups</th>\n",
       "      <td>0.058254</td>\n",
       "      <td>2</td>\n",
       "      <td>0.029127</td>\n",
       "      <td>438.330273</td>\n",
       "      <td>0.0</td>\n",
       "      <td>3.708444</td>\n",
       "    </tr>\n",
       "    <tr>\n",
       "      <th>Within Groups</th>\n",
       "      <td>0.046382</td>\n",
       "      <td>698</td>\n",
       "      <td>0.000066</td>\n",
       "      <td></td>\n",
       "      <td></td>\n",
       "      <td></td>\n",
       "    </tr>\n",
       "    <tr>\n",
       "      <th>Total</th>\n",
       "      <td>0.104636</td>\n",
       "      <td>700</td>\n",
       "      <td>0.000149</td>\n",
       "      <td></td>\n",
       "      <td></td>\n",
       "      <td></td>\n",
       "    </tr>\n",
       "  </tbody>\n",
       "</table>\n",
       "</div>"
      ],
      "text/plain": [
       "                           SS   df        MS           F P-value    F crit\n",
       "Source of Variation                                                       \n",
       "Between Groups       0.058254    2  0.029127  438.330273     0.0  3.708444\n",
       "Within Groups        0.046382  698  0.000066                              \n",
       "Total                0.104636  700  0.000149                              "
      ]
     },
     "execution_count": 129,
     "metadata": {},
     "output_type": "execute_result"
    }
   ],
   "source": [
    "# https://towardsdatascience.com/anova-test-with-python-cfbf4013328b\n",
    "import scipy.stats as stats\n",
    "\n",
    "# Create ANOVA backbone table\n",
    "data = [['Between Groups', '', '', '', '', '', ''], ['Within Groups', '', '', '', '', '', ''], ['Total', '', '', '', '', '', '']] \n",
    "anova_table = pd.DataFrame(data, columns = ['Source of Variation', 'SS', 'df', 'MS', 'F', 'P-value', 'F crit']) \n",
    "anova_table.set_index('Source of Variation', inplace = True)\n",
    "\n",
    "# calculate SSTR and update anova table\n",
    "x_bar = summary_all['degree'].mean()\n",
    "SSTR = summary_all.groupby('category').count() * (summary_all.groupby('category').mean() - x_bar)**2\n",
    "anova_table['SS']['Between Groups'] = SSTR['degree'].sum()\n",
    "\n",
    "# calculate SSE and update anova table\n",
    "SSE = (summary_all.groupby('category').count() - 1) * summary_all.groupby('category').std()**2\n",
    "anova_table['SS']['Within Groups'] = SSE['degree'].sum()\n",
    "\n",
    "# calculate SSTR and update anova table\n",
    "SSTR = SSTR['degree'].sum() + SSE['degree'].sum()\n",
    "anova_table['SS']['Total'] = SSTR\n",
    "\n",
    "# update degree of freedom\n",
    "anova_table['df']['Between Groups'] = summary_all['category'].nunique() - 1\n",
    "anova_table['df']['Within Groups'] = summary_all.shape[0] - summary_all['category'].nunique()\n",
    "anova_table['df']['Total'] = summary_all.shape[0] - 1\n",
    "\n",
    "# calculate MS\n",
    "anova_table['MS'] = anova_table['SS'] / anova_table['df']\n",
    "\n",
    "# calculate F \n",
    "F = anova_table['MS']['Between Groups'] / anova_table['MS']['Within Groups']\n",
    "anova_table['F']['Between Groups'] = F\n",
    "\n",
    "# p-value\n",
    "anova_table['P-value']['Between Groups'] = 1 - stats.f.cdf(F, anova_table['df']['Between Groups'], anova_table['df']['Within Groups'])\n",
    "\n",
    "# F critical \n",
    "alpha = 0.05\n",
    "# possible types \"right-tailed, left-tailed, two-tailed\"\n",
    "tail_hypothesis_type = \"two-tailed\"\n",
    "if tail_hypothesis_type == \"two-tailed\":\n",
    "    alpha /= 2\n",
    "anova_table['F crit']['Between Groups'] = stats.f.ppf(1-alpha, anova_table['df']['Between Groups'], anova_table['df']['Within Groups'])\n",
    "\n",
    "# Final ANOVA Table\n",
    "anova_table"
   ]
  },
  {
   "cell_type": "code",
   "execution_count": 130,
   "id": "cff927e5",
   "metadata": {},
   "outputs": [
    {
     "name": "stdout",
     "output_type": "stream",
     "text": [
      "Approach 1: The p-value approach to hypothesis testing in the decision rule\n",
      "F-score is: 438.33027299799846  and p value is: 1.1102230246251565e-16\n",
      "Null Hypothesis is rejected.\n",
      "\n",
      "--------------------------------------------------------------------------------------\n",
      "Approach 2: The critical value approach to hypothesis testing in the decision rule\n",
      "F-score is: 438.33027299799846  and critical value is: 3.708443784853218\n",
      "Null Hypothesis is rejected.\n"
     ]
    }
   ],
   "source": [
    "# The p-value approach\n",
    "print(\"Approach 1: The p-value approach to hypothesis testing in the decision rule\")\n",
    "conclusion = \"Failed to reject the null hypothesis.\"\n",
    "if anova_table['P-value']['Between Groups'] <= alpha:\n",
    "    conclusion = \"Null Hypothesis is rejected.\"\n",
    "print(\"F-score is:\", anova_table['F']['Between Groups'], \" and p value is:\", anova_table['P-value']['Between Groups'])    \n",
    "print(conclusion)\n",
    "    \n",
    "# The critical value approach\n",
    "print(\"\\n--------------------------------------------------------------------------------------\")\n",
    "print(\"Approach 2: The critical value approach to hypothesis testing in the decision rule\")\n",
    "conclusion = \"Failed to reject the null hypothesis.\"\n",
    "if anova_table['F']['Between Groups'] > anova_table['F crit']['Between Groups']:\n",
    "    conclusion = \"Null Hypothesis is rejected.\"\n",
    "print(\"F-score is:\", anova_table['F']['Between Groups'], \" and critical value is:\", anova_table['F crit']['Between Groups'])\n",
    "print(conclusion)"
   ]
  },
  {
   "cell_type": "markdown",
   "id": "8ee3c800",
   "metadata": {},
   "source": [
    "Check Assumptions"
   ]
  },
  {
   "cell_type": "code",
   "execution_count": 135,
   "id": "878266a2",
   "metadata": {},
   "outputs": [
    {
     "data": {
      "image/png": "[encoded data removed]",
      "text/plain": [
       "<Figure size 432x288 with 1 Axes>"
      ]
     },
     "metadata": {
      "needs_background": "light"
     },
     "output_type": "display_data"
    },
    {
     "data": {
      "image/png": "[encoded data removed]",
      "text/plain": [
       "<Figure size 432x288 with 1 Axes>"
      ]
     },
     "metadata": {
      "needs_background": "light"
     },
     "output_type": "display_data"
    },
    {
     "data": {
      "image/png": "[encoded data removed]",
      "text/plain": [
       "<Figure size 432x288 with 1 Axes>"
      ]
     },
     "metadata": {
      "needs_background": "light"
     },
     "output_type": "display_data"
    }
   ],
   "source": [
    "unique_cat = summary_all['category'].unique()\n",
    "for category in unique_cat:\n",
    "    stats.probplot(summary_all[summary_all['category'] == category]['degree'], dist=\"norm\", plot=plt)\n",
    "    plt.title(\"Probability Plot - \" +  category)\n",
    "    plt.show()"
   ]
  },
  {
   "cell_type": "code",
   "execution_count": 136,
   "id": "973cd3b6",
   "metadata": {},
   "outputs": [
    {
     "data": {
      "image/png": "[encoded data removed]",
      "text/plain": [
       "<Figure size 432x288 with 1 Axes>"
      ]
     },
     "metadata": {
      "needs_background": "light"
     },
     "output_type": "display_data"
    },
    {
     "data": {
      "image/png": "[encoded data removed]",
      "text/plain": [
       "<Figure size 432x288 with 1 Axes>"
      ]
     },
     "metadata": {
      "needs_background": "light"
     },
     "output_type": "display_data"
    },
    {
     "data": {
      "image/png": "[encoded data removed]",
      "text/plain": [
       "<Figure size 432x288 with 1 Axes>"
      ]
     },
     "metadata": {
      "needs_background": "light"
     },
     "output_type": "display_data"
    }
   ],
   "source": [
    "unique_cat = summary_all['category'].unique()\n",
    "for category in unique_cat:\n",
    "    stats.probplot(summary_all[summary_all['category'] == category]['eigenvector'], dist=\"norm\", plot=plt)\n",
    "    plt.title(\"Probability Plot - \" +  category)\n",
    "    plt.show()"
   ]
  },
  {
   "cell_type": "code",
   "execution_count": 137,
   "id": "f9a83392",
   "metadata": {},
   "outputs": [
    {
     "data": {
      "text/plain": [
       "degree              inf\n",
       "eigenvector    1.558176\n",
       "dtype: float64"
      ]
     },
     "execution_count": 137,
     "metadata": {},
     "output_type": "execute_result"
    }
   ],
   "source": [
    "# homogeneity of variance\n",
    "ratio = summary_all.groupby('category').std().max() / summary_all.groupby('category').std().min()\n",
    "ratio"
   ]
  },
  {
   "cell_type": "code",
   "execution_count": null,
   "id": "ecbeab80",
   "metadata": {},
   "outputs": [],
   "source": []
  },
  {
   "cell_type": "markdown",
   "id": "5a59968e",
   "metadata": {},
   "source": [
    "##### Highest Centrality Drinks"
   ]
  },
  {
   "cell_type": "code",
   "execution_count": 132,
   "id": "99ce6896",
   "metadata": {},
   "outputs": [
    {
     "data": {
      "text/html": [
       "<div>\n",
       "<style scoped>\n",
       "    .dataframe tbody tr th:only-of-type {\n",
       "        vertical-align: middle;\n",
       "    }\n",
       "\n",
       "    .dataframe tbody tr th {\n",
       "        vertical-align: top;\n",
       "    }\n",
       "\n",
       "    .dataframe thead th {\n",
       "        text-align: right;\n",
       "    }\n",
       "</style>\n",
       "<table border=\"1\" class=\"dataframe\">\n",
       "  <thead>\n",
       "    <tr style=\"text-align: right;\">\n",
       "      <th></th>\n",
       "      <th>Name</th>\n",
       "      <th>degree</th>\n",
       "      <th>eigenvector</th>\n",
       "      <th>category</th>\n",
       "    </tr>\n",
       "  </thead>\n",
       "  <tbody>\n",
       "    <tr>\n",
       "      <th>90</th>\n",
       "      <td>Gin</td>\n",
       "      <td>0.094262</td>\n",
       "      <td>0.543657</td>\n",
       "      <td>Cocktail</td>\n",
       "    </tr>\n",
       "    <tr>\n",
       "      <th>81</th>\n",
       "      <td>Vodka</td>\n",
       "      <td>0.091954</td>\n",
       "      <td>0.394175</td>\n",
       "      <td>Shots</td>\n",
       "    </tr>\n",
       "    <tr>\n",
       "      <th>66</th>\n",
       "      <td>Baileys irish cream</td>\n",
       "      <td>0.068966</td>\n",
       "      <td>0.255925</td>\n",
       "      <td>Shots</td>\n",
       "    </tr>\n",
       "    <tr>\n",
       "      <th>73</th>\n",
       "      <td>Amaretto</td>\n",
       "      <td>0.068966</td>\n",
       "      <td>0.277725</td>\n",
       "      <td>Shots</td>\n",
       "    </tr>\n",
       "    <tr>\n",
       "      <th>25</th>\n",
       "      <td>Flaming Dr. Pepper</td>\n",
       "      <td>0.057471</td>\n",
       "      <td>0.252010</td>\n",
       "      <td>Shots</td>\n",
       "    </tr>\n",
       "  </tbody>\n",
       "</table>\n",
       "</div>"
      ],
      "text/plain": [
       "                   Name    degree  eigenvector  category\n",
       "90                  Gin  0.094262     0.543657  Cocktail\n",
       "81                Vodka  0.091954     0.394175     Shots\n",
       "66  Baileys irish cream  0.068966     0.255925     Shots\n",
       "73             Amaretto  0.068966     0.277725     Shots\n",
       "25   Flaming Dr. Pepper  0.057471     0.252010     Shots"
      ]
     },
     "execution_count": 132,
     "metadata": {},
     "output_type": "execute_result"
    }
   ],
   "source": [
    "summary_all.sort_values(by=['degree'],ascending=False).head()"
   ]
  },
  {
   "cell_type": "code",
   "execution_count": 133,
   "id": "eadaf16a",
   "metadata": {},
   "outputs": [
    {
     "data": {
      "text/html": [
       "<div>\n",
       "<style scoped>\n",
       "    .dataframe tbody tr th:only-of-type {\n",
       "        vertical-align: middle;\n",
       "    }\n",
       "\n",
       "    .dataframe tbody tr th {\n",
       "        vertical-align: top;\n",
       "    }\n",
       "\n",
       "    .dataframe thead th {\n",
       "        text-align: right;\n",
       "    }\n",
       "</style>\n",
       "<table border=\"1\" class=\"dataframe\">\n",
       "  <thead>\n",
       "    <tr style=\"text-align: right;\">\n",
       "      <th></th>\n",
       "      <th>Name</th>\n",
       "      <th>degree</th>\n",
       "      <th>eigenvector</th>\n",
       "      <th>category</th>\n",
       "    </tr>\n",
       "  </thead>\n",
       "  <tbody>\n",
       "    <tr>\n",
       "      <th>90</th>\n",
       "      <td>Gin</td>\n",
       "      <td>0.094262</td>\n",
       "      <td>0.543657</td>\n",
       "      <td>Cocktail</td>\n",
       "    </tr>\n",
       "    <tr>\n",
       "      <th>81</th>\n",
       "      <td>Vodka</td>\n",
       "      <td>0.091954</td>\n",
       "      <td>0.394175</td>\n",
       "      <td>Shots</td>\n",
       "    </tr>\n",
       "    <tr>\n",
       "      <th>5</th>\n",
       "      <td>Kool-Aid Shot</td>\n",
       "      <td>0.057471</td>\n",
       "      <td>0.278812</td>\n",
       "      <td>Shots</td>\n",
       "    </tr>\n",
       "    <tr>\n",
       "      <th>73</th>\n",
       "      <td>Amaretto</td>\n",
       "      <td>0.068966</td>\n",
       "      <td>0.277725</td>\n",
       "      <td>Shots</td>\n",
       "    </tr>\n",
       "    <tr>\n",
       "      <th>66</th>\n",
       "      <td>Baileys irish cream</td>\n",
       "      <td>0.068966</td>\n",
       "      <td>0.255925</td>\n",
       "      <td>Shots</td>\n",
       "    </tr>\n",
       "  </tbody>\n",
       "</table>\n",
       "</div>"
      ],
      "text/plain": [
       "                   Name    degree  eigenvector  category\n",
       "90                  Gin  0.094262     0.543657  Cocktail\n",
       "81                Vodka  0.091954     0.394175     Shots\n",
       "5         Kool-Aid Shot  0.057471     0.278812     Shots\n",
       "73             Amaretto  0.068966     0.277725     Shots\n",
       "66  Baileys irish cream  0.068966     0.255925     Shots"
      ]
     },
     "execution_count": 133,
     "metadata": {},
     "output_type": "execute_result"
    }
   ],
   "source": [
    "summary_all.sort_values(by=['eigenvector'],ascending=False).head()"
   ]
  },
  {
   "cell_type": "markdown",
   "id": "b4944604",
   "metadata": {},
   "source": [
    "### clean up, figure out what's going on with Ordinary Drinks, add graph"
   ]
  },
  {
   "cell_type": "code",
   "execution_count": null,
   "id": "baa335f1",
   "metadata": {},
   "outputs": [],
   "source": []
  },
  {
   "cell_type": "code",
   "execution_count": null,
   "id": "ae5fd77c",
   "metadata": {},
   "outputs": [],
   "source": []
  }
 ],
 "metadata": {
  "kernelspec": {
   "display_name": "Python 3",
   "language": "python",
   "name": "python3"
  },
  "language_info": {
   "codemirror_mode": {
    "name": "ipython",
    "version": 3
   },
   "file_extension": ".py",
   "mimetype": "text/x-python",
   "name": "python",
   "nbconvert_exporter": "python",
   "pygments_lexer": "ipython3",
   "version": "3.7.10"
  }
 },
 "nbformat": 4,
 "nbformat_minor": 5
}
