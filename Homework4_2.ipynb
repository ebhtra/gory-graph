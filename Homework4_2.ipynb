{
 "cells": [
  {
   "cell_type": "markdown",
   "id": "57501c41",
   "metadata": {},
   "source": [
    "## Assignment - High Frequency Words\n",
    "#### Summer 2021\n",
    "**Authors:** GOAT Team (Esteban Aramayo, Ethan Haley, Claire Meyer, and Tyler Frankenburg)"
   ]
  },
  {
   "cell_type": "markdown",
   "id": "5df63f3f",
   "metadata": {},
   "source": [
    "**What follows is an analysis of the distribution of wordcounts in the Project Gutenberg eBook version of \"Don Quijote\", by Miguel de Cervantes Saavedra.**"
   ]
  },
  {
   "cell_type": "code",
   "execution_count": 71,
   "id": "e8d9433b",
   "metadata": {},
   "outputs": [],
   "source": [
    "import nltk, re, pprint\n",
    "from urllib import request\n",
    "from nltk import word_tokenize\n",
    "import matplotlib.pyplot as plt"
   ]
  },
  {
   "cell_type": "markdown",
   "id": "ccedc79d",
   "metadata": {},
   "source": [
    "Start by accessing the UTF-8 version of the text on Project Gutenberg's website."
   ]
  },
  {
   "cell_type": "code",
   "execution_count": 5,
   "id": "29e3bb3e",
   "metadata": {},
   "outputs": [
    {
     "data": {
      "text/plain": [
       "str"
      ]
     },
     "execution_count": 5,
     "metadata": {},
     "output_type": "execute_result"
    }
   ],
   "source": [
    "url = 'https://gutenberg.org/files/2000/2000-0.txt'\n",
    "response = request.urlopen(url)\n",
    "raw = response.read().decode('utf8')\n",
    "type(raw)"
   ]
  },
  {
   "cell_type": "code",
   "execution_count": 6,
   "id": "20147d7a",
   "metadata": {},
   "outputs": [
    {
     "data": {
      "text/plain": [
       "2168460"
      ]
     },
     "execution_count": 6,
     "metadata": {},
     "output_type": "execute_result"
    }
   ],
   "source": [
    "len(raw)"
   ]
  },
  {
   "cell_type": "code",
   "execution_count": 7,
   "id": "b9bedb89",
   "metadata": {},
   "outputs": [
    {
     "data": {
      "text/plain": [
       "'\\ufeffThe Project Gutenberg eBook of Don Quijote, by Miguel de Cervantes Saavedra\\r\\n\\r\\nThis eBook is for t'"
      ]
     },
     "execution_count": 7,
     "metadata": {},
     "output_type": "execute_result"
    }
   ],
   "source": [
    "raw[:99]"
   ]
  },
  {
   "cell_type": "code",
   "execution_count": 8,
   "id": "7e924fff",
   "metadata": {},
   "outputs": [
    {
     "data": {
      "text/plain": [
       "447847"
      ]
     },
     "execution_count": 8,
     "metadata": {},
     "output_type": "execute_result"
    }
   ],
   "source": [
    "# Break the raw string into tokens\n",
    "tokens = word_tokenize(raw)\n",
    "len(tokens)"
   ]
  },
  {
   "cell_type": "code",
   "execution_count": 26,
   "id": "175f0e13",
   "metadata": {},
   "outputs": [
    {
     "name": "stdout",
     "output_type": "stream",
     "text": [
      "['con', 'su', 'ama', ',', 'y', 'es', 'uno', 'de', 'los', 'importantes', 'capítulos']\n"
     ]
    }
   ],
   "source": [
    "print(tokens[1100:1111])"
   ]
  },
  {
   "cell_type": "markdown",
   "id": "f4eba43a",
   "metadata": {},
   "source": [
    "Remove the header and footer around the book text"
   ]
  },
  {
   "cell_type": "code",
   "execution_count": 25,
   "id": "ba7fea32",
   "metadata": {},
   "outputs": [
    {
     "name": "stdout",
     "output_type": "stream",
     "text": [
      "['El', 'ingenioso', 'hidalgo', 'don', 'Quijote', 'de', 'la', 'Mancha', 'por', 'Miguel', 'de']\n"
     ]
    }
   ],
   "source": [
    "start = tokens.index('El')\n",
    "print(tokens[start:start+11])"
   ]
  },
  {
   "cell_type": "code",
   "execution_count": 17,
   "id": "ad7205c2",
   "metadata": {},
   "outputs": [
    {
     "data": {
      "text/plain": [
       "['caer', 'del', 'todo', ',', 'sin', 'duda', 'alguna', '.', 'Vale', '.', 'Fin']"
      ]
     },
     "execution_count": 17,
     "metadata": {},
     "output_type": "execute_result"
    }
   ],
   "source": [
    "end = tokens[::-1].index('Fin')\n",
    "tokens[-11-end:-end]"
   ]
  },
  {
   "cell_type": "code",
   "execution_count": 18,
   "id": "e5faa46b",
   "metadata": {},
   "outputs": [],
   "source": [
    "tokens = tokens[start:-end]"
   ]
  },
  {
   "cell_type": "code",
   "execution_count": 19,
   "id": "25a22fb2",
   "metadata": {},
   "outputs": [],
   "source": [
    "text = nltk.Text(tokens)"
   ]
  },
  {
   "cell_type": "code",
   "execution_count": 41,
   "id": "24e97b07",
   "metadata": {},
   "outputs": [
    {
     "name": "stdout",
     "output_type": "stream",
     "text": [
      "['caer', 'del', 'todo', ',', 'sin', 'duda', 'alguna', '.', 'Vale', '.', 'Fin']\n"
     ]
    }
   ],
   "source": [
    "print(text[-11:])"
   ]
  },
  {
   "cell_type": "code",
   "execution_count": 28,
   "id": "9dffd275",
   "metadata": {},
   "outputs": [],
   "source": [
    "from collections import Counter"
   ]
  },
  {
   "cell_type": "code",
   "execution_count": 36,
   "id": "75868268",
   "metadata": {},
   "outputs": [],
   "source": [
    "wordcounts = Counter([str.lower(t) for t in text]) "
   ]
  },
  {
   "cell_type": "code",
   "execution_count": 43,
   "id": "e2607800",
   "metadata": {},
   "outputs": [
    {
     "name": "stdout",
     "output_type": "stream",
     "text": [
      "[(',', 40277), ('que', 20727), ('de', 18392), ('y', 18242), ('la', 10490), ('a', 9854), ('en', 8267), ('el', 8262), ('.', 7972), ('no', 6235), (';', 4802), ('los', 4766), ('se', 4752), ('con', 4265), ('por', 3899), ('lo', 3489), ('las', 3482), ('le', 3407), ('su', 3388), ('—', 2988), ('don', 2714), ('del', 2536), ('me', 2344), ('como', 2260), ('es', 2112), ('yo', 2060), ('más', 2055), (':', 2047), ('si', 1957), ('un', 1942), ('al', 1753), ('quijote', 1719), ('mi', 1701), ('sancho', 1667), ('para', 1448), ('porque', 1391), ('ni', 1375), ('una', 1334), ('él', 1274), ('tan', 1233), ('o', 1215), ('todo', 1179), ('sin', 1156), ('señor', 1064), ('así', 1060), ('ser', 1059), ('sus', 1051), ('ha', 1049), ('bien', 1041), ('había', 1035), ('pero', 1015), ('?', 960), ('dijo', 933), ('merced', 900), ('esto', 884), ('—dijo', 874), ('pues', 853), ('vuestra', 851), ('todos', 818), ('—respondió', 803), ('ya', 778), ('cuando', 758), ('era', 753), ('te', 726), ('donde', 721), ('cual', 704), ('sino', 694), ('!', 693), ('dos', 684), ('caballero', 665), ('fue', 654), ('este', 642), ('esta', 628), ('quien', 620), ('ella', 593), ('decir', 578), ('qué', 565), ('he', 536), ('muy', 535), ('hacer', 535), ('aunque', 530), ('dios', 524), ('quijote—', 522), ('señora', 517), ('otra', 515), ('sancho—', 507), ('aquí', 506), ('mí', 502), ('otro', 499), ('aquel', 486), ('son', 482), ('estaba', 477), ('os', 464), ('hay', 462), ('mal', 457), ('sobre', 456), ('nos', 450), ('cosa', 447), ('buen', 446), ('está', 439), ('verdad', 434), ('tal', 426), ('tanto', 421), ('allí', 421), ('ver', 410), ('tengo', 401), ('mundo', 396), ('mis', 388), ('luego', 388), ('tiene', 387), ('sé', 387), ('alguna', 386), ('hasta', 386), ('poco', 381), ('entre', 378), ('todas', 373), ('dicho', 371), ('dar', 368), ('parte', 364), ('cosas', 363), ('buena', 362), ('vida', 357), ('ahora', 355), ('tenía', 351), ('uno', 349), ('han', 348), ('menos', 346), ('les', 346), ('lugar', 345), ('gran', 341), ('sí', 339), ('casa', 335), ('tu', 334), ('aquella', 333), ('soy', 332), ('eso', 330), ('manera', 329), ('tiempo', 327), ('panza', 326), ('toda', 323), ('digo', 319), ('puesto', 308), ('mano', 304), ('dio', 302), ('amo', 296), ('mucho', 294), ('ellos', 294), ('mejor', 293), ('caballeros', 293), ('antes', 291), ('»', 290), ('otras', 288), ('otros', 287), ('fuera', 287), ('puede', 286), ('dulcinea', 285), ('visto', 285), ('ojos', 285), ('sea', 284), ('algún', 282), ('tierra', 275), ('día', 274), ('hecho', 272), (\"''\", 272), ('¿qué', 268), ('historia', 262), ('quiero', 261), ('tú', 261), ('aun', 259), ('respondió', 258), ('padre', 257), ('cura', 255), ('hombre', 255), ('haber', 254), ('cielo', 252), ('habían', 251), ('vio', 249), ('amigo', 249), ('escudero', 248), ('hizo', 247), ('saber', 247), ('camino', 246), ('parece', 245), ('muchas', 244), ('estas', 244), ('tener', 243), ('fin', 241), ('días', 240), ('mas', 240), ('manos', 239), ('desta', 238), ('cuanto', 238), ('tres', 234), ('cuenta', 231), ('también', 229), ('mujer', 226), ('dice', 225), ('cada', 221), ('será', 220), ('nuestro', 219)]\n"
     ]
    }
   ],
   "source": [
    "print(wordcounts.most_common(200))"
   ]
  },
  {
   "cell_type": "markdown",
   "id": "ae4d1529",
   "metadata": {},
   "source": [
    "Make sure the accents aren't getting lost in translation."
   ]
  },
  {
   "cell_type": "code",
   "execution_count": 64,
   "id": "cbf9ce14",
   "metadata": {},
   "outputs": [
    {
     "name": "stdout",
     "output_type": "stream",
     "text": [
      "1282 8263\n"
     ]
    }
   ],
   "source": [
    "print(wordcounts[\"él\"], wordcounts[\"el\"])"
   ]
  },
  {
   "cell_type": "markdown",
   "id": "d9b0e463",
   "metadata": {},
   "source": [
    "Remove those long dashes, whatever they are, and also the question marks attached to the words"
   ]
  },
  {
   "cell_type": "code",
   "execution_count": 56,
   "id": "98ecdc13",
   "metadata": {},
   "outputs": [
    {
     "data": {
      "text/plain": [
       "'sancho'"
      ]
     },
     "execution_count": 56,
     "metadata": {},
     "output_type": "execute_result"
    }
   ],
   "source": [
    "'sancho—'.strip('—¿?')"
   ]
  },
  {
   "cell_type": "code",
   "execution_count": 63,
   "id": "f64d22c9",
   "metadata": {},
   "outputs": [],
   "source": [
    "wordcounts = Counter([str.lower(t).strip('—¿?') for t in text])"
   ]
  },
  {
   "cell_type": "markdown",
   "id": "9c91ae8d",
   "metadata": {},
   "source": [
    "Now remove punctuation"
   ]
  },
  {
   "cell_type": "code",
   "execution_count": 66,
   "id": "088388f3",
   "metadata": {},
   "outputs": [],
   "source": [
    "for word in list(wordcounts): # need list for stability during iteration\n",
    "    if not str.isalpha(word):\n",
    "        del wordcounts[word]"
   ]
  },
  {
   "cell_type": "code",
   "execution_count": 68,
   "id": "f8811b55",
   "metadata": {},
   "outputs": [
    {
     "data": {
      "text/plain": [
       "1808"
      ]
     },
     "execution_count": 68,
     "metadata": {},
     "output_type": "execute_result"
    }
   ],
   "source": [
    "wordcounts['dijo']  # before: ('dijo', 933), ('—dijo', 874)"
   ]
  },
  {
   "cell_type": "code",
   "execution_count": 69,
   "id": "8a26916f",
   "metadata": {},
   "outputs": [
    {
     "name": "stdout",
     "output_type": "stream",
     "text": [
      "[('que', 20761), ('de', 18408), ('y', 18268), ('la', 10492), ('a', 9866), ('en', 8279), ('el', 8263), ('no', 6321), ('los', 4766), ('se', 4752), ('con', 4274), ('por', 3937), ('lo', 3491), ('las', 3484), ('le', 3419), ('su', 3388), ('don', 2714), ('del', 2536), ('me', 2344), ('como', 2268), ('quijote', 2241), ('sancho', 2174), ('es', 2143), ('yo', 2069), ('más', 2055), ('si', 1964), ('un', 1943), ('dijo', 1808), ('al', 1754), ('mi', 1702), ('para', 1460), ('porque', 1392), ('ni', 1376), ('una', 1334), ('él', 1282), ('tan', 1240), ('o', 1217), ('todo', 1180), ('sin', 1156), ('señor', 1064), ('respondió', 1063), ('así', 1061), ('ser', 1059), ('ha', 1052), ('sus', 1051), ('bien', 1043), ('había', 1036), ('pero', 1015), ('merced', 900), ('esto', 886), ('pues', 857), ('vuestra', 851), ('qué', 835), ('todos', 818), ('ya', 781), ('cuando', 758), ('era', 757), ('te', 726), ('donde', 721), ('cual', 704), ('sino', 694), ('dos', 684), ('caballero', 677), ('fue', 655), ('este', 643), ('esta', 630), ('quien', 620), ('ella', 604), ('decir', 578), ('he', 537), ('muy', 535), ('hacer', 535), ('aunque', 531), ('dios', 524), ('señora', 518), ('otra', 517), ('otro', 511), ('aquí', 506), ('mí', 502), ('aquel', 486), ('son', 485), ('estaba', 478), ('hay', 472), ('os', 464), ('mal', 457), ('sobre', 456), ('nos', 450), ('cosa', 447), ('buen', 446), ('está', 441), ('verdad', 436), ('tal', 427), ('tanto', 421), ('allí', 421), ('ver', 410), ('tengo', 402), ('mundo', 396), ('luego', 390), ('tiene', 389), ('sé', 388), ('mis', 388), ('hasta', 387), ('alguna', 386), ('poco', 381), ('entre', 378), ('dicho', 373), ('todas', 373), ('dar', 368), ('cosas', 364), ('parte', 364), ('buena', 362), ('ahora', 360), ('vida', 358), ('panza', 352), ('uno', 351), ('tenía', 351), ('han', 349), ('les', 347), ('menos', 346), ('lugar', 345), ('sí', 343), ('gran', 341), ('casa', 335), ('soy', 335), ('tu', 334), ('aquella', 333), ('eso', 330), ('manera', 329), ('tiempo', 327), ('toda', 323), ('digo', 323), ('cura', 317), ('puesto', 308), ('mano', 304), ('dio', 302), ('amo', 298), ('mucho', 294), ('ellos', 294), ('mejor', 293), ('caballeros', 293), ('antes', 292), ('otras', 288), ('fuera', 288), ('otros', 287), ('puede', 286), ('dulcinea', 285), ('visto', 285), ('ojos', 285), ('sea', 284), ('algún', 282), ('tierra', 275), ('día', 274), ('cómo', 273), ('hecho', 272), ('quién', 271), ('tú', 265), ('historia', 262), ('quiero', 261), ('hombre', 259), ('aun', 259), ('padre', 258), ('haber', 254), ('habían', 252), ('cielo', 252), ('vio', 249), ('escudero', 249), ('amigo', 249), ('hizo', 248), ('saber', 247), ('camino', 246), ('parece', 245), ('muchas', 244), ('estas', 244), ('tener', 243), ('fin', 241), ('días', 240), ('mas', 240), ('manos', 239), ('desta', 238), ('cuanto', 238), ('tres', 234), ('también', 233), ('cuenta', 231), ('mujer', 229), ('dice', 226), ('será', 222), ('cada', 221), ('nuestro', 220), ('mesmo', 219), ('cabeza', 215), ('punto', 212), ('noche', 211), ('vos', 210), ('fuese', 208), ('replicó', 208), ('veces', 207), ('rocinante', 207), ('grande', 203), ('vuesa', 203), ('duque', 202)]\n"
     ]
    }
   ],
   "source": [
    "print(wordcounts.most_common(200))"
   ]
  },
  {
   "cell_type": "code",
   "execution_count": 81,
   "id": "7f4afffc",
   "metadata": {},
   "outputs": [
    {
     "data": {
      "image/png": "[encoded data removed]",
      "text/plain": [
       "<Figure size 432x288 with 1 Axes>"
      ]
     },
     "metadata": {
      "needs_background": "light"
     },
     "output_type": "display_data"
    }
   ],
   "source": [
    "plt.plot(list(zip(*wordcounts.most_common(200)))[1])\n",
    "plt.title(\"Wordcount Distribution for the Most Common 200 Words\")\n",
    "plt.xlabel('Word ranking')\n",
    "plt.ylabel('Wordcount');"
   ]
  },
  {
   "cell_type": "markdown",
   "id": "a26b2d0f",
   "metadata": {},
   "source": [
    "#### A numerical breakdown of the wordcounts:"
   ]
  },
  {
   "cell_type": "code",
   "execution_count": 85,
   "id": "d7f3bb19",
   "metadata": {},
   "outputs": [
    {
     "name": "stdout",
     "output_type": "stream",
     "text": [
      "There are 444359 words in Don Quijote, and 22826 unique words.\n"
     ]
    }
   ],
   "source": [
    "print(f\"There are {len(tokens)} words in Don Quijote, and {len(wordcounts)} unique words.\")"
   ]
  },
  {
   "cell_type": "code",
   "execution_count": 93,
   "id": "f1170f11",
   "metadata": {},
   "outputs": [
    {
     "name": "stdout",
     "output_type": "stream",
     "text": [
      "The smallest number of unique words that account for half of the total words is \n",
      "      127\n"
     ]
    }
   ],
   "source": [
    "def getToX(countlist, X):\n",
    "    total = 0\n",
    "    numItems = 0\n",
    "    gener = (tup for tup in countlist)\n",
    "    while total < X:\n",
    "        item = next(gener)\n",
    "        numItems += 1\n",
    "        total += item[1] # since we're using tuples of (word, count)\n",
    "    return numItems\n",
    "\n",
    "print(f\"\"\"The smallest number of unique words that account for half of the total words is \n",
    "      {getToX(wordcounts.most_common(200), len(tokens) / 2)}\"\"\")"
   ]
  },
  {
   "cell_type": "markdown",
   "id": "d7af8c42",
   "metadata": {},
   "source": [
    "# TODO --  \n",
    "#### Definitely looks like Zipf's law is supported by this wordcount distribution.  Need to scale the y-axis above to show \"relative frequency\", which maybe just means dividing by len(tokens), but shape of chart will be same regardless."
   ]
  },
  {
   "cell_type": "code",
   "execution_count": null,
   "id": "8490bc26",
   "metadata": {},
   "outputs": [],
   "source": []
  }
 ],
 "metadata": {
  "kernelspec": {
   "display_name": "Python 3",
   "language": "python",
   "name": "python3"
  },
  "language_info": {
   "codemirror_mode": {
    "name": "ipython",
    "version": 3
   },
   "file_extension": ".py",
   "mimetype": "text/x-python",
   "name": "python",
   "nbconvert_exporter": "python",
   "pygments_lexer": "ipython3",
   "version": "3.7.10"
  }
 },
 "nbformat": 4,
 "nbformat_minor": 5
}
