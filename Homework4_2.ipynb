{
 "cells": [
  {
   "cell_type": "markdown",
   "id": "21170610",
   "metadata": {},
   "source": [
    "## Assignment - High Frequency Words\n",
    "#### Summer 2021\n",
    "**Authors:** GOAT Team (Esteban Aramayo, Ethan Haley, Claire Meyer, and Tyler Frankenburg)"
   ]
  },
  {
   "cell_type": "markdown",
   "id": "9076a0a5",
   "metadata": {},
   "source": [
    "**What follows is an analysis of the distribution of wordcounts in the Project Gutenberg eBook version of \"Don Quijote\", by Miguel de Cervantes Saavedra.**"
   ]
  },
  {
   "cell_type": "code",
   "execution_count": 4,
   "id": "6f5dfc6e",
   "metadata": {},
   "outputs": [],
   "source": [
    "import nltk, re, pprint\n",
    "from urllib import request\n",
    "from nltk import word_tokenize"
   ]
  },
  {
   "cell_type": "markdown",
   "id": "eaa977cc",
   "metadata": {},
   "source": [
    "Start by accessing the UTF-8 version of the text on Project Gutenberg's website."
   ]
  },
  {
   "cell_type": "code",
   "execution_count": 5,
   "id": "fbdeafc6",
   "metadata": {},
   "outputs": [
    {
     "data": {
      "text/plain": [
       "str"
      ]
     },
     "execution_count": 5,
     "metadata": {},
     "output_type": "execute_result"
    }
   ],
   "source": [
    "url = 'https://gutenberg.org/files/2000/2000-0.txt'\n",
    "response = request.urlopen(url)\n",
    "raw = response.read().decode('utf8')\n",
    "type(raw)"
   ]
  },
  {
   "cell_type": "code",
   "execution_count": 6,
   "id": "796255b1",
   "metadata": {},
   "outputs": [
    {
     "data": {
      "text/plain": [
       "2168460"
      ]
     },
     "execution_count": 6,
     "metadata": {},
     "output_type": "execute_result"
    }
   ],
   "source": [
    "len(raw)"
   ]
  },
  {
   "cell_type": "code",
   "execution_count": 7,
   "id": "ad31b123",
   "metadata": {},
   "outputs": [
    {
     "data": {
      "text/plain": [
       "'\\ufeffThe Project Gutenberg eBook of Don Quijote, by Miguel de Cervantes Saavedra\\r\\n\\r\\nThis eBook is for t'"
      ]
     },
     "execution_count": 7,
     "metadata": {},
     "output_type": "execute_result"
    }
   ],
   "source": [
    "raw[:99]"
   ]
  },
  {
   "cell_type": "code",
   "execution_count": 8,
   "id": "2aacdf54",
   "metadata": {},
   "outputs": [
    {
     "data": {
      "text/plain": [
       "447847"
      ]
     },
     "execution_count": 8,
     "metadata": {},
     "output_type": "execute_result"
    }
   ],
   "source": [
    "# Break the raw string into tokens\n",
    "tokens = word_tokenize(raw)\n",
    "len(tokens)"
   ]
  },
  {
   "cell_type": "code",
   "execution_count": 26,
   "id": "97b15da1",
   "metadata": {},
   "outputs": [
    {
     "name": "stdout",
     "output_type": "stream",
     "text": [
      "['con', 'su', 'ama', ',', 'y', 'es', 'uno', 'de', 'los', 'importantes', 'capítulos']\n"
     ]
    }
   ],
   "source": [
    "print(tokens[1100:1111])"
   ]
  },
  {
   "cell_type": "markdown",
   "id": "47efffbe",
   "metadata": {},
   "source": [
    "Remove the header and footer around the book text"
   ]
  },
  {
   "cell_type": "code",
   "execution_count": 25,
   "id": "7d00811a",
   "metadata": {},
   "outputs": [
    {
     "name": "stdout",
     "output_type": "stream",
     "text": [
      "['El', 'ingenioso', 'hidalgo', 'don', 'Quijote', 'de', 'la', 'Mancha', 'por', 'Miguel', 'de']\n"
     ]
    }
   ],
   "source": [
    "start = tokens.index('El')\n",
    "print(tokens[start:start+11])"
   ]
  },
  {
   "cell_type": "code",
   "execution_count": 17,
   "id": "147ea4a7",
   "metadata": {},
   "outputs": [
    {
     "data": {
      "text/plain": [
       "['caer', 'del', 'todo', ',', 'sin', 'duda', 'alguna', '.', 'Vale', '.', 'Fin']"
      ]
     },
     "execution_count": 17,
     "metadata": {},
     "output_type": "execute_result"
    }
   ],
   "source": [
    "end = tokens[::-1].index('Fin')\n",
    "tokens[-11-end:-end]"
   ]
  },
  {
   "cell_type": "code",
   "execution_count": 18,
   "id": "b243aea6",
   "metadata": {},
   "outputs": [],
   "source": [
    "tokens = tokens[start:-end]"
   ]
  },
  {
   "cell_type": "code",
   "execution_count": 19,
   "id": "2f8733af",
   "metadata": {},
   "outputs": [],
   "source": [
    "text = nltk.Text(tokens)"
   ]
  },
  {
   "cell_type": "code",
   "execution_count": 27,
   "id": "2eafbb1c",
   "metadata": {},
   "outputs": [
    {
     "name": "stdout",
     "output_type": "stream",
     "text": [
      "['Mancha', 'Tasa', 'Testimonio', 'de', 'las', 'erratas', 'El', 'Rey', 'Al', 'Duque', 'de', 'Béjar', 'Prólogo', 'Al', 'libro', 'de', 'don', 'Quijote', 'de', 'la']\n"
     ]
    }
   ],
   "source": [
    "print(text[20:40])"
   ]
  },
  {
   "cell_type": "code",
   "execution_count": null,
   "id": "960aec22",
   "metadata": {},
   "outputs": [],
   "source": []
  },
  {
   "cell_type": "code",
   "execution_count": null,
   "id": "d4534306",
   "metadata": {},
   "outputs": [],
   "source": []
  }
 ],
 "metadata": {
  "kernelspec": {
   "display_name": "Python 3",
   "language": "python",
   "name": "python3"
  },
  "language_info": {
   "codemirror_mode": {
    "name": "ipython",
    "version": 3
   },
   "file_extension": ".py",
   "mimetype": "text/x-python",
   "name": "python",
   "nbconvert_exporter": "python",
   "pygments_lexer": "ipython3",
   "version": "3.7.10"
  }
 },
 "nbformat": 4,
 "nbformat_minor": 5
}
