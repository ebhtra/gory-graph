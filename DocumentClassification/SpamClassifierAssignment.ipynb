{
 "cells": [
  {
   "cell_type": "markdown",
   "id": "d9c46774",
   "metadata": {},
   "source": [
    "## Assignment 5-6: Document Classification\n",
    "#### Summer 2021\n",
    "**Authors:** GOAT Team (Esteban Aramayo, Ethan Haley, Claire Meyer, and Tyler Frankenburg)\n",
    "\n",
    "In this assignment, we'll ingest a dataset on emails from the [UCI Machine Learning Repository](http://archive.ics.uci.edu/ml/datasets/Spambase) and build a classifier to predict if a row is a spam email or not, using the provided features."
   ]
  },
  {
   "cell_type": "code",
   "execution_count": 118,
   "id": "e38541d6",
   "metadata": {},
   "outputs": [],
   "source": [
    "import numpy as np\n",
    "import pandas as pd \n",
    "import re\n",
    "from sklearn.model_selection import train_test_split\n",
    "from sklearn.preprocessing import MinMaxScaler\n",
    "from sklearn.linear_model import LogisticRegression\n",
    "from sklearn.tree import DecisionTreeClassifier\n",
    "from sklearn.ensemble import RandomForestClassifier\n",
    "from sklearn.ensemble import GradientBoostingClassifier\n",
    "from sklearn.metrics import accuracy_score\n",
    "from sklearn.model_selection import cross_validate\n",
    "from sklearn.model_selection import RepeatedStratifiedKFold\n",
    "from sklearn.model_selection import GridSearchCV\n",
    "from sklearn.pipeline import Pipeline"
   ]
  },
  {
   "cell_type": "markdown",
   "id": "3f5f24f4",
   "metadata": {},
   "source": [
    "##### Configuring the Spam dataset\n",
    "\n",
    "First we'll import the email data into a CSV without headers, as we'll add the column names from the names file later."
   ]
  },
  {
   "cell_type": "code",
   "execution_count": 3,
   "id": "9ff56091",
   "metadata": {},
   "outputs": [
    {
     "data": {
      "text/html": [
       "<div>\n",
       "<style scoped>\n",
       "    .dataframe tbody tr th:only-of-type {\n",
       "        vertical-align: middle;\n",
       "    }\n",
       "\n",
       "    .dataframe tbody tr th {\n",
       "        vertical-align: top;\n",
       "    }\n",
       "\n",
       "    .dataframe thead th {\n",
       "        text-align: right;\n",
       "    }\n",
       "</style>\n",
       "<table border=\"1\" class=\"dataframe\">\n",
       "  <thead>\n",
       "    <tr style=\"text-align: right;\">\n",
       "      <th></th>\n",
       "      <th>0</th>\n",
       "      <th>1</th>\n",
       "      <th>2</th>\n",
       "      <th>3</th>\n",
       "      <th>4</th>\n",
       "      <th>5</th>\n",
       "      <th>6</th>\n",
       "      <th>7</th>\n",
       "      <th>8</th>\n",
       "      <th>9</th>\n",
       "      <th>...</th>\n",
       "      <th>48</th>\n",
       "      <th>49</th>\n",
       "      <th>50</th>\n",
       "      <th>51</th>\n",
       "      <th>52</th>\n",
       "      <th>53</th>\n",
       "      <th>54</th>\n",
       "      <th>55</th>\n",
       "      <th>56</th>\n",
       "      <th>57</th>\n",
       "    </tr>\n",
       "  </thead>\n",
       "  <tbody>\n",
       "    <tr>\n",
       "      <th>0</th>\n",
       "      <td>0.00</td>\n",
       "      <td>0.64</td>\n",
       "      <td>0.64</td>\n",
       "      <td>0.0</td>\n",
       "      <td>0.32</td>\n",
       "      <td>0.00</td>\n",
       "      <td>0.00</td>\n",
       "      <td>0.00</td>\n",
       "      <td>0.00</td>\n",
       "      <td>0.00</td>\n",
       "      <td>...</td>\n",
       "      <td>0.00</td>\n",
       "      <td>0.000</td>\n",
       "      <td>0.0</td>\n",
       "      <td>0.778</td>\n",
       "      <td>0.000</td>\n",
       "      <td>0.000</td>\n",
       "      <td>3.756</td>\n",
       "      <td>61</td>\n",
       "      <td>278</td>\n",
       "      <td>1</td>\n",
       "    </tr>\n",
       "    <tr>\n",
       "      <th>1</th>\n",
       "      <td>0.21</td>\n",
       "      <td>0.28</td>\n",
       "      <td>0.50</td>\n",
       "      <td>0.0</td>\n",
       "      <td>0.14</td>\n",
       "      <td>0.28</td>\n",
       "      <td>0.21</td>\n",
       "      <td>0.07</td>\n",
       "      <td>0.00</td>\n",
       "      <td>0.94</td>\n",
       "      <td>...</td>\n",
       "      <td>0.00</td>\n",
       "      <td>0.132</td>\n",
       "      <td>0.0</td>\n",
       "      <td>0.372</td>\n",
       "      <td>0.180</td>\n",
       "      <td>0.048</td>\n",
       "      <td>5.114</td>\n",
       "      <td>101</td>\n",
       "      <td>1028</td>\n",
       "      <td>1</td>\n",
       "    </tr>\n",
       "    <tr>\n",
       "      <th>2</th>\n",
       "      <td>0.06</td>\n",
       "      <td>0.00</td>\n",
       "      <td>0.71</td>\n",
       "      <td>0.0</td>\n",
       "      <td>1.23</td>\n",
       "      <td>0.19</td>\n",
       "      <td>0.19</td>\n",
       "      <td>0.12</td>\n",
       "      <td>0.64</td>\n",
       "      <td>0.25</td>\n",
       "      <td>...</td>\n",
       "      <td>0.01</td>\n",
       "      <td>0.143</td>\n",
       "      <td>0.0</td>\n",
       "      <td>0.276</td>\n",
       "      <td>0.184</td>\n",
       "      <td>0.010</td>\n",
       "      <td>9.821</td>\n",
       "      <td>485</td>\n",
       "      <td>2259</td>\n",
       "      <td>1</td>\n",
       "    </tr>\n",
       "    <tr>\n",
       "      <th>3</th>\n",
       "      <td>0.00</td>\n",
       "      <td>0.00</td>\n",
       "      <td>0.00</td>\n",
       "      <td>0.0</td>\n",
       "      <td>0.63</td>\n",
       "      <td>0.00</td>\n",
       "      <td>0.31</td>\n",
       "      <td>0.63</td>\n",
       "      <td>0.31</td>\n",
       "      <td>0.63</td>\n",
       "      <td>...</td>\n",
       "      <td>0.00</td>\n",
       "      <td>0.137</td>\n",
       "      <td>0.0</td>\n",
       "      <td>0.137</td>\n",
       "      <td>0.000</td>\n",
       "      <td>0.000</td>\n",
       "      <td>3.537</td>\n",
       "      <td>40</td>\n",
       "      <td>191</td>\n",
       "      <td>1</td>\n",
       "    </tr>\n",
       "    <tr>\n",
       "      <th>4</th>\n",
       "      <td>0.00</td>\n",
       "      <td>0.00</td>\n",
       "      <td>0.00</td>\n",
       "      <td>0.0</td>\n",
       "      <td>0.63</td>\n",
       "      <td>0.00</td>\n",
       "      <td>0.31</td>\n",
       "      <td>0.63</td>\n",
       "      <td>0.31</td>\n",
       "      <td>0.63</td>\n",
       "      <td>...</td>\n",
       "      <td>0.00</td>\n",
       "      <td>0.135</td>\n",
       "      <td>0.0</td>\n",
       "      <td>0.135</td>\n",
       "      <td>0.000</td>\n",
       "      <td>0.000</td>\n",
       "      <td>3.537</td>\n",
       "      <td>40</td>\n",
       "      <td>191</td>\n",
       "      <td>1</td>\n",
       "    </tr>\n",
       "  </tbody>\n",
       "</table>\n",
       "<p>5 rows × 58 columns</p>\n",
       "</div>"
      ],
      "text/plain": [
       "     0     1     2    3     4     5     6     7     8     9   ...    48  \\\n",
       "0  0.00  0.64  0.64  0.0  0.32  0.00  0.00  0.00  0.00  0.00  ...  0.00   \n",
       "1  0.21  0.28  0.50  0.0  0.14  0.28  0.21  0.07  0.00  0.94  ...  0.00   \n",
       "2  0.06  0.00  0.71  0.0  1.23  0.19  0.19  0.12  0.64  0.25  ...  0.01   \n",
       "3  0.00  0.00  0.00  0.0  0.63  0.00  0.31  0.63  0.31  0.63  ...  0.00   \n",
       "4  0.00  0.00  0.00  0.0  0.63  0.00  0.31  0.63  0.31  0.63  ...  0.00   \n",
       "\n",
       "      49   50     51     52     53     54   55    56  57  \n",
       "0  0.000  0.0  0.778  0.000  0.000  3.756   61   278   1  \n",
       "1  0.132  0.0  0.372  0.180  0.048  5.114  101  1028   1  \n",
       "2  0.143  0.0  0.276  0.184  0.010  9.821  485  2259   1  \n",
       "3  0.137  0.0  0.137  0.000  0.000  3.537   40   191   1  \n",
       "4  0.135  0.0  0.135  0.000  0.000  3.537   40   191   1  \n",
       "\n",
       "[5 rows x 58 columns]"
      ]
     },
     "execution_count": 3,
     "metadata": {},
     "output_type": "execute_result"
    }
   ],
   "source": [
    "spam_data = pd.read_csv(\"https://raw.githubusercontent.com/ebhtra/gory-graph/main/DocumentClassification/spambase.data\", header=None)\n",
    "\n",
    "spam_data.head()"
   ]
  },
  {
   "cell_type": "markdown",
   "id": "734367f0",
   "metadata": {},
   "source": [
    "Then we open the names file, which includes names for all our eventual features."
   ]
  },
  {
   "cell_type": "code",
   "execution_count": 4,
   "id": "726c874f",
   "metadata": {},
   "outputs": [],
   "source": [
    "import urllib\n",
    "\n",
    "link = \"https://raw.githubusercontent.com/ebhtra/gory-graph/main/DocumentClassification/spambase.names\"\n",
    "f = urllib.request.urlopen(link)\n",
    "f = f.read().decode()"
   ]
  },
  {
   "cell_type": "markdown",
   "id": "a542a7b0",
   "metadata": {},
   "source": [
    "Using Regex findall(), we can use pattern matching to ignore documentation text and pull in all the feature names to use as columns."
   ]
  },
  {
   "cell_type": "code",
   "execution_count": 5,
   "id": "5c6e342c",
   "metadata": {},
   "outputs": [],
   "source": [
    "colnames = re.findall(\"word_freq_[a-z]*:|word_freq_[a-z]*[0-9]*[a-z]:|word_freq_[a-z]*[0-9]*:|char_freq_.:|capital_run_length_[a-z]*:\",f)"
   ]
  },
  {
   "cell_type": "code",
   "execution_count": 6,
   "id": "a87cf723",
   "metadata": {},
   "outputs": [
    {
     "data": {
      "text/plain": [
       "57"
      ]
     },
     "execution_count": 6,
     "metadata": {},
     "output_type": "execute_result"
    }
   ],
   "source": [
    "len(colnames)"
   ]
  },
  {
   "cell_type": "code",
   "execution_count": 7,
   "id": "186150ed",
   "metadata": {},
   "outputs": [],
   "source": [
    "colnames.append(\"spam\")"
   ]
  },
  {
   "cell_type": "code",
   "execution_count": 8,
   "id": "5d3e62cc",
   "metadata": {},
   "outputs": [
    {
     "name": "stdout",
     "output_type": "stream",
     "text": [
      "58\n"
     ]
    }
   ],
   "source": [
    "print(len(colnames))"
   ]
  },
  {
   "cell_type": "code",
   "execution_count": 9,
   "id": "d62698a2",
   "metadata": {},
   "outputs": [],
   "source": [
    "spam_data.columns = colnames"
   ]
  },
  {
   "cell_type": "code",
   "execution_count": 10,
   "id": "d8dda86d",
   "metadata": {},
   "outputs": [
    {
     "data": {
      "text/html": [
       "<div>\n",
       "<style scoped>\n",
       "    .dataframe tbody tr th:only-of-type {\n",
       "        vertical-align: middle;\n",
       "    }\n",
       "\n",
       "    .dataframe tbody tr th {\n",
       "        vertical-align: top;\n",
       "    }\n",
       "\n",
       "    .dataframe thead th {\n",
       "        text-align: right;\n",
       "    }\n",
       "</style>\n",
       "<table border=\"1\" class=\"dataframe\">\n",
       "  <thead>\n",
       "    <tr style=\"text-align: right;\">\n",
       "      <th></th>\n",
       "      <th>word_freq_make:</th>\n",
       "      <th>word_freq_address:</th>\n",
       "      <th>word_freq_all:</th>\n",
       "      <th>word_freq_3d:</th>\n",
       "      <th>word_freq_our:</th>\n",
       "      <th>word_freq_over:</th>\n",
       "      <th>word_freq_remove:</th>\n",
       "      <th>word_freq_internet:</th>\n",
       "      <th>word_freq_order:</th>\n",
       "      <th>word_freq_mail:</th>\n",
       "      <th>...</th>\n",
       "      <th>char_freq_;:</th>\n",
       "      <th>char_freq_(:</th>\n",
       "      <th>char_freq_[:</th>\n",
       "      <th>char_freq_!:</th>\n",
       "      <th>char_freq_$:</th>\n",
       "      <th>char_freq_#:</th>\n",
       "      <th>capital_run_length_average:</th>\n",
       "      <th>capital_run_length_longest:</th>\n",
       "      <th>capital_run_length_total:</th>\n",
       "      <th>spam</th>\n",
       "    </tr>\n",
       "  </thead>\n",
       "  <tbody>\n",
       "    <tr>\n",
       "      <th>0</th>\n",
       "      <td>0.00</td>\n",
       "      <td>0.64</td>\n",
       "      <td>0.64</td>\n",
       "      <td>0.0</td>\n",
       "      <td>0.32</td>\n",
       "      <td>0.00</td>\n",
       "      <td>0.00</td>\n",
       "      <td>0.00</td>\n",
       "      <td>0.00</td>\n",
       "      <td>0.00</td>\n",
       "      <td>...</td>\n",
       "      <td>0.00</td>\n",
       "      <td>0.000</td>\n",
       "      <td>0.0</td>\n",
       "      <td>0.778</td>\n",
       "      <td>0.000</td>\n",
       "      <td>0.000</td>\n",
       "      <td>3.756</td>\n",
       "      <td>61</td>\n",
       "      <td>278</td>\n",
       "      <td>1</td>\n",
       "    </tr>\n",
       "    <tr>\n",
       "      <th>1</th>\n",
       "      <td>0.21</td>\n",
       "      <td>0.28</td>\n",
       "      <td>0.50</td>\n",
       "      <td>0.0</td>\n",
       "      <td>0.14</td>\n",
       "      <td>0.28</td>\n",
       "      <td>0.21</td>\n",
       "      <td>0.07</td>\n",
       "      <td>0.00</td>\n",
       "      <td>0.94</td>\n",
       "      <td>...</td>\n",
       "      <td>0.00</td>\n",
       "      <td>0.132</td>\n",
       "      <td>0.0</td>\n",
       "      <td>0.372</td>\n",
       "      <td>0.180</td>\n",
       "      <td>0.048</td>\n",
       "      <td>5.114</td>\n",
       "      <td>101</td>\n",
       "      <td>1028</td>\n",
       "      <td>1</td>\n",
       "    </tr>\n",
       "    <tr>\n",
       "      <th>2</th>\n",
       "      <td>0.06</td>\n",
       "      <td>0.00</td>\n",
       "      <td>0.71</td>\n",
       "      <td>0.0</td>\n",
       "      <td>1.23</td>\n",
       "      <td>0.19</td>\n",
       "      <td>0.19</td>\n",
       "      <td>0.12</td>\n",
       "      <td>0.64</td>\n",
       "      <td>0.25</td>\n",
       "      <td>...</td>\n",
       "      <td>0.01</td>\n",
       "      <td>0.143</td>\n",
       "      <td>0.0</td>\n",
       "      <td>0.276</td>\n",
       "      <td>0.184</td>\n",
       "      <td>0.010</td>\n",
       "      <td>9.821</td>\n",
       "      <td>485</td>\n",
       "      <td>2259</td>\n",
       "      <td>1</td>\n",
       "    </tr>\n",
       "    <tr>\n",
       "      <th>3</th>\n",
       "      <td>0.00</td>\n",
       "      <td>0.00</td>\n",
       "      <td>0.00</td>\n",
       "      <td>0.0</td>\n",
       "      <td>0.63</td>\n",
       "      <td>0.00</td>\n",
       "      <td>0.31</td>\n",
       "      <td>0.63</td>\n",
       "      <td>0.31</td>\n",
       "      <td>0.63</td>\n",
       "      <td>...</td>\n",
       "      <td>0.00</td>\n",
       "      <td>0.137</td>\n",
       "      <td>0.0</td>\n",
       "      <td>0.137</td>\n",
       "      <td>0.000</td>\n",
       "      <td>0.000</td>\n",
       "      <td>3.537</td>\n",
       "      <td>40</td>\n",
       "      <td>191</td>\n",
       "      <td>1</td>\n",
       "    </tr>\n",
       "    <tr>\n",
       "      <th>4</th>\n",
       "      <td>0.00</td>\n",
       "      <td>0.00</td>\n",
       "      <td>0.00</td>\n",
       "      <td>0.0</td>\n",
       "      <td>0.63</td>\n",
       "      <td>0.00</td>\n",
       "      <td>0.31</td>\n",
       "      <td>0.63</td>\n",
       "      <td>0.31</td>\n",
       "      <td>0.63</td>\n",
       "      <td>...</td>\n",
       "      <td>0.00</td>\n",
       "      <td>0.135</td>\n",
       "      <td>0.0</td>\n",
       "      <td>0.135</td>\n",
       "      <td>0.000</td>\n",
       "      <td>0.000</td>\n",
       "      <td>3.537</td>\n",
       "      <td>40</td>\n",
       "      <td>191</td>\n",
       "      <td>1</td>\n",
       "    </tr>\n",
       "  </tbody>\n",
       "</table>\n",
       "<p>5 rows × 58 columns</p>\n",
       "</div>"
      ],
      "text/plain": [
       "   word_freq_make:  word_freq_address:  word_freq_all:  word_freq_3d:  \\\n",
       "0             0.00                0.64            0.64            0.0   \n",
       "1             0.21                0.28            0.50            0.0   \n",
       "2             0.06                0.00            0.71            0.0   \n",
       "3             0.00                0.00            0.00            0.0   \n",
       "4             0.00                0.00            0.00            0.0   \n",
       "\n",
       "   word_freq_our:  word_freq_over:  word_freq_remove:  word_freq_internet:  \\\n",
       "0            0.32             0.00               0.00                 0.00   \n",
       "1            0.14             0.28               0.21                 0.07   \n",
       "2            1.23             0.19               0.19                 0.12   \n",
       "3            0.63             0.00               0.31                 0.63   \n",
       "4            0.63             0.00               0.31                 0.63   \n",
       "\n",
       "   word_freq_order:  word_freq_mail:  ...  char_freq_;:  char_freq_(:  \\\n",
       "0              0.00             0.00  ...          0.00         0.000   \n",
       "1              0.00             0.94  ...          0.00         0.132   \n",
       "2              0.64             0.25  ...          0.01         0.143   \n",
       "3              0.31             0.63  ...          0.00         0.137   \n",
       "4              0.31             0.63  ...          0.00         0.135   \n",
       "\n",
       "   char_freq_[:  char_freq_!:  char_freq_$:  char_freq_#:  \\\n",
       "0           0.0         0.778         0.000         0.000   \n",
       "1           0.0         0.372         0.180         0.048   \n",
       "2           0.0         0.276         0.184         0.010   \n",
       "3           0.0         0.137         0.000         0.000   \n",
       "4           0.0         0.135         0.000         0.000   \n",
       "\n",
       "   capital_run_length_average:  capital_run_length_longest:  \\\n",
       "0                        3.756                           61   \n",
       "1                        5.114                          101   \n",
       "2                        9.821                          485   \n",
       "3                        3.537                           40   \n",
       "4                        3.537                           40   \n",
       "\n",
       "   capital_run_length_total:  spam  \n",
       "0                        278     1  \n",
       "1                       1028     1  \n",
       "2                       2259     1  \n",
       "3                        191     1  \n",
       "4                        191     1  \n",
       "\n",
       "[5 rows x 58 columns]"
      ]
     },
     "execution_count": 10,
     "metadata": {},
     "output_type": "execute_result"
    }
   ],
   "source": [
    "spam_data.head()"
   ]
  },
  {
   "cell_type": "markdown",
   "id": "dff529d0",
   "metadata": {},
   "source": [
    "##### Exploring the Data\n",
    "\n",
    "Let's look at class balance, as well as descriptive statistics of each field."
   ]
  },
  {
   "cell_type": "code",
   "execution_count": 11,
   "id": "d1f0f6d7",
   "metadata": {},
   "outputs": [
    {
     "data": {
      "text/html": [
       "<div>\n",
       "<style scoped>\n",
       "    .dataframe tbody tr th:only-of-type {\n",
       "        vertical-align: middle;\n",
       "    }\n",
       "\n",
       "    .dataframe tbody tr th {\n",
       "        vertical-align: top;\n",
       "    }\n",
       "\n",
       "    .dataframe thead th {\n",
       "        text-align: right;\n",
       "    }\n",
       "</style>\n",
       "<table border=\"1\" class=\"dataframe\">\n",
       "  <thead>\n",
       "    <tr style=\"text-align: right;\">\n",
       "      <th></th>\n",
       "      <th>word_freq_make:</th>\n",
       "      <th>word_freq_address:</th>\n",
       "      <th>word_freq_all:</th>\n",
       "      <th>word_freq_3d:</th>\n",
       "      <th>word_freq_our:</th>\n",
       "      <th>word_freq_over:</th>\n",
       "      <th>word_freq_remove:</th>\n",
       "      <th>word_freq_internet:</th>\n",
       "      <th>word_freq_order:</th>\n",
       "      <th>word_freq_mail:</th>\n",
       "      <th>...</th>\n",
       "      <th>char_freq_;:</th>\n",
       "      <th>char_freq_(:</th>\n",
       "      <th>char_freq_[:</th>\n",
       "      <th>char_freq_!:</th>\n",
       "      <th>char_freq_$:</th>\n",
       "      <th>char_freq_#:</th>\n",
       "      <th>capital_run_length_average:</th>\n",
       "      <th>capital_run_length_longest:</th>\n",
       "      <th>capital_run_length_total:</th>\n",
       "      <th>spam</th>\n",
       "    </tr>\n",
       "  </thead>\n",
       "  <tbody>\n",
       "    <tr>\n",
       "      <th>count</th>\n",
       "      <td>4601.000000</td>\n",
       "      <td>4601.000000</td>\n",
       "      <td>4601.000000</td>\n",
       "      <td>4601.000000</td>\n",
       "      <td>4601.000000</td>\n",
       "      <td>4601.000000</td>\n",
       "      <td>4601.000000</td>\n",
       "      <td>4601.000000</td>\n",
       "      <td>4601.000000</td>\n",
       "      <td>4601.000000</td>\n",
       "      <td>...</td>\n",
       "      <td>4601.000000</td>\n",
       "      <td>4601.000000</td>\n",
       "      <td>4601.000000</td>\n",
       "      <td>4601.000000</td>\n",
       "      <td>4601.000000</td>\n",
       "      <td>4601.000000</td>\n",
       "      <td>4601.000000</td>\n",
       "      <td>4601.000000</td>\n",
       "      <td>4601.000000</td>\n",
       "      <td>4601.000000</td>\n",
       "    </tr>\n",
       "    <tr>\n",
       "      <th>mean</th>\n",
       "      <td>0.104553</td>\n",
       "      <td>0.213015</td>\n",
       "      <td>0.280656</td>\n",
       "      <td>0.065425</td>\n",
       "      <td>0.312223</td>\n",
       "      <td>0.095901</td>\n",
       "      <td>0.114208</td>\n",
       "      <td>0.105295</td>\n",
       "      <td>0.090067</td>\n",
       "      <td>0.239413</td>\n",
       "      <td>...</td>\n",
       "      <td>0.038575</td>\n",
       "      <td>0.139030</td>\n",
       "      <td>0.016976</td>\n",
       "      <td>0.269071</td>\n",
       "      <td>0.075811</td>\n",
       "      <td>0.044238</td>\n",
       "      <td>5.191515</td>\n",
       "      <td>52.172789</td>\n",
       "      <td>283.289285</td>\n",
       "      <td>0.394045</td>\n",
       "    </tr>\n",
       "    <tr>\n",
       "      <th>std</th>\n",
       "      <td>0.305358</td>\n",
       "      <td>1.290575</td>\n",
       "      <td>0.504143</td>\n",
       "      <td>1.395151</td>\n",
       "      <td>0.672513</td>\n",
       "      <td>0.273824</td>\n",
       "      <td>0.391441</td>\n",
       "      <td>0.401071</td>\n",
       "      <td>0.278616</td>\n",
       "      <td>0.644755</td>\n",
       "      <td>...</td>\n",
       "      <td>0.243471</td>\n",
       "      <td>0.270355</td>\n",
       "      <td>0.109394</td>\n",
       "      <td>0.815672</td>\n",
       "      <td>0.245882</td>\n",
       "      <td>0.429342</td>\n",
       "      <td>31.729449</td>\n",
       "      <td>194.891310</td>\n",
       "      <td>606.347851</td>\n",
       "      <td>0.488698</td>\n",
       "    </tr>\n",
       "    <tr>\n",
       "      <th>min</th>\n",
       "      <td>0.000000</td>\n",
       "      <td>0.000000</td>\n",
       "      <td>0.000000</td>\n",
       "      <td>0.000000</td>\n",
       "      <td>0.000000</td>\n",
       "      <td>0.000000</td>\n",
       "      <td>0.000000</td>\n",
       "      <td>0.000000</td>\n",
       "      <td>0.000000</td>\n",
       "      <td>0.000000</td>\n",
       "      <td>...</td>\n",
       "      <td>0.000000</td>\n",
       "      <td>0.000000</td>\n",
       "      <td>0.000000</td>\n",
       "      <td>0.000000</td>\n",
       "      <td>0.000000</td>\n",
       "      <td>0.000000</td>\n",
       "      <td>1.000000</td>\n",
       "      <td>1.000000</td>\n",
       "      <td>1.000000</td>\n",
       "      <td>0.000000</td>\n",
       "    </tr>\n",
       "    <tr>\n",
       "      <th>25%</th>\n",
       "      <td>0.000000</td>\n",
       "      <td>0.000000</td>\n",
       "      <td>0.000000</td>\n",
       "      <td>0.000000</td>\n",
       "      <td>0.000000</td>\n",
       "      <td>0.000000</td>\n",
       "      <td>0.000000</td>\n",
       "      <td>0.000000</td>\n",
       "      <td>0.000000</td>\n",
       "      <td>0.000000</td>\n",
       "      <td>...</td>\n",
       "      <td>0.000000</td>\n",
       "      <td>0.000000</td>\n",
       "      <td>0.000000</td>\n",
       "      <td>0.000000</td>\n",
       "      <td>0.000000</td>\n",
       "      <td>0.000000</td>\n",
       "      <td>1.588000</td>\n",
       "      <td>6.000000</td>\n",
       "      <td>35.000000</td>\n",
       "      <td>0.000000</td>\n",
       "    </tr>\n",
       "    <tr>\n",
       "      <th>50%</th>\n",
       "      <td>0.000000</td>\n",
       "      <td>0.000000</td>\n",
       "      <td>0.000000</td>\n",
       "      <td>0.000000</td>\n",
       "      <td>0.000000</td>\n",
       "      <td>0.000000</td>\n",
       "      <td>0.000000</td>\n",
       "      <td>0.000000</td>\n",
       "      <td>0.000000</td>\n",
       "      <td>0.000000</td>\n",
       "      <td>...</td>\n",
       "      <td>0.000000</td>\n",
       "      <td>0.065000</td>\n",
       "      <td>0.000000</td>\n",
       "      <td>0.000000</td>\n",
       "      <td>0.000000</td>\n",
       "      <td>0.000000</td>\n",
       "      <td>2.276000</td>\n",
       "      <td>15.000000</td>\n",
       "      <td>95.000000</td>\n",
       "      <td>0.000000</td>\n",
       "    </tr>\n",
       "    <tr>\n",
       "      <th>75%</th>\n",
       "      <td>0.000000</td>\n",
       "      <td>0.000000</td>\n",
       "      <td>0.420000</td>\n",
       "      <td>0.000000</td>\n",
       "      <td>0.380000</td>\n",
       "      <td>0.000000</td>\n",
       "      <td>0.000000</td>\n",
       "      <td>0.000000</td>\n",
       "      <td>0.000000</td>\n",
       "      <td>0.160000</td>\n",
       "      <td>...</td>\n",
       "      <td>0.000000</td>\n",
       "      <td>0.188000</td>\n",
       "      <td>0.000000</td>\n",
       "      <td>0.315000</td>\n",
       "      <td>0.052000</td>\n",
       "      <td>0.000000</td>\n",
       "      <td>3.706000</td>\n",
       "      <td>43.000000</td>\n",
       "      <td>266.000000</td>\n",
       "      <td>1.000000</td>\n",
       "    </tr>\n",
       "    <tr>\n",
       "      <th>max</th>\n",
       "      <td>4.540000</td>\n",
       "      <td>14.280000</td>\n",
       "      <td>5.100000</td>\n",
       "      <td>42.810000</td>\n",
       "      <td>10.000000</td>\n",
       "      <td>5.880000</td>\n",
       "      <td>7.270000</td>\n",
       "      <td>11.110000</td>\n",
       "      <td>5.260000</td>\n",
       "      <td>18.180000</td>\n",
       "      <td>...</td>\n",
       "      <td>4.385000</td>\n",
       "      <td>9.752000</td>\n",
       "      <td>4.081000</td>\n",
       "      <td>32.478000</td>\n",
       "      <td>6.003000</td>\n",
       "      <td>19.829000</td>\n",
       "      <td>1102.500000</td>\n",
       "      <td>9989.000000</td>\n",
       "      <td>15841.000000</td>\n",
       "      <td>1.000000</td>\n",
       "    </tr>\n",
       "  </tbody>\n",
       "</table>\n",
       "<p>8 rows × 58 columns</p>\n",
       "</div>"
      ],
      "text/plain": [
       "       word_freq_make:  word_freq_address:  word_freq_all:  word_freq_3d:  \\\n",
       "count      4601.000000         4601.000000     4601.000000    4601.000000   \n",
       "mean          0.104553            0.213015        0.280656       0.065425   \n",
       "std           0.305358            1.290575        0.504143       1.395151   \n",
       "min           0.000000            0.000000        0.000000       0.000000   \n",
       "25%           0.000000            0.000000        0.000000       0.000000   \n",
       "50%           0.000000            0.000000        0.000000       0.000000   \n",
       "75%           0.000000            0.000000        0.420000       0.000000   \n",
       "max           4.540000           14.280000        5.100000      42.810000   \n",
       "\n",
       "       word_freq_our:  word_freq_over:  word_freq_remove:  \\\n",
       "count     4601.000000      4601.000000        4601.000000   \n",
       "mean         0.312223         0.095901           0.114208   \n",
       "std          0.672513         0.273824           0.391441   \n",
       "min          0.000000         0.000000           0.000000   \n",
       "25%          0.000000         0.000000           0.000000   \n",
       "50%          0.000000         0.000000           0.000000   \n",
       "75%          0.380000         0.000000           0.000000   \n",
       "max         10.000000         5.880000           7.270000   \n",
       "\n",
       "       word_freq_internet:  word_freq_order:  word_freq_mail:  ...  \\\n",
       "count          4601.000000       4601.000000      4601.000000  ...   \n",
       "mean              0.105295          0.090067         0.239413  ...   \n",
       "std               0.401071          0.278616         0.644755  ...   \n",
       "min               0.000000          0.000000         0.000000  ...   \n",
       "25%               0.000000          0.000000         0.000000  ...   \n",
       "50%               0.000000          0.000000         0.000000  ...   \n",
       "75%               0.000000          0.000000         0.160000  ...   \n",
       "max              11.110000          5.260000        18.180000  ...   \n",
       "\n",
       "       char_freq_;:  char_freq_(:  char_freq_[:  char_freq_!:  char_freq_$:  \\\n",
       "count   4601.000000   4601.000000   4601.000000   4601.000000   4601.000000   \n",
       "mean       0.038575      0.139030      0.016976      0.269071      0.075811   \n",
       "std        0.243471      0.270355      0.109394      0.815672      0.245882   \n",
       "min        0.000000      0.000000      0.000000      0.000000      0.000000   \n",
       "25%        0.000000      0.000000      0.000000      0.000000      0.000000   \n",
       "50%        0.000000      0.065000      0.000000      0.000000      0.000000   \n",
       "75%        0.000000      0.188000      0.000000      0.315000      0.052000   \n",
       "max        4.385000      9.752000      4.081000     32.478000      6.003000   \n",
       "\n",
       "       char_freq_#:  capital_run_length_average:  capital_run_length_longest:  \\\n",
       "count   4601.000000                  4601.000000                  4601.000000   \n",
       "mean       0.044238                     5.191515                    52.172789   \n",
       "std        0.429342                    31.729449                   194.891310   \n",
       "min        0.000000                     1.000000                     1.000000   \n",
       "25%        0.000000                     1.588000                     6.000000   \n",
       "50%        0.000000                     2.276000                    15.000000   \n",
       "75%        0.000000                     3.706000                    43.000000   \n",
       "max       19.829000                  1102.500000                  9989.000000   \n",
       "\n",
       "       capital_run_length_total:         spam  \n",
       "count                4601.000000  4601.000000  \n",
       "mean                  283.289285     0.394045  \n",
       "std                   606.347851     0.488698  \n",
       "min                     1.000000     0.000000  \n",
       "25%                    35.000000     0.000000  \n",
       "50%                    95.000000     0.000000  \n",
       "75%                   266.000000     1.000000  \n",
       "max                 15841.000000     1.000000  \n",
       "\n",
       "[8 rows x 58 columns]"
      ]
     },
     "execution_count": 11,
     "metadata": {},
     "output_type": "execute_result"
    }
   ],
   "source": [
    "spam_data.describe()"
   ]
  },
  {
   "cell_type": "code",
   "execution_count": 12,
   "id": "c6f5bf16",
   "metadata": {},
   "outputs": [
    {
     "data": {
      "text/plain": [
       "0    2788\n",
       "1    1813\n",
       "Name: spam, dtype: int64"
      ]
     },
     "execution_count": 12,
     "metadata": {},
     "output_type": "execute_result"
    }
   ],
   "source": [
    "spam_data['spam'].value_counts()"
   ]
  },
  {
   "cell_type": "markdown",
   "id": "154caa6f",
   "metadata": {},
   "source": [
    "This dataset contains just under 40% spam, so the classes are not perfectly balanced.  \n",
    "\n",
    "The capital letter features are on a different scale from the others, so will need to be normalized for certain ML models."
   ]
  },
  {
   "cell_type": "markdown",
   "id": "4bbe19af",
   "metadata": {},
   "source": [
    "##### Building the classifiers\n",
    "\n",
    "We're going to squeeze what we can out of a few sci-kit learn classification models. To start, we'll split our target, y, from our features, X."
   ]
  },
  {
   "cell_type": "code",
   "execution_count": 13,
   "id": "083b17ac",
   "metadata": {},
   "outputs": [],
   "source": [
    "y = spam_data.iloc[:,57]\n",
    "X = spam_data.iloc[:,:57]"
   ]
  },
  {
   "cell_type": "markdown",
   "id": "ab6f80e0",
   "metadata": {},
   "source": [
    "Here are the features for the first email:"
   ]
  },
  {
   "cell_type": "code",
   "execution_count": 290,
   "id": "59de75c3",
   "metadata": {},
   "outputs": [
    {
     "name": "stdout",
     "output_type": "stream",
     "text": [
      "word_freq_make:                  0.000\n",
      "word_freq_address:               0.640\n",
      "word_freq_all:                   0.640\n",
      "word_freq_3d:                    0.000\n",
      "word_freq_our:                   0.320\n",
      "word_freq_over:                  0.000\n",
      "word_freq_remove:                0.000\n",
      "word_freq_internet:              0.000\n",
      "word_freq_order:                 0.000\n",
      "word_freq_mail:                  0.000\n",
      "word_freq_receive:               0.000\n",
      "word_freq_will:                  0.640\n",
      "word_freq_people:                0.000\n",
      "word_freq_report:                0.000\n",
      "word_freq_addresses:             0.000\n",
      "word_freq_free:                  0.320\n",
      "word_freq_business:              0.000\n",
      "word_freq_email:                 1.290\n",
      "word_freq_you:                   1.930\n",
      "word_freq_credit:                0.000\n",
      "word_freq_your:                  0.960\n",
      "word_freq_font:                  0.000\n",
      "word_freq_000:                   0.000\n",
      "word_freq_money:                 0.000\n",
      "word_freq_hp:                    0.000\n",
      "word_freq_hpl:                   0.000\n",
      "word_freq_george:                0.000\n",
      "word_freq_650:                   0.000\n",
      "word_freq_lab:                   0.000\n",
      "word_freq_labs:                  0.000\n",
      "word_freq_telnet:                0.000\n",
      "word_freq_857:                   0.000\n",
      "word_freq_data:                  0.000\n",
      "word_freq_415:                   0.000\n",
      "word_freq_85:                    0.000\n",
      "word_freq_technology:            0.000\n",
      "word_freq_1999:                  0.000\n",
      "word_freq_parts:                 0.000\n",
      "word_freq_pm:                    0.000\n",
      "word_freq_direct:                0.000\n",
      "word_freq_cs:                    0.000\n",
      "word_freq_meeting:               0.000\n",
      "word_freq_original:              0.000\n",
      "word_freq_project:               0.000\n",
      "word_freq_re:                    0.000\n",
      "word_freq_edu:                   0.000\n",
      "word_freq_table:                 0.000\n",
      "word_freq_conference:            0.000\n",
      "char_freq_;:                     0.000\n",
      "char_freq_(:                     0.000\n",
      "char_freq_[:                     0.000\n",
      "char_freq_!:                     0.778\n",
      "char_freq_$:                     0.000\n",
      "char_freq_#:                     0.000\n",
      "capital_run_length_average:      3.756\n",
      "capital_run_length_longest:     61.000\n",
      "capital_run_length_total:      278.000\n",
      "Name: 0, dtype: float64\n",
      "\n",
      "email is spam: 1\n"
     ]
    }
   ],
   "source": [
    "print(X.iloc[0,:])\n",
    "print()\n",
    "print(f\"email is spam: {y[0]}\")"
   ]
  },
  {
   "cell_type": "markdown",
   "id": "e9650eef",
   "metadata": {},
   "source": [
    "There are frequency counts (how many times does this string appear in the email, for every 100 strings in the email) for 48 chosen strings, as well as 6 chosen characters.  There are also 3 different measures of capital letters.  Aside from trying to create our own non-linear combinations of the provided features, our feature engineering capabilities are handcuffed in this project, since we don't have the emails from which these features were chosen.  As such, we'll focus our efforts on leveraging sklearn's ML tools and best practices."
   ]
  },
  {
   "cell_type": "markdown",
   "id": "df092ddc",
   "metadata": {},
   "source": [
    "We'll split into test and train sets using sklearn's built-in splitting function. We'll set aside 10% of the samples as a holdout for testing."
   ]
  },
  {
   "cell_type": "code",
   "execution_count": 162,
   "id": "83c37729",
   "metadata": {},
   "outputs": [],
   "source": [
    "X_train, X_test, y_train, y_test = \\\n",
    "    train_test_split(X, y, test_size=.1, random_state=1234)"
   ]
  },
  {
   "cell_type": "code",
   "execution_count": 163,
   "id": "1a790b91",
   "metadata": {},
   "outputs": [
    {
     "name": "stdout",
     "output_type": "stream",
     "text": [
      "Resulting lengths of \n",
      "X_train, y_train, X_test, and y_test:\n",
      "[4140, 4140, 461, 461]\n"
     ]
    }
   ],
   "source": [
    "print('Resulting lengths of ')\n",
    "print('X_train, y_train, X_test, and y_test:')\n",
    "print(list(map(len, (X_train, y_train, X_test, y_test))))"
   ]
  },
  {
   "cell_type": "markdown",
   "id": "80b19094",
   "metadata": {},
   "source": [
    "The capital letter features are of a different magnitude than the others, so we should scale them to similar.  It might make sense to use sklearn's MinMaxScaler, which maps an array of numbers to the range between 0 and 1, based on the minimum and maximum values in the array."
   ]
  },
  {
   "cell_type": "code",
   "execution_count": 164,
   "id": "94fd1a7c",
   "metadata": {},
   "outputs": [],
   "source": [
    "# For example\n",
    "scaler = MinMaxScaler()\n",
    "scaler.fit(X_train)  \n",
    "X_scale_train = scaler.transform(X_train)\n",
    "X_scale_test = scaler.transform(X_test)"
   ]
  },
  {
   "cell_type": "code",
   "execution_count": 165,
   "id": "fefc5f31",
   "metadata": {},
   "outputs": [
    {
     "name": "stdout",
     "output_type": "stream",
     "text": [
      "Features now range from 0.0 to 1.0\n"
     ]
    }
   ],
   "source": [
    "print(f'Features now range from {np.min(X_scale_train)} to {np.max(X_scale_train)}')"
   ]
  },
  {
   "cell_type": "markdown",
   "id": "f787821f",
   "metadata": {},
   "source": [
    "But in order to use k-fold cross-validation during the training of a model, it's better to fit the scaler to each training split and then transform the held-out fold with that current iteration of the scaler, thus avoiding data leakage within the process.  Rather than implementing it from scratch, we'll use a sklearn Pipeline object."
   ]
  },
  {
   "cell_type": "code",
   "execution_count": 166,
   "id": "76e57346",
   "metadata": {},
   "outputs": [],
   "source": [
    "pipe = Pipeline([('scaler', MinMaxScaler), ('model', LogisticRegression(random_state=1234, max_iter=500))])\n",
    "cv = RepeatedStratifiedKFold(n_splits=10, n_repeats=3, random_state=1234)\n",
    "scores = cross_validate(pipeline, X_train, y_train, scoring=('accuracy', 'precision'),\n",
    "                        cv=cv, return_train_score=True, n_jobs=-1)"
   ]
  },
  {
   "cell_type": "markdown",
   "id": "fefeb4ec",
   "metadata": {},
   "source": [
    "We began with Logistic Regression here because it's well suited to the type of features that were given, and allows us to get a good idea of which of those features are generally important or not.  We chose accuracy and precision as scoring metrics because of the nature of the classification task, spam filtering.  Besides just finding the most accurate filter in terms of correctly classifying emails, we want a filter with a high precision score, assuming we'd rather see a few spam emails in our inbox than to find a few important emails in the spam folder."
   ]
  },
  {
   "cell_type": "code",
   "execution_count": 167,
   "id": "71d700b8",
   "metadata": {},
   "outputs": [
    {
     "name": "stdout",
     "output_type": "stream",
     "text": [
      "The mean accuracy during training 10 splits 3 different times was 0.9291\n",
      "The standard deviation of those 30 scores was 0.0031\n",
      "\n",
      "The mean scores for the 30 held out validation folds was 0.9233\n",
      "Their st.dev. was 0.0093\n"
     ]
    }
   ],
   "source": [
    "print(f\"The mean accuracy during training 10 splits 3 different times was {round(np.mean(scores['train_accuracy']),4)}\")\n",
    "print(f\"The standard deviation of those 30 scores was {round(np.std(scores['train_accuracy']),4)}\")\n",
    "print()\n",
    "print(f\"The mean scores for the 30 held out validation folds was {round(np.mean(scores['test_accuracy']),4)}\")\n",
    "print(f\"Their st.dev. was {round(np.std(scores['test_accuracy']),4)}\")"
   ]
  },
  {
   "cell_type": "markdown",
   "id": "cb1d99ec",
   "metadata": {},
   "source": [
    "**The validation accuracies are just a half percent worse than the training ones, so there's not much evidence of overfitting.  The std devs are in line as well, with the 90-10 split provided by the 10 folds giving the smaller (validation) folds \\$\\sqrt{9}\\$ = 3 times higher stdev.**"
   ]
  },
  {
   "cell_type": "markdown",
   "id": "7acb3dd0",
   "metadata": {},
   "source": [
    "Let's see what the precisions were."
   ]
  },
  {
   "cell_type": "code",
   "execution_count": 168,
   "id": "470ef3a9",
   "metadata": {},
   "outputs": [
    {
     "name": "stdout",
     "output_type": "stream",
     "text": [
      "The mean test precision was 0.9171\n"
     ]
    }
   ],
   "source": [
    "print(f\"The mean test precision was {round(np.mean(scores['test_precision']),4)}\")"
   ]
  },
  {
   "cell_type": "markdown",
   "id": "e396464d",
   "metadata": {},
   "source": [
    "Since we used `RepeatedStratifiedKFold` for cross-validation, there should be about 40% spam in each fold, and since the model was about 93% accurate, it was probably predicting `spam` about 40% of the time.  With the precision score around 92%, this means we could expect around 8% False Positives on 40% spam predictions, or around 3% False Positives overall, where a non-spam email got sent to the spam box by mistake.  This may or may not be considered acceptable to a user of the filter, but we'll hope to do better with other models."
   ]
  },
  {
   "cell_type": "markdown",
   "id": "7edfd98d",
   "metadata": {},
   "source": [
    "We might at this point choose to try out different regularization penalties (lasso and ridge regression) or to prune some of the 57 features we were given, but since there's little evidence of overfitting, we'll just retrain a logistic regression model on the entire training set and verify that it gets something like 92.5% accuracy with 3% false positives on the unseen 10% of the data we split off for testing."
   ]
  },
  {
   "cell_type": "code",
   "execution_count": 169,
   "id": "c4872b8b",
   "metadata": {},
   "outputs": [
    {
     "name": "stdout",
     "output_type": "stream",
     "text": [
      "Test accuracy is 0.9002\n",
      "False positive rate is 0.024\n"
     ]
    }
   ],
   "source": [
    "# Use the scaled data from before\n",
    "linear_reg = LogisticRegression(max_iter=300).fit(X_scale_train, y_train)\n",
    "lin_pred = linear_reg.predict(X_scale_test)\n",
    "lin_score = accuracy_score(y_test, lin_pred)\n",
    "print(f\"Test accuracy is {round(lin_score,4)}\")\n",
    "print(f\"False positive rate is {round(sum(lin_pred - y_test == 1) / len(y_test), 3)}\")"
   ]
  },
  {
   "cell_type": "code",
   "execution_count": 170,
   "id": "de6ca659",
   "metadata": {},
   "outputs": [
    {
     "name": "stdout",
     "output_type": "stream",
     "text": [
      "Test precision is 0.9308\n"
     ]
    }
   ],
   "source": [
    "print(f\"Test precision is {round(np.dot(y_test, lin_pred) / sum(lin_pred),4)}\")"
   ]
  },
  {
   "cell_type": "markdown",
   "id": "e781d8c6",
   "metadata": {},
   "source": [
    "The test precision is better than expected there but the test accuracy is lower than expected, so it's actually a good example of why you can't just base your model choice on what happens to fit the one held out test set best.  What was the worst k-fold test split out of the 30, for reference?"
   ]
  },
  {
   "cell_type": "code",
   "execution_count": 171,
   "id": "efea63a2",
   "metadata": {},
   "outputs": [
    {
     "name": "stdout",
     "output_type": "stream",
     "text": [
      "Worst cross-val accuracy out of 30 splits was 0.9058\n"
     ]
    }
   ],
   "source": [
    "print(f\"Worst cross-val accuracy out of 30 splits was {round(min(scores['test_accuracy']),4)}\")\n",
    "print('The 90.02% accuracy on the held out test emails happened to be slightly worse than all 30 of those.')"
   ]
  },
  {
   "cell_type": "markdown",
   "id": "97da403c",
   "metadata": {},
   "source": [
    "**What were the 20 most important features?**"
   ]
  },
  {
   "cell_type": "code",
   "execution_count": 161,
   "id": "e46e7f01",
   "metadata": {},
   "outputs": [
    {
     "data": {
      "text/plain": [
       "[(6.634530839653129, 'word_freq_remove:'),\n",
       " (5.823450986761517, 'word_freq_000:'),\n",
       " (5.776807741527754, 'char_freq_$:'),\n",
       " (-5.735088805785175, 'word_freq_hp:'),\n",
       " (4.884655143987973, 'word_freq_free:'),\n",
       " (-4.648289195446876, 'word_freq_george:'),\n",
       " (4.386386117880408, 'capital_run_length_total:'),\n",
       " (3.5908643143794596, 'char_freq_!:'),\n",
       " (3.587826581327759, 'word_freq_business:'),\n",
       " (-3.545401108782535, 'word_freq_re:'),\n",
       " (3.531513711310692, 'word_freq_our:'),\n",
       " (-3.514266424780131, 'word_freq_meeting:'),\n",
       " (3.414309809347759, 'word_freq_money:'),\n",
       " (-3.2886563525516155, 'word_freq_hpl:'),\n",
       " (3.1815525257315667, 'word_freq_internet:'),\n",
       " (-3.1353679013712146, 'word_freq_edu:'),\n",
       " (2.980444885174455, 'word_freq_your:'),\n",
       " (2.920658083291564, 'word_freq_font:'),\n",
       " (2.8551215924272517, 'word_freq_order:'),\n",
       " (2.4842988281801284, 'word_freq_over:')]"
      ]
     },
     "execution_count": 161,
     "metadata": {},
     "output_type": "execute_result"
    }
   ],
   "source": [
    "sorted(list(zip(linear_reg.coef_[0], X.columns)), key=lambda x: abs(x[0]), reverse=True)[:20]"
   ]
  },
  {
   "cell_type": "markdown",
   "id": "2a04d369",
   "metadata": {},
   "source": [
    "**\"Remove\", \"000\", \"$\", \"free\", and lots of capitals all suggest spam.  \"hp\", \"re\", and \"George\" suggest non-spam.** \n",
    "\n",
    "Replies to real emails, with \"RE:\" in the subject, are a good sign an email is not spam. \n",
    "It's debatable whether the frequency of the word \"George\" should be considered an indication of non-spam.  If you want to train a separate classifier for every person then it makes sense to use their names.  But if you want to train a general purpose model, you wouldn't use names.  Still, this training set gives us no room to engineer other features, since we are just given a list of 57 of them, so perhaps it makes sense to use the name feature."
   ]
  },
  {
   "cell_type": "markdown",
   "id": "e7259a7a",
   "metadata": {},
   "source": [
    "Another topic of interest is how changing the model's threshold for classification changes the accuracy and precision.\n",
    "Can we raise accuracy without letting too many important emails go to the spam folder (by lowering the threshold)?\n",
    "Can we reduce false positives without hurting accuracy too much (by raising the threshold)?"
   ]
  },
  {
   "cell_type": "code",
   "execution_count": 194,
   "id": "8444e3f7",
   "metadata": {},
   "outputs": [],
   "source": [
    "def threshold(thresh, probs, truths):\n",
    "    '''Use your own threshold as first argument, to see how\n",
    "    accuracy and false positive rates change for given (2-D) probability\n",
    "    array and ground truths as 2nd and 3rd arguments.\n",
    "    '''\n",
    "    prob_score = accuracy_score(truths, [p[1] > thresh for p in probs])\n",
    "    print(f\"Threshold set to {thresh}\")\n",
    "    print(f\"Test accuracy is {round(prob_score,4)}\")\n",
    "    print(f\"False positive rate is {round(sum([p[1] > thresh for p in lin_prob] - y_test == 1) / len(y_test), 3)}\")"
   ]
  },
  {
   "cell_type": "code",
   "execution_count": 209,
   "id": "1951d6ff",
   "metadata": {},
   "outputs": [
    {
     "name": "stdout",
     "output_type": "stream",
     "text": [
      "Threshold set to 0.5\n",
      "Test accuracy is 0.9002\n",
      "False positive rate is 0.024\n"
     ]
    }
   ],
   "source": [
    "# default used by sklearn predict functions is 0.5, so this should match above scores\n",
    "lin_prob = linear_reg.predict_proba(X_scale_test)\n",
    "truths = y_test\n",
    "threshold(0.5, lin_prob, truths)"
   ]
  },
  {
   "cell_type": "markdown",
   "id": "95e37756",
   "metadata": {},
   "source": [
    "Raise threshold from sklearn's default 0.5"
   ]
  },
  {
   "cell_type": "code",
   "execution_count": 218,
   "id": "3f3a0984",
   "metadata": {},
   "outputs": [
    {
     "name": "stdout",
     "output_type": "stream",
     "text": [
      "Threshold set to 0.68\n",
      "Test accuracy is 0.8351\n",
      "False positive rate is 0.011\n"
     ]
    }
   ],
   "source": [
    "threshold(0.68, lin_prob, truths)"
   ]
  },
  {
   "cell_type": "markdown",
   "id": "bc024936",
   "metadata": {},
   "source": [
    "**To reduce false positives by a half, we had to lower accuracy from 0.9 to 0.835**"
   ]
  },
  {
   "cell_type": "markdown",
   "id": "b964d47e",
   "metadata": {},
   "source": [
    "Lower threshold from 0.5"
   ]
  },
  {
   "cell_type": "code",
   "execution_count": 219,
   "id": "08f69631",
   "metadata": {},
   "outputs": [
    {
     "name": "stdout",
     "output_type": "stream",
     "text": [
      "Threshold set to 0.43\n",
      "Test accuracy is 0.9132\n",
      "False positive rate is 0.039\n"
     ]
    }
   ],
   "source": [
    "threshold(0.43, lin_prob, truths)"
   ]
  },
  {
   "cell_type": "markdown",
   "id": "1f3978c1",
   "metadata": {},
   "source": [
    "**This direction looks worse:  Our FP rate went from 2.4% to 3.9% and we only improved accuracy from 90% to 91.3%**"
   ]
  },
  {
   "cell_type": "markdown",
   "id": "49074ab7",
   "metadata": {},
   "source": [
    "##### Decision Trees\n",
    "\n",
    "Now we'll try some decision trees to see how they compare.  We won't use a pipeline for the cross-validation scaling here, since decision trees split on the order of the feature values, and the order won't be changed by scaling.  We will, however, use sklearn's `GridSearchCV` to find the best hyperparameters via cross-validation.  For decision trees, these hyperparameters include the depth of the tree and the minimum number of nodes needed in a leaf in order to split on it (amongst others). Both of those parameters are used to control the tradeoff between underfitting and overfitting."
   ]
  },
  {
   "cell_type": "code",
   "execution_count": 281,
   "id": "1edf0683",
   "metadata": {},
   "outputs": [
    {
     "data": {
      "text/plain": [
       "GridSearchCV(cv=10, estimator=DecisionTreeClassifier(random_state=1234),\n",
       "             param_grid=[{'max_depth': [3, 6, 9, 12],\n",
       "                          'min_samples_split': [2, 3, 4, 5]}],\n",
       "             return_train_score=True, scoring='accuracy')"
      ]
     },
     "execution_count": 281,
     "metadata": {},
     "output_type": "execute_result"
    }
   ],
   "source": [
    "grid_params_for_trees = [{\n",
    "    'max_depth': [3,6,9,12],\n",
    "    'min_samples_split': [2,3,4,5]}]\n",
    "\n",
    "CV_trees = GridSearchCV(estimator = DecisionTreeClassifier(random_state=1234), scoring='accuracy',\n",
    "                               param_grid = grid_params_for_trees,\n",
    "                               cv = 10, return_train_score=True)\n",
    "\n",
    "CV_trees.fit(X_train, y_train)"
   ]
  },
  {
   "cell_type": "code",
   "execution_count": 282,
   "id": "1d8d9244",
   "metadata": {},
   "outputs": [
    {
     "data": {
      "text/html": [
       "<div>\n",
       "<style scoped>\n",
       "    .dataframe tbody tr th:only-of-type {\n",
       "        vertical-align: middle;\n",
       "    }\n",
       "\n",
       "    .dataframe tbody tr th {\n",
       "        vertical-align: top;\n",
       "    }\n",
       "\n",
       "    .dataframe thead th {\n",
       "        text-align: right;\n",
       "    }\n",
       "</style>\n",
       "<table border=\"1\" class=\"dataframe\">\n",
       "  <thead>\n",
       "    <tr style=\"text-align: right;\">\n",
       "      <th></th>\n",
       "      <th>mean_fit_time</th>\n",
       "      <th>std_fit_time</th>\n",
       "      <th>mean_score_time</th>\n",
       "      <th>std_score_time</th>\n",
       "      <th>param_max_depth</th>\n",
       "      <th>param_min_samples_split</th>\n",
       "      <th>params</th>\n",
       "      <th>split0_test_score</th>\n",
       "      <th>split1_test_score</th>\n",
       "      <th>split2_test_score</th>\n",
       "      <th>...</th>\n",
       "      <th>split2_train_score</th>\n",
       "      <th>split3_train_score</th>\n",
       "      <th>split4_train_score</th>\n",
       "      <th>split5_train_score</th>\n",
       "      <th>split6_train_score</th>\n",
       "      <th>split7_train_score</th>\n",
       "      <th>split8_train_score</th>\n",
       "      <th>split9_train_score</th>\n",
       "      <th>mean_train_score</th>\n",
       "      <th>std_train_score</th>\n",
       "    </tr>\n",
       "  </thead>\n",
       "  <tbody>\n",
       "    <tr>\n",
       "      <th>14</th>\n",
       "      <td>0.036160</td>\n",
       "      <td>0.000893</td>\n",
       "      <td>0.001772</td>\n",
       "      <td>0.000054</td>\n",
       "      <td>12</td>\n",
       "      <td>4</td>\n",
       "      <td>{'max_depth': 12, 'min_samples_split': 4}</td>\n",
       "      <td>0.908213</td>\n",
       "      <td>0.915459</td>\n",
       "      <td>0.946860</td>\n",
       "      <td>...</td>\n",
       "      <td>0.977187</td>\n",
       "      <td>0.972356</td>\n",
       "      <td>0.974772</td>\n",
       "      <td>0.972088</td>\n",
       "      <td>0.975040</td>\n",
       "      <td>0.968867</td>\n",
       "      <td>0.973162</td>\n",
       "      <td>0.971820</td>\n",
       "      <td>0.973349</td>\n",
       "      <td>0.002239</td>\n",
       "    </tr>\n",
       "    <tr>\n",
       "      <th>10</th>\n",
       "      <td>0.029407</td>\n",
       "      <td>0.000280</td>\n",
       "      <td>0.001753</td>\n",
       "      <td>0.000056</td>\n",
       "      <td>9</td>\n",
       "      <td>4</td>\n",
       "      <td>{'max_depth': 9, 'min_samples_split': 4}</td>\n",
       "      <td>0.905797</td>\n",
       "      <td>0.910628</td>\n",
       "      <td>0.934783</td>\n",
       "      <td>...</td>\n",
       "      <td>0.961621</td>\n",
       "      <td>0.957327</td>\n",
       "      <td>0.962158</td>\n",
       "      <td>0.958132</td>\n",
       "      <td>0.957059</td>\n",
       "      <td>0.954643</td>\n",
       "      <td>0.961084</td>\n",
       "      <td>0.958937</td>\n",
       "      <td>0.959071</td>\n",
       "      <td>0.002310</td>\n",
       "    </tr>\n",
       "    <tr>\n",
       "      <th>15</th>\n",
       "      <td>0.036339</td>\n",
       "      <td>0.000815</td>\n",
       "      <td>0.001750</td>\n",
       "      <td>0.000029</td>\n",
       "      <td>12</td>\n",
       "      <td>5</td>\n",
       "      <td>{'max_depth': 12, 'min_samples_split': 5}</td>\n",
       "      <td>0.903382</td>\n",
       "      <td>0.903382</td>\n",
       "      <td>0.932367</td>\n",
       "      <td>...</td>\n",
       "      <td>0.975309</td>\n",
       "      <td>0.971014</td>\n",
       "      <td>0.973430</td>\n",
       "      <td>0.970209</td>\n",
       "      <td>0.974235</td>\n",
       "      <td>0.967525</td>\n",
       "      <td>0.971820</td>\n",
       "      <td>0.969404</td>\n",
       "      <td>0.971900</td>\n",
       "      <td>0.002389</td>\n",
       "    </tr>\n",
       "    <tr>\n",
       "      <th>12</th>\n",
       "      <td>0.036155</td>\n",
       "      <td>0.000756</td>\n",
       "      <td>0.001773</td>\n",
       "      <td>0.000053</td>\n",
       "      <td>12</td>\n",
       "      <td>2</td>\n",
       "      <td>{'max_depth': 12, 'min_samples_split': 2}</td>\n",
       "      <td>0.903382</td>\n",
       "      <td>0.908213</td>\n",
       "      <td>0.946860</td>\n",
       "      <td>...</td>\n",
       "      <td>0.977456</td>\n",
       "      <td>0.974503</td>\n",
       "      <td>0.976382</td>\n",
       "      <td>0.973430</td>\n",
       "      <td>0.976919</td>\n",
       "      <td>0.970478</td>\n",
       "      <td>0.973698</td>\n",
       "      <td>0.974235</td>\n",
       "      <td>0.974960</td>\n",
       "      <td>0.002197</td>\n",
       "    </tr>\n",
       "    <tr>\n",
       "      <th>13</th>\n",
       "      <td>0.036240</td>\n",
       "      <td>0.001076</td>\n",
       "      <td>0.001752</td>\n",
       "      <td>0.000053</td>\n",
       "      <td>12</td>\n",
       "      <td>3</td>\n",
       "      <td>{'max_depth': 12, 'min_samples_split': 3}</td>\n",
       "      <td>0.896135</td>\n",
       "      <td>0.908213</td>\n",
       "      <td>0.942029</td>\n",
       "      <td>...</td>\n",
       "      <td>0.977456</td>\n",
       "      <td>0.973698</td>\n",
       "      <td>0.975309</td>\n",
       "      <td>0.972893</td>\n",
       "      <td>0.976114</td>\n",
       "      <td>0.970478</td>\n",
       "      <td>0.973698</td>\n",
       "      <td>0.973430</td>\n",
       "      <td>0.974450</td>\n",
       "      <td>0.002156</td>\n",
       "    </tr>\n",
       "  </tbody>\n",
       "</table>\n",
       "<p>5 rows × 32 columns</p>\n",
       "</div>"
      ],
      "text/plain": [
       "    mean_fit_time  std_fit_time  mean_score_time  std_score_time  \\\n",
       "14       0.036160      0.000893         0.001772        0.000054   \n",
       "10       0.029407      0.000280         0.001753        0.000056   \n",
       "15       0.036339      0.000815         0.001750        0.000029   \n",
       "12       0.036155      0.000756         0.001773        0.000053   \n",
       "13       0.036240      0.001076         0.001752        0.000053   \n",
       "\n",
       "   param_max_depth param_min_samples_split  \\\n",
       "14              12                       4   \n",
       "10               9                       4   \n",
       "15              12                       5   \n",
       "12              12                       2   \n",
       "13              12                       3   \n",
       "\n",
       "                                       params  split0_test_score  \\\n",
       "14  {'max_depth': 12, 'min_samples_split': 4}           0.908213   \n",
       "10   {'max_depth': 9, 'min_samples_split': 4}           0.905797   \n",
       "15  {'max_depth': 12, 'min_samples_split': 5}           0.903382   \n",
       "12  {'max_depth': 12, 'min_samples_split': 2}           0.903382   \n",
       "13  {'max_depth': 12, 'min_samples_split': 3}           0.896135   \n",
       "\n",
       "    split1_test_score  split2_test_score  ...  split2_train_score  \\\n",
       "14           0.915459           0.946860  ...            0.977187   \n",
       "10           0.910628           0.934783  ...            0.961621   \n",
       "15           0.903382           0.932367  ...            0.975309   \n",
       "12           0.908213           0.946860  ...            0.977456   \n",
       "13           0.908213           0.942029  ...            0.977456   \n",
       "\n",
       "    split3_train_score  split4_train_score  split5_train_score  \\\n",
       "14            0.972356            0.974772            0.972088   \n",
       "10            0.957327            0.962158            0.958132   \n",
       "15            0.971014            0.973430            0.970209   \n",
       "12            0.974503            0.976382            0.973430   \n",
       "13            0.973698            0.975309            0.972893   \n",
       "\n",
       "    split6_train_score  split7_train_score  split8_train_score  \\\n",
       "14            0.975040            0.968867            0.973162   \n",
       "10            0.957059            0.954643            0.961084   \n",
       "15            0.974235            0.967525            0.971820   \n",
       "12            0.976919            0.970478            0.973698   \n",
       "13            0.976114            0.970478            0.973698   \n",
       "\n",
       "    split9_train_score  mean_train_score  std_train_score  \n",
       "14            0.971820          0.973349         0.002239  \n",
       "10            0.958937          0.959071         0.002310  \n",
       "15            0.969404          0.971900         0.002389  \n",
       "12            0.974235          0.974960         0.002197  \n",
       "13            0.973430          0.974450         0.002156  \n",
       "\n",
       "[5 rows x 32 columns]"
      ]
     },
     "execution_count": 282,
     "metadata": {},
     "output_type": "execute_result"
    }
   ],
   "source": [
    "# parameter combos with the highest validation scores\n",
    "best_accuracy = pd.DataFrame(CV_trees.cv_results_).sort_values('mean_test_score', ascending=False)\n",
    "best_accuracy.head()"
   ]
  },
  {
   "cell_type": "code",
   "execution_count": 283,
   "id": "f8e189eb",
   "metadata": {},
   "outputs": [
    {
     "data": {
      "text/html": [
       "<div>\n",
       "<style scoped>\n",
       "    .dataframe tbody tr th:only-of-type {\n",
       "        vertical-align: middle;\n",
       "    }\n",
       "\n",
       "    .dataframe tbody tr th {\n",
       "        vertical-align: top;\n",
       "    }\n",
       "\n",
       "    .dataframe thead th {\n",
       "        text-align: right;\n",
       "    }\n",
       "</style>\n",
       "<table border=\"1\" class=\"dataframe\">\n",
       "  <thead>\n",
       "    <tr style=\"text-align: right;\">\n",
       "      <th></th>\n",
       "      <th>mean_test_score</th>\n",
       "      <th>mean_train_score</th>\n",
       "      <th>param_max_depth</th>\n",
       "      <th>param_min_samples_split</th>\n",
       "    </tr>\n",
       "  </thead>\n",
       "  <tbody>\n",
       "    <tr>\n",
       "      <th>14</th>\n",
       "      <td>0.924879</td>\n",
       "      <td>0.973349</td>\n",
       "      <td>12</td>\n",
       "      <td>4</td>\n",
       "    </tr>\n",
       "    <tr>\n",
       "      <th>10</th>\n",
       "      <td>0.922705</td>\n",
       "      <td>0.959071</td>\n",
       "      <td>9</td>\n",
       "      <td>4</td>\n",
       "    </tr>\n",
       "    <tr>\n",
       "      <th>15</th>\n",
       "      <td>0.921014</td>\n",
       "      <td>0.971900</td>\n",
       "      <td>12</td>\n",
       "      <td>5</td>\n",
       "    </tr>\n",
       "    <tr>\n",
       "      <th>12</th>\n",
       "      <td>0.921014</td>\n",
       "      <td>0.974960</td>\n",
       "      <td>12</td>\n",
       "      <td>2</td>\n",
       "    </tr>\n",
       "    <tr>\n",
       "      <th>13</th>\n",
       "      <td>0.921014</td>\n",
       "      <td>0.974450</td>\n",
       "      <td>12</td>\n",
       "      <td>3</td>\n",
       "    </tr>\n",
       "  </tbody>\n",
       "</table>\n",
       "</div>"
      ],
      "text/plain": [
       "    mean_test_score  mean_train_score param_max_depth param_min_samples_split\n",
       "14         0.924879          0.973349              12                       4\n",
       "10         0.922705          0.959071               9                       4\n",
       "15         0.921014          0.971900              12                       5\n",
       "12         0.921014          0.974960              12                       2\n",
       "13         0.921014          0.974450              12                       3"
      ]
     },
     "execution_count": 283,
     "metadata": {},
     "output_type": "execute_result"
    }
   ],
   "source": [
    "best_accuracy[['mean_test_score', 'mean_train_score','param_max_depth','param_min_samples_split']].head()"
   ]
  },
  {
   "cell_type": "markdown",
   "id": "8e3da839",
   "metadata": {},
   "source": [
    "The test scores are very similar to the LogisticRegression model results previously.  There is definitely some overfitting, since the training scores have about half the error rate of the validation folds.  This is because the best models have depths of 9 or even 12, which is deep enough to learn combinations of feature splits that don't generalize well.  On the other hand, the model is counteracting this tendency by using a minimum of 4 samples at a node in order to split on it, in the best models."
   ]
  },
  {
   "cell_type": "markdown",
   "id": "59129393",
   "metadata": {},
   "source": [
    "Let's train a model with the `max_depth=9` and `min_samples_split=4`, since it overfit less.  The results should be similar to what we just saw, but maybe the false positive rate is less than with logistic regression."
   ]
  },
  {
   "cell_type": "code",
   "execution_count": 291,
   "id": "e7f95a52",
   "metadata": {},
   "outputs": [],
   "source": [
    "tree = DecisionTreeClassifier(max_depth=9, min_samples_split=4, random_state=1234).fit(X_train, y_train)\n",
    "tree_probs = tree.predict_proba(X_test)"
   ]
  },
  {
   "cell_type": "code",
   "execution_count": 292,
   "id": "9fbc0ee5",
   "metadata": {},
   "outputs": [
    {
     "name": "stdout",
     "output_type": "stream",
     "text": [
      "Threshold set to 0.5\n",
      "Test accuracy is 0.9349\n",
      "False positive rate is 0.024\n"
     ]
    }
   ],
   "source": [
    "truths = y_test\n",
    "threshold(0.5, tree_probs, truths)"
   ]
  },
  {
   "cell_type": "markdown",
   "id": "57bcf008",
   "metadata": {},
   "source": [
    "It seems like the tree got a little lucky on the 10% of emails we happened to hold out. Most importantly, it seems to have a very similar FP rate as the LogReg did.  We'll just try a couple of thresholds before moving on."
   ]
  },
  {
   "cell_type": "code",
   "execution_count": 296,
   "id": "5f9a8eba",
   "metadata": {},
   "outputs": [
    {
     "name": "stdout",
     "output_type": "stream",
     "text": [
      "Threshold set to 0.9\n",
      "Test accuracy is 0.9306\n",
      "False positive rate is 0.0\n"
     ]
    }
   ],
   "source": [
    "threshold(0.9, tree_probs, truths)"
   ]
  },
  {
   "cell_type": "markdown",
   "id": "44bcea4b",
   "metadata": {},
   "source": [
    "**That's very powerful -- The tree can be used as a filter that sends 7 out of 40 spams to the inbox and not a single important email goes to the spam folder.**"
   ]
  },
  {
   "cell_type": "markdown",
   "id": "102dac7e",
   "metadata": {},
   "source": [
    "Again, this was a slightly \"lucky\" split for the classifier, but the important thing is to confirm that it does almost as well with a different random split:"
   ]
  },
  {
   "cell_type": "code",
   "execution_count": 299,
   "id": "11e2c401",
   "metadata": {},
   "outputs": [],
   "source": [
    "X_tr, X_te, y_tr, y_te = train_test_split(X, y, test_size=.1, random_state=620)\n",
    "tree = DecisionTreeClassifier(max_depth=9, min_samples_split=4, random_state=620).fit(X_tr, y_tr)\n",
    "tree_probs = tree.predict_proba(X_te)"
   ]
  },
  {
   "cell_type": "code",
   "execution_count": 302,
   "id": "1cf68122",
   "metadata": {},
   "outputs": [
    {
     "name": "stdout",
     "output_type": "stream",
     "text": [
      "Threshold set to 0.9\n",
      "Test accuracy is 0.9067\n",
      "False positive rate is 0.0\n"
     ]
    }
   ],
   "source": [
    "threshold(0.9, tree_probs, y_te)"
   ]
  },
  {
   "cell_type": "markdown",
   "id": "6685e0f7",
   "metadata": {},
   "source": [
    "The UCI website that hosts this data says:\n",
    "` False positives (marking good mail as spam) are very undesirable.  If we insist on zero false positives in the training/testing set, 20-25% of the spam passed through the filter.`\n",
    "Our 7-9 (accuracy = 91-93%) out of 40 passing through our tree filter line up with the low end of that estimate, so we expect it will be hard to improve upon the decision tree model optimized with GridSearchCV, but it's worth trying...."
   ]
  },
  {
   "cell_type": "markdown",
   "id": "a8acffef",
   "metadata": {},
   "source": [
    "The tree variants that usually perform best on these tasks are `RandomForestClassifier` and `GradientBoostingClassifier`."
   ]
  },
  {
   "cell_type": "code",
   "execution_count": 306,
   "id": "95e271ca",
   "metadata": {},
   "outputs": [
    {
     "data": {
      "text/plain": [
       "GridSearchCV(cv=10, estimator=RandomForestClassifier(random_state=1234),\n",
       "             param_grid=[{'max_depth': [3, 6, 9, 12],\n",
       "                          'min_samples_split': [2, 3, 4, 5]}],\n",
       "             return_train_score=True, scoring='accuracy')"
      ]
     },
     "execution_count": 306,
     "metadata": {},
     "output_type": "execute_result"
    }
   ],
   "source": [
    "# As with all these GridSearchCV routines, training hundreds of models can take awhile\n",
    "grid_params_for_forest = [{\n",
    "    'max_depth': [3,6,9,12],\n",
    "    'min_samples_split': [2,3,4,5]}]\n",
    "\n",
    "CV_forest = GridSearchCV(estimator = RandomForestClassifier(random_state=1234), scoring='accuracy',\n",
    "                               param_grid = grid_params_for_forest,\n",
    "                               cv = 10, return_train_score=True)\n",
    "\n",
    "CV_forest.fit(X_train, y_train)"
   ]
  },
  {
   "cell_type": "code",
   "execution_count": 307,
   "id": "c7469deb",
   "metadata": {},
   "outputs": [
    {
     "data": {
      "text/html": [
       "<div>\n",
       "<style scoped>\n",
       "    .dataframe tbody tr th:only-of-type {\n",
       "        vertical-align: middle;\n",
       "    }\n",
       "\n",
       "    .dataframe tbody tr th {\n",
       "        vertical-align: top;\n",
       "    }\n",
       "\n",
       "    .dataframe thead th {\n",
       "        text-align: right;\n",
       "    }\n",
       "</style>\n",
       "<table border=\"1\" class=\"dataframe\">\n",
       "  <thead>\n",
       "    <tr style=\"text-align: right;\">\n",
       "      <th></th>\n",
       "      <th>mean_fit_time</th>\n",
       "      <th>std_fit_time</th>\n",
       "      <th>mean_score_time</th>\n",
       "      <th>std_score_time</th>\n",
       "      <th>param_max_depth</th>\n",
       "      <th>param_min_samples_split</th>\n",
       "      <th>params</th>\n",
       "      <th>split0_test_score</th>\n",
       "      <th>split1_test_score</th>\n",
       "      <th>split2_test_score</th>\n",
       "      <th>...</th>\n",
       "      <th>split2_train_score</th>\n",
       "      <th>split3_train_score</th>\n",
       "      <th>split4_train_score</th>\n",
       "      <th>split5_train_score</th>\n",
       "      <th>split6_train_score</th>\n",
       "      <th>split7_train_score</th>\n",
       "      <th>split8_train_score</th>\n",
       "      <th>split9_train_score</th>\n",
       "      <th>mean_train_score</th>\n",
       "      <th>std_train_score</th>\n",
       "    </tr>\n",
       "  </thead>\n",
       "  <tbody>\n",
       "    <tr>\n",
       "      <th>12</th>\n",
       "      <td>0.363359</td>\n",
       "      <td>0.002933</td>\n",
       "      <td>0.013319</td>\n",
       "      <td>0.000466</td>\n",
       "      <td>12</td>\n",
       "      <td>2</td>\n",
       "      <td>{'max_depth': 12, 'min_samples_split': 2}</td>\n",
       "      <td>0.942029</td>\n",
       "      <td>0.929952</td>\n",
       "      <td>0.944444</td>\n",
       "      <td>...</td>\n",
       "      <td>0.979334</td>\n",
       "      <td>0.979603</td>\n",
       "      <td>0.974772</td>\n",
       "      <td>0.979066</td>\n",
       "      <td>0.978529</td>\n",
       "      <td>0.976919</td>\n",
       "      <td>0.979066</td>\n",
       "      <td>0.977992</td>\n",
       "      <td>0.978449</td>\n",
       "      <td>0.001475</td>\n",
       "    </tr>\n",
       "    <tr>\n",
       "      <th>13</th>\n",
       "      <td>0.363393</td>\n",
       "      <td>0.004471</td>\n",
       "      <td>0.013150</td>\n",
       "      <td>0.000218</td>\n",
       "      <td>12</td>\n",
       "      <td>3</td>\n",
       "      <td>{'max_depth': 12, 'min_samples_split': 3}</td>\n",
       "      <td>0.937198</td>\n",
       "      <td>0.934783</td>\n",
       "      <td>0.946860</td>\n",
       "      <td>...</td>\n",
       "      <td>0.977456</td>\n",
       "      <td>0.977724</td>\n",
       "      <td>0.973967</td>\n",
       "      <td>0.974235</td>\n",
       "      <td>0.975845</td>\n",
       "      <td>0.976651</td>\n",
       "      <td>0.976114</td>\n",
       "      <td>0.976114</td>\n",
       "      <td>0.976463</td>\n",
       "      <td>0.001465</td>\n",
       "    </tr>\n",
       "    <tr>\n",
       "      <th>14</th>\n",
       "      <td>0.363311</td>\n",
       "      <td>0.003128</td>\n",
       "      <td>0.013202</td>\n",
       "      <td>0.000212</td>\n",
       "      <td>12</td>\n",
       "      <td>4</td>\n",
       "      <td>{'max_depth': 12, 'min_samples_split': 4}</td>\n",
       "      <td>0.932367</td>\n",
       "      <td>0.927536</td>\n",
       "      <td>0.946860</td>\n",
       "      <td>...</td>\n",
       "      <td>0.974503</td>\n",
       "      <td>0.976114</td>\n",
       "      <td>0.973967</td>\n",
       "      <td>0.972088</td>\n",
       "      <td>0.974772</td>\n",
       "      <td>0.973430</td>\n",
       "      <td>0.973967</td>\n",
       "      <td>0.973698</td>\n",
       "      <td>0.974530</td>\n",
       "      <td>0.001360</td>\n",
       "    </tr>\n",
       "    <tr>\n",
       "      <th>15</th>\n",
       "      <td>0.359892</td>\n",
       "      <td>0.002260</td>\n",
       "      <td>0.013197</td>\n",
       "      <td>0.000248</td>\n",
       "      <td>12</td>\n",
       "      <td>5</td>\n",
       "      <td>{'max_depth': 12, 'min_samples_split': 5}</td>\n",
       "      <td>0.934783</td>\n",
       "      <td>0.929952</td>\n",
       "      <td>0.946860</td>\n",
       "      <td>...</td>\n",
       "      <td>0.972356</td>\n",
       "      <td>0.973967</td>\n",
       "      <td>0.973162</td>\n",
       "      <td>0.971283</td>\n",
       "      <td>0.973967</td>\n",
       "      <td>0.972625</td>\n",
       "      <td>0.975309</td>\n",
       "      <td>0.974235</td>\n",
       "      <td>0.973618</td>\n",
       "      <td>0.001176</td>\n",
       "    </tr>\n",
       "    <tr>\n",
       "      <th>9</th>\n",
       "      <td>0.332131</td>\n",
       "      <td>0.013465</td>\n",
       "      <td>0.012948</td>\n",
       "      <td>0.000993</td>\n",
       "      <td>9</td>\n",
       "      <td>3</td>\n",
       "      <td>{'max_depth': 9, 'min_samples_split': 3}</td>\n",
       "      <td>0.939614</td>\n",
       "      <td>0.929952</td>\n",
       "      <td>0.939614</td>\n",
       "      <td>...</td>\n",
       "      <td>0.962158</td>\n",
       "      <td>0.960011</td>\n",
       "      <td>0.960548</td>\n",
       "      <td>0.960816</td>\n",
       "      <td>0.960816</td>\n",
       "      <td>0.961353</td>\n",
       "      <td>0.962426</td>\n",
       "      <td>0.960548</td>\n",
       "      <td>0.961541</td>\n",
       "      <td>0.001188</td>\n",
       "    </tr>\n",
       "  </tbody>\n",
       "</table>\n",
       "<p>5 rows × 32 columns</p>\n",
       "</div>"
      ],
      "text/plain": [
       "    mean_fit_time  std_fit_time  mean_score_time  std_score_time  \\\n",
       "12       0.363359      0.002933         0.013319        0.000466   \n",
       "13       0.363393      0.004471         0.013150        0.000218   \n",
       "14       0.363311      0.003128         0.013202        0.000212   \n",
       "15       0.359892      0.002260         0.013197        0.000248   \n",
       "9        0.332131      0.013465         0.012948        0.000993   \n",
       "\n",
       "   param_max_depth param_min_samples_split  \\\n",
       "12              12                       2   \n",
       "13              12                       3   \n",
       "14              12                       4   \n",
       "15              12                       5   \n",
       "9                9                       3   \n",
       "\n",
       "                                       params  split0_test_score  \\\n",
       "12  {'max_depth': 12, 'min_samples_split': 2}           0.942029   \n",
       "13  {'max_depth': 12, 'min_samples_split': 3}           0.937198   \n",
       "14  {'max_depth': 12, 'min_samples_split': 4}           0.932367   \n",
       "15  {'max_depth': 12, 'min_samples_split': 5}           0.934783   \n",
       "9    {'max_depth': 9, 'min_samples_split': 3}           0.939614   \n",
       "\n",
       "    split1_test_score  split2_test_score  ...  split2_train_score  \\\n",
       "12           0.929952           0.944444  ...            0.979334   \n",
       "13           0.934783           0.946860  ...            0.977456   \n",
       "14           0.927536           0.946860  ...            0.974503   \n",
       "15           0.929952           0.946860  ...            0.972356   \n",
       "9            0.929952           0.939614  ...            0.962158   \n",
       "\n",
       "    split3_train_score  split4_train_score  split5_train_score  \\\n",
       "12            0.979603            0.974772            0.979066   \n",
       "13            0.977724            0.973967            0.974235   \n",
       "14            0.976114            0.973967            0.972088   \n",
       "15            0.973967            0.973162            0.971283   \n",
       "9             0.960011            0.960548            0.960816   \n",
       "\n",
       "    split6_train_score  split7_train_score  split8_train_score  \\\n",
       "12            0.978529            0.976919            0.979066   \n",
       "13            0.975845            0.976651            0.976114   \n",
       "14            0.974772            0.973430            0.973967   \n",
       "15            0.973967            0.972625            0.975309   \n",
       "9             0.960816            0.961353            0.962426   \n",
       "\n",
       "    split9_train_score  mean_train_score  std_train_score  \n",
       "12            0.977992          0.978449         0.001475  \n",
       "13            0.976114          0.976463         0.001465  \n",
       "14            0.973698          0.974530         0.001360  \n",
       "15            0.974235          0.973618         0.001176  \n",
       "9             0.960548          0.961541         0.001188  \n",
       "\n",
       "[5 rows x 32 columns]"
      ]
     },
     "execution_count": 307,
     "metadata": {},
     "output_type": "execute_result"
    }
   ],
   "source": [
    "# parameter combos with the highest validation scores\n",
    "best_accuracy = pd.DataFrame(CV_forest.cv_results_).sort_values('mean_test_score', ascending=False)\n",
    "best_accuracy.head()"
   ]
  },
  {
   "cell_type": "code",
   "execution_count": 308,
   "id": "2af6d111",
   "metadata": {},
   "outputs": [
    {
     "data": {
      "text/html": [
       "<div>\n",
       "<style scoped>\n",
       "    .dataframe tbody tr th:only-of-type {\n",
       "        vertical-align: middle;\n",
       "    }\n",
       "\n",
       "    .dataframe tbody tr th {\n",
       "        vertical-align: top;\n",
       "    }\n",
       "\n",
       "    .dataframe thead th {\n",
       "        text-align: right;\n",
       "    }\n",
       "</style>\n",
       "<table border=\"1\" class=\"dataframe\">\n",
       "  <thead>\n",
       "    <tr style=\"text-align: right;\">\n",
       "      <th></th>\n",
       "      <th>mean_test_score</th>\n",
       "      <th>mean_train_score</th>\n",
       "      <th>param_max_depth</th>\n",
       "      <th>param_min_samples_split</th>\n",
       "    </tr>\n",
       "  </thead>\n",
       "  <tbody>\n",
       "    <tr>\n",
       "      <th>12</th>\n",
       "      <td>0.946135</td>\n",
       "      <td>0.978449</td>\n",
       "      <td>12</td>\n",
       "      <td>2</td>\n",
       "    </tr>\n",
       "    <tr>\n",
       "      <th>13</th>\n",
       "      <td>0.944928</td>\n",
       "      <td>0.976463</td>\n",
       "      <td>12</td>\n",
       "      <td>3</td>\n",
       "    </tr>\n",
       "    <tr>\n",
       "      <th>14</th>\n",
       "      <td>0.944203</td>\n",
       "      <td>0.974530</td>\n",
       "      <td>12</td>\n",
       "      <td>4</td>\n",
       "    </tr>\n",
       "    <tr>\n",
       "      <th>15</th>\n",
       "      <td>0.944203</td>\n",
       "      <td>0.973618</td>\n",
       "      <td>12</td>\n",
       "      <td>5</td>\n",
       "    </tr>\n",
       "    <tr>\n",
       "      <th>9</th>\n",
       "      <td>0.940097</td>\n",
       "      <td>0.961541</td>\n",
       "      <td>9</td>\n",
       "      <td>3</td>\n",
       "    </tr>\n",
       "  </tbody>\n",
       "</table>\n",
       "</div>"
      ],
      "text/plain": [
       "    mean_test_score  mean_train_score param_max_depth param_min_samples_split\n",
       "12         0.946135          0.978449              12                       2\n",
       "13         0.944928          0.976463              12                       3\n",
       "14         0.944203          0.974530              12                       4\n",
       "15         0.944203          0.973618              12                       5\n",
       "9          0.940097          0.961541               9                       3"
      ]
     },
     "execution_count": 308,
     "metadata": {},
     "output_type": "execute_result"
    }
   ],
   "source": [
    "best_accuracy[['mean_test_score', 'mean_train_score','param_max_depth','param_min_samples_split']].head()"
   ]
  },
  {
   "cell_type": "markdown",
   "id": "d49bd784",
   "metadata": {},
   "source": [
    "Those are even better scores, but the CV search chose the most overfittable params -- highest depth and smallest split.  Since random forests are somewhat resistant to overfitting, we might try even more extreme numbers."
   ]
  },
  {
   "cell_type": "code",
   "execution_count": 328,
   "id": "8cccb22a",
   "metadata": {},
   "outputs": [
    {
     "data": {
      "text/plain": [
       "GridSearchCV(cv=10,\n",
       "             estimator=RandomForestClassifier(n_estimators=500,\n",
       "                                              random_state=1234),\n",
       "             param_grid=[{'max_depth': [10, 12, 14, 16],\n",
       "                          'min_samples_split': [2, 3]}],\n",
       "             return_train_score=True, scoring='accuracy')"
      ]
     },
     "execution_count": 328,
     "metadata": {},
     "output_type": "execute_result"
    }
   ],
   "source": [
    "grid_params_for_forest = [{\n",
    "    'max_depth': [10,12,14,16],\n",
    "    'min_samples_split': [2,3]}]\n",
    "\n",
    "CV_forest = GridSearchCV(estimator = RandomForestClassifier(n_estimators=500, random_state=1234), scoring='accuracy',\n",
    "                               param_grid = grid_params_for_forest,\n",
    "                               cv = 10, return_train_score=True)\n",
    "\n",
    "CV_forest.fit(X_train, y_train)"
   ]
  },
  {
   "cell_type": "code",
   "execution_count": 329,
   "id": "27ddb31d",
   "metadata": {},
   "outputs": [
    {
     "data": {
      "text/html": [
       "<div>\n",
       "<style scoped>\n",
       "    .dataframe tbody tr th:only-of-type {\n",
       "        vertical-align: middle;\n",
       "    }\n",
       "\n",
       "    .dataframe tbody tr th {\n",
       "        vertical-align: top;\n",
       "    }\n",
       "\n",
       "    .dataframe thead th {\n",
       "        text-align: right;\n",
       "    }\n",
       "</style>\n",
       "<table border=\"1\" class=\"dataframe\">\n",
       "  <thead>\n",
       "    <tr style=\"text-align: right;\">\n",
       "      <th></th>\n",
       "      <th>mean_test_score</th>\n",
       "      <th>mean_train_score</th>\n",
       "      <th>param_max_depth</th>\n",
       "      <th>param_min_samples_split</th>\n",
       "    </tr>\n",
       "  </thead>\n",
       "  <tbody>\n",
       "    <tr>\n",
       "      <th>7</th>\n",
       "      <td>0.950725</td>\n",
       "      <td>0.989962</td>\n",
       "      <td>16</td>\n",
       "      <td>3</td>\n",
       "    </tr>\n",
       "    <tr>\n",
       "      <th>6</th>\n",
       "      <td>0.950725</td>\n",
       "      <td>0.990821</td>\n",
       "      <td>16</td>\n",
       "      <td>2</td>\n",
       "    </tr>\n",
       "    <tr>\n",
       "      <th>4</th>\n",
       "      <td>0.948551</td>\n",
       "      <td>0.987493</td>\n",
       "      <td>14</td>\n",
       "      <td>2</td>\n",
       "    </tr>\n",
       "    <tr>\n",
       "      <th>5</th>\n",
       "      <td>0.948068</td>\n",
       "      <td>0.986098</td>\n",
       "      <td>14</td>\n",
       "      <td>3</td>\n",
       "    </tr>\n",
       "    <tr>\n",
       "      <th>2</th>\n",
       "      <td>0.946135</td>\n",
       "      <td>0.979227</td>\n",
       "      <td>12</td>\n",
       "      <td>2</td>\n",
       "    </tr>\n",
       "  </tbody>\n",
       "</table>\n",
       "</div>"
      ],
      "text/plain": [
       "   mean_test_score  mean_train_score param_max_depth param_min_samples_split\n",
       "7         0.950725          0.989962              16                       3\n",
       "6         0.950725          0.990821              16                       2\n",
       "4         0.948551          0.987493              14                       2\n",
       "5         0.948068          0.986098              14                       3\n",
       "2         0.946135          0.979227              12                       2"
      ]
     },
     "execution_count": 329,
     "metadata": {},
     "output_type": "execute_result"
    }
   ],
   "source": [
    "# parameter combos with the highest validation scores\n",
    "best_accuracy = pd.DataFrame(CV_forest.cv_results_).sort_values('mean_test_score', ascending=False)\n",
    "best_accuracy[['mean_test_score', 'mean_train_score','param_max_depth','param_min_samples_split']].head()"
   ]
  },
  {
   "cell_type": "code",
   "execution_count": 330,
   "id": "9193ed4c",
   "metadata": {},
   "outputs": [
    {
     "name": "stdout",
     "output_type": "stream",
     "text": [
      "Threshold set to 0.5\n",
      "Test accuracy is 0.9566\n",
      "False positive rate is 0.024\n"
     ]
    }
   ],
   "source": [
    "forest = RandomForestClassifier(max_depth=16, min_samples_split=3,\n",
    "                                n_estimators=500, random_state=1234).fit(X_train, y_train)\n",
    "forest_probs = forest.predict_proba(X_test)\n",
    "threshold(0.5, forest_probs, y_test)"
   ]
  },
  {
   "cell_type": "markdown",
   "id": "5e90e26f",
   "metadata": {},
   "source": [
    "Raise the threshold to where no good mail gets filtered"
   ]
  },
  {
   "cell_type": "code",
   "execution_count": 335,
   "id": "6af2dd16",
   "metadata": {},
   "outputs": [
    {
     "name": "stdout",
     "output_type": "stream",
     "text": [
      "Threshold set to 0.9\n",
      "Test accuracy is 0.8568\n",
      "False positive rate is 0.0\n"
     ]
    }
   ],
   "source": [
    "threshold(0.9, forest_probs, y_test)"
   ]
  },
  {
   "cell_type": "markdown",
   "id": "5106bf57",
   "metadata": {},
   "source": [
    "**This random forest model has an accuracy over 95% if you're OK with a 2.4% FPR, but drops to 85.7% if you need 0% FPR**"
   ]
  },
  {
   "cell_type": "markdown",
   "id": "2e95e7de",
   "metadata": {},
   "source": [
    "Let's get a second opinion before moving on to gradient boosting."
   ]
  },
  {
   "cell_type": "code",
   "execution_count": 342,
   "id": "a94e258f",
   "metadata": {},
   "outputs": [
    {
     "name": "stdout",
     "output_type": "stream",
     "text": [
      "Threshold set to 0.9\n",
      "Test accuracy is 0.8503\n",
      "False positive rate is 0.0\n"
     ]
    }
   ],
   "source": [
    "forest = RandomForestClassifier(max_depth=16, min_samples_split=3, random_state=620).fit(X_tr, y_tr)\n",
    "forest_probs = forest.predict_proba(X_te)\n",
    "threshold(0.9, forest_probs, y_te)"
   ]
  },
  {
   "cell_type": "markdown",
   "id": "301f0fd7",
   "metadata": {},
   "source": [
    "Similar results.  Let's try gradient boosted trees."
   ]
  },
  {
   "cell_type": "code",
   "execution_count": 345,
   "id": "1d3ca2a5",
   "metadata": {},
   "outputs": [
    {
     "data": {
      "text/plain": [
       "GridSearchCV(cv=10,\n",
       "             estimator=GradientBoostingClassifier(n_estimators=500,\n",
       "                                                  random_state=1234),\n",
       "             param_grid=[{'learning_rate': [0.005, 0.1, 0.3],\n",
       "                          'max_depth': [6, 9, 12],\n",
       "                          'min_samples_split': [2, 4, 6]}],\n",
       "             return_train_score=True, scoring='accuracy')"
      ]
     },
     "execution_count": 345,
     "metadata": {},
     "output_type": "execute_result"
    }
   ],
   "source": [
    "grid_params_for_boosting = [{\n",
    "    'max_depth': [6,9,12],\n",
    "    'min_samples_split': [2,4,6],\n",
    "    'learning_rate':[.005, .1, .3]}]\n",
    "\n",
    "CV_boost = GridSearchCV(estimator = GradientBoostingClassifier(n_estimators=500, random_state=1234), scoring='accuracy',\n",
    "                               param_grid = grid_params_for_boosting,\n",
    "                               cv = 10, return_train_score=True)\n",
    "# use whole dataset this time, since we'll rebuild a model anyways\n",
    "CV_boost.fit(X, y)"
   ]
  },
  {
   "cell_type": "code",
   "execution_count": 347,
   "id": "864ec54f",
   "metadata": {},
   "outputs": [
    {
     "data": {
      "text/html": [
       "<div>\n",
       "<style scoped>\n",
       "    .dataframe tbody tr th:only-of-type {\n",
       "        vertical-align: middle;\n",
       "    }\n",
       "\n",
       "    .dataframe tbody tr th {\n",
       "        vertical-align: top;\n",
       "    }\n",
       "\n",
       "    .dataframe thead th {\n",
       "        text-align: right;\n",
       "    }\n",
       "</style>\n",
       "<table border=\"1\" class=\"dataframe\">\n",
       "  <thead>\n",
       "    <tr style=\"text-align: right;\">\n",
       "      <th></th>\n",
       "      <th>mean_test_score</th>\n",
       "      <th>mean_train_score</th>\n",
       "      <th>param_max_depth</th>\n",
       "      <th>param_min_samples_split</th>\n",
       "      <th>param_learning_rate</th>\n",
       "    </tr>\n",
       "  </thead>\n",
       "  <tbody>\n",
       "    <tr>\n",
       "      <th>11</th>\n",
       "      <td>0.942837</td>\n",
       "      <td>0.999300</td>\n",
       "      <td>6</td>\n",
       "      <td>6</td>\n",
       "      <td>0.1</td>\n",
       "    </tr>\n",
       "    <tr>\n",
       "      <th>10</th>\n",
       "      <td>0.942621</td>\n",
       "      <td>0.999300</td>\n",
       "      <td>6</td>\n",
       "      <td>4</td>\n",
       "      <td>0.1</td>\n",
       "    </tr>\n",
       "    <tr>\n",
       "      <th>23</th>\n",
       "      <td>0.942405</td>\n",
       "      <td>0.999396</td>\n",
       "      <td>9</td>\n",
       "      <td>6</td>\n",
       "      <td>0.3</td>\n",
       "    </tr>\n",
       "    <tr>\n",
       "      <th>26</th>\n",
       "      <td>0.942404</td>\n",
       "      <td>0.999396</td>\n",
       "      <td>12</td>\n",
       "      <td>6</td>\n",
       "      <td>0.3</td>\n",
       "    </tr>\n",
       "    <tr>\n",
       "      <th>22</th>\n",
       "      <td>0.942187</td>\n",
       "      <td>0.999396</td>\n",
       "      <td>9</td>\n",
       "      <td>4</td>\n",
       "      <td>0.3</td>\n",
       "    </tr>\n",
       "  </tbody>\n",
       "</table>\n",
       "</div>"
      ],
      "text/plain": [
       "    mean_test_score  mean_train_score param_max_depth param_min_samples_split  \\\n",
       "11         0.942837          0.999300               6                       6   \n",
       "10         0.942621          0.999300               6                       4   \n",
       "23         0.942405          0.999396               9                       6   \n",
       "26         0.942404          0.999396              12                       6   \n",
       "22         0.942187          0.999396               9                       4   \n",
       "\n",
       "   param_learning_rate  \n",
       "11                 0.1  \n",
       "10                 0.1  \n",
       "23                 0.3  \n",
       "26                 0.3  \n",
       "22                 0.3  "
      ]
     },
     "execution_count": 347,
     "metadata": {},
     "output_type": "execute_result"
    }
   ],
   "source": [
    "# parameter combos with the highest validation scores\n",
    "best_accuracy = pd.DataFrame(CV_boost.cv_results_).sort_values('mean_test_score', ascending=False)\n",
    "best_accuracy[['mean_test_score', 'mean_train_score','param_max_depth','param_min_samples_split','param_learning_rate']].head()"
   ]
  },
  {
   "cell_type": "markdown",
   "id": "b6c4afc0",
   "metadata": {},
   "source": [
    "That one is overfitting badly, so we should retrain it with shallower trees."
   ]
  },
  {
   "cell_type": "code",
   "execution_count": 348,
   "id": "fbff5a69",
   "metadata": {},
   "outputs": [
    {
     "data": {
      "text/plain": [
       "GridSearchCV(cv=10,\n",
       "             estimator=GradientBoostingClassifier(n_estimators=500,\n",
       "                                                  random_state=1234),\n",
       "             param_grid=[{'learning_rate': [0.1], 'max_depth': [3, 4, 5],\n",
       "                          'min_samples_split': [5]}],\n",
       "             return_train_score=True, scoring='accuracy')"
      ]
     },
     "execution_count": 348,
     "metadata": {},
     "output_type": "execute_result"
    }
   ],
   "source": [
    "grid_params_for_boosting = [{\n",
    "    'max_depth': [3,4,5],\n",
    "    'min_samples_split': [5],\n",
    "    'learning_rate':[.1]}]\n",
    "\n",
    "CV_boost = GridSearchCV(estimator = GradientBoostingClassifier(n_estimators=500, random_state=1234), scoring='accuracy',\n",
    "                               param_grid = grid_params_for_boosting,\n",
    "                               cv = 10, return_train_score=True)\n",
    "# use whole dataset this time, since we'll rebuild a model anyways\n",
    "CV_boost.fit(X, y)"
   ]
  },
  {
   "cell_type": "code",
   "execution_count": 349,
   "id": "e1ce1601",
   "metadata": {},
   "outputs": [
    {
     "data": {
      "text/html": [
       "<div>\n",
       "<style scoped>\n",
       "    .dataframe tbody tr th:only-of-type {\n",
       "        vertical-align: middle;\n",
       "    }\n",
       "\n",
       "    .dataframe tbody tr th {\n",
       "        vertical-align: top;\n",
       "    }\n",
       "\n",
       "    .dataframe thead th {\n",
       "        text-align: right;\n",
       "    }\n",
       "</style>\n",
       "<table border=\"1\" class=\"dataframe\">\n",
       "  <thead>\n",
       "    <tr style=\"text-align: right;\">\n",
       "      <th></th>\n",
       "      <th>mean_test_score</th>\n",
       "      <th>mean_train_score</th>\n",
       "      <th>param_max_depth</th>\n",
       "      <th>param_min_samples_split</th>\n",
       "      <th>param_learning_rate</th>\n",
       "    </tr>\n",
       "  </thead>\n",
       "  <tbody>\n",
       "    <tr>\n",
       "      <th>0</th>\n",
       "      <td>0.941748</td>\n",
       "      <td>0.991475</td>\n",
       "      <td>3</td>\n",
       "      <td>5</td>\n",
       "      <td>0.1</td>\n",
       "    </tr>\n",
       "    <tr>\n",
       "      <th>1</th>\n",
       "      <td>0.940881</td>\n",
       "      <td>0.998068</td>\n",
       "      <td>4</td>\n",
       "      <td>5</td>\n",
       "      <td>0.1</td>\n",
       "    </tr>\n",
       "    <tr>\n",
       "      <th>2</th>\n",
       "      <td>0.939795</td>\n",
       "      <td>0.999179</td>\n",
       "      <td>5</td>\n",
       "      <td>5</td>\n",
       "      <td>0.1</td>\n",
       "    </tr>\n",
       "  </tbody>\n",
       "</table>\n",
       "</div>"
      ],
      "text/plain": [
       "   mean_test_score  mean_train_score param_max_depth param_min_samples_split  \\\n",
       "0         0.941748          0.991475               3                       5   \n",
       "1         0.940881          0.998068               4                       5   \n",
       "2         0.939795          0.999179               5                       5   \n",
       "\n",
       "  param_learning_rate  \n",
       "0                 0.1  \n",
       "1                 0.1  \n",
       "2                 0.1  "
      ]
     },
     "execution_count": 349,
     "metadata": {},
     "output_type": "execute_result"
    }
   ],
   "source": [
    "# parameter combos with the highest validation scores\n",
    "best_accuracy = pd.DataFrame(CV_boost.cv_results_).sort_values('mean_test_score', ascending=False)\n",
    "best_accuracy[['mean_test_score', 'mean_train_score','param_max_depth','param_min_samples_split','param_learning_rate']].head()"
   ]
  },
  {
   "cell_type": "markdown",
   "id": "c331174c",
   "metadata": {},
   "source": [
    "Let's see what the FP rate is."
   ]
  },
  {
   "cell_type": "code",
   "execution_count": 350,
   "id": "e460dfb8",
   "metadata": {},
   "outputs": [
    {
     "name": "stdout",
     "output_type": "stream",
     "text": [
      "Threshold set to 0.5\n",
      "Test accuracy is 0.9479\n",
      "False positive rate is 0.024\n"
     ]
    }
   ],
   "source": [
    "booster = GradientBoostingClassifier(max_depth=3, min_samples_split=6,\n",
    "                                n_estimators=500, random_state=1234).fit(X_train, y_train)\n",
    "booster_probs = booster.predict_proba(X_test)\n",
    "threshold(0.5, booster_probs, y_test)"
   ]
  },
  {
   "cell_type": "markdown",
   "id": "7bc55f3f",
   "metadata": {},
   "source": [
    "And with a higher classification threshold?"
   ]
  },
  {
   "cell_type": "code",
   "execution_count": 357,
   "id": "fe0bd0da",
   "metadata": {},
   "outputs": [
    {
     "name": "stdout",
     "output_type": "stream",
     "text": [
      "Threshold set to 0.89\n",
      "Test accuracy is 0.9393\n",
      "False positive rate is 0.0\n"
     ]
    }
   ],
   "source": [
    "threshold(0.89, booster_probs, y_test)"
   ]
  },
  {
   "cell_type": "markdown",
   "id": "901a398f",
   "metadata": {},
   "source": [
    "Second opinion, using same threshold:"
   ]
  },
  {
   "cell_type": "code",
   "execution_count": 358,
   "id": "3d156a0a",
   "metadata": {},
   "outputs": [
    {
     "name": "stdout",
     "output_type": "stream",
     "text": [
      "Threshold set to 0.89\n",
      "Test accuracy is 0.9393\n",
      "False positive rate is 0.0\n"
     ]
    }
   ],
   "source": [
    "X_tr, X_te, y_tr, y_te = train_test_split(X, y, test_size=.1, random_state=620)\n",
    "booster = GradientBoostingClassifier(max_depth=3, min_samples_split=6,\n",
    "                                n_estimators=500, random_state=620).fit(X_train, y_train)\n",
    "booster_probs = booster.predict_proba(X_test)\n",
    "threshold(0.89, booster_probs, y_test)"
   ]
  },
  {
   "cell_type": "markdown",
   "id": "9760911c",
   "metadata": {},
   "source": [
    "**Were the same features important for the GBC as for LogReg?**"
   ]
  },
  {
   "cell_type": "code",
   "execution_count": 364,
   "id": "0b9e83e6",
   "metadata": {},
   "outputs": [
    {
     "name": "stdout",
     "output_type": "stream",
     "text": [
      "GBC most important\n"
     ]
    },
    {
     "data": {
      "text/plain": [
       "[(0.23555716994129805, 'char_freq_!:'),\n",
       " (0.1894544321548047, 'char_freq_$:'),\n",
       " (0.12349834369582058, 'word_freq_remove:'),\n",
       " (0.09609956157230902, 'word_freq_hp:'),\n",
       " (0.0516503809617116, 'word_freq_free:'),\n",
       " (0.046537355829543145, 'capital_run_length_average:'),\n",
       " (0.03864972709681108, 'word_freq_your:'),\n",
       " (0.034816065391462134, 'capital_run_length_longest:'),\n",
       " (0.02906783160228493, 'word_freq_edu:'),\n",
       " (0.0277970870724421, 'word_freq_george:')]"
      ]
     },
     "execution_count": 364,
     "metadata": {},
     "output_type": "execute_result"
    }
   ],
   "source": [
    "print('GBC most important')\n",
    "sorted(list(zip(booster.feature_importances_, X.columns)), reverse=True)[:10]"
   ]
  },
  {
   "cell_type": "code",
   "execution_count": 365,
   "id": "d0e90275",
   "metadata": {},
   "outputs": [
    {
     "name": "stdout",
     "output_type": "stream",
     "text": [
      "LogReg most important\n"
     ]
    },
    {
     "data": {
      "text/plain": [
       "[(7.173262142126195, 'word_freq_remove:'),\n",
       " (6.266720414314751, 'char_freq_$:'),\n",
       " (6.259045569423496, 'word_freq_000:'),\n",
       " (-6.193964932477645, 'word_freq_hp:'),\n",
       " (5.240425361873076, 'word_freq_free:'),\n",
       " (-4.899673982254518, 'word_freq_george:'),\n",
       " (4.3477817045903855, 'capital_run_length_total:'),\n",
       " (4.189373330848128, 'word_freq_business:'),\n",
       " (3.9105736696203515, 'word_freq_our:'),\n",
       " (-3.8069001892377266, 'word_freq_re:')]"
      ]
     },
     "execution_count": 365,
     "metadata": {},
     "output_type": "execute_result"
    }
   ],
   "source": [
    "print('LogReg most important')\n",
    "sorted(list(zip(linear_reg.coef_[0], X.columns)), key=lambda x: abs(x[0]), reverse=True)[:10]"
   ]
  },
  {
   "cell_type": "markdown",
   "id": "ee08e65e",
   "metadata": {},
   "source": [
    "There's a lot of overlap, but the Gradient Boosted model leaned heavily on exclamation points where the Linear model used '000' as a spam flag, perhaps where large dollar amounts were being used as clickbait, and the numbers got split on commas by the parser (e.g. '$1,000,000!' became 2 counts of '000')"
   ]
  },
  {
   "cell_type": "markdown",
   "id": "c0fc5455",
   "metadata": {},
   "source": [
    "### Summary"
   ]
  },
  {
   "cell_type": "markdown",
   "id": "7ea29330",
   "metadata": {},
   "source": [
    "Constrained to a pre-fixed set of features and goals, we turned our focus to using some of the most common and powerful ML tools.  \n",
    "- Training Classifiers to generalize to unseen inputs\n",
    " - Scaling features appropriately\n",
    " - Splitting data into subsets where necessary\n",
    " - Using pipelines with cross-validation\n",
    " - Using grid search with cross-validation to optimize hyperparameters  \n",
    " \n",
    " \n",
    "- Evaluating the trained Classifiers\n",
    " - Choosing appropriate metrics \n",
    " - Interpreting repeatability/generalizability of test results\n",
    " - Avoiding test data leakage\n",
    " - Raising classification thresholds to eliminate false positives\n",
    " - Interpreting learned features"
   ]
  },
  {
   "cell_type": "markdown",
   "id": "63202362",
   "metadata": {},
   "source": [
    "Our most powerful model was the gradient boosted classifier with a high threshold, which was 93.93% accurate on multiple data splits, without wrongly sending a single good email to the spam folder.  With 39.4% of the emails being spam, that means our model was letting about 15-16% of spam into inboxes, which is not bad, considering the hosts of the data project suggested 20-25% would need to be let through, in order to eliminate false positives."
   ]
  },
  {
   "cell_type": "code",
   "execution_count": null,
   "id": "a93c7e0e",
   "metadata": {},
   "outputs": [],
   "source": []
  }
 ],
 "metadata": {
  "kernelspec": {
   "display_name": "Python 3",
   "language": "python",
   "name": "python3"
  },
  "language_info": {
   "codemirror_mode": {
    "name": "ipython",
    "version": 3
   },
   "file_extension": ".py",
   "mimetype": "text/x-python",
   "name": "python",
   "nbconvert_exporter": "python",
   "pygments_lexer": "ipython3",
   "version": "3.7.10"
  }
 },
 "nbformat": 4,
 "nbformat_minor": 5
}
