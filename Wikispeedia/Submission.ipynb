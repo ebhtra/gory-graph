{
 "cells": [
  {
   "cell_type": "markdown",
   "id": "f02b5ae7",
   "metadata": {},
   "source": [
    "## Final Project:  Wikispeedia\n",
    "#### Summer 2021\n",
    "**Authors:** GOAT Team (Estaban Aramayo, Ethan Haley, Claire Meyer, and Tyler Frankenburg)"
   ]
  },
  {
   "cell_type": "markdown",
   "id": "2810161a",
   "metadata": {},
   "source": [
    "### Background"
   ]
  },
  {
   "cell_type": "markdown",
   "id": "58734a0e",
   "metadata": {},
   "source": [
    "Wikispeedia is a game where you navigate through a microcosm (\"subgraph\", in our terms) of Wikipedia.org by clicking on page links, given a source and target, and attempting to find the shortest path.  The best way to understand it is to play it, so you might as well spend one minute doing so [here](https://dlab.epfl.ch/wikispeedia/play/)."
   ]
  },
  {
   "cell_type": "markdown",
   "id": "940143c5",
   "metadata": {},
   "source": [
    "Whether the game was conceived purely for the fun of the players or whether researchers were looking for interesting data, we're glad to be able to analyze what's available at [this Stanford University site](https://snap.stanford.edu/data/wikispeedia.html), for our Final Project for CUNY MSDS 620."
   ]
  },
  {
   "cell_type": "markdown",
   "id": "ae5d9747",
   "metadata": {},
   "source": [
    "### Approach"
   ]
  },
  {
   "cell_type": "markdown",
   "id": "007c1f8f",
   "metadata": {},
   "source": [
    "- Load, clean, and parse the provided files\n",
    "  - 4600 Wikipedia articles, by name, with accompanying text\n",
    "  - All links from one article to another\n",
    "  - Article categories\n",
    "  - Paths (sequences of links) taken by players of the game\n",
    "  - Pre-computed optimal path lengths for every pair of articles\n",
    "- Compute semantic distance between every pair of articles\n",
    "  - Use nltk with stemmers to encode article word counts in numeric tfidf vectors\n",
    "  - Explore metrics for comparing tfidf vectors\n",
    "  - Train Doc2Vec to encode article meanings in numeric vectors\n",
    "- Build a directed graph with networkx, to represent Wikispeedia\n",
    " - 4600 articles as nodes\n",
    " - 120K links as edges from page containing link to linked page\n",
    "   - Edge attributes appropriate for analysis\n",
    "- Explore and analyze everything above\n",
    " - Visualize graph structures\n",
    "   - gephi\n",
    "   - networkx\n",
    "   - matplotlib.pyplot\n",
    " - Design custom metrics\n",
    " - Use standard graph metrics\n",
    " - Interpret results\n",
    "   - Compare optimal paths to actual paths\n",
    "   - Summarize graph metrics"
   ]
  },
  {
   "cell_type": "markdown",
   "id": "8ed8ac75",
   "metadata": {},
   "source": [
    "In order to improve the readability of this notebook, we'll link to various other notebooks that were used as building blocks along the way, and simply load the end results of those building blocks into this notebook."
   ]
  },
  {
   "cell_type": "code",
   "execution_count": 2,
   "id": "8556d0e0",
   "metadata": {},
   "outputs": [
    {
     "name": "stdout",
     "output_type": "stream",
     "text": [
      "DegreeRatio.ipynb                       doc2vecMat.npy\r\n",
      "DiGraph_with_Weighted_Edges-Copy1.ipynb doctextDF.csv\r\n",
      "DiGraph_with_Weighted_Edges.ipynb       \u001b[34mimages\u001b[m\u001b[m\r\n",
      "DocSim.ipynb                            linksDF.csv\r\n",
      "GOAT_final_project.ipynb                \u001b[34mplaintext_articles\u001b[m\u001b[m\r\n",
      "GraphInspection.ipynb                   pompeii.graphml\r\n",
      "NLPedia.ipynb                           pompeiier.graphml\r\n",
      "PathAnalysis.ipynb                      project_proposal.ipynb\r\n",
      "Submission.ipynb                        unweighted_link_dg\r\n",
      "\u001b[34mTAR files\u001b[m\u001b[m                               unweighted_link_dg.graphml\r\n",
      "allPathsDF.csv                          weighted_link_dg.graphml\r\n",
      "cosDistMat.npy                          \u001b[34mwikispeedia_paths-and-graph\u001b[m\u001b[m\r\n",
      "degreeDF.csv\r\n"
     ]
    }
   ],
   "source": [
    "!ls"
   ]
  },
  {
   "cell_type": "markdown",
   "id": "7754a350",
   "metadata": {},
   "source": [
    "### Build a graph with useful structure and attributes"
   ]
  },
  {
   "cell_type": "markdown",
   "id": "6f527fee",
   "metadata": {},
   "source": [
    "[In this notebook](https://github.com/ebhtra/gory-graph/blob/main/Wikispeedia/GOAT_final_project.ipynb) we took care of the data processing steps, and [In this one](https://github.com/ebhtra/gorygraph/blob/main/Wikispeedia/DocSim.ipynb) we computed various ways of comparing articles semantically."
   ]
  },
  {
   "cell_type": "markdown",
   "id": "1122f784",
   "metadata": {},
   "source": [
    "What that left us with was the central idea of our project's structure:  Wikipedia can be represented as a network of topic pages, connected to each other by hyperlinks and by a latent semantic similarity that can be represented numerically."
   ]
  },
  {
   "cell_type": "code",
   "execution_count": 4,
   "id": "e1000752",
   "metadata": {},
   "outputs": [
    {
     "data": {
      "text/html": [
       "<div>\n",
       "<style scoped>\n",
       "    .dataframe tbody tr th:only-of-type {\n",
       "        vertical-align: middle;\n",
       "    }\n",
       "\n",
       "    .dataframe tbody tr th {\n",
       "        vertical-align: top;\n",
       "    }\n",
       "\n",
       "    .dataframe thead th {\n",
       "        text-align: right;\n",
       "    }\n",
       "</style>\n",
       "<table border=\"1\" class=\"dataframe\">\n",
       "  <thead>\n",
       "    <tr style=\"text-align: right;\">\n",
       "      <th></th>\n",
       "      <th>linkSource</th>\n",
       "      <th>linkTarget</th>\n",
       "      <th>cosDist</th>\n",
       "      <th>doc2vecDist</th>\n",
       "    </tr>\n",
       "  </thead>\n",
       "  <tbody>\n",
       "    <tr>\n",
       "      <th>0</th>\n",
       "      <td>Áedán_mac_Gabráin</td>\n",
       "      <td>Bede</td>\n",
       "      <td>0.906869</td>\n",
       "      <td>0.626857</td>\n",
       "    </tr>\n",
       "    <tr>\n",
       "      <th>1</th>\n",
       "      <td>Áedán_mac_Gabráin</td>\n",
       "      <td>Columba</td>\n",
       "      <td>0.771878</td>\n",
       "      <td>0.376003</td>\n",
       "    </tr>\n",
       "    <tr>\n",
       "      <th>2</th>\n",
       "      <td>Áedán_mac_Gabráin</td>\n",
       "      <td>Dál_Riata</td>\n",
       "      <td>0.540850</td>\n",
       "      <td>0.214946</td>\n",
       "    </tr>\n",
       "    <tr>\n",
       "      <th>3</th>\n",
       "      <td>Áedán_mac_Gabráin</td>\n",
       "      <td>Great_Britain</td>\n",
       "      <td>0.886619</td>\n",
       "      <td>0.621423</td>\n",
       "    </tr>\n",
       "    <tr>\n",
       "      <th>4</th>\n",
       "      <td>Áedán_mac_Gabráin</td>\n",
       "      <td>Ireland</td>\n",
       "      <td>0.889658</td>\n",
       "      <td>0.665878</td>\n",
       "    </tr>\n",
       "  </tbody>\n",
       "</table>\n",
       "</div>"
      ],
      "text/plain": [
       "          linkSource     linkTarget   cosDist  doc2vecDist\n",
       "0  Áedán_mac_Gabráin           Bede  0.906869     0.626857\n",
       "1  Áedán_mac_Gabráin        Columba  0.771878     0.376003\n",
       "2  Áedán_mac_Gabráin      Dál_Riata  0.540850     0.214946\n",
       "3  Áedán_mac_Gabráin  Great_Britain  0.886619     0.621423\n",
       "4  Áedán_mac_Gabráin        Ireland  0.889658     0.665878"
      ]
     },
     "execution_count": 4,
     "metadata": {},
     "output_type": "execute_result"
    }
   ],
   "source": [
    "import pandas as pd\n",
    "linksDF = pd.read_csv('https://raw.githubusercontent.com/ebhtra/gory-graph/main/Wikispeedia/linksDF.csv', index_col=0)\n",
    "linksDF.head()"
   ]
  },
  {
   "cell_type": "markdown",
   "id": "de89c703",
   "metadata": {},
   "source": [
    "The `cosDist` column has the cosine distance (1 - cosine similarity) between the `linkSource` and `linkTarget` Wikipedia article vectors.  Those articles were first vectorized by removing stopwords and numbers, stemming with nltk's `SnowballStemmer`, which differentiated between articles slightly better than `PorterStemmer` did, and then normalizing via TfIdf over the Wikispedia corpus.  The `doc2vecDist` column holds the cosine distances between gensim's [Doc2Vec](https://radimrehurek.com/gensim/models/doc2vec.html) embeddings of each article, learned by training a Doc2Vec model on similarly cleaned versions of the articles."
   ]
  },
  {
   "cell_type": "markdown",
   "id": "3d898597",
   "metadata": {},
   "source": [
    "We'll use the Doc2Vec distances primarily, moving forward, since they differentiate better between articles."
   ]
  },
  {
   "cell_type": "code",
   "execution_count": 6,
   "id": "6ad60199",
   "metadata": {},
   "outputs": [],
   "source": [
    "import matplotlib.pyplot as plt"
   ]
  },
  {
   "cell_type": "code",
   "execution_count": 7,
   "id": "9b2edb13",
   "metadata": {},
   "outputs": [
    {
     "data": {
      "image/png": "[encoded data removed]",
      "text/plain": [
       "<Figure size 432x288 with 1 Axes>"
      ]
     },
     "metadata": {
      "needs_background": "light"
     },
     "output_type": "display_data"
    }
   ],
   "source": [
    "linksDF.cosDist.plot(kind='hist', bins=50)\n",
    "plt.title('Cosine Distance for All Linked Nodes, Using TfIdf Embeddings');"
   ]
  },
  {
   "cell_type": "code",
   "execution_count": 8,
   "id": "16412281",
   "metadata": {},
   "outputs": [
    {
     "data": {
      "image/png": "[encoded data removed]",
      "text/plain": [
       "<Figure size 432x288 with 1 Axes>"
      ]
     },
     "metadata": {
      "needs_background": "light"
     },
     "output_type": "display_data"
    }
   ],
   "source": [
    "linksDF.doc2vecDist.plot(kind='hist', bins=50)\n",
    "plt.title('Cosine Distance for All Linked Nodes, Using Doc2Vec Embeddings');"
   ]
  },
  {
   "cell_type": "markdown",
   "id": "4ed1ce45",
   "metadata": {},
   "source": [
    "Anytime you see something like a cosine distance over 1.0, when the articles are linked, and theoretically similar, it's good to check why, either for debugging or for enlightenment."
   ]
  },
  {
   "cell_type": "code",
   "execution_count": 9,
   "id": "55a9ae0b",
   "metadata": {},
   "outputs": [
    {
     "data": {
      "text/html": [
       "<div>\n",
       "<style scoped>\n",
       "    .dataframe tbody tr th:only-of-type {\n",
       "        vertical-align: middle;\n",
       "    }\n",
       "\n",
       "    .dataframe tbody tr th {\n",
       "        vertical-align: top;\n",
       "    }\n",
       "\n",
       "    .dataframe thead th {\n",
       "        text-align: right;\n",
       "    }\n",
       "</style>\n",
       "<table border=\"1\" class=\"dataframe\">\n",
       "  <thead>\n",
       "    <tr style=\"text-align: right;\">\n",
       "      <th></th>\n",
       "      <th>linkSource</th>\n",
       "      <th>linkTarget</th>\n",
       "      <th>cosDist</th>\n",
       "      <th>doc2vecDist</th>\n",
       "    </tr>\n",
       "  </thead>\n",
       "  <tbody>\n",
       "    <tr>\n",
       "      <th>28083</th>\n",
       "      <td>Crossbill</td>\n",
       "      <td>20th_century</td>\n",
       "      <td>0.984978</td>\n",
       "      <td>1.118646</td>\n",
       "    </tr>\n",
       "    <tr>\n",
       "      <th>67771</th>\n",
       "      <td>Lyme_disease</td>\n",
       "      <td>Sweden</td>\n",
       "      <td>0.977642</td>\n",
       "      <td>1.119146</td>\n",
       "    </tr>\n",
       "    <tr>\n",
       "      <th>50713</th>\n",
       "      <td>History_of_Wikipedia</td>\n",
       "      <td>18th_century</td>\n",
       "      <td>0.955413</td>\n",
       "      <td>1.121397</td>\n",
       "    </tr>\n",
       "    <tr>\n",
       "      <th>97894</th>\n",
       "      <td>Sheffield</td>\n",
       "      <td>Cholera</td>\n",
       "      <td>0.981395</td>\n",
       "      <td>1.122270</td>\n",
       "    </tr>\n",
       "    <tr>\n",
       "      <th>10676</th>\n",
       "      <td>Attack_on_Pearl_Harbor</td>\n",
       "      <td>Europe</td>\n",
       "      <td>0.946313</td>\n",
       "      <td>1.131722</td>\n",
       "    </tr>\n",
       "    <tr>\n",
       "      <th>67332</th>\n",
       "      <td>Louis_Armstrong</td>\n",
       "      <td>Asia</td>\n",
       "      <td>0.979972</td>\n",
       "      <td>1.133606</td>\n",
       "    </tr>\n",
       "    <tr>\n",
       "      <th>44513</th>\n",
       "      <td>Glasgow</td>\n",
       "      <td>Armadillo</td>\n",
       "      <td>0.990238</td>\n",
       "      <td>1.143975</td>\n",
       "    </tr>\n",
       "    <tr>\n",
       "      <th>14930</th>\n",
       "      <td>Bette_Davis</td>\n",
       "      <td>Europe</td>\n",
       "      <td>0.972202</td>\n",
       "      <td>1.151904</td>\n",
       "    </tr>\n",
       "    <tr>\n",
       "      <th>76538</th>\n",
       "      <td>Myxobolus_cerebralis</td>\n",
       "      <td>Lebanon</td>\n",
       "      <td>0.976424</td>\n",
       "      <td>1.161943</td>\n",
       "    </tr>\n",
       "    <tr>\n",
       "      <th>58041</th>\n",
       "      <td>James_T._Aubrey,_Jr.</td>\n",
       "      <td>Europe</td>\n",
       "      <td>0.983260</td>\n",
       "      <td>1.171509</td>\n",
       "    </tr>\n",
       "  </tbody>\n",
       "</table>\n",
       "</div>"
      ],
      "text/plain": [
       "                   linkSource    linkTarget   cosDist  doc2vecDist\n",
       "28083               Crossbill  20th_century  0.984978     1.118646\n",
       "67771            Lyme_disease        Sweden  0.977642     1.119146\n",
       "50713    History_of_Wikipedia  18th_century  0.955413     1.121397\n",
       "97894               Sheffield       Cholera  0.981395     1.122270\n",
       "10676  Attack_on_Pearl_Harbor        Europe  0.946313     1.131722\n",
       "67332         Louis_Armstrong          Asia  0.979972     1.133606\n",
       "44513                 Glasgow     Armadillo  0.990238     1.143975\n",
       "14930             Bette_Davis        Europe  0.972202     1.151904\n",
       "76538    Myxobolus_cerebralis       Lebanon  0.976424     1.161943\n",
       "58041    James_T._Aubrey,_Jr.        Europe  0.983260     1.171509"
      ]
     },
     "execution_count": 9,
     "metadata": {},
     "output_type": "execute_result"
    }
   ],
   "source": [
    "linksDF.sort_values('doc2vecDist').tail(10)"
   ]
  },
  {
   "cell_type": "markdown",
   "id": "1d39105d",
   "metadata": {},
   "source": [
    "The articles are indeed unrelated, as corroborated by the high TfIdf cosine distances, but after you've seen enough of Wikipedia's seemingly unrelated links, `Lyme_disease` linking to `Sweden` doesn't seem like something terribly unusual.  These are just examples of the article text unintentionally fooling Doc2Vec."
   ]
  },
  {
   "cell_type": "markdown",
   "id": "f24f82e6",
   "metadata": {},
   "source": [
    "**Besides article similarity, the other important concept to us was that of how \"general\" a topic was. We started by using `nltk.corpus.wordnet.synset(TOPIC).min_depth` for each TOPIC, but Wikipedia is too focused on named entities to fit well with nltk's synsets (When nltk didn't have 'Eminem', we knew we should move on).**  \n",
    "\n",
    "**The Wikispeedia graph turns out to be a small world, where every article is reachable in a relatively small number of steps/links, no matter which other article you start from.  This trait follows from the fact that there are many topics which are extremely general.  Spatially, they appear as big countries (particularly those whose inhabitants are responsible for the bulk of Wikipedia's content), temporally they appear in the form of centuries, and conceptually they appear as Science, History, Nature, Religion, etc.  Wikipedia articles are somewhat similar in size, as compared to how important their topics are, such that Science gets less room for text than does Microscope, relative to their level of generality.  Thus Science has a relatively huge ratio of in-links to out-links, compared to Microscope, and we'll use that ratio as a telling indicator of what might otherwise be difficult to measure:  Generality.**"
   ]
  },
  {
   "cell_type": "markdown",
   "id": "80db6fb9",
   "metadata": {},
   "source": [
    "[In this notebook](https://github.com/ebhtra/gory-graph/blob/main/Wikispeedia/DegreeRatio.ipynb) we calculated the ratio of in-degree to out-degree for each topic, and will refer to it as \"generality\"."
   ]
  },
  {
   "cell_type": "code",
   "execution_count": 15,
   "id": "e1362558",
   "metadata": {},
   "outputs": [
    {
     "name": "stdout",
     "output_type": "stream",
     "text": [
      "Most general nodes in the network:\n"
     ]
    },
    {
     "data": {
      "text/html": [
       "<div>\n",
       "<style scoped>\n",
       "    .dataframe tbody tr th:only-of-type {\n",
       "        vertical-align: middle;\n",
       "    }\n",
       "\n",
       "    .dataframe tbody tr th {\n",
       "        vertical-align: top;\n",
       "    }\n",
       "\n",
       "    .dataframe thead th {\n",
       "        text-align: right;\n",
       "    }\n",
       "</style>\n",
       "<table border=\"1\" class=\"dataframe\">\n",
       "  <thead>\n",
       "    <tr style=\"text-align: right;\">\n",
       "      <th></th>\n",
       "      <th>topic</th>\n",
       "      <th>in_dgr</th>\n",
       "      <th>out_dgr</th>\n",
       "      <th>generality</th>\n",
       "    </tr>\n",
       "  </thead>\n",
       "  <tbody>\n",
       "    <tr>\n",
       "      <th>3395</th>\n",
       "      <td>Chordate</td>\n",
       "      <td>338</td>\n",
       "      <td>8</td>\n",
       "      <td>42.250000</td>\n",
       "    </tr>\n",
       "    <tr>\n",
       "      <th>1751</th>\n",
       "      <td>Binomial_nomenclature</td>\n",
       "      <td>295</td>\n",
       "      <td>12</td>\n",
       "      <td>24.583333</td>\n",
       "    </tr>\n",
       "    <tr>\n",
       "      <th>496</th>\n",
       "      <td>Scientific_classification</td>\n",
       "      <td>519</td>\n",
       "      <td>25</td>\n",
       "      <td>20.760000</td>\n",
       "    </tr>\n",
       "    <tr>\n",
       "      <th>1960</th>\n",
       "      <td>Climate</td>\n",
       "      <td>138</td>\n",
       "      <td>8</td>\n",
       "      <td>17.250000</td>\n",
       "    </tr>\n",
       "    <tr>\n",
       "      <th>3021</th>\n",
       "      <td>Animal</td>\n",
       "      <td>492</td>\n",
       "      <td>29</td>\n",
       "      <td>16.965517</td>\n",
       "    </tr>\n",
       "    <tr>\n",
       "      <th>1234</th>\n",
       "      <td>DVD</td>\n",
       "      <td>63</td>\n",
       "      <td>4</td>\n",
       "      <td>15.750000</td>\n",
       "    </tr>\n",
       "    <tr>\n",
       "      <th>2912</th>\n",
       "      <td>Latin</td>\n",
       "      <td>443</td>\n",
       "      <td>29</td>\n",
       "      <td>15.275862</td>\n",
       "    </tr>\n",
       "    <tr>\n",
       "      <th>3680</th>\n",
       "      <td>Gas</td>\n",
       "      <td>72</td>\n",
       "      <td>5</td>\n",
       "      <td>14.400000</td>\n",
       "    </tr>\n",
       "    <tr>\n",
       "      <th>880</th>\n",
       "      <td>Cultivar</td>\n",
       "      <td>41</td>\n",
       "      <td>3</td>\n",
       "      <td>13.666667</td>\n",
       "    </tr>\n",
       "    <tr>\n",
       "      <th>4483</th>\n",
       "      <td>Currency</td>\n",
       "      <td>291</td>\n",
       "      <td>22</td>\n",
       "      <td>13.227273</td>\n",
       "    </tr>\n",
       "  </tbody>\n",
       "</table>\n",
       "</div>"
      ],
      "text/plain": [
       "                          topic  in_dgr  out_dgr  generality\n",
       "3395                   Chordate     338        8   42.250000\n",
       "1751      Binomial_nomenclature     295       12   24.583333\n",
       "496   Scientific_classification     519       25   20.760000\n",
       "1960                    Climate     138        8   17.250000\n",
       "3021                     Animal     492       29   16.965517\n",
       "1234                        DVD      63        4   15.750000\n",
       "2912                      Latin     443       29   15.275862\n",
       "3680                        Gas      72        5   14.400000\n",
       "880                    Cultivar      41        3   13.666667\n",
       "4483                   Currency     291       22   13.227273"
      ]
     },
     "execution_count": 15,
     "metadata": {},
     "output_type": "execute_result"
    }
   ],
   "source": [
    "degreeDF = pd.read_csv('degreeDF.csv', index_col=0)\n",
    "\n",
    "print('Most general nodes in the network:')\n",
    "degreeDF.sort_values('generality', ascending=False).head(10)"
   ]
  },
  {
   "cell_type": "markdown",
   "id": "26812d8f",
   "metadata": {},
   "source": [
    "One thing that stands out is the large deviation to the upside in this top ten generality group.  Since every link leads out from one topic and in to another, generality should tend to be around 1. "
   ]
  },
  {
   "cell_type": "code",
   "execution_count": 14,
   "id": "9c8606a3",
   "metadata": {},
   "outputs": [
    {
     "name": "stdout",
     "output_type": "stream",
     "text": [
      "The mean generality for nodes in this graph is 0.859 and the median is 0.471\n"
     ]
    }
   ],
   "source": [
    "print(f'The mean generality for nodes in this graph is {round(degreeDF.generality.mean(),3)} and the median is {round(degreeDF.generality.median(),3)}')"
   ]
  },
  {
   "cell_type": "markdown",
   "id": "c4141192",
   "metadata": {},
   "source": [
    "Since that's so right-skewed, we'll use median instead of mean, later on."
   ]
  },
  {
   "cell_type": "markdown",
   "id": "e967fb8c",
   "metadata": {},
   "source": [
    "Now onto the networkx graph."
   ]
  },
  {
   "cell_type": "code",
   "execution_count": 16,
   "id": "675443a6",
   "metadata": {},
   "outputs": [],
   "source": [
    "import networkx as nx\n",
    "# quick lookup table for node attr (generality of node topic)\n",
    "gens = {top:gen for top,gen in zip(degreeDF.topic, degreeDF.generality)}\n",
    "# all link ends\n",
    "linknames = set(linksDF.linkSource).union(set(linksDF.linkTarget))\n",
    "\n",
    "DG = nx.DiGraph()\n",
    "for topic in linknames:\n",
    "    # topics with no out degrees don't have generality scores yet.  Set to 0.\n",
    "    if topic not in gens: gens[topic]=0\n",
    "    DG.add_node(topic, gen=gens[topic])\n",
    "for s, t, d in zip(linksDF.linkSource, linksDF.linkTarget, linksDF.doc2vecDist):\n",
    "    delta_gen = gens[t] # store how clicking the link changes the generality\n",
    "    DG.add_edge(s, t, d2v=d, d_gen=gens[t]-gens[s])"
   ]
  },
  {
   "cell_type": "code",
   "execution_count": 17,
   "id": "feead5ae",
   "metadata": {},
   "outputs": [
    {
     "name": "stdout",
     "output_type": "stream",
     "text": [
      "Name: \n",
      "Type: DiGraph\n",
      "Number of nodes: 4592\n",
      "Number of edges: 119882\n",
      "Average in degree:  26.1067\n",
      "Average out degree:  26.1067\n"
     ]
    }
   ],
   "source": [
    "print(nx.info(DG))"
   ]
  },
  {
   "cell_type": "markdown",
   "id": "7d5d40f1",
   "metadata": {},
   "source": [
    "This graph is very connected, at 26 in and 26 out per node."
   ]
  },
  {
   "cell_type": "code",
   "execution_count": 30,
   "id": "80318a7b",
   "metadata": {},
   "outputs": [
    {
     "data": {
      "image/png": "[encoded data removed]",
      "text/plain": [
       "<Figure size 432x288 with 1 Axes>"
      ]
     },
     "metadata": {
      "needs_background": "light"
     },
     "output_type": "display_data"
    }
   ],
   "source": [
    "degreeDF[degreeDF.in_dgr < 100].in_dgr.plot(kind='hist', bins=50)\n",
    "plt.title('In-link distribution')\n",
    "plt.ylim(0,1000);"
   ]
  },
  {
   "cell_type": "code",
   "execution_count": 31,
   "id": "6ac99b97",
   "metadata": {},
   "outputs": [
    {
     "data": {
      "image/png": "[encoded data removed]",
      "text/plain": [
       "<Figure size 432x288 with 1 Axes>"
      ]
     },
     "metadata": {
      "needs_background": "light"
     },
     "output_type": "display_data"
    }
   ],
   "source": [
    "degreeDF[degreeDF.out_dgr < 100].out_dgr.plot(kind='hist', bins=50)\n",
    "plt.title('Out-link distribution')\n",
    "plt.ylim(0,1000);"
   ]
  },
  {
   "cell_type": "markdown",
   "id": "f50ac89d",
   "metadata": {},
   "source": [
    "These charts enforce the generality concepts discussed above:  There are a huge number of topics that get linked to from everything in the universe.  But since an article is only expected to dig into related subjects without writing a 1000-page book, the out-link distribution is much more uniform."
   ]
  },
  {
   "cell_type": "markdown",
   "id": "b537266f",
   "metadata": {},
   "source": [
    "As far as the article categories, we were handed a hierarchical list of them for each article and display the most general one for each below."
   ]
  },
  {
   "cell_type": "code",
   "execution_count": 36,
   "id": "74769b7f",
   "metadata": {},
   "outputs": [
    {
     "data": {
      "text/html": [
       "<div>\n",
       "<style scoped>\n",
       "    .dataframe tbody tr th:only-of-type {\n",
       "        vertical-align: middle;\n",
       "    }\n",
       "\n",
       "    .dataframe tbody tr th {\n",
       "        vertical-align: top;\n",
       "    }\n",
       "\n",
       "    .dataframe thead th {\n",
       "        text-align: right;\n",
       "    }\n",
       "</style>\n",
       "<table border=\"1\" class=\"dataframe\">\n",
       "  <thead>\n",
       "    <tr style=\"text-align: right;\">\n",
       "      <th></th>\n",
       "      <th>article</th>\n",
       "      <th>cat0</th>\n",
       "      <th>cat1</th>\n",
       "      <th>cat2</th>\n",
       "    </tr>\n",
       "  </thead>\n",
       "  <tbody>\n",
       "    <tr>\n",
       "      <th>0</th>\n",
       "      <td>Áedán_mac_Gabráin</td>\n",
       "      <td>History</td>\n",
       "      <td>British_History</td>\n",
       "      <td>British_History_1500_and_before_including_Roma...</td>\n",
       "    </tr>\n",
       "    <tr>\n",
       "      <th>1</th>\n",
       "      <td>Áedán_mac_Gabráin</td>\n",
       "      <td>People</td>\n",
       "      <td>Historical_figures</td>\n",
       "      <td>NaN</td>\n",
       "    </tr>\n",
       "    <tr>\n",
       "      <th>2</th>\n",
       "      <td>Åland</td>\n",
       "      <td>Countries</td>\n",
       "      <td>NaN</td>\n",
       "      <td>NaN</td>\n",
       "    </tr>\n",
       "    <tr>\n",
       "      <th>3</th>\n",
       "      <td>Åland</td>\n",
       "      <td>Geography</td>\n",
       "      <td>European_Geography</td>\n",
       "      <td>European_Countries</td>\n",
       "    </tr>\n",
       "    <tr>\n",
       "      <th>4</th>\n",
       "      <td>Édouard_Manet</td>\n",
       "      <td>People</td>\n",
       "      <td>Artists</td>\n",
       "      <td>NaN</td>\n",
       "    </tr>\n",
       "  </tbody>\n",
       "</table>\n",
       "</div>"
      ],
      "text/plain": [
       "             article       cat0                cat1  \\\n",
       "0  Áedán_mac_Gabráin    History     British_History   \n",
       "1  Áedán_mac_Gabráin     People  Historical_figures   \n",
       "2              Åland  Countries                 NaN   \n",
       "3              Åland  Geography  European_Geography   \n",
       "4      Édouard_Manet     People             Artists   \n",
       "\n",
       "                                                cat2  \n",
       "0  British_History_1500_and_before_including_Roma...  \n",
       "1                                                NaN  \n",
       "2                                                NaN  \n",
       "3                                 European_Countries  \n",
       "4                                                NaN  "
      ]
     },
     "execution_count": 36,
     "metadata": {},
     "output_type": "execute_result"
    }
   ],
   "source": [
    "categories = pd.read_csv('wikiCategories.csv', index_col=0)\n",
    "categories.head()"
   ]
  },
  {
   "cell_type": "code",
   "execution_count": 37,
   "id": "cd744077",
   "metadata": {},
   "outputs": [
    {
     "data": {
      "image/png": "[encoded data removed]",
      "text/plain": [
       "<Figure size 432x288 with 1 Axes>"
      ]
     },
     "metadata": {
      "needs_background": "light"
     },
     "output_type": "display_data"
    }
   ],
   "source": [
    "categories.cat0.value_counts().plot(kind='barh')\n",
    "plt.xlabel('Count of Articles')\n",
    "plt.title('Number of Articles by Primary Category');"
   ]
  },
  {
   "cell_type": "markdown",
   "id": "4b97215a",
   "metadata": {},
   "source": [
    "**The graph is way too connected/dense to visualize as a whole, but we can choose a topic with somewhat normal generality and zoom in on it by building an ego subgraph centered on it.  We arbitrarily chose Pompeii, which turns out to be more general than the average topic, but still worth inspecting, or maybe even more worth inspecting to illustrate our concept of generality.**"
   ]
  },
  {
   "cell_type": "markdown",
   "id": "a579cac8",
   "metadata": {},
   "source": [
    "As a reminder of the graph we built above:"
   ]
  },
  {
   "cell_type": "code",
   "execution_count": 38,
   "id": "8f212aad",
   "metadata": {},
   "outputs": [
    {
     "data": {
      "text/plain": [
       "{'gen': 11.282352941176471}"
      ]
     },
     "execution_count": 38,
     "metadata": {},
     "output_type": "execute_result"
    }
   ],
   "source": [
    "DG.node['France'] # Generality of France is very high"
   ]
  },
  {
   "cell_type": "code",
   "execution_count": 39,
   "id": "d7f260b7",
   "metadata": {},
   "outputs": [
    {
     "data": {
      "text/plain": [
       "{'d2v': 0.3606382791996672, 'd_gen': -8.532352941176471}"
      ]
     },
     "execution_count": 39,
     "metadata": {},
     "output_type": "execute_result"
    }
   ],
   "source": [
    "DG.edge['France']['Paris']"
   ]
  },
  {
   "cell_type": "markdown",
   "id": "933494e9",
   "metadata": {},
   "source": [
    "**Paris is less general than France, as evidenced by the `d_gen` attribute being -8.5 when moving from France to Paris.  The Doc2Vec distance between Paris and France is of course small, so 0.36 is low.**"
   ]
  },
  {
   "cell_type": "code",
   "execution_count": 41,
   "id": "6bab2e2f",
   "metadata": {},
   "outputs": [
    {
     "data": {
      "text/plain": [
       "{'1st_century': {'d2v': 0.7858200710957813, 'd_gen': -0.525987525987526},\n",
       " 'Ancient_Rome': {'d2v': 0.5553679442127262, 'd_gen': 0.2875874125874125},\n",
       " 'Archaeology': {'d2v': 0.6455686268960943, 'd_gen': 0.02146690518783556},\n",
       " 'BBC': {'d2v': 0.8448764072825363, 'd_gen': 2.555769230769231},\n",
       " 'Drought': {'d2v': 0.7905698660449316, 'd_gen': 1.764102564102564},\n",
       " 'Earthquake': {'d2v': 0.8676231723336092, 'd_gen': 2.5807692307692305},\n",
       " 'Great_Britain': {'d2v': 0.9272456481169232, 'd_gen': 3.373626373626374},\n",
       " 'Greece': {'d2v': 0.7116976838841338, 'd_gen': 0.38866396761133615},\n",
       " 'Italy': {'d2v': 0.6197929368858993, 'd_gen': 4.701357466063349},\n",
       " 'Latin': {'d2v': 0.6359986031936685, 'd_gen': 13.50663129973475},\n",
       " 'Mount_Vesuvius': {'d2v': 0.3994719493645049, 'd_gen': -1.5292307692307692},\n",
       " 'Volcano': {'d2v': 0.7033479267248763, 'd_gen': 0.15614236509758928},\n",
       " 'World_Heritage_Site': {'d2v': 0.8588057016025433,\n",
       "  'd_gen': -0.16208791208791196}}"
      ]
     },
     "execution_count": 41,
     "metadata": {},
     "output_type": "execute_result"
    }
   ],
   "source": [
    "DG['Pompeii']  # links from Pompeii to these 13.  Pompeii itself has 23 topics linking into it (some of them these)"
   ]
  },
  {
   "cell_type": "code",
   "execution_count": 42,
   "id": "c27e54c4",
   "metadata": {},
   "outputs": [
    {
     "data": {
      "text/plain": [
       "1962"
      ]
     },
     "execution_count": 42,
     "metadata": {},
     "output_type": "execute_result"
    }
   ],
   "source": [
    "pompeii = nx.ego_graph(DG, 'Pompeii', radius=2, undirected=True, distance=None) # using path steps as distance\n",
    "pompeii.number_of_nodes()"
   ]
  },
  {
   "cell_type": "markdown",
   "id": "fa547094",
   "metadata": {},
   "source": [
    "Pompeii has 23 in-links and 13 out-links, but each of those 36 connections (or fewer, since some point back at Pompeii) adds so many other nodes that we get to 1962 very fast.  For better viewing, let's shrink that down to the first 36 only, and then afterwards we'll try using doc2vec distance as the metric and see how many more nodes we add, since those distances are less than 1 usually."
   ]
  },
  {
   "cell_type": "code",
   "execution_count": 43,
   "id": "dcead1ae",
   "metadata": {},
   "outputs": [
    {
     "data": {
      "text/plain": [
       "34"
      ]
     },
     "execution_count": 43,
     "metadata": {},
     "output_type": "execute_result"
    }
   ],
   "source": [
    "pompeii = nx.ego_graph(DG, 'Pompeii', radius=1, undirected=True, distance=None) # using path steps as distance\n",
    "pompeii.number_of_nodes()"
   ]
  },
  {
   "cell_type": "markdown",
   "id": "ce9935d1",
   "metadata": {},
   "source": [
    "**Here's the smaller ego graph, showing all topics one step away from Pompeii, in both directions.  The larger the node, the more general of a score it has in the Wikispeedia graph, i.e. the more in-links it has compared to out-links.  The colors of the nodes and edges are darker red when the topic has a closer semantic similarity to Pompeii, according to the cosine distances generated from our Doc2Vec embeddings.**"
   ]
  },
  {
   "cell_type": "markdown",
   "id": "f71cc131",
   "metadata": {},
   "source": [
    "![Pompeii](https://raw.githubusercontent.com/ebhtra/gory-graph/main/Wikispeedia/images/pompeii.svg)"
   ]
  },
  {
   "cell_type": "markdown",
   "id": "2360062c",
   "metadata": {},
   "source": [
    "**It's clear from this smaller graph that the lighter nodes, i.e. the topics that are less semantically close to Pompeii, are pointing to Pompeii, without Pompeii linking back.  The topics that Pompeii tends to point to, on the other hand, tend to be more closely related to it (darker hued).  There's no reason that asymmetry should necessarily occur, other than if Pompeii is more general of a topic than the nodes that point to it.**"
   ]
  },
  {
   "cell_type": "markdown",
   "id": "db9da2b9",
   "metadata": {},
   "source": [
    "**Pompeii is much more general than the median topic, but the topics nearby it also tend to be more general, as evidenced by the fact that nodes linking to it yet not being particularly close to it semantically, such as Literacy, Advertising, Lemon, and Book, are similar to it in terms of size.**"
   ]
  },
  {
   "cell_type": "markdown",
   "id": "664fe98e",
   "metadata": {},
   "source": [
    "Here we extend the radius not by increasing it from 1, but by measuring distance by Doc2Vec distance between nodes, which was less than 1 for the most part.  So we'll see \"alters of alter egos\" when the topics are similar enough."
   ]
  },
  {
   "cell_type": "code",
   "execution_count": 44,
   "id": "ef0b3428",
   "metadata": {},
   "outputs": [
    {
     "data": {
      "text/plain": [
       "73"
      ]
     },
     "execution_count": 44,
     "metadata": {},
     "output_type": "execute_result"
    }
   ],
   "source": [
    "pompeiier = nx.ego_graph(DG, 'Pompeii', radius=1, undirected=True, distance='d2v')\n",
    "pompeiier.number_of_nodes()"
   ]
  },
  {
   "cell_type": "markdown",
   "id": "043e8288",
   "metadata": {},
   "source": [
    "**This larger graph gets cluttered fast, being so connected. There are twice as many topics, since any node that can be reached by clicking on links that sum up to less than the radius of 1 are included.**"
   ]
  },
  {
   "cell_type": "markdown",
   "id": "8bc6cf72",
   "metadata": {},
   "source": [
    "![pompeiier](https://raw.githubusercontent.com/ebhtra/gory-graph/main/Wikispeedia/images/pompeiier.svg)"
   ]
  },
  {
   "cell_type": "markdown",
   "id": "334321d9",
   "metadata": {},
   "source": [
    "**This brings a couple of broader topics into the mix, with Spain and Portugal now on the radar, by virtue of being very closely related to topics Pompeii is very closely related to (Italy and Latin, e.g.).  There are also a lot of more specific nodes within reach now as well, for the same reason (individual Roman emperors, e.g.).  Most of those smaller nodes are still closely related to the text of Pompeii, as seen by their medium hues, yet they simply don't happen to be linked directly to Pompeii, since larger topics like \"Italy\" are more convenient links for Wiki-historians.**"
   ]
  },
  {
   "cell_type": "markdown",
   "id": "9989c39a",
   "metadata": {},
   "source": [
    "### Graph centrality metrics"
   ]
  },
  {
   "cell_type": "markdown",
   "id": "d16b2c37",
   "metadata": {},
   "source": [
    "As far as pure numbers go, we'll take a look at some of the centralities now."
   ]
  },
  {
   "cell_type": "code",
   "execution_count": 45,
   "id": "b786809d",
   "metadata": {},
   "outputs": [],
   "source": [
    "def sorted_map(dd: dict) -> dict:\n",
    "    \"\"\"\n",
    "    Sorts dict by its values (desc)\n",
    "    \n",
    "    :param dd: dictionary with numeric values\n",
    "    :return sorted dictionary ordered by its numeric value\n",
    "    \"\"\"\n",
    "    sorted_dict = sorted(dd.items(), key=lambda x: (-x[1], x[0]))\n",
    "    sorted_dict = [(x[0], round(x[1], 4)) for x in sorted_dict]\n",
    "    return sorted_dict"
   ]
  },
  {
   "cell_type": "code",
   "execution_count": 46,
   "id": "3625fc3b",
   "metadata": {},
   "outputs": [],
   "source": [
    "# takes a long time to run\n",
    "d = nx.degree_centrality(DG)\n",
    "dsm = sorted_map(d)\n",
    "\n",
    "c = nx.closeness_centrality(DG)\n",
    "csm = sorted_map(c)\n",
    "\n",
    "b = nx.betweenness_centrality(DG)\n",
    "bsm = sorted_map(b)\n",
    "\n",
    "ident1 = [x[0] for x in dsm[:15]]\n",
    "ident2 = [x[0] for x in csm[:15]]\n",
    "ident3 = [x[0] for x in bsm[:15]]\n",
    "ident = list(set(ident1) | set(ident2) | set(ident3))"
   ]
  },
  {
   "cell_type": "code",
   "execution_count": 47,
   "id": "12d4806d",
   "metadata": {},
   "outputs": [
    {
     "name": "stdout",
     "output_type": "stream",
     "text": [
      "\n",
      "\n",
      "================== Most Central Pages, ccGr[0] ================\n",
      "\n",
      "\n"
     ]
    },
    {
     "data": {
      "text/html": [
       "<div>\n",
       "<style scoped>\n",
       "    .dataframe tbody tr th:only-of-type {\n",
       "        vertical-align: middle;\n",
       "    }\n",
       "\n",
       "    .dataframe tbody tr th {\n",
       "        vertical-align: top;\n",
       "    }\n",
       "\n",
       "    .dataframe thead th {\n",
       "        text-align: right;\n",
       "    }\n",
       "</style>\n",
       "<table border=\"1\" class=\"dataframe\">\n",
       "  <thead>\n",
       "    <tr style=\"text-align: right;\">\n",
       "      <th></th>\n",
       "      <th>GroupID</th>\n",
       "      <th>Degree Centrality</th>\n",
       "      <th>Closeness</th>\n",
       "      <th>Betweenness</th>\n",
       "      <th>Sum Centrality</th>\n",
       "    </tr>\n",
       "  </thead>\n",
       "  <tbody>\n",
       "    <tr>\n",
       "      <th>6</th>\n",
       "      <td>United_States</td>\n",
       "      <td>0.401873</td>\n",
       "      <td>0.355281</td>\n",
       "      <td>0.094090</td>\n",
       "      <td>0.851245</td>\n",
       "    </tr>\n",
       "    <tr>\n",
       "      <th>11</th>\n",
       "      <td>United_Kingdom</td>\n",
       "      <td>0.248312</td>\n",
       "      <td>0.338741</td>\n",
       "      <td>0.042384</td>\n",
       "      <td>0.629437</td>\n",
       "    </tr>\n",
       "    <tr>\n",
       "      <th>10</th>\n",
       "      <td>Europe</td>\n",
       "      <td>0.237857</td>\n",
       "      <td>0.333347</td>\n",
       "      <td>0.026992</td>\n",
       "      <td>0.598195</td>\n",
       "    </tr>\n",
       "    <tr>\n",
       "      <th>2</th>\n",
       "      <td>England</td>\n",
       "      <td>0.201046</td>\n",
       "      <td>0.331894</td>\n",
       "      <td>0.032403</td>\n",
       "      <td>0.565343</td>\n",
       "    </tr>\n",
       "    <tr>\n",
       "      <th>15</th>\n",
       "      <td>France</td>\n",
       "      <td>0.227401</td>\n",
       "      <td>0.317500</td>\n",
       "      <td>0.012002</td>\n",
       "      <td>0.556903</td>\n",
       "    </tr>\n",
       "    <tr>\n",
       "      <th>8</th>\n",
       "      <td>Germany</td>\n",
       "      <td>0.198650</td>\n",
       "      <td>0.336069</td>\n",
       "      <td>0.019409</td>\n",
       "      <td>0.554128</td>\n",
       "    </tr>\n",
       "    <tr>\n",
       "      <th>20</th>\n",
       "      <td>World_War_II</td>\n",
       "      <td>0.189501</td>\n",
       "      <td>0.319284</td>\n",
       "      <td>0.015500</td>\n",
       "      <td>0.524285</td>\n",
       "    </tr>\n",
       "    <tr>\n",
       "      <th>19</th>\n",
       "      <td>Africa</td>\n",
       "      <td>0.150076</td>\n",
       "      <td>0.336575</td>\n",
       "      <td>0.024204</td>\n",
       "      <td>0.510855</td>\n",
       "    </tr>\n",
       "    <tr>\n",
       "      <th>3</th>\n",
       "      <td>English_language</td>\n",
       "      <td>0.155957</td>\n",
       "      <td>0.321463</td>\n",
       "      <td>0.014041</td>\n",
       "      <td>0.491461</td>\n",
       "    </tr>\n",
       "    <tr>\n",
       "      <th>22</th>\n",
       "      <td>Japan</td>\n",
       "      <td>0.146156</td>\n",
       "      <td>0.324170</td>\n",
       "      <td>0.012973</td>\n",
       "      <td>0.483299</td>\n",
       "    </tr>\n",
       "    <tr>\n",
       "      <th>18</th>\n",
       "      <td>London</td>\n",
       "      <td>0.150076</td>\n",
       "      <td>0.318092</td>\n",
       "      <td>0.014675</td>\n",
       "      <td>0.482844</td>\n",
       "    </tr>\n",
       "    <tr>\n",
       "      <th>12</th>\n",
       "      <td>India</td>\n",
       "      <td>0.150730</td>\n",
       "      <td>0.316126</td>\n",
       "      <td>0.011256</td>\n",
       "      <td>0.478112</td>\n",
       "    </tr>\n",
       "    <tr>\n",
       "      <th>21</th>\n",
       "      <td>Australia</td>\n",
       "      <td>0.141364</td>\n",
       "      <td>0.317444</td>\n",
       "      <td>0.012527</td>\n",
       "      <td>0.471334</td>\n",
       "    </tr>\n",
       "    <tr>\n",
       "      <th>14</th>\n",
       "      <td>Italy</td>\n",
       "      <td>0.138314</td>\n",
       "      <td>0.317697</td>\n",
       "      <td>0.007087</td>\n",
       "      <td>0.463098</td>\n",
       "    </tr>\n",
       "    <tr>\n",
       "      <th>16</th>\n",
       "      <td>19th_century</td>\n",
       "      <td>0.098671</td>\n",
       "      <td>0.340060</td>\n",
       "      <td>0.014824</td>\n",
       "      <td>0.453555</td>\n",
       "    </tr>\n",
       "    <tr>\n",
       "      <th>1</th>\n",
       "      <td>Canada</td>\n",
       "      <td>0.138096</td>\n",
       "      <td>0.305419</td>\n",
       "      <td>0.009267</td>\n",
       "      <td>0.452782</td>\n",
       "    </tr>\n",
       "    <tr>\n",
       "      <th>13</th>\n",
       "      <td>Earth</td>\n",
       "      <td>0.084295</td>\n",
       "      <td>0.328755</td>\n",
       "      <td>0.013850</td>\n",
       "      <td>0.426900</td>\n",
       "    </tr>\n",
       "    <tr>\n",
       "      <th>17</th>\n",
       "      <td>Israel</td>\n",
       "      <td>0.088216</td>\n",
       "      <td>0.333223</td>\n",
       "      <td>0.004333</td>\n",
       "      <td>0.425772</td>\n",
       "    </tr>\n",
       "    <tr>\n",
       "      <th>25</th>\n",
       "      <td>Argentina</td>\n",
       "      <td>0.076672</td>\n",
       "      <td>0.341325</td>\n",
       "      <td>0.007605</td>\n",
       "      <td>0.425601</td>\n",
       "    </tr>\n",
       "    <tr>\n",
       "      <th>23</th>\n",
       "      <td>Water</td>\n",
       "      <td>0.070137</td>\n",
       "      <td>0.333409</td>\n",
       "      <td>0.008643</td>\n",
       "      <td>0.412189</td>\n",
       "    </tr>\n",
       "    <tr>\n",
       "      <th>7</th>\n",
       "      <td>Lebanon</td>\n",
       "      <td>0.066652</td>\n",
       "      <td>0.333720</td>\n",
       "      <td>0.001499</td>\n",
       "      <td>0.401871</td>\n",
       "    </tr>\n",
       "    <tr>\n",
       "      <th>0</th>\n",
       "      <td>British_Empire</td>\n",
       "      <td>0.059029</td>\n",
       "      <td>0.333254</td>\n",
       "      <td>0.003482</td>\n",
       "      <td>0.395764</td>\n",
       "    </tr>\n",
       "    <tr>\n",
       "      <th>5</th>\n",
       "      <td>Driving_on_the_left_or_right</td>\n",
       "      <td>0.055543</td>\n",
       "      <td>0.338396</td>\n",
       "      <td>0.000000</td>\n",
       "      <td>0.393939</td>\n",
       "    </tr>\n",
       "    <tr>\n",
       "      <th>4</th>\n",
       "      <td>21st_century</td>\n",
       "      <td>0.041168</td>\n",
       "      <td>0.344378</td>\n",
       "      <td>0.004867</td>\n",
       "      <td>0.390413</td>\n",
       "    </tr>\n",
       "    <tr>\n",
       "      <th>24</th>\n",
       "      <td>History_of_the_world</td>\n",
       "      <td>0.033544</td>\n",
       "      <td>0.342336</td>\n",
       "      <td>0.000184</td>\n",
       "      <td>0.376064</td>\n",
       "    </tr>\n",
       "    <tr>\n",
       "      <th>9</th>\n",
       "      <td>Swastika</td>\n",
       "      <td>0.026356</td>\n",
       "      <td>0.336133</td>\n",
       "      <td>0.000578</td>\n",
       "      <td>0.363067</td>\n",
       "    </tr>\n",
       "  </tbody>\n",
       "</table>\n",
       "</div>"
      ],
      "text/plain": [
       "                         GroupID  Degree Centrality  Closeness  Betweenness  \\\n",
       "6                  United_States           0.401873   0.355281     0.094090   \n",
       "11                United_Kingdom           0.248312   0.338741     0.042384   \n",
       "10                        Europe           0.237857   0.333347     0.026992   \n",
       "2                        England           0.201046   0.331894     0.032403   \n",
       "15                        France           0.227401   0.317500     0.012002   \n",
       "8                        Germany           0.198650   0.336069     0.019409   \n",
       "20                  World_War_II           0.189501   0.319284     0.015500   \n",
       "19                        Africa           0.150076   0.336575     0.024204   \n",
       "3               English_language           0.155957   0.321463     0.014041   \n",
       "22                         Japan           0.146156   0.324170     0.012973   \n",
       "18                        London           0.150076   0.318092     0.014675   \n",
       "12                         India           0.150730   0.316126     0.011256   \n",
       "21                     Australia           0.141364   0.317444     0.012527   \n",
       "14                         Italy           0.138314   0.317697     0.007087   \n",
       "16                  19th_century           0.098671   0.340060     0.014824   \n",
       "1                         Canada           0.138096   0.305419     0.009267   \n",
       "13                         Earth           0.084295   0.328755     0.013850   \n",
       "17                        Israel           0.088216   0.333223     0.004333   \n",
       "25                     Argentina           0.076672   0.341325     0.007605   \n",
       "23                         Water           0.070137   0.333409     0.008643   \n",
       "7                        Lebanon           0.066652   0.333720     0.001499   \n",
       "0                 British_Empire           0.059029   0.333254     0.003482   \n",
       "5   Driving_on_the_left_or_right           0.055543   0.338396     0.000000   \n",
       "4                   21st_century           0.041168   0.344378     0.004867   \n",
       "24          History_of_the_world           0.033544   0.342336     0.000184   \n",
       "9                       Swastika           0.026356   0.336133     0.000578   \n",
       "\n",
       "    Sum Centrality  \n",
       "6         0.851245  \n",
       "11        0.629437  \n",
       "10        0.598195  \n",
       "2         0.565343  \n",
       "15        0.556903  \n",
       "8         0.554128  \n",
       "20        0.524285  \n",
       "19        0.510855  \n",
       "3         0.491461  \n",
       "22        0.483299  \n",
       "18        0.482844  \n",
       "12        0.478112  \n",
       "21        0.471334  \n",
       "14        0.463098  \n",
       "16        0.453555  \n",
       "1         0.452782  \n",
       "13        0.426900  \n",
       "17        0.425772  \n",
       "25        0.425601  \n",
       "23        0.412189  \n",
       "7         0.401871  \n",
       "0         0.395764  \n",
       "5         0.393939  \n",
       "4         0.390413  \n",
       "24        0.376064  \n",
       "9         0.363067  "
      ]
     },
     "execution_count": 47,
     "metadata": {},
     "output_type": "execute_result"
    }
   ],
   "source": [
    "summary_df = pd.DataFrame({'GroupID': ident,\n",
    "    'Degree Centrality': [d[i] for i in ident],\n",
    "    'Closeness': [c[i] for i in ident], \n",
    "    'Betweenness': [b[i] for i in ident]})\n",
    "\n",
    "\n",
    "summary_df['Sum Centrality'] = sum([summary_df['Degree Centrality'],\n",
    "                                   summary_df.Closeness,\n",
    "                                   summary_df.Betweenness])\n",
    "\n",
    "print('\\n\\n================== Most Central Pages, ccGr[0] ================\\n\\n')\n",
    "summary_df.sort_values(by='Sum Centrality', ascending=False)"
   ]
  },
  {
   "cell_type": "markdown",
   "id": "5a7cd22d",
   "metadata": {},
   "source": [
    "We see there which topics are going to appear on many shortest paths.  Primarily it's geographic entities (again, especially the Wikipedia-centric ones), and then some recent centuries, Water, and then Driving_on_the_left_or_right. The latter is a classic example of what we call a specific topic. It will have a really low in-degree to out-degree ratio, since almost no articles are interested in linking to it, yet it presumably points at a global list of countries.  That's why its closeness is high (it can lead you to anywhere, as long as you start at it) yet it has no betweenness (You can't actually get to it).  It's like a skeleton key that's locked in a box that only it opens."
   ]
  },
  {
   "cell_type": "code",
   "execution_count": 49,
   "id": "38894e6a",
   "metadata": {},
   "outputs": [
    {
     "data": {
      "text/html": [
       "<div>\n",
       "<style scoped>\n",
       "    .dataframe tbody tr th:only-of-type {\n",
       "        vertical-align: middle;\n",
       "    }\n",
       "\n",
       "    .dataframe tbody tr th {\n",
       "        vertical-align: top;\n",
       "    }\n",
       "\n",
       "    .dataframe thead th {\n",
       "        text-align: right;\n",
       "    }\n",
       "</style>\n",
       "<table border=\"1\" class=\"dataframe\">\n",
       "  <thead>\n",
       "    <tr style=\"text-align: right;\">\n",
       "      <th></th>\n",
       "      <th>topic</th>\n",
       "      <th>in_dgr</th>\n",
       "      <th>out_dgr</th>\n",
       "      <th>generality</th>\n",
       "    </tr>\n",
       "  </thead>\n",
       "  <tbody>\n",
       "    <tr>\n",
       "      <th>304</th>\n",
       "      <td>Driving_on_the_left_or_right</td>\n",
       "      <td>0</td>\n",
       "      <td>255</td>\n",
       "      <td>0.0</td>\n",
       "    </tr>\n",
       "  </tbody>\n",
       "</table>\n",
       "</div>"
      ],
      "text/plain": [
       "                            topic  in_dgr  out_dgr  generality\n",
       "304  Driving_on_the_left_or_right       0      255         0.0"
      ]
     },
     "execution_count": 49,
     "metadata": {},
     "output_type": "execute_result"
    }
   ],
   "source": [
    "degreeDF[degreeDF.topic == 'Driving_on_the_left_or_right']"
   ]
  },
  {
   "cell_type": "markdown",
   "id": "8d639581",
   "metadata": {},
   "source": [
    "### We'll finish by analyzing paths people took and comparing them to optimal (shortest) ones."
   ]
  },
  {
   "cell_type": "code",
   "execution_count": 51,
   "id": "f8a04127",
   "metadata": {},
   "outputs": [
    {
     "data": {
      "text/html": [
       "<div>\n",
       "<style scoped>\n",
       "    .dataframe tbody tr th:only-of-type {\n",
       "        vertical-align: middle;\n",
       "    }\n",
       "\n",
       "    .dataframe tbody tr th {\n",
       "        vertical-align: top;\n",
       "    }\n",
       "\n",
       "    .dataframe thead th {\n",
       "        text-align: right;\n",
       "    }\n",
       "</style>\n",
       "<table border=\"1\" class=\"dataframe\">\n",
       "  <thead>\n",
       "    <tr style=\"text-align: right;\">\n",
       "      <th></th>\n",
       "      <th>from_to</th>\n",
       "      <th>doc2vecDist</th>\n",
       "      <th>num_times</th>\n",
       "      <th>avg_length</th>\n",
       "      <th>min_length</th>\n",
       "    </tr>\n",
       "  </thead>\n",
       "  <tbody>\n",
       "    <tr>\n",
       "      <th>0</th>\n",
       "      <td>(14th_century, African_slave_trade)</td>\n",
       "      <td>0.61065</td>\n",
       "      <td>3</td>\n",
       "      <td>6.333</td>\n",
       "      <td>4</td>\n",
       "    </tr>\n",
       "    <tr>\n",
       "      <th>1</th>\n",
       "      <td>(15th_century, African_slave_trade)</td>\n",
       "      <td>0.74161</td>\n",
       "      <td>1</td>\n",
       "      <td>7.000</td>\n",
       "      <td>7</td>\n",
       "    </tr>\n",
       "  </tbody>\n",
       "</table>\n",
       "</div>"
      ],
      "text/plain": [
       "                               from_to  doc2vecDist  num_times  avg_length  \\\n",
       "0  (14th_century, African_slave_trade)      0.61065          3       6.333   \n",
       "1  (15th_century, African_slave_trade)      0.74161          1       7.000   \n",
       "\n",
       "   min_length  \n",
       "0           4  \n",
       "1           7  "
      ]
     },
     "execution_count": 51,
     "metadata": {},
     "output_type": "execute_result"
    }
   ],
   "source": [
    "# Get all paths taken successfully\n",
    "allPaths = pd.read_csv('https://raw.githubusercontent.com/ebhtra/gory-graph/main/Wikispeedia/allPathsDF.csv', index_col=0)\n",
    "# pandas reads a tuple as a string literal, so we need to un-literal it back in to a tuple\n",
    "import ast\n",
    "allPaths['from_to'] = [ast.literal_eval(tup) for tup in allPaths.from_to]\n",
    "allPaths.head(2)"
   ]
  },
  {
   "cell_type": "code",
   "execution_count": 52,
   "id": "f66113e0",
   "metadata": {},
   "outputs": [
    {
     "data": {
      "text/plain": [
       "(140968, 5)"
      ]
     },
     "execution_count": 52,
     "metadata": {},
     "output_type": "execute_result"
    }
   ],
   "source": [
    "allPaths.shape"
   ]
  },
  {
   "cell_type": "markdown",
   "id": "f2942fee",
   "metadata": {},
   "source": [
    "Those 140K rows show where a graph navigator was in relation to her target (`from_to`), what the semantic distance was between source and target (`doc2vecDist`), how many times that source-target pair got completed, and what were the average and minimum number of clicks used to complete the navigation."
   ]
  },
  {
   "cell_type": "markdown",
   "id": "55cfae9a",
   "metadata": {},
   "source": [
    "Theoretically, the semantic distance should be more closely correlated with the minimum length, which represents some sort of ideal, rather than the average length, which represents people acting less predictably.  Maybe."
   ]
  },
  {
   "cell_type": "code",
   "execution_count": 53,
   "id": "18b73e3f",
   "metadata": {},
   "outputs": [],
   "source": [
    "from scipy.stats import pearsonr"
   ]
  },
  {
   "cell_type": "markdown",
   "id": "dcd350da",
   "metadata": {},
   "source": [
    "Correlation between average path length taken and semantic distance of source and target articles:"
   ]
  },
  {
   "cell_type": "code",
   "execution_count": 54,
   "id": "fd56d728",
   "metadata": {},
   "outputs": [
    {
     "data": {
      "text/plain": [
       "(0.08549367684556704, 6.869763708682276e-227)"
      ]
     },
     "execution_count": 54,
     "metadata": {},
     "output_type": "execute_result"
    }
   ],
   "source": [
    "pearsonr(allPaths.doc2vecDist, allPaths.avg_length)"
   ]
  },
  {
   "cell_type": "markdown",
   "id": "c47cf92a",
   "metadata": {},
   "source": [
    "And for the shortest path humans chose:"
   ]
  },
  {
   "cell_type": "code",
   "execution_count": 55,
   "id": "330dc8a0",
   "metadata": {},
   "outputs": [
    {
     "data": {
      "text/plain": [
       "(0.08729703177691492, 1.65146725435341e-236)"
      ]
     },
     "execution_count": 55,
     "metadata": {},
     "output_type": "execute_result"
    }
   ],
   "source": [
    "pearsonr(allPaths.doc2vecDist, allPaths.min_length)"
   ]
  },
  {
   "cell_type": "markdown",
   "id": "c9ed3210",
   "metadata": {},
   "source": [
    "The correlation is actually statistically the same for the two, and is real but small.\n",
    "Most likely, if we add an optimal path column to the frame, we'll find a higher correlation still.  First we need to get the shortest paths though."
   ]
  },
  {
   "cell_type": "code",
   "execution_count": 56,
   "id": "264afd53",
   "metadata": {},
   "outputs": [],
   "source": [
    "SP = []\n",
    "for (s, t), min_p in zip(allPaths.from_to, allPaths.min_length):\n",
    "    try:\n",
    "        SP.append(nx.shortest_path_length(DG, s, t, weight=None)) # No weight == links clicked\n",
    "    except nx.NetworkXNoPath:\n",
    "        SP.append(min_p)"
   ]
  },
  {
   "cell_type": "code",
   "execution_count": 57,
   "id": "deb28a5d",
   "metadata": {},
   "outputs": [
    {
     "data": {
      "text/html": [
       "<div>\n",
       "<style scoped>\n",
       "    .dataframe tbody tr th:only-of-type {\n",
       "        vertical-align: middle;\n",
       "    }\n",
       "\n",
       "    .dataframe tbody tr th {\n",
       "        vertical-align: top;\n",
       "    }\n",
       "\n",
       "    .dataframe thead th {\n",
       "        text-align: right;\n",
       "    }\n",
       "</style>\n",
       "<table border=\"1\" class=\"dataframe\">\n",
       "  <thead>\n",
       "    <tr style=\"text-align: right;\">\n",
       "      <th></th>\n",
       "      <th>from_to</th>\n",
       "      <th>doc2vecDist</th>\n",
       "      <th>num_times</th>\n",
       "      <th>avg_length</th>\n",
       "      <th>min_length</th>\n",
       "      <th>SP</th>\n",
       "    </tr>\n",
       "  </thead>\n",
       "  <tbody>\n",
       "    <tr>\n",
       "      <th>0</th>\n",
       "      <td>(14th_century, African_slave_trade)</td>\n",
       "      <td>0.61065</td>\n",
       "      <td>3</td>\n",
       "      <td>6.333</td>\n",
       "      <td>4</td>\n",
       "      <td>3</td>\n",
       "    </tr>\n",
       "    <tr>\n",
       "      <th>1</th>\n",
       "      <td>(15th_century, African_slave_trade)</td>\n",
       "      <td>0.74161</td>\n",
       "      <td>1</td>\n",
       "      <td>7.000</td>\n",
       "      <td>7</td>\n",
       "      <td>3</td>\n",
       "    </tr>\n",
       "  </tbody>\n",
       "</table>\n",
       "</div>"
      ],
      "text/plain": [
       "                               from_to  doc2vecDist  num_times  avg_length  \\\n",
       "0  (14th_century, African_slave_trade)      0.61065          3       6.333   \n",
       "1  (15th_century, African_slave_trade)      0.74161          1       7.000   \n",
       "\n",
       "   min_length  SP  \n",
       "0           4   3  \n",
       "1           7   3  "
      ]
     },
     "execution_count": 57,
     "metadata": {},
     "output_type": "execute_result"
    }
   ],
   "source": [
    "allPaths['SP'] = SP\n",
    "allPaths.head(2)"
   ]
  },
  {
   "cell_type": "markdown",
   "id": "f115d024",
   "metadata": {},
   "source": [
    "Correlation between optimal path length and semantic distance from source to target:"
   ]
  },
  {
   "cell_type": "code",
   "execution_count": 58,
   "id": "3230095b",
   "metadata": {},
   "outputs": [
    {
     "data": {
      "text/plain": [
       "(0.4738068301625643, 0.0)"
      ]
     },
     "execution_count": 58,
     "metadata": {},
     "output_type": "execute_result"
    }
   ],
   "source": [
    "pearsonr(allPaths.doc2vecDist, allPaths.SP)"
   ]
  },
  {
   "cell_type": "markdown",
   "id": "b7d645d6",
   "metadata": {},
   "source": [
    "#### **It's fun to think that the minimum shortest paths people take through the graph could somehow imply a truer measure of semantic distance between source and target, but the optimal paths are just so much more correlated with the Doc2Vec embeddings (0.47 vs 0.09) that it's hard to hang on to that notion.  The problem for us humans is that we rely on a greedy algorithm approach, where we only see the links in front of us on the current page, without knowing what links future pages will offer. The shortest paths algorithms start with the entire catalog of links and optimize a path accordingly.**"
   ]
  },
  {
   "cell_type": "markdown",
   "id": "cef2a967",
   "metadata": {},
   "source": [
    "#### Explore the trajectory of paths, both optimal and actual, in terms of generality and semantics"
   ]
  },
  {
   "cell_type": "markdown",
   "id": "c7d7df97",
   "metadata": {},
   "source": [
    "Let's start by sampling from a common shortest path length, 4."
   ]
  },
  {
   "cell_type": "code",
   "execution_count": 59,
   "id": "b01b3ff2",
   "metadata": {},
   "outputs": [
    {
     "data": {
      "text/html": [
       "<div>\n",
       "<style scoped>\n",
       "    .dataframe tbody tr th:only-of-type {\n",
       "        vertical-align: middle;\n",
       "    }\n",
       "\n",
       "    .dataframe tbody tr th {\n",
       "        vertical-align: top;\n",
       "    }\n",
       "\n",
       "    .dataframe thead th {\n",
       "        text-align: right;\n",
       "    }\n",
       "</style>\n",
       "<table border=\"1\" class=\"dataframe\">\n",
       "  <thead>\n",
       "    <tr style=\"text-align: right;\">\n",
       "      <th></th>\n",
       "      <th>from_to</th>\n",
       "      <th>doc2vecDist</th>\n",
       "      <th>num_times</th>\n",
       "      <th>avg_length</th>\n",
       "      <th>min_length</th>\n",
       "      <th>SP</th>\n",
       "    </tr>\n",
       "  </thead>\n",
       "  <tbody>\n",
       "    <tr>\n",
       "      <th>76</th>\n",
       "      <td>(Climate, Rainbow)</td>\n",
       "      <td>0.76443</td>\n",
       "      <td>3</td>\n",
       "      <td>6.667</td>\n",
       "      <td>4</td>\n",
       "      <td>4</td>\n",
       "    </tr>\n",
       "    <tr>\n",
       "      <th>160</th>\n",
       "      <td>(2004_Atlantic_hurricane_season, Buckminster_F...</td>\n",
       "      <td>0.88366</td>\n",
       "      <td>1</td>\n",
       "      <td>9.000</td>\n",
       "      <td>9</td>\n",
       "      <td>4</td>\n",
       "    </tr>\n",
       "    <tr>\n",
       "      <th>161</th>\n",
       "      <td>(U.S._state, Buckminster_Fuller)</td>\n",
       "      <td>0.94091</td>\n",
       "      <td>1</td>\n",
       "      <td>8.000</td>\n",
       "      <td>8</td>\n",
       "      <td>4</td>\n",
       "    </tr>\n",
       "    <tr>\n",
       "      <th>170</th>\n",
       "      <td>(Atlantic_Ocean, Great_comet)</td>\n",
       "      <td>0.71457</td>\n",
       "      <td>1</td>\n",
       "      <td>7.000</td>\n",
       "      <td>7</td>\n",
       "      <td>4</td>\n",
       "    </tr>\n",
       "    <tr>\n",
       "      <th>171</th>\n",
       "      <td>(Tropical_cyclone, Great_comet)</td>\n",
       "      <td>0.66922</td>\n",
       "      <td>1</td>\n",
       "      <td>6.000</td>\n",
       "      <td>6</td>\n",
       "      <td>4</td>\n",
       "    </tr>\n",
       "  </tbody>\n",
       "</table>\n",
       "</div>"
      ],
      "text/plain": [
       "                                               from_to  doc2vecDist  \\\n",
       "76                                  (Climate, Rainbow)      0.76443   \n",
       "160  (2004_Atlantic_hurricane_season, Buckminster_F...      0.88366   \n",
       "161                   (U.S._state, Buckminster_Fuller)      0.94091   \n",
       "170                      (Atlantic_Ocean, Great_comet)      0.71457   \n",
       "171                    (Tropical_cyclone, Great_comet)      0.66922   \n",
       "\n",
       "     num_times  avg_length  min_length  SP  \n",
       "76           3       6.667           4   4  \n",
       "160          1       9.000           9   4  \n",
       "161          1       8.000           8   4  \n",
       "170          1       7.000           7   4  \n",
       "171          1       6.000           6   4  "
      ]
     },
     "execution_count": 59,
     "metadata": {},
     "output_type": "execute_result"
    }
   ],
   "source": [
    "fours = allPaths[allPaths.SP==4]\n",
    "fours.head()"
   ]
  },
  {
   "cell_type": "markdown",
   "id": "77e2ee90",
   "metadata": {},
   "source": [
    "Let's inspect (Climate->Rainbow), although we still need to get all the completed paths to find which ones they occurred on--"
   ]
  },
  {
   "cell_type": "code",
   "execution_count": 61,
   "id": "63943ecb",
   "metadata": {},
   "outputs": [
    {
     "data": {
      "text/html": [
       "<div>\n",
       "<style scoped>\n",
       "    .dataframe tbody tr th:only-of-type {\n",
       "        vertical-align: middle;\n",
       "    }\n",
       "\n",
       "    .dataframe tbody tr th {\n",
       "        vertical-align: top;\n",
       "    }\n",
       "\n",
       "    .dataframe thead th {\n",
       "        text-align: right;\n",
       "    }\n",
       "</style>\n",
       "<table border=\"1\" class=\"dataframe\">\n",
       "  <thead>\n",
       "    <tr style=\"text-align: right;\">\n",
       "      <th></th>\n",
       "      <th>hashedIpAddress</th>\n",
       "      <th>timestamp</th>\n",
       "      <th>durationInSec</th>\n",
       "      <th>path</th>\n",
       "      <th>rating</th>\n",
       "    </tr>\n",
       "  </thead>\n",
       "  <tbody>\n",
       "    <tr>\n",
       "      <th>0</th>\n",
       "      <td>6a3701d319fc3754</td>\n",
       "      <td>1297740409</td>\n",
       "      <td>166</td>\n",
       "      <td>14th_century;15th_century;16th_century;Pacific...</td>\n",
       "      <td>NaN</td>\n",
       "    </tr>\n",
       "    <tr>\n",
       "      <th>1</th>\n",
       "      <td>3824310e536af032</td>\n",
       "      <td>1344753412</td>\n",
       "      <td>88</td>\n",
       "      <td>14th_century;Europe;Africa;Atlantic_slave_trad...</td>\n",
       "      <td>3.0</td>\n",
       "    </tr>\n",
       "    <tr>\n",
       "      <th>2</th>\n",
       "      <td>415612e93584d30e</td>\n",
       "      <td>1349298640</td>\n",
       "      <td>138</td>\n",
       "      <td>14th_century;Niger;Nigeria;British_Empire;Slav...</td>\n",
       "      <td>NaN</td>\n",
       "    </tr>\n",
       "    <tr>\n",
       "      <th>3</th>\n",
       "      <td>64dd5cd342e3780c</td>\n",
       "      <td>1265613925</td>\n",
       "      <td>37</td>\n",
       "      <td>14th_century;Renaissance;Ancient_Greece;Greece</td>\n",
       "      <td>NaN</td>\n",
       "    </tr>\n",
       "    <tr>\n",
       "      <th>4</th>\n",
       "      <td>015245d773376aab</td>\n",
       "      <td>1366730828</td>\n",
       "      <td>175</td>\n",
       "      <td>14th_century;Italy;Roman_Catholic_Church;HIV;R...</td>\n",
       "      <td>3.0</td>\n",
       "    </tr>\n",
       "    <tr>\n",
       "      <th>5</th>\n",
       "      <td>5295bca242be81fe</td>\n",
       "      <td>1372890414</td>\n",
       "      <td>110</td>\n",
       "      <td>14th_century;Europe;North_America;United_State...</td>\n",
       "      <td>NaN</td>\n",
       "    </tr>\n",
       "    <tr>\n",
       "      <th>6</th>\n",
       "      <td>36dabfa133b20e3c</td>\n",
       "      <td>1249525912</td>\n",
       "      <td>112</td>\n",
       "      <td>14th_century;China;Gunpowder;Fire</td>\n",
       "      <td>2.0</td>\n",
       "    </tr>\n",
       "    <tr>\n",
       "      <th>7</th>\n",
       "      <td>20418ff4797f96be</td>\n",
       "      <td>1229188046</td>\n",
       "      <td>139</td>\n",
       "      <td>14th_century;Time;Isaac_Newton;Light;Color;Rai...</td>\n",
       "      <td>1.0</td>\n",
       "    </tr>\n",
       "    <tr>\n",
       "      <th>8</th>\n",
       "      <td>08888b1b428dd90e</td>\n",
       "      <td>1232241510</td>\n",
       "      <td>74</td>\n",
       "      <td>14th_century;Time;Light;Rainbow</td>\n",
       "      <td>3.0</td>\n",
       "    </tr>\n",
       "    <tr>\n",
       "      <th>9</th>\n",
       "      <td>08888b1b428dd90e</td>\n",
       "      <td>1232241601</td>\n",
       "      <td>167</td>\n",
       "      <td>14th_century;15th_century;Plato;Nature;Ultravi...</td>\n",
       "      <td>NaN</td>\n",
       "    </tr>\n",
       "  </tbody>\n",
       "</table>\n",
       "</div>"
      ],
      "text/plain": [
       "    hashedIpAddress   timestamp  durationInSec  \\\n",
       "0  6a3701d319fc3754  1297740409            166   \n",
       "1  3824310e536af032  1344753412             88   \n",
       "2  415612e93584d30e  1349298640            138   \n",
       "3  64dd5cd342e3780c  1265613925             37   \n",
       "4  015245d773376aab  1366730828            175   \n",
       "5  5295bca242be81fe  1372890414            110   \n",
       "6  36dabfa133b20e3c  1249525912            112   \n",
       "7  20418ff4797f96be  1229188046            139   \n",
       "8  08888b1b428dd90e  1232241510             74   \n",
       "9  08888b1b428dd90e  1232241601            167   \n",
       "\n",
       "                                                path  rating  \n",
       "0  14th_century;15th_century;16th_century;Pacific...     NaN  \n",
       "1  14th_century;Europe;Africa;Atlantic_slave_trad...     3.0  \n",
       "2  14th_century;Niger;Nigeria;British_Empire;Slav...     NaN  \n",
       "3     14th_century;Renaissance;Ancient_Greece;Greece     NaN  \n",
       "4  14th_century;Italy;Roman_Catholic_Church;HIV;R...     3.0  \n",
       "5  14th_century;Europe;North_America;United_State...     NaN  \n",
       "6                  14th_century;China;Gunpowder;Fire     2.0  \n",
       "7  14th_century;Time;Isaac_Newton;Light;Color;Rai...     1.0  \n",
       "8                    14th_century;Time;Light;Rainbow     3.0  \n",
       "9  14th_century;15th_century;Plato;Nature;Ultravi...     NaN  "
      ]
     },
     "execution_count": 61,
     "metadata": {},
     "output_type": "execute_result"
    }
   ],
   "source": [
    "import numpy as np\n",
    "paths_finished = pd.read_csv(\"https://raw.githubusercontent.com/ebhtra/gory-graph/TF3/Wikispeedia/wikispeedia_paths-and-graph/paths_finished.tsv\", sep='\\t', names = np.array(['hashedIpAddress', 'timestamp', 'durationInSec', 'path', 'rating']), skiprows=16)\n",
    "from urllib import parse\n",
    "# decode UTF-8 special characters using urllib.parse.unquote()\n",
    "paths_finished['path'] = paths_finished['path'].apply(lambda x: parse.unquote(x))\n",
    "\n",
    "paths_finished.head(10)"
   ]
  },
  {
   "cell_type": "markdown",
   "id": "d5fc669a",
   "metadata": {},
   "source": [
    "Let's just keep all the paths, as lists."
   ]
  },
  {
   "cell_type": "code",
   "execution_count": 62,
   "id": "564f838f",
   "metadata": {},
   "outputs": [
    {
     "data": {
      "text/plain": [
       "51318"
      ]
     },
     "execution_count": 62,
     "metadata": {},
     "output_type": "execute_result"
    }
   ],
   "source": [
    "paths_finished = [path.split(';') for path in paths_finished.path]\n",
    "len(paths_finished)"
   ]
  },
  {
   "cell_type": "markdown",
   "id": "3fed80a2",
   "metadata": {},
   "source": [
    "For quicker lookup, we'll make a dictionary with (source, target) tuples as keys, and a list holding all the paths, for each key."
   ]
  },
  {
   "cell_type": "code",
   "execution_count": 63,
   "id": "3062512e",
   "metadata": {},
   "outputs": [],
   "source": [
    "from collections import defaultdict\n",
    "\n",
    "pathdict = defaultdict(list)\n",
    "\n",
    "for path in paths_finished:\n",
    "    pathdict[(path[0],path[-1])].append(path)"
   ]
  },
  {
   "cell_type": "markdown",
   "id": "05829371",
   "metadata": {},
   "source": [
    "How many of the 51318 paths had unique source-target pairs?"
   ]
  },
  {
   "cell_type": "code",
   "execution_count": 64,
   "id": "98d089e5",
   "metadata": {},
   "outputs": [
    {
     "data": {
      "text/plain": [
       "28718"
      ]
     },
     "execution_count": 64,
     "metadata": {},
     "output_type": "execute_result"
    }
   ],
   "source": [
    "len(pathdict)"
   ]
  },
  {
   "cell_type": "markdown",
   "id": "84ab5d40",
   "metadata": {},
   "source": [
    "Which pair was done the most?"
   ]
  },
  {
   "cell_type": "code",
   "execution_count": 65,
   "id": "f146a82d",
   "metadata": {},
   "outputs": [
    {
     "data": {
      "text/plain": [
       "('14th_century', 'African_slave_trade')"
      ]
     },
     "execution_count": 65,
     "metadata": {},
     "output_type": "execute_result"
    }
   ],
   "source": [
    "max(pathdict, key=len)"
   ]
  },
  {
   "cell_type": "code",
   "execution_count": 66,
   "id": "05b26117",
   "metadata": {},
   "outputs": [
    {
     "data": {
      "text/plain": [
       "3"
      ]
     },
     "execution_count": 66,
     "metadata": {},
     "output_type": "execute_result"
    }
   ],
   "source": [
    "len(pathdict[('14th_century', 'African_slave_trade')])"
   ]
  },
  {
   "cell_type": "markdown",
   "id": "c3cb8a76",
   "metadata": {},
   "source": [
    "**So there were apparently many source-target pairs done 3 times, and that one was first alphabetically.**"
   ]
  },
  {
   "cell_type": "code",
   "execution_count": 68,
   "id": "420dc700",
   "metadata": {},
   "outputs": [
    {
     "name": "stdout",
     "output_type": "stream",
     "text": [
      "3 ['Space_Shuttle_Challenger', 'Space_Shuttle_Endeavour', 'International_Space_Station', 'Space_Shuttle_program', 'Star_Trek', 'Technology', 'Science', 'Nature', 'Meteorology', 'Climate', 'Tropical_cyclone', 'Rain', 'Water', 'Rainbow']\n"
     ]
    }
   ],
   "source": [
    "# Let's see which paths used \"Climate\"-->\"Rainbow\" as seen above\n",
    "rainbows = [p for p in paths_finished if p[-1] == \"Rainbow\" and 'Climate' in p]\n",
    "print(len(rainbows), rainbows[1])"
   ]
  },
  {
   "cell_type": "code",
   "execution_count": 69,
   "id": "3dde0100",
   "metadata": {},
   "outputs": [
    {
     "data": {
      "text/html": [
       "<div>\n",
       "<style scoped>\n",
       "    .dataframe tbody tr th:only-of-type {\n",
       "        vertical-align: middle;\n",
       "    }\n",
       "\n",
       "    .dataframe tbody tr th {\n",
       "        vertical-align: top;\n",
       "    }\n",
       "\n",
       "    .dataframe thead th {\n",
       "        text-align: right;\n",
       "    }\n",
       "</style>\n",
       "<table border=\"1\" class=\"dataframe\">\n",
       "  <thead>\n",
       "    <tr style=\"text-align: right;\">\n",
       "      <th></th>\n",
       "      <th>from_to</th>\n",
       "      <th>doc2vecDist</th>\n",
       "      <th>num_times</th>\n",
       "      <th>avg_length</th>\n",
       "      <th>min_length</th>\n",
       "      <th>SP</th>\n",
       "    </tr>\n",
       "  </thead>\n",
       "  <tbody>\n",
       "    <tr>\n",
       "      <th>20991</th>\n",
       "      <td>(Space_Shuttle_Challenger, Rainbow)</td>\n",
       "      <td>0.83563</td>\n",
       "      <td>1</td>\n",
       "      <td>13.0</td>\n",
       "      <td>13</td>\n",
       "      <td>4</td>\n",
       "    </tr>\n",
       "  </tbody>\n",
       "</table>\n",
       "</div>"
      ],
      "text/plain": [
       "                                   from_to  doc2vecDist  num_times  \\\n",
       "20991  (Space_Shuttle_Challenger, Rainbow)      0.83563          1   \n",
       "\n",
       "       avg_length  min_length  SP  \n",
       "20991        13.0          13   4  "
      ]
     },
     "execution_count": 69,
     "metadata": {},
     "output_type": "execute_result"
    }
   ],
   "source": [
    "# details on that game:\n",
    "allPaths[allPaths.from_to == ('Space_Shuttle_Challenger', 'Rainbow')]"
   ]
  },
  {
   "cell_type": "markdown",
   "id": "d16ac2ec",
   "metadata": {},
   "source": [
    "That one got from Climate to Rainbow in the optimal length of 4.  Let's see an entire optimal path calculated by networkx."
   ]
  },
  {
   "cell_type": "code",
   "execution_count": 70,
   "id": "0a59f670",
   "metadata": {},
   "outputs": [
    {
     "data": {
      "text/plain": [
       "['Space_Shuttle_Challenger',\n",
       " 'United_States',\n",
       " 'Electronics',\n",
       " 'Color',\n",
       " 'Rainbow']"
      ]
     },
     "execution_count": 70,
     "metadata": {},
     "output_type": "execute_result"
    }
   ],
   "source": [
    "nx.shortest_path(DG, 'Space_Shuttle_Challenger', 'Rainbow')"
   ]
  },
  {
   "cell_type": "code",
   "execution_count": 71,
   "id": "612efd92",
   "metadata": {},
   "outputs": [
    {
     "data": {
      "text/plain": [
       "['Climate', 'History', 'University_of_Cambridge', 'Alan_Turing', 'Rainbow']"
      ]
     },
     "execution_count": 71,
     "metadata": {},
     "output_type": "execute_result"
    }
   ],
   "source": [
    "# and from Climate to Rainbow\n",
    "nx.shortest_path(DG, 'Climate', 'Rainbow')"
   ]
  },
  {
   "cell_type": "markdown",
   "id": "3ff39335",
   "metadata": {},
   "source": [
    "**This small sample of paths shows how unrelated source-target pairs must pass over a very general bridge, possibly not strongly related to either endpoint, in order to meet.  The human player spends time fishing around to get there, using Star_Trek to get to Science, and then gradually working her way through various climate subjects to get to Rainbow.  The computer goes directly to United_States, which is usually a good approach in Wikispeedia, and then to Electronics and Color.  Even if the source were Climate, the computer would jump to History first, and then  University_of_Cambridge and Alan_Turing, whereas any human would stick with meteorological concepts.**"
   ]
  },
  {
   "cell_type": "markdown",
   "id": "f1a053b6",
   "metadata": {},
   "source": [
    "We'll now repeat the above process with 100 randomly sampled paths of that type.  This will allow us to do some numerical analysis on potentially interesting paths.  Paths of only one or two links are less interesting, whereas source-target pairs for which the computer needs even its maximum of 6 steps aren't realistic to compare to human choices. For example:"
   ]
  },
  {
   "cell_type": "code",
   "execution_count": 72,
   "id": "33837c29",
   "metadata": {},
   "outputs": [
    {
     "data": {
      "text/html": [
       "<div>\n",
       "<style scoped>\n",
       "    .dataframe tbody tr th:only-of-type {\n",
       "        vertical-align: middle;\n",
       "    }\n",
       "\n",
       "    .dataframe tbody tr th {\n",
       "        vertical-align: top;\n",
       "    }\n",
       "\n",
       "    .dataframe thead th {\n",
       "        text-align: right;\n",
       "    }\n",
       "</style>\n",
       "<table border=\"1\" class=\"dataframe\">\n",
       "  <thead>\n",
       "    <tr style=\"text-align: right;\">\n",
       "      <th></th>\n",
       "      <th>from_to</th>\n",
       "      <th>doc2vecDist</th>\n",
       "      <th>num_times</th>\n",
       "      <th>avg_length</th>\n",
       "      <th>min_length</th>\n",
       "      <th>SP</th>\n",
       "    </tr>\n",
       "  </thead>\n",
       "  <tbody>\n",
       "    <tr>\n",
       "      <th>30288</th>\n",
       "      <td>(Osteomalacia, Cholera)</td>\n",
       "      <td>1.06277</td>\n",
       "      <td>1</td>\n",
       "      <td>7.0</td>\n",
       "      <td>7</td>\n",
       "      <td>7</td>\n",
       "    </tr>\n",
       "  </tbody>\n",
       "</table>\n",
       "</div>"
      ],
      "text/plain": [
       "                       from_to  doc2vecDist  num_times  avg_length  \\\n",
       "30288  (Osteomalacia, Cholera)      1.06277          1         7.0   \n",
       "\n",
       "       min_length  SP  \n",
       "30288           7   7  "
      ]
     },
     "execution_count": 72,
     "metadata": {},
     "output_type": "execute_result"
    }
   ],
   "source": [
    "allPaths = allPaths[allPaths.SP < 18] # there's one error row of SP==18\n",
    "allPaths[allPaths.SP == max(allPaths.SP)]"
   ]
  },
  {
   "cell_type": "markdown",
   "id": "0486ee4c",
   "metadata": {},
   "source": [
    "That's also an error row, as the computer doesn't have that source topic in its links list, as provided to us."
   ]
  },
  {
   "cell_type": "code",
   "execution_count": 73,
   "id": "aa9b4ab8",
   "metadata": {},
   "outputs": [
    {
     "name": "stdout",
     "output_type": "stream",
     "text": [
      "There were only 31 cases out of the 140K pairs where a computer needs even 6 steps to connect them.\n"
     ]
    },
    {
     "data": {
      "text/html": [
       "<div>\n",
       "<style scoped>\n",
       "    .dataframe tbody tr th:only-of-type {\n",
       "        vertical-align: middle;\n",
       "    }\n",
       "\n",
       "    .dataframe tbody tr th {\n",
       "        vertical-align: top;\n",
       "    }\n",
       "\n",
       "    .dataframe thead th {\n",
       "        text-align: right;\n",
       "    }\n",
       "</style>\n",
       "<table border=\"1\" class=\"dataframe\">\n",
       "  <thead>\n",
       "    <tr style=\"text-align: right;\">\n",
       "      <th></th>\n",
       "      <th>from_to</th>\n",
       "      <th>doc2vecDist</th>\n",
       "      <th>num_times</th>\n",
       "      <th>avg_length</th>\n",
       "      <th>min_length</th>\n",
       "      <th>SP</th>\n",
       "    </tr>\n",
       "  </thead>\n",
       "  <tbody>\n",
       "    <tr>\n",
       "      <th>4188</th>\n",
       "      <td>(Batman, Wikisource)</td>\n",
       "      <td>0.86346</td>\n",
       "      <td>4</td>\n",
       "      <td>19.500</td>\n",
       "      <td>8</td>\n",
       "      <td>6</td>\n",
       "    </tr>\n",
       "    <tr>\n",
       "      <th>4207</th>\n",
       "      <td>(Computer_science, Wikisource)</td>\n",
       "      <td>0.64762</td>\n",
       "      <td>3</td>\n",
       "      <td>20.333</td>\n",
       "      <td>13</td>\n",
       "      <td>6</td>\n",
       "    </tr>\n",
       "    <tr>\n",
       "      <th>11249</th>\n",
       "      <td>(First_Macedonian_War, Upsilon_Andromedae_c)</td>\n",
       "      <td>0.83542</td>\n",
       "      <td>1</td>\n",
       "      <td>17.000</td>\n",
       "      <td>17</td>\n",
       "      <td>6</td>\n",
       "    </tr>\n",
       "    <tr>\n",
       "      <th>11254</th>\n",
       "      <td>(Liberal_democracy, Upsilon_Andromedae_c)</td>\n",
       "      <td>0.83511</td>\n",
       "      <td>1</td>\n",
       "      <td>12.000</td>\n",
       "      <td>12</td>\n",
       "      <td>6</td>\n",
       "    </tr>\n",
       "    <tr>\n",
       "      <th>11257</th>\n",
       "      <td>(Pre-Raphaelite_Brotherhood, Upsilon_Andromeda...</td>\n",
       "      <td>0.84369</td>\n",
       "      <td>1</td>\n",
       "      <td>9.000</td>\n",
       "      <td>9</td>\n",
       "      <td>6</td>\n",
       "    </tr>\n",
       "  </tbody>\n",
       "</table>\n",
       "</div>"
      ],
      "text/plain": [
       "                                                 from_to  doc2vecDist  \\\n",
       "4188                                (Batman, Wikisource)      0.86346   \n",
       "4207                      (Computer_science, Wikisource)      0.64762   \n",
       "11249       (First_Macedonian_War, Upsilon_Andromedae_c)      0.83542   \n",
       "11254          (Liberal_democracy, Upsilon_Andromedae_c)      0.83511   \n",
       "11257  (Pre-Raphaelite_Brotherhood, Upsilon_Andromeda...      0.84369   \n",
       "\n",
       "       num_times  avg_length  min_length  SP  \n",
       "4188           4      19.500           8   6  \n",
       "4207           3      20.333          13   6  \n",
       "11249          1      17.000          17   6  \n",
       "11254          1      12.000          12   6  \n",
       "11257          1       9.000           9   6  "
      ]
     },
     "execution_count": 73,
     "metadata": {},
     "output_type": "execute_result"
    }
   ],
   "source": [
    "sixers = allPaths[allPaths.SP == 6]\n",
    "print(f\"There were only {len(sixers)} cases out of the 140K pairs where a computer needs even 6 steps to connect them.\")\n",
    "sixers.head()"
   ]
  },
  {
   "cell_type": "markdown",
   "id": "1551c214",
   "metadata": {},
   "source": [
    "Possibly this is a good moment to pause and reflect on the six degrees of separation in a small world graph like Wikispeedia."
   ]
  },
  {
   "cell_type": "markdown",
   "id": "b818254b",
   "metadata": {},
   "source": [
    "It's apparent from a glance at that `head` that some targets (Wikisource and Upsilon_Andromedae_c) are particularly hard to get to, which will equate to having a low generality score in our calculations.  No matter where you start in Wikispeedia, you can get almost anywhere in a small number of steps, but a target that has few in-links, and maybe most of those links come from topics that themselves have few in-links, is going to be very hard to find, especially for a human. "
   ]
  },
  {
   "cell_type": "code",
   "execution_count": 74,
   "id": "e158ac14",
   "metadata": {},
   "outputs": [],
   "source": [
    "rand4 = fours.sample(100, random_state=6)  # the 100 random sample rows"
   ]
  },
  {
   "cell_type": "code",
   "execution_count": 75,
   "id": "8aa75eec",
   "metadata": {},
   "outputs": [
    {
     "data": {
      "text/html": [
       "<div>\n",
       "<style scoped>\n",
       "    .dataframe tbody tr th:only-of-type {\n",
       "        vertical-align: middle;\n",
       "    }\n",
       "\n",
       "    .dataframe tbody tr th {\n",
       "        vertical-align: top;\n",
       "    }\n",
       "\n",
       "    .dataframe thead th {\n",
       "        text-align: right;\n",
       "    }\n",
       "</style>\n",
       "<table border=\"1\" class=\"dataframe\">\n",
       "  <thead>\n",
       "    <tr style=\"text-align: right;\">\n",
       "      <th></th>\n",
       "      <th>from_to</th>\n",
       "      <th>doc2vecDist</th>\n",
       "      <th>num_times</th>\n",
       "      <th>avg_length</th>\n",
       "      <th>min_length</th>\n",
       "      <th>SP</th>\n",
       "    </tr>\n",
       "  </thead>\n",
       "  <tbody>\n",
       "    <tr>\n",
       "      <th>29755</th>\n",
       "      <td>(Age_of_Enlightenment, Sperm_Whale)</td>\n",
       "      <td>0.92214</td>\n",
       "      <td>1</td>\n",
       "      <td>5.0</td>\n",
       "      <td>5</td>\n",
       "      <td>4</td>\n",
       "    </tr>\n",
       "    <tr>\n",
       "      <th>109396</th>\n",
       "      <td>(France_in_the_American_Revolutionary_War, Iri...</td>\n",
       "      <td>0.79866</td>\n",
       "      <td>1</td>\n",
       "      <td>6.0</td>\n",
       "      <td>6</td>\n",
       "      <td>4</td>\n",
       "    </tr>\n",
       "    <tr>\n",
       "      <th>91113</th>\n",
       "      <td>(Gregor_Mendel, Turmeric)</td>\n",
       "      <td>0.83188</td>\n",
       "      <td>1</td>\n",
       "      <td>23.0</td>\n",
       "      <td>23</td>\n",
       "      <td>4</td>\n",
       "    </tr>\n",
       "    <tr>\n",
       "      <th>133465</th>\n",
       "      <td>(Market, Asparagus)</td>\n",
       "      <td>0.85644</td>\n",
       "      <td>1</td>\n",
       "      <td>15.0</td>\n",
       "      <td>15</td>\n",
       "      <td>4</td>\n",
       "    </tr>\n",
       "    <tr>\n",
       "      <th>133733</th>\n",
       "      <td>(North_Sea, Svartálfar)</td>\n",
       "      <td>0.87129</td>\n",
       "      <td>1</td>\n",
       "      <td>10.0</td>\n",
       "      <td>10</td>\n",
       "      <td>4</td>\n",
       "    </tr>\n",
       "  </tbody>\n",
       "</table>\n",
       "</div>"
      ],
      "text/plain": [
       "                                                  from_to  doc2vecDist  \\\n",
       "29755                 (Age_of_Enlightenment, Sperm_Whale)      0.92214   \n",
       "109396  (France_in_the_American_Revolutionary_War, Iri...      0.79866   \n",
       "91113                           (Gregor_Mendel, Turmeric)      0.83188   \n",
       "133465                                (Market, Asparagus)      0.85644   \n",
       "133733                            (North_Sea, Svartálfar)      0.87129   \n",
       "\n",
       "        num_times  avg_length  min_length  SP  \n",
       "29755           1         5.0           5   4  \n",
       "109396          1         6.0           6   4  \n",
       "91113           1        23.0          23   4  \n",
       "133465          1        15.0          15   4  \n",
       "133733          1        10.0          10   4  "
      ]
     },
     "execution_count": 75,
     "metadata": {},
     "output_type": "execute_result"
    }
   ],
   "source": [
    "rand4.head()"
   ]
  },
  {
   "cell_type": "markdown",
   "id": "ad3b0844",
   "metadata": {},
   "source": [
    "100 optimal paths of 4 steps:"
   ]
  },
  {
   "cell_type": "code",
   "execution_count": 76,
   "id": "613b6e31",
   "metadata": {},
   "outputs": [],
   "source": [
    "algopaths = [nx.shortest_path(DG, s, t) for s,t in rand4.from_to]"
   ]
  },
  {
   "cell_type": "markdown",
   "id": "6d82f222",
   "metadata": {},
   "source": [
    "Shortest paths navigated by humans for the same pairs:"
   ]
  },
  {
   "cell_type": "code",
   "execution_count": 77,
   "id": "5fad0e54",
   "metadata": {},
   "outputs": [],
   "source": [
    "humanpaths = []\n",
    "for (s,t), minL in zip(rand4.from_to, rand4.min_length):\n",
    "    # get all actual paths that ended at target and had source somewhere\n",
    "    paths = [p for p in paths_finished if p[-1] == t and s in p]\n",
    "    # use only the best human paths\n",
    "    for path in paths:\n",
    "        if path[-minL-1] == s:\n",
    "            humanpaths.append(path[-minL-1:])\n",
    "            break"
   ]
  },
  {
   "cell_type": "code",
   "execution_count": 79,
   "id": "702ca388",
   "metadata": {},
   "outputs": [
    {
     "name": "stdout",
     "output_type": "stream",
     "text": [
      "['Gregor_Mendel', 'Physics', 'Ancient_Greece', 'Olive_oil', 'Turmeric']\n"
     ]
    }
   ],
   "source": [
    "print(algopaths[2])"
   ]
  },
  {
   "cell_type": "code",
   "execution_count": 80,
   "id": "5970c0bf",
   "metadata": {},
   "outputs": [
    {
     "name": "stdout",
     "output_type": "stream",
     "text": [
      "['Gregor_Mendel', 'DNA_repair', 'Cancer', 'Brain', \"Alzheimer's_disease\", 'Ronald_Reagan', 'United_States', 'Japan', 'Rice', '<', 'Wasabi', 'Cultivar', 'Plant', 'Seed', 'Cotton', 'Textile', 'China', 'Japan', 'Wasabi', 'Cultivar', 'Plant', 'Safflower', 'Saffron', 'Turmeric']\n"
     ]
    }
   ],
   "source": [
    "print(humanpaths[2])"
   ]
  },
  {
   "cell_type": "markdown",
   "id": "5abada79",
   "metadata": {},
   "source": [
    "Notice the '<' characters in the above humanpath.\n",
    "\n",
    "Some Wikispeedia rules disallow hitting the `back` button (shown as '<' here).  The paths in the dataset we're using result from a more lenient set of rules, which is only fair, since humans don't get as much info as computers do, as discussed above.  So we'll eliminate backspaces."
   ]
  },
  {
   "cell_type": "code",
   "execution_count": 81,
   "id": "b5811376",
   "metadata": {},
   "outputs": [
    {
     "name": "stdout",
     "output_type": "stream",
     "text": [
      "['Gregor_Mendel', 'DNA_repair', 'Cancer', 'Brain', \"Alzheimer's_disease\", 'Ronald_Reagan', 'United_States', 'Japan', 'Rice', 'Wasabi', 'Cultivar', 'Plant', 'Seed', 'Cotton', 'Textile', 'China', 'Japan', 'Wasabi', 'Cultivar', 'Plant', 'Safflower', 'Saffron', 'Turmeric']\n"
     ]
    }
   ],
   "source": [
    "humanpaths = [[topic for topic in path if topic != '<'] for path in humanpaths]\n",
    "print(humanpaths[2])"
   ]
  },
  {
   "cell_type": "markdown",
   "id": "a1e6422f",
   "metadata": {},
   "source": [
    "#### Now collect the numbers we want for each path:  Generality of each node along the way and semantic distance for each link used."
   ]
  },
  {
   "cell_type": "code",
   "execution_count": 82,
   "id": "781d51b3",
   "metadata": {},
   "outputs": [],
   "source": [
    "# use the lookup table we made earlier for generality\n",
    "algogens = [[gens[topic] for topic in path] for path in algopaths]\n",
    "humangens = [[gens[topic] for topic in path] for path in humanpaths]"
   ]
  },
  {
   "cell_type": "code",
   "execution_count": 83,
   "id": "656f15e5",
   "metadata": {},
   "outputs": [],
   "source": [
    "# use graph edge attributes for linksims\n",
    "algosims = [[DG.edge[path[i]][path[i+1]]['d2v'] for i in range(len(path)-1)] for path in algopaths]"
   ]
  },
  {
   "cell_type": "code",
   "execution_count": 84,
   "id": "7fb6dc0b",
   "metadata": {},
   "outputs": [],
   "source": [
    "humansims = []\n",
    "for path in humanpaths:\n",
    "    sims = []\n",
    "    for i in range(len(path)-1):\n",
    "        try:\n",
    "            sims.append(DG.edge[path[i]][path[i+1]]['d2v'])\n",
    "        except KeyError:\n",
    "            sims.append(0.5)\n",
    "    humansims.append(sims)"
   ]
  },
  {
   "cell_type": "code",
   "execution_count": 85,
   "id": "bb9517bd",
   "metadata": {},
   "outputs": [
    {
     "data": {
      "image/png": "[encoded data removed]",
      "text/plain": [
       "<Figure size 720x360 with 1 Axes>"
      ]
     },
     "metadata": {
      "needs_background": "light"
     },
     "output_type": "display_data"
    }
   ],
   "source": [
    "meanAlgoSims = np.mean(np.array(algosims), axis=0)\n",
    "\n",
    "plt.figure(figsize=(10,5))\n",
    "plt.plot(meanAlgoSims, color='k')\n",
    "colors = list('rgbyc')\n",
    "for i in range(5,10):\n",
    "    plt.plot(np.mean(np.array([h for h in humansims if len(h) == i]), axis=0), color=colors[i-5])\n",
    "plt.title('Mean Semantic Distance between Topics Linked in Paths (Optimal (Algorithmic) is Black)')\n",
    "plt.ylabel('Doc2Vec cosine similarity of the 2 articles')\n",
    "plt.xlabel('Click Number (Lines End on the Click that Lands on Target)');"
   ]
  },
  {
   "cell_type": "markdown",
   "id": "dbe56f83",
   "metadata": {},
   "source": [
    "You can see that the algorithm spends clicks 2 and 3 moving between topics that are further away in semantic meaning compared to people, who move between more similar articles.  Once again, this is not necessarily due to the way we perceive meanings so much as the fact that we are unaware of what we'll be presented with 2 steps ahead, so we proceed more cautiously.  We get to a semantic distance of 0.45-0.48 and click home to the target from there.  The computer clicks home from about 0.53, the level at which we are surprised to find that the link we expected to lead us home does not exist (see yellow, green, blue, and cyan lines at clicks 2-5)."
   ]
  },
  {
   "cell_type": "markdown",
   "id": "3037366b",
   "metadata": {},
   "source": [
    "#### Now let's check the same chart for generality"
   ]
  },
  {
   "cell_type": "code",
   "execution_count": 86,
   "id": "524a6073",
   "metadata": {},
   "outputs": [
    {
     "data": {
      "text/plain": [
       "array([1.23529412, 1.81052632, 1.60759908, 0.91589862, 0.41052632])"
      ]
     },
     "execution_count": 86,
     "metadata": {},
     "output_type": "execute_result"
    }
   ],
   "source": [
    "# Use median instead of mean, since the standard deviation is much larger\n",
    "medianAlgoGens = np.median(np.array(algogens), axis=0)\n",
    "\n",
    "medianAlgoGens"
   ]
  },
  {
   "cell_type": "code",
   "execution_count": 87,
   "id": "dac6a10f",
   "metadata": {},
   "outputs": [
    {
     "data": {
      "image/png": "[encoded data removed]",
      "text/plain": [
       "<Figure size 720x360 with 1 Axes>"
      ]
     },
     "metadata": {
      "needs_background": "light"
     },
     "output_type": "display_data"
    }
   ],
   "source": [
    "plt.figure(figsize=(10,5))\n",
    "plt.plot(medianAlgoGens, color='k')\n",
    "colors = list('rgbyc')\n",
    "for i in range(5,10):\n",
    "    plt.plot(np.median(np.array([h for h in humangens if len(h) == i]), axis=0), color=colors[i-5])\n",
    "plt.title('Median Generality of Topics by Click Number in Path (Optimal is Black)')\n",
    "plt.ylabel('In-links / Out-links Ratio')\n",
    "plt.xlabel('Click Number');"
   ]
  },
  {
   "cell_type": "markdown",
   "id": "4f09e572",
   "metadata": {},
   "source": [
    "**We see the overall expected small-world pattern of moving to general topics as soon as you can, and then spending the majority of the solution path clicking on increasingly specific topics.  This is partly because we know these general topics provide us a gateway to the world, but also because there are simply more links leading to these topics, by our definition of generality.  If you feel like you usually pick the wrong line at the store checkout, it's because you actually pick right half the time, but spend more time thinking about it when you're in the longer line, by definition.**"
   ]
  },
  {
   "cell_type": "code",
   "execution_count": null,
   "id": "cc9689bb",
   "metadata": {},
   "outputs": [],
   "source": []
  }
 ],
 "metadata": {
  "kernelspec": {
   "display_name": "Python 3",
   "language": "python",
   "name": "python3"
  },
  "language_info": {
   "codemirror_mode": {
    "name": "ipython",
    "version": 3
   },
   "file_extension": ".py",
   "mimetype": "text/x-python",
   "name": "python",
   "nbconvert_exporter": "python",
   "pygments_lexer": "ipython3",
   "version": "3.7.10"
  }
 },
 "nbformat": 4,
 "nbformat_minor": 5
}
