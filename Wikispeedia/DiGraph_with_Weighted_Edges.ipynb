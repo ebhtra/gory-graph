{
 "cells": [
  {
   "cell_type": "markdown",
   "metadata": {},
   "source": [
    "### Importing the Network Data"
   ]
  },
  {
   "cell_type": "code",
   "execution_count": 12,
   "metadata": {},
   "outputs": [],
   "source": [
    "import pandas as pd\n",
    "import numpy as np\n",
    "import networkx as nx\n",
    "from matplotlib import pyplot as plt\n",
    "from urllib import parse\n",
    "import nltk\n",
    "from nltk.corpus import stopwords\n",
    "import re\n",
    "import os"
   ]
  },
  {
   "cell_type": "code",
   "execution_count": 13,
   "metadata": {},
   "outputs": [],
   "source": [
    "stop_words_lower = set(stopwords.words('english'))"
   ]
  },
  {
   "cell_type": "code",
   "execution_count": 159,
   "metadata": {},
   "outputs": [],
   "source": [
    "doctexts = os.listdir('./plaintext_articles/')"
   ]
  },
  {
   "cell_type": "code",
   "execution_count": 160,
   "metadata": {},
   "outputs": [
    {
     "data": {
      "text/plain": [
       "4604"
      ]
     },
     "execution_count": 160,
     "metadata": {},
     "output_type": "execute_result"
    }
   ],
   "source": [
    "len(doctexts) # So far so good--this is the right number of articles at least"
   ]
  },
  {
   "cell_type": "markdown",
   "metadata": {},
   "source": [
    "Check if the indexes align.  `articles` file has index 6 attached to \"10th_century\" article"
   ]
  },
  {
   "cell_type": "code",
   "execution_count": 161,
   "metadata": {},
   "outputs": [
    {
     "data": {
      "text/plain": [
       "'John_W._Campbell.txt'"
      ]
     },
     "execution_count": 161,
     "metadata": {},
     "output_type": "execute_result"
    }
   ],
   "source": [
    "doctexts[6]"
   ]
  },
  {
   "cell_type": "markdown",
   "metadata": {},
   "source": [
    "OK well that's not good.  Next best hope is that \"10th_century\", exactly as in `articles`, at least has an exact name match in `doctexts`"
   ]
  },
  {
   "cell_type": "code",
   "execution_count": 162,
   "metadata": {},
   "outputs": [
    {
     "data": {
      "text/plain": [
       "True"
      ]
     },
     "execution_count": 162,
     "metadata": {},
     "output_type": "execute_result"
    }
   ],
   "source": [
    "\"10th_century.txt\" in doctexts"
   ]
  },
  {
   "cell_type": "markdown",
   "metadata": {},
   "source": [
    "(breath of relief)"
   ]
  },
  {
   "cell_type": "code",
   "execution_count": 163,
   "metadata": {},
   "outputs": [],
   "source": [
    "with open('plaintext_articles/10th_century.txt', 'r') as txt:\n",
    "    doc = txt.readlines()"
   ]
  },
  {
   "cell_type": "code",
   "execution_count": 164,
   "metadata": {},
   "outputs": [
    {
     "data": {
      "text/plain": [
       "['   #copyright\\n',\n",
       " '\\n',\n",
       " '10th century\\n',\n",
       " '\\n',\n",
       " '2007 Schools Wikipedia Selection. Related subjects: General history\\n']"
      ]
     },
     "execution_count": 164,
     "metadata": {},
     "output_type": "execute_result"
    }
   ],
   "source": [
    "doc[:5]"
   ]
  },
  {
   "cell_type": "code",
   "execution_count": 165,
   "metadata": {},
   "outputs": [
    {
     "data": {
      "text/plain": [
       "' copyright th century schools wikipedia selection related subjects general history millennium st millennium bc st millennium nd millennium centuries th century th century th century decades s s s s s s s s s s means recording passage time th century century lasted overview tenth century usually regarded low point european history china also period political upheaval islamdom however cultural zenith especially spain medievalist historian technology lynn white said to modern eye nearly darkest dark ages concluded dark darkness womb similarly helen waddell wrote tenth century in textbooks disputes seventh bad eminence nadir human intellect even fifteenth century lorenzo valla described century lead iron events statue yogini goddess created kaveripakkam tamil nadu india th century enlarge statue yogini goddess created kaveripakkam tamil nadu india th century beginning medieval warm period viking groups settle northern france norse become normans foundation cluny first federated monastic order incursions magyar hungarian cavalry throughout western europe expeditions germany italy france mieszko i first duke poland baptised christian khazar kingdom attacked defeated kievan rus vladimir i prince kievan rus baptised christian collapse central lowland maya civilization end classic maya period begin post classic maya rise toltecs mexico collapse great moravia buddhist temple construction commences bagan myanmar laguna copperplate inscription kavi script inscribed luzon philippines dated saka year ad medieval croatian state becomes unified kingdom tomislav twentieth century belgian astronomer jean meeus asserts orbits nine planets within arc solar system february next time thought occur may coastal cities malay peninsula seed first recorded malay kingdoms fatimid dynasty arises eastern algeria swedish influence extends black sea christian nubian kingdom reaches peak prosperity military power early history sudan mississippian culture begins present day southern usa byzantine empire reaches height military economic strength baile tha cliath dublin founded reindeer become extinct scotland lions become extinct caucasus significant people topiltzin ce acatl quetzalcoatl semi legendaric toltec ruler exact years life unknown abd ar rahman iii cordoba nicephorus ii emperor eastern roman empire lived reigned otto great holy roman emperor lived reigned king edmund england lived reigned john tzimisces emperor eastern roman empire lived reigned hugh capet lived first capetian king france g za hungary ruler magyars lived reigned otto ii holy roman emperor lived reigned theophanu wife otto ii mother regent otto iii lived reigned tsar samuil bulgaria lived reigned vladimir i prince kievan rus lived basil ii emperor eastern roman empire lived reigned otto iii holy roman emperor lived reigned ferdowsi persian poet erik red viking explorer founded greenland ubayd allah al mahdi billah founder fatamid dynasty inventions discoveries introductions hop plant first mentioned connection beer brewing decades years s s s s s s s s s s s s retrieved http en wikipedia org wiki th century reference article mainly selected english wikipedia minor checks changes see www wikipedia org details authors sources available gnu free documentation license see also disclaimer '"
      ]
     },
     "execution_count": 165,
     "metadata": {},
     "output_type": "execute_result"
    }
   ],
   "source": [
    "doc = ' '.join([line.strip('\\n') for line in doc])\n",
    "doc_clean = \" \".join(re.sub(r'[^a-zA-Z]', ' ' , w).lower() for w in doc.split() if re.sub(r'[^a-zA-Z]',' ',w).lower() not in stop_words_lower)\n",
    "doc_clean = re.sub(r'\\s+', ' ' , doc_clean)\n",
    "doc_clean"
   ]
  },
  {
   "cell_type": "markdown",
   "metadata": {},
   "source": [
    "**We've removed all numbers there.  Seems like 4 digit years would be meaningful, but then what about 3 digit years like in this tenth-century article?  And how much info is gained by having specific years in the article, semantically?  All those individual \"s\"es, by the way, are from decades.  Are those meaningful without just being a central node through which any unrelated topic can pass?  Very open for debate....**"
   ]
  },
  {
   "cell_type": "markdown",
   "metadata": {},
   "source": [
    "To join each article with other data in other notebooks, we'll make a DataFrame with `article` column and cleaned text column.  The word \"cleaned\" seems a bit dirty at this point, but nevermind."
   ]
  },
  {
   "cell_type": "code",
   "execution_count": 166,
   "metadata": {},
   "outputs": [],
   "source": [
    "# collect all article names and cleaned texts in lists to make a DF\n",
    "# (((((THIS IS A BIT SLOPPY, BOTH PROCESS AND CODE, SO TAKES ABOUT 30-60 SECS)))))\n",
    "names = []\n",
    "texts = []\n",
    "for dt in doctexts:\n",
    "    # read in single textfile, into a list of lines\n",
    "    with open(f'plaintext_articles/{dt}', 'r') as txt:\n",
    "        doc = txt.readlines()\n",
    "    # remove endlines\n",
    "    doc = ' '.join([line.strip('\\n') for line in doc])\n",
    "    # eliminate stopwords and non-alpha characters\n",
    "    doc_clean = \" \".join(re.sub(r'[^a-zA-Z]', ' ' , w).lower() for w in doc.split() \n",
    "                         if re.sub(r'[^a-zA-Z]',' ',w).lower() not in stop_words_lower)\n",
    "    # reduce long whitespace to single spaces\n",
    "    doc_clean = re.sub(r'\\s+', ' ' , doc_clean)\n",
    "    # append article name and \"clean\" text to lists\n",
    "    names.append(dt.rstrip('.txt'))\n",
    "    texts.append(doc_clean)"
   ]
  },
  {
   "cell_type": "code",
   "execution_count": 167,
   "metadata": {},
   "outputs": [
    {
     "data": {
      "text/plain": [
       "True"
      ]
     },
     "execution_count": 167,
     "metadata": {},
     "output_type": "execute_result"
    }
   ],
   "source": [
    "len(names) == len(texts) == 4604"
   ]
  },
  {
   "cell_type": "code",
   "execution_count": 168,
   "metadata": {},
   "outputs": [],
   "source": [
    "docDF = pd.DataFrame({'article': names, 'texts': texts})"
   ]
  },
  {
   "cell_type": "code",
   "execution_count": 169,
   "metadata": {},
   "outputs": [
    {
     "data": {
      "text/html": [
       "<div>\n",
       "<style scoped>\n",
       "    .dataframe tbody tr th:only-of-type {\n",
       "        vertical-align: middle;\n",
       "    }\n",
       "\n",
       "    .dataframe tbody tr th {\n",
       "        vertical-align: top;\n",
       "    }\n",
       "\n",
       "    .dataframe thead th {\n",
       "        text-align: right;\n",
       "    }\n",
       "</style>\n",
       "<table border=\"1\" class=\"dataframe\">\n",
       "  <thead>\n",
       "    <tr style=\"text-align: right;\">\n",
       "      <th></th>\n",
       "      <th>article</th>\n",
       "      <th>texts</th>\n",
       "    </tr>\n",
       "  </thead>\n",
       "  <tbody>\n",
       "    <tr>\n",
       "      <th>0</th>\n",
       "      <td>Second_Crusade</td>\n",
       "      <td>copyright second crusade schools wikipedia se...</td>\n",
       "    </tr>\n",
       "    <tr>\n",
       "      <th>1</th>\n",
       "      <td>Navassa_Island</td>\n",
       "      <td>copyright navassa island schools wikipedia se...</td>\n",
       "    </tr>\n",
       "  </tbody>\n",
       "</table>\n",
       "</div>"
      ],
      "text/plain": [
       "          article                                              texts\n",
       "0  Second_Crusade   copyright second crusade schools wikipedia se...\n",
       "1  Navassa_Island   copyright navassa island schools wikipedia se..."
      ]
     },
     "execution_count": 169,
     "metadata": {},
     "output_type": "execute_result"
    }
   ],
   "source": [
    "docDF.head(2)"
   ]
  },
  {
   "cell_type": "code",
   "execution_count": 170,
   "metadata": {},
   "outputs": [],
   "source": [
    "# decode accents as for other files\n",
    "docDF.article = docDF.article.apply(lambda x: parse.unquote(x))"
   ]
  },
  {
   "cell_type": "code",
   "execution_count": 171,
   "metadata": {},
   "outputs": [
    {
     "data": {
      "text/plain": [
       "' copyright second crusade schools wikipedia selection related subjects military history war religiou'"
      ]
     },
     "execution_count": 171,
     "metadata": {},
     "output_type": "execute_result"
    }
   ],
   "source": [
    "docDF.texts[0][:100]"
   ]
  },
  {
   "cell_type": "markdown",
   "metadata": {},
   "source": [
    "That constant reflexivity of \"copyright\" and \"wikipedia\" is probably just the tip of the annoying iceberg, but let's erase it since we easily can."
   ]
  },
  {
   "cell_type": "code",
   "execution_count": 172,
   "metadata": {},
   "outputs": [],
   "source": [
    "docDF.texts = docDF.texts.apply(lambda txt: txt.replace('copyright', '').replace\n",
    "                                ('schools wikipedia selection related subjects', ''))"
   ]
  },
  {
   "cell_type": "code",
   "execution_count": 173,
   "metadata": {},
   "outputs": [
    {
     "data": {
      "text/html": [
       "<div>\n",
       "<style scoped>\n",
       "    .dataframe tbody tr th:only-of-type {\n",
       "        vertical-align: middle;\n",
       "    }\n",
       "\n",
       "    .dataframe tbody tr th {\n",
       "        vertical-align: top;\n",
       "    }\n",
       "\n",
       "    .dataframe thead th {\n",
       "        text-align: right;\n",
       "    }\n",
       "</style>\n",
       "<table border=\"1\" class=\"dataframe\">\n",
       "  <thead>\n",
       "    <tr style=\"text-align: right;\">\n",
       "      <th></th>\n",
       "      <th>article</th>\n",
       "      <th>texts</th>\n",
       "    </tr>\n",
       "  </thead>\n",
       "  <tbody>\n",
       "    <tr>\n",
       "      <th>0</th>\n",
       "      <td>Second_Crusade</td>\n",
       "      <td>second crusade  military history war religio...</td>\n",
       "    </tr>\n",
       "    <tr>\n",
       "      <th>1</th>\n",
       "      <td>Navassa_Island</td>\n",
       "      <td>navassa island  north american geography nav...</td>\n",
       "    </tr>\n",
       "  </tbody>\n",
       "</table>\n",
       "</div>"
      ],
      "text/plain": [
       "          article                                              texts\n",
       "0  Second_Crusade    second crusade  military history war religio...\n",
       "1  Navassa_Island    navassa island  north american geography nav..."
      ]
     },
     "execution_count": 173,
     "metadata": {},
     "output_type": "execute_result"
    }
   ],
   "source": [
    "docDF.head(2)"
   ]
  },
  {
   "cell_type": "code",
   "execution_count": 174,
   "metadata": {},
   "outputs": [],
   "source": [
    "# clean up memory\n",
    "texts = ''\n",
    "names = ''"
   ]
  },
  {
   "cell_type": "markdown",
   "metadata": {},
   "source": [
    "#### Load and process other data files"
   ]
  },
  {
   "cell_type": "code",
   "execution_count": 36,
   "metadata": {},
   "outputs": [
    {
     "data": {
      "text/html": [
       "<div>\n",
       "<style scoped>\n",
       "    .dataframe tbody tr th:only-of-type {\n",
       "        vertical-align: middle;\n",
       "    }\n",
       "\n",
       "    .dataframe tbody tr th {\n",
       "        vertical-align: top;\n",
       "    }\n",
       "\n",
       "    .dataframe thead th {\n",
       "        text-align: right;\n",
       "    }\n",
       "</style>\n",
       "<table border=\"1\" class=\"dataframe\">\n",
       "  <thead>\n",
       "    <tr style=\"text-align: right;\">\n",
       "      <th></th>\n",
       "      <th>article</th>\n",
       "    </tr>\n",
       "  </thead>\n",
       "  <tbody>\n",
       "    <tr>\n",
       "      <th>0</th>\n",
       "      <td>Áedán_mac_Gabráin</td>\n",
       "    </tr>\n",
       "    <tr>\n",
       "      <th>1</th>\n",
       "      <td>Åland</td>\n",
       "    </tr>\n",
       "    <tr>\n",
       "      <th>2</th>\n",
       "      <td>Édouard_Manet</td>\n",
       "    </tr>\n",
       "    <tr>\n",
       "      <th>3</th>\n",
       "      <td>Éire</td>\n",
       "    </tr>\n",
       "    <tr>\n",
       "      <th>4</th>\n",
       "      <td>Óengus_I_of_the_Picts</td>\n",
       "    </tr>\n",
       "    <tr>\n",
       "      <th>5</th>\n",
       "      <td>€2_commemorative_coins</td>\n",
       "    </tr>\n",
       "    <tr>\n",
       "      <th>6</th>\n",
       "      <td>10th_century</td>\n",
       "    </tr>\n",
       "    <tr>\n",
       "      <th>7</th>\n",
       "      <td>11th_century</td>\n",
       "    </tr>\n",
       "    <tr>\n",
       "      <th>8</th>\n",
       "      <td>12th_century</td>\n",
       "    </tr>\n",
       "    <tr>\n",
       "      <th>9</th>\n",
       "      <td>13th_century</td>\n",
       "    </tr>\n",
       "  </tbody>\n",
       "</table>\n",
       "</div>"
      ],
      "text/plain": [
       "                  article\n",
       "0       Áedán_mac_Gabráin\n",
       "1                   Åland\n",
       "2           Édouard_Manet\n",
       "3                    Éire\n",
       "4   Óengus_I_of_the_Picts\n",
       "5  €2_commemorative_coins\n",
       "6            10th_century\n",
       "7            11th_century\n",
       "8            12th_century\n",
       "9            13th_century"
      ]
     },
     "execution_count": 36,
     "metadata": {},
     "output_type": "execute_result"
    }
   ],
   "source": [
    "# The list of all articles.\n",
    "# Article names are URL-encoded; e.g., in Java they can be decoded using java.net.URLDecoder.decode(articleName, \"UTF-8\").\n",
    "articles = pd.read_csv(\"https://raw.githubusercontent.com/ebhtra/gory-graph/TF3/Wikispeedia/wikispeedia_paths-and-graph/articles.tsv\", sep='\\t', names = np.array(['article']), skiprows=12)\n",
    "\n",
    "# decode UTF-8 special characters using urllib.parse.unquote()\n",
    "articles['article'] = articles['article'].apply(lambda x: parse.unquote(x))\n",
    "\n",
    "articles.head(10)"
   ]
  },
  {
   "cell_type": "code",
   "execution_count": 37,
   "metadata": {},
   "outputs": [
    {
     "data": {
      "text/html": [
       "<div>\n",
       "<style scoped>\n",
       "    .dataframe tbody tr th:only-of-type {\n",
       "        vertical-align: middle;\n",
       "    }\n",
       "\n",
       "    .dataframe tbody tr th {\n",
       "        vertical-align: top;\n",
       "    }\n",
       "\n",
       "    .dataframe thead th {\n",
       "        text-align: right;\n",
       "    }\n",
       "</style>\n",
       "<table border=\"1\" class=\"dataframe\">\n",
       "  <thead>\n",
       "    <tr style=\"text-align: right;\">\n",
       "      <th></th>\n",
       "      <th>article</th>\n",
       "      <th>category</th>\n",
       "    </tr>\n",
       "  </thead>\n",
       "  <tbody>\n",
       "    <tr>\n",
       "      <th>0</th>\n",
       "      <td>Áedán_mac_Gabráin</td>\n",
       "      <td>subject.History.British_History.British_Histor...</td>\n",
       "    </tr>\n",
       "    <tr>\n",
       "      <th>1</th>\n",
       "      <td>Áedán_mac_Gabráin</td>\n",
       "      <td>subject.People.Historical_figures</td>\n",
       "    </tr>\n",
       "    <tr>\n",
       "      <th>2</th>\n",
       "      <td>Åland</td>\n",
       "      <td>subject.Countries</td>\n",
       "    </tr>\n",
       "    <tr>\n",
       "      <th>3</th>\n",
       "      <td>Åland</td>\n",
       "      <td>subject.Geography.European_Geography.European_...</td>\n",
       "    </tr>\n",
       "    <tr>\n",
       "      <th>4</th>\n",
       "      <td>Édouard_Manet</td>\n",
       "      <td>subject.People.Artists</td>\n",
       "    </tr>\n",
       "    <tr>\n",
       "      <th>5</th>\n",
       "      <td>Éire</td>\n",
       "      <td>subject.Countries</td>\n",
       "    </tr>\n",
       "    <tr>\n",
       "      <th>6</th>\n",
       "      <td>Éire</td>\n",
       "      <td>subject.Geography.European_Geography.European_...</td>\n",
       "    </tr>\n",
       "    <tr>\n",
       "      <th>7</th>\n",
       "      <td>Óengus_I_of_the_Picts</td>\n",
       "      <td>subject.History.British_History.British_Histor...</td>\n",
       "    </tr>\n",
       "    <tr>\n",
       "      <th>8</th>\n",
       "      <td>Óengus_I_of_the_Picts</td>\n",
       "      <td>subject.People.Historical_figures</td>\n",
       "    </tr>\n",
       "    <tr>\n",
       "      <th>9</th>\n",
       "      <td>€2_commemorative_coins</td>\n",
       "      <td>subject.Business_Studies.Currency</td>\n",
       "    </tr>\n",
       "  </tbody>\n",
       "</table>\n",
       "</div>"
      ],
      "text/plain": [
       "                  article                                           category\n",
       "0       Áedán_mac_Gabráin  subject.History.British_History.British_Histor...\n",
       "1       Áedán_mac_Gabráin                  subject.People.Historical_figures\n",
       "2                   Åland                                  subject.Countries\n",
       "3                   Åland  subject.Geography.European_Geography.European_...\n",
       "4           Édouard_Manet                             subject.People.Artists\n",
       "5                    Éire                                  subject.Countries\n",
       "6                    Éire  subject.Geography.European_Geography.European_...\n",
       "7   Óengus_I_of_the_Picts  subject.History.British_History.British_Histor...\n",
       "8   Óengus_I_of_the_Picts                  subject.People.Historical_figures\n",
       "9  €2_commemorative_coins                  subject.Business_Studies.Currency"
      ]
     },
     "execution_count": 37,
     "metadata": {},
     "output_type": "execute_result"
    }
   ],
   "source": [
    "# Hierarchical categories of all articles.\n",
    "# Many articles have more than one category. Some articles have no category.\n",
    "# Article names are URL-encoded; e.g., in Java they can be decoded using java.net.URLDecoder.decode(articleName, \"UTF-8\").\n",
    "categories = pd.read_csv(\"https://raw.githubusercontent.com/ebhtra/gory-graph/TF3/Wikispeedia/wikispeedia_paths-and-graph/categories.tsv\", sep='\\t', names = np.array(['article', 'category']), skiprows=13)\n",
    "\n",
    "# decode UTF-8 special characters using urllib.parse.unquote()\n",
    "categories['article'] = categories['article'].apply(lambda x: parse.unquote(x))\n",
    "\n",
    "categories.head(10)"
   ]
  },
  {
   "cell_type": "code",
   "execution_count": 38,
   "metadata": {},
   "outputs": [
    {
     "data": {
      "text/html": [
       "<div>\n",
       "<style scoped>\n",
       "    .dataframe tbody tr th:only-of-type {\n",
       "        vertical-align: middle;\n",
       "    }\n",
       "\n",
       "    .dataframe tbody tr th {\n",
       "        vertical-align: top;\n",
       "    }\n",
       "\n",
       "    .dataframe thead th {\n",
       "        text-align: right;\n",
       "    }\n",
       "</style>\n",
       "<table border=\"1\" class=\"dataframe\">\n",
       "  <thead>\n",
       "    <tr style=\"text-align: right;\">\n",
       "      <th></th>\n",
       "      <th>linkSource</th>\n",
       "      <th>linkTarget</th>\n",
       "    </tr>\n",
       "  </thead>\n",
       "  <tbody>\n",
       "    <tr>\n",
       "      <th>0</th>\n",
       "      <td>Áedán_mac_Gabráin</td>\n",
       "      <td>Bede</td>\n",
       "    </tr>\n",
       "    <tr>\n",
       "      <th>1</th>\n",
       "      <td>Áedán_mac_Gabráin</td>\n",
       "      <td>Columba</td>\n",
       "    </tr>\n",
       "    <tr>\n",
       "      <th>2</th>\n",
       "      <td>Áedán_mac_Gabráin</td>\n",
       "      <td>Dál_Riata</td>\n",
       "    </tr>\n",
       "    <tr>\n",
       "      <th>3</th>\n",
       "      <td>Áedán_mac_Gabráin</td>\n",
       "      <td>Great_Britain</td>\n",
       "    </tr>\n",
       "    <tr>\n",
       "      <th>4</th>\n",
       "      <td>Áedán_mac_Gabráin</td>\n",
       "      <td>Ireland</td>\n",
       "    </tr>\n",
       "    <tr>\n",
       "      <th>5</th>\n",
       "      <td>Áedán_mac_Gabráin</td>\n",
       "      <td>Isle_of_Man</td>\n",
       "    </tr>\n",
       "    <tr>\n",
       "      <th>6</th>\n",
       "      <td>Áedán_mac_Gabráin</td>\n",
       "      <td>Monarchy</td>\n",
       "    </tr>\n",
       "    <tr>\n",
       "      <th>7</th>\n",
       "      <td>Áedán_mac_Gabráin</td>\n",
       "      <td>Orkney</td>\n",
       "    </tr>\n",
       "    <tr>\n",
       "      <th>8</th>\n",
       "      <td>Áedán_mac_Gabráin</td>\n",
       "      <td>Picts</td>\n",
       "    </tr>\n",
       "    <tr>\n",
       "      <th>9</th>\n",
       "      <td>Áedán_mac_Gabráin</td>\n",
       "      <td>Scotland</td>\n",
       "    </tr>\n",
       "  </tbody>\n",
       "</table>\n",
       "</div>"
      ],
      "text/plain": [
       "          linkSource     linkTarget\n",
       "0  Áedán_mac_Gabráin           Bede\n",
       "1  Áedán_mac_Gabráin        Columba\n",
       "2  Áedán_mac_Gabráin      Dál_Riata\n",
       "3  Áedán_mac_Gabráin  Great_Britain\n",
       "4  Áedán_mac_Gabráin        Ireland\n",
       "5  Áedán_mac_Gabráin    Isle_of_Man\n",
       "6  Áedán_mac_Gabráin       Monarchy\n",
       "7  Áedán_mac_Gabráin         Orkney\n",
       "8  Áedán_mac_Gabráin          Picts\n",
       "9  Áedán_mac_Gabráin       Scotland"
      ]
     },
     "execution_count": 38,
     "metadata": {},
     "output_type": "execute_result"
    }
   ],
   "source": [
    "# The list of all links between articles.\n",
    "links = pd.read_csv(\"https://raw.githubusercontent.com/ebhtra/gory-graph/TF3/Wikispeedia/wikispeedia_paths-and-graph/links.tsv\", sep='\\t', names = np.array(['linkSource', 'linkTarget']), skiprows=12)\n",
    "\n",
    "# decode UTF-8 special characters using urllib.parse.unquote()\n",
    "links['linkSource'] = links['linkSource'].apply(lambda x: parse.unquote(x))\n",
    "links['linkTarget'] = links['linkTarget'].apply(lambda x: parse.unquote(x))\n",
    "\n",
    "links.head(10)"
   ]
  },
  {
   "cell_type": "code",
   "execution_count": 39,
   "metadata": {},
   "outputs": [
    {
     "data": {
      "text/html": [
       "<div>\n",
       "<style scoped>\n",
       "    .dataframe tbody tr th:only-of-type {\n",
       "        vertical-align: middle;\n",
       "    }\n",
       "\n",
       "    .dataframe tbody tr th {\n",
       "        vertical-align: top;\n",
       "    }\n",
       "\n",
       "    .dataframe thead th {\n",
       "        text-align: right;\n",
       "    }\n",
       "</style>\n",
       "<table border=\"1\" class=\"dataframe\">\n",
       "  <thead>\n",
       "    <tr style=\"text-align: right;\">\n",
       "      <th></th>\n",
       "      <th>hashedIpAddress</th>\n",
       "      <th>timestamp</th>\n",
       "      <th>durationInSec</th>\n",
       "      <th>path</th>\n",
       "      <th>rating</th>\n",
       "    </tr>\n",
       "  </thead>\n",
       "  <tbody>\n",
       "    <tr>\n",
       "      <th>0</th>\n",
       "      <td>6a3701d319fc3754</td>\n",
       "      <td>1297740409</td>\n",
       "      <td>166</td>\n",
       "      <td>14th_century;15th_century;16th_century;Pacific...</td>\n",
       "      <td>NaN</td>\n",
       "    </tr>\n",
       "    <tr>\n",
       "      <th>1</th>\n",
       "      <td>3824310e536af032</td>\n",
       "      <td>1344753412</td>\n",
       "      <td>88</td>\n",
       "      <td>14th_century;Europe;Africa;Atlantic_slave_trad...</td>\n",
       "      <td>3.0</td>\n",
       "    </tr>\n",
       "    <tr>\n",
       "      <th>2</th>\n",
       "      <td>415612e93584d30e</td>\n",
       "      <td>1349298640</td>\n",
       "      <td>138</td>\n",
       "      <td>14th_century;Niger;Nigeria;British_Empire;Slav...</td>\n",
       "      <td>NaN</td>\n",
       "    </tr>\n",
       "    <tr>\n",
       "      <th>3</th>\n",
       "      <td>64dd5cd342e3780c</td>\n",
       "      <td>1265613925</td>\n",
       "      <td>37</td>\n",
       "      <td>14th_century;Renaissance;Ancient_Greece;Greece</td>\n",
       "      <td>NaN</td>\n",
       "    </tr>\n",
       "    <tr>\n",
       "      <th>4</th>\n",
       "      <td>015245d773376aab</td>\n",
       "      <td>1366730828</td>\n",
       "      <td>175</td>\n",
       "      <td>14th_century;Italy;Roman_Catholic_Church;HIV;R...</td>\n",
       "      <td>3.0</td>\n",
       "    </tr>\n",
       "    <tr>\n",
       "      <th>5</th>\n",
       "      <td>5295bca242be81fe</td>\n",
       "      <td>1372890414</td>\n",
       "      <td>110</td>\n",
       "      <td>14th_century;Europe;North_America;United_State...</td>\n",
       "      <td>NaN</td>\n",
       "    </tr>\n",
       "    <tr>\n",
       "      <th>6</th>\n",
       "      <td>36dabfa133b20e3c</td>\n",
       "      <td>1249525912</td>\n",
       "      <td>112</td>\n",
       "      <td>14th_century;China;Gunpowder;Fire</td>\n",
       "      <td>2.0</td>\n",
       "    </tr>\n",
       "    <tr>\n",
       "      <th>7</th>\n",
       "      <td>20418ff4797f96be</td>\n",
       "      <td>1229188046</td>\n",
       "      <td>139</td>\n",
       "      <td>14th_century;Time;Isaac_Newton;Light;Color;Rai...</td>\n",
       "      <td>1.0</td>\n",
       "    </tr>\n",
       "    <tr>\n",
       "      <th>8</th>\n",
       "      <td>08888b1b428dd90e</td>\n",
       "      <td>1232241510</td>\n",
       "      <td>74</td>\n",
       "      <td>14th_century;Time;Light;Rainbow</td>\n",
       "      <td>3.0</td>\n",
       "    </tr>\n",
       "    <tr>\n",
       "      <th>9</th>\n",
       "      <td>08888b1b428dd90e</td>\n",
       "      <td>1232241601</td>\n",
       "      <td>167</td>\n",
       "      <td>14th_century;15th_century;Plato;Nature;Ultravi...</td>\n",
       "      <td>NaN</td>\n",
       "    </tr>\n",
       "  </tbody>\n",
       "</table>\n",
       "</div>"
      ],
      "text/plain": [
       "    hashedIpAddress   timestamp  durationInSec  \\\n",
       "0  6a3701d319fc3754  1297740409            166   \n",
       "1  3824310e536af032  1344753412             88   \n",
       "2  415612e93584d30e  1349298640            138   \n",
       "3  64dd5cd342e3780c  1265613925             37   \n",
       "4  015245d773376aab  1366730828            175   \n",
       "5  5295bca242be81fe  1372890414            110   \n",
       "6  36dabfa133b20e3c  1249525912            112   \n",
       "7  20418ff4797f96be  1229188046            139   \n",
       "8  08888b1b428dd90e  1232241510             74   \n",
       "9  08888b1b428dd90e  1232241601            167   \n",
       "\n",
       "                                                path  rating  \n",
       "0  14th_century;15th_century;16th_century;Pacific...     NaN  \n",
       "1  14th_century;Europe;Africa;Atlantic_slave_trad...     3.0  \n",
       "2  14th_century;Niger;Nigeria;British_Empire;Slav...     NaN  \n",
       "3     14th_century;Renaissance;Ancient_Greece;Greece     NaN  \n",
       "4  14th_century;Italy;Roman_Catholic_Church;HIV;R...     3.0  \n",
       "5  14th_century;Europe;North_America;United_State...     NaN  \n",
       "6                  14th_century;China;Gunpowder;Fire     2.0  \n",
       "7  14th_century;Time;Isaac_Newton;Light;Color;Rai...     1.0  \n",
       "8                    14th_century;Time;Light;Rainbow     3.0  \n",
       "9  14th_century;15th_century;Plato;Nature;Ultravi...     NaN  "
      ]
     },
     "execution_count": 39,
     "metadata": {},
     "output_type": "execute_result"
    }
   ],
   "source": [
    "# Successful (i.e., finished) Wikispeedia paths.\n",
    "# Article names are URL-encoded; e.g., in Java they can be decoded using java.net.URLDecoder.decode(articleName, \"UTF-8\").\n",
    "# Articles in a path are separated by \";\".\n",
    "# Back clicks are represented as \"<\".\n",
    "# Ratings are optionally given by the user after finishing the game and range from 1 (\"easy\") to 5 (\"brutal\").\n",
    "# Missing ratings are represented as \"NULL\".\n",
    "paths_finished = pd.read_csv(\"https://raw.githubusercontent.com/ebhtra/gory-graph/TF3/Wikispeedia/wikispeedia_paths-and-graph/paths_finished.tsv\", sep='\\t', names = np.array(['hashedIpAddress', 'timestamp', 'durationInSec', 'path', 'rating']), skiprows=16)\n",
    "\n",
    "# decode UTF-8 special characters using urllib.parse.unquote()\n",
    "paths_finished['path'] = paths_finished['path'].apply(lambda x: parse.unquote(x))\n",
    "\n",
    "paths_finished.head(10)"
   ]
  },
  {
   "cell_type": "code",
   "execution_count": 40,
   "metadata": {},
   "outputs": [
    {
     "data": {
      "text/html": [
       "<div>\n",
       "<style scoped>\n",
       "    .dataframe tbody tr th:only-of-type {\n",
       "        vertical-align: middle;\n",
       "    }\n",
       "\n",
       "    .dataframe tbody tr th {\n",
       "        vertical-align: top;\n",
       "    }\n",
       "\n",
       "    .dataframe thead th {\n",
       "        text-align: right;\n",
       "    }\n",
       "</style>\n",
       "<table border=\"1\" class=\"dataframe\">\n",
       "  <thead>\n",
       "    <tr style=\"text-align: right;\">\n",
       "      <th></th>\n",
       "      <th>hashedIpAddress</th>\n",
       "      <th>timestamp</th>\n",
       "      <th>durationInSec</th>\n",
       "      <th>path</th>\n",
       "      <th>target</th>\n",
       "      <th>type</th>\n",
       "    </tr>\n",
       "  </thead>\n",
       "  <tbody>\n",
       "    <tr>\n",
       "      <th>0</th>\n",
       "      <td>2426091a53125110</td>\n",
       "      <td>1297054935</td>\n",
       "      <td>1804</td>\n",
       "      <td>Obi-Wan_Kenobi</td>\n",
       "      <td>Microsoft</td>\n",
       "      <td>timeout</td>\n",
       "    </tr>\n",
       "    <tr>\n",
       "      <th>1</th>\n",
       "      <td>26141fd878806294</td>\n",
       "      <td>1297055651</td>\n",
       "      <td>1805</td>\n",
       "      <td>Julius_Caesar</td>\n",
       "      <td>Caracas</td>\n",
       "      <td>timeout</td>\n",
       "    </tr>\n",
       "    <tr>\n",
       "      <th>2</th>\n",
       "      <td>2b015fb8181c48f2</td>\n",
       "      <td>1297090819</td>\n",
       "      <td>1818</td>\n",
       "      <td>Malawi;Democracy;Alexander_the_Great</td>\n",
       "      <td>First_Crusade</td>\n",
       "      <td>timeout</td>\n",
       "    </tr>\n",
       "    <tr>\n",
       "      <th>3</th>\n",
       "      <td>53a53bc244e08a6a</td>\n",
       "      <td>1297094761</td>\n",
       "      <td>49</td>\n",
       "      <td>Paraguay</td>\n",
       "      <td>Mount_St._Helens</td>\n",
       "      <td>restart</td>\n",
       "    </tr>\n",
       "    <tr>\n",
       "      <th>4</th>\n",
       "      <td>53a53bc244e08a6a</td>\n",
       "      <td>1297099105</td>\n",
       "      <td>1808</td>\n",
       "      <td>Paraguay;Bolivia</td>\n",
       "      <td>Mount_St._Helens</td>\n",
       "      <td>timeout</td>\n",
       "    </tr>\n",
       "    <tr>\n",
       "      <th>5</th>\n",
       "      <td>131600803df4895e</td>\n",
       "      <td>1297100557</td>\n",
       "      <td>2009</td>\n",
       "      <td>Agriculture;History_of_the_world;China;Yangtze...</td>\n",
       "      <td>Grand_Canal_of_China</td>\n",
       "      <td>timeout</td>\n",
       "    </tr>\n",
       "    <tr>\n",
       "      <th>6</th>\n",
       "      <td>486bb79910fe9dd2</td>\n",
       "      <td>1297101660</td>\n",
       "      <td>1932</td>\n",
       "      <td>Mind;Christianity;Europe;Renaissance;Ancient_G...</td>\n",
       "      <td>Scouting</td>\n",
       "      <td>timeout</td>\n",
       "    </tr>\n",
       "    <tr>\n",
       "      <th>7</th>\n",
       "      <td>6d136e371e42474f</td>\n",
       "      <td>1297102070</td>\n",
       "      <td>175</td>\n",
       "      <td>4-2-0;United_States;Agriculture;Sugar;Australia</td>\n",
       "      <td>Cane_Toad</td>\n",
       "      <td>restart</td>\n",
       "    </tr>\n",
       "    <tr>\n",
       "      <th>8</th>\n",
       "      <td>6d136e371e42474f</td>\n",
       "      <td>1297102100</td>\n",
       "      <td>19</td>\n",
       "      <td>Logic</td>\n",
       "      <td>Moon_landing</td>\n",
       "      <td>restart</td>\n",
       "    </tr>\n",
       "    <tr>\n",
       "      <th>9</th>\n",
       "      <td>6d136e371e42474f</td>\n",
       "      <td>1297104110</td>\n",
       "      <td>2006</td>\n",
       "      <td>Logic;Computer_science;Science;Physical_scienc...</td>\n",
       "      <td>Moon_landing</td>\n",
       "      <td>timeout</td>\n",
       "    </tr>\n",
       "  </tbody>\n",
       "</table>\n",
       "</div>"
      ],
      "text/plain": [
       "    hashedIpAddress   timestamp  durationInSec  \\\n",
       "0  2426091a53125110  1297054935           1804   \n",
       "1  26141fd878806294  1297055651           1805   \n",
       "2  2b015fb8181c48f2  1297090819           1818   \n",
       "3  53a53bc244e08a6a  1297094761             49   \n",
       "4  53a53bc244e08a6a  1297099105           1808   \n",
       "5  131600803df4895e  1297100557           2009   \n",
       "6  486bb79910fe9dd2  1297101660           1932   \n",
       "7  6d136e371e42474f  1297102070            175   \n",
       "8  6d136e371e42474f  1297102100             19   \n",
       "9  6d136e371e42474f  1297104110           2006   \n",
       "\n",
       "                                                path                target  \\\n",
       "0                                     Obi-Wan_Kenobi             Microsoft   \n",
       "1                                      Julius_Caesar               Caracas   \n",
       "2               Malawi;Democracy;Alexander_the_Great         First_Crusade   \n",
       "3                                           Paraguay      Mount_St._Helens   \n",
       "4                                   Paraguay;Bolivia      Mount_St._Helens   \n",
       "5  Agriculture;History_of_the_world;China;Yangtze...  Grand_Canal_of_China   \n",
       "6  Mind;Christianity;Europe;Renaissance;Ancient_G...              Scouting   \n",
       "7    4-2-0;United_States;Agriculture;Sugar;Australia             Cane_Toad   \n",
       "8                                              Logic          Moon_landing   \n",
       "9  Logic;Computer_science;Science;Physical_scienc...          Moon_landing   \n",
       "\n",
       "      type  \n",
       "0  timeout  \n",
       "1  timeout  \n",
       "2  timeout  \n",
       "3  restart  \n",
       "4  timeout  \n",
       "5  timeout  \n",
       "6  timeout  \n",
       "7  restart  \n",
       "8  restart  \n",
       "9  timeout  "
      ]
     },
     "execution_count": 40,
     "metadata": {},
     "output_type": "execute_result"
    }
   ],
   "source": [
    "# Unsuccessful (i.e., unfinished) Wikispeedia paths.\n",
    "# Article names are URL-encoded; e.g., in Java they can be decoded using java.net.URLDecoder.decode(articleName, \"UTF-8\").\n",
    "# Articles in a path are separated by \";\".\n",
    "# Back clicks are represented as \"<\".\n",
    "# There are two types of quitting:\n",
    "# (1) \"timeout\" means that no click was made for 30 minutes;\n",
    "# (2) \"restart\" means that the user started a new game without finishing the current one.\n",
    "paths_unfinished = pd.read_csv(\"https://raw.githubusercontent.com/ebhtra/gory-graph/TF3/Wikispeedia/wikispeedia_paths-and-graph/paths_unfinished.tsv\", sep='\\t', names = np.array(['hashedIpAddress', 'timestamp', 'durationInSec', 'path', 'target', 'type']), skiprows=17)\n",
    "\n",
    "# decode UTF-8 special characters using urllib.parse.unquote()\n",
    "paths_unfinished['path'] = paths_unfinished['path'].apply(lambda x: parse.unquote(x))\n",
    "paths_unfinished['target'] = paths_unfinished['target'].apply(lambda x: parse.unquote(x))\n",
    "\n",
    "paths_unfinished.head(10)"
   ]
  },
  {
   "cell_type": "code",
   "execution_count": 41,
   "metadata": {},
   "outputs": [
    {
     "data": {
      "text/html": [
       "<div>\n",
       "<style scoped>\n",
       "    .dataframe tbody tr th:only-of-type {\n",
       "        vertical-align: middle;\n",
       "    }\n",
       "\n",
       "    .dataframe tbody tr th {\n",
       "        vertical-align: top;\n",
       "    }\n",
       "\n",
       "    .dataframe thead th {\n",
       "        text-align: right;\n",
       "    }\n",
       "</style>\n",
       "<table border=\"1\" class=\"dataframe\">\n",
       "  <thead>\n",
       "    <tr style=\"text-align: right;\">\n",
       "      <th></th>\n",
       "      <th>path</th>\n",
       "    </tr>\n",
       "  </thead>\n",
       "  <tbody>\n",
       "    <tr>\n",
       "      <th>0</th>\n",
       "      <td>0_____33333325634333435_2433544334_3_422343544...</td>\n",
       "    </tr>\n",
       "    <tr>\n",
       "      <th>1</th>\n",
       "      <td>_0____22222325623232424_2422544324_3_312242544...</td>\n",
       "    </tr>\n",
       "    <tr>\n",
       "      <th>2</th>\n",
       "      <td>__0___33222425623232324_2333444433_3_422343434...</td>\n",
       "    </tr>\n",
       "    <tr>\n",
       "      <th>3</th>\n",
       "      <td>___0__33333325634233334_2433434333_2_423343433...</td>\n",
       "    </tr>\n",
       "    <tr>\n",
       "      <th>4</th>\n",
       "      <td>____0_22323335633332435_2433545434_3_423343544...</td>\n",
       "    </tr>\n",
       "    <tr>\n",
       "      <th>5</th>\n",
       "      <td>_____032223324523222324_2332544333_3_422333544...</td>\n",
       "    </tr>\n",
       "    <tr>\n",
       "      <th>6</th>\n",
       "      <td>______01222324523232423_2222544334_3_422232544...</td>\n",
       "    </tr>\n",
       "    <tr>\n",
       "      <th>7</th>\n",
       "      <td>______10111414512131334_1311544323_2_311131544...</td>\n",
       "    </tr>\n",
       "    <tr>\n",
       "      <th>8</th>\n",
       "      <td>______11011414512131324_1311544323_2_311131544...</td>\n",
       "    </tr>\n",
       "    <tr>\n",
       "      <th>9</th>\n",
       "      <td>______22101325623232434_2422545434_3_422242544...</td>\n",
       "    </tr>\n",
       "  </tbody>\n",
       "</table>\n",
       "</div>"
      ],
      "text/plain": [
       "                                                path\n",
       "0  0_____33333325634333435_2433544334_3_422343544...\n",
       "1  _0____22222325623232424_2422544324_3_312242544...\n",
       "2  __0___33222425623232324_2333444433_3_422343434...\n",
       "3  ___0__33333325634233334_2433434333_2_423343433...\n",
       "4  ____0_22323335633332435_2433545434_3_423343544...\n",
       "5  _____032223324523222324_2332544333_3_422333544...\n",
       "6  ______01222324523232423_2222544334_3_422232544...\n",
       "7  ______10111414512131334_1311544323_2_311131544...\n",
       "8  ______11011414512131324_1311544323_2_311131544...\n",
       "9  ______22101325623232434_2422545434_3_422242544..."
      ]
     },
     "execution_count": 41,
     "metadata": {},
     "output_type": "execute_result"
    }
   ],
   "source": [
    "# The shortest-path distances between all pairs of articles, computed using the Floyd-Warshall algorithm. (https://en.wikipedia.org/wiki/Floyd%E2%80%93Warshall_algorithm)\n",
    "# FORMAT:\n",
    "# One row per article (the \"source\" of the shortest paths), in the same order as in articles.tsv.\n",
    "# Each row contains the distances from the source to all articles (the \"targets\" of the shortest paths),\n",
    "# again in the order of articles.tsv.\n",
    "# The shortest-path distance is represented as a single digit, with no separators between values. This\n",
    "# is possible because the longest shortest path happens to be of length 9.\n",
    "# An underscore (\"_\") is used to indicate that the target cannot be reached from the source.\n",
    "shortest_path = pd.read_csv(\"https://raw.githubusercontent.com/ebhtra/gory-graph/TF3/Wikispeedia/wikispeedia_paths-and-graph/shortest-path-distance-matrix.txt\", sep='\\t', names = np.array(['path']), skiprows=17)\n",
    "\n",
    "shortest_path.head(10)"
   ]
  },
  {
   "cell_type": "code",
   "execution_count": 42,
   "metadata": {},
   "outputs": [
    {
     "data": {
      "text/html": [
       "<div>\n",
       "<style scoped>\n",
       "    .dataframe tbody tr th:only-of-type {\n",
       "        vertical-align: middle;\n",
       "    }\n",
       "\n",
       "    .dataframe tbody tr th {\n",
       "        vertical-align: top;\n",
       "    }\n",
       "\n",
       "    .dataframe thead th {\n",
       "        text-align: right;\n",
       "    }\n",
       "</style>\n",
       "<table border=\"1\" class=\"dataframe\">\n",
       "  <thead>\n",
       "    <tr style=\"text-align: right;\">\n",
       "      <th></th>\n",
       "      <th>0</th>\n",
       "      <th>1</th>\n",
       "      <th>2</th>\n",
       "      <th>3</th>\n",
       "      <th>4</th>\n",
       "      <th>5</th>\n",
       "      <th>6</th>\n",
       "      <th>7</th>\n",
       "      <th>8</th>\n",
       "      <th>9</th>\n",
       "      <th>...</th>\n",
       "      <th>4594</th>\n",
       "      <th>4595</th>\n",
       "      <th>4596</th>\n",
       "      <th>4597</th>\n",
       "      <th>4598</th>\n",
       "      <th>4599</th>\n",
       "      <th>4600</th>\n",
       "      <th>4601</th>\n",
       "      <th>4602</th>\n",
       "      <th>4603</th>\n",
       "    </tr>\n",
       "  </thead>\n",
       "  <tbody>\n",
       "    <tr>\n",
       "      <th>0</th>\n",
       "      <td>0</td>\n",
       "      <td>_</td>\n",
       "      <td>_</td>\n",
       "      <td>_</td>\n",
       "      <td>_</td>\n",
       "      <td>_</td>\n",
       "      <td>3</td>\n",
       "      <td>3</td>\n",
       "      <td>3</td>\n",
       "      <td>3</td>\n",
       "      <td>...</td>\n",
       "      <td>4</td>\n",
       "      <td>3</td>\n",
       "      <td>3</td>\n",
       "      <td>4</td>\n",
       "      <td>4</td>\n",
       "      <td>3</td>\n",
       "      <td>4</td>\n",
       "      <td>4</td>\n",
       "      <td>4</td>\n",
       "      <td>2</td>\n",
       "    </tr>\n",
       "    <tr>\n",
       "      <th>1</th>\n",
       "      <td>_</td>\n",
       "      <td>0</td>\n",
       "      <td>_</td>\n",
       "      <td>_</td>\n",
       "      <td>_</td>\n",
       "      <td>_</td>\n",
       "      <td>2</td>\n",
       "      <td>2</td>\n",
       "      <td>2</td>\n",
       "      <td>2</td>\n",
       "      <td>...</td>\n",
       "      <td>4</td>\n",
       "      <td>2</td>\n",
       "      <td>3</td>\n",
       "      <td>4</td>\n",
       "      <td>4</td>\n",
       "      <td>3</td>\n",
       "      <td>4</td>\n",
       "      <td>3</td>\n",
       "      <td>3</td>\n",
       "      <td>3</td>\n",
       "    </tr>\n",
       "    <tr>\n",
       "      <th>2</th>\n",
       "      <td>_</td>\n",
       "      <td>_</td>\n",
       "      <td>0</td>\n",
       "      <td>_</td>\n",
       "      <td>_</td>\n",
       "      <td>_</td>\n",
       "      <td>3</td>\n",
       "      <td>3</td>\n",
       "      <td>2</td>\n",
       "      <td>2</td>\n",
       "      <td>...</td>\n",
       "      <td>4</td>\n",
       "      <td>3</td>\n",
       "      <td>2</td>\n",
       "      <td>3</td>\n",
       "      <td>4</td>\n",
       "      <td>3</td>\n",
       "      <td>4</td>\n",
       "      <td>3</td>\n",
       "      <td>3</td>\n",
       "      <td>3</td>\n",
       "    </tr>\n",
       "    <tr>\n",
       "      <th>3</th>\n",
       "      <td>_</td>\n",
       "      <td>_</td>\n",
       "      <td>_</td>\n",
       "      <td>0</td>\n",
       "      <td>_</td>\n",
       "      <td>_</td>\n",
       "      <td>3</td>\n",
       "      <td>3</td>\n",
       "      <td>3</td>\n",
       "      <td>3</td>\n",
       "      <td>...</td>\n",
       "      <td>4</td>\n",
       "      <td>2</td>\n",
       "      <td>2</td>\n",
       "      <td>3</td>\n",
       "      <td>4</td>\n",
       "      <td>3</td>\n",
       "      <td>4</td>\n",
       "      <td>4</td>\n",
       "      <td>3</td>\n",
       "      <td>3</td>\n",
       "    </tr>\n",
       "    <tr>\n",
       "      <th>4</th>\n",
       "      <td>_</td>\n",
       "      <td>_</td>\n",
       "      <td>_</td>\n",
       "      <td>_</td>\n",
       "      <td>0</td>\n",
       "      <td>_</td>\n",
       "      <td>2</td>\n",
       "      <td>2</td>\n",
       "      <td>3</td>\n",
       "      <td>2</td>\n",
       "      <td>...</td>\n",
       "      <td>4</td>\n",
       "      <td>2</td>\n",
       "      <td>3</td>\n",
       "      <td>4</td>\n",
       "      <td>4</td>\n",
       "      <td>3</td>\n",
       "      <td>4</td>\n",
       "      <td>3</td>\n",
       "      <td>3</td>\n",
       "      <td>3</td>\n",
       "    </tr>\n",
       "    <tr>\n",
       "      <th>...</th>\n",
       "      <td>...</td>\n",
       "      <td>...</td>\n",
       "      <td>...</td>\n",
       "      <td>...</td>\n",
       "      <td>...</td>\n",
       "      <td>...</td>\n",
       "      <td>...</td>\n",
       "      <td>...</td>\n",
       "      <td>...</td>\n",
       "      <td>...</td>\n",
       "      <td>...</td>\n",
       "      <td>...</td>\n",
       "      <td>...</td>\n",
       "      <td>...</td>\n",
       "      <td>...</td>\n",
       "      <td>...</td>\n",
       "      <td>...</td>\n",
       "      <td>...</td>\n",
       "      <td>...</td>\n",
       "      <td>...</td>\n",
       "      <td>...</td>\n",
       "    </tr>\n",
       "    <tr>\n",
       "      <th>4599</th>\n",
       "      <td>_</td>\n",
       "      <td>_</td>\n",
       "      <td>_</td>\n",
       "      <td>_</td>\n",
       "      <td>_</td>\n",
       "      <td>_</td>\n",
       "      <td>2</td>\n",
       "      <td>2</td>\n",
       "      <td>2</td>\n",
       "      <td>2</td>\n",
       "      <td>...</td>\n",
       "      <td>3</td>\n",
       "      <td>2</td>\n",
       "      <td>2</td>\n",
       "      <td>3</td>\n",
       "      <td>3</td>\n",
       "      <td>0</td>\n",
       "      <td>3</td>\n",
       "      <td>3</td>\n",
       "      <td>3</td>\n",
       "      <td>2</td>\n",
       "    </tr>\n",
       "    <tr>\n",
       "      <th>4600</th>\n",
       "      <td>_</td>\n",
       "      <td>_</td>\n",
       "      <td>_</td>\n",
       "      <td>_</td>\n",
       "      <td>_</td>\n",
       "      <td>_</td>\n",
       "      <td>3</td>\n",
       "      <td>3</td>\n",
       "      <td>3</td>\n",
       "      <td>3</td>\n",
       "      <td>...</td>\n",
       "      <td>3</td>\n",
       "      <td>3</td>\n",
       "      <td>2</td>\n",
       "      <td>2</td>\n",
       "      <td>3</td>\n",
       "      <td>3</td>\n",
       "      <td>0</td>\n",
       "      <td>3</td>\n",
       "      <td>4</td>\n",
       "      <td>3</td>\n",
       "    </tr>\n",
       "    <tr>\n",
       "      <th>4601</th>\n",
       "      <td>_</td>\n",
       "      <td>_</td>\n",
       "      <td>_</td>\n",
       "      <td>_</td>\n",
       "      <td>_</td>\n",
       "      <td>_</td>\n",
       "      <td>2</td>\n",
       "      <td>2</td>\n",
       "      <td>2</td>\n",
       "      <td>2</td>\n",
       "      <td>...</td>\n",
       "      <td>3</td>\n",
       "      <td>2</td>\n",
       "      <td>2</td>\n",
       "      <td>3</td>\n",
       "      <td>4</td>\n",
       "      <td>3</td>\n",
       "      <td>3</td>\n",
       "      <td>0</td>\n",
       "      <td>3</td>\n",
       "      <td>3</td>\n",
       "    </tr>\n",
       "    <tr>\n",
       "      <th>4602</th>\n",
       "      <td>_</td>\n",
       "      <td>_</td>\n",
       "      <td>_</td>\n",
       "      <td>_</td>\n",
       "      <td>_</td>\n",
       "      <td>_</td>\n",
       "      <td>3</td>\n",
       "      <td>3</td>\n",
       "      <td>3</td>\n",
       "      <td>3</td>\n",
       "      <td>...</td>\n",
       "      <td>4</td>\n",
       "      <td>3</td>\n",
       "      <td>3</td>\n",
       "      <td>4</td>\n",
       "      <td>4</td>\n",
       "      <td>3</td>\n",
       "      <td>5</td>\n",
       "      <td>4</td>\n",
       "      <td>0</td>\n",
       "      <td>3</td>\n",
       "    </tr>\n",
       "    <tr>\n",
       "      <th>4603</th>\n",
       "      <td>_</td>\n",
       "      <td>_</td>\n",
       "      <td>_</td>\n",
       "      <td>_</td>\n",
       "      <td>_</td>\n",
       "      <td>_</td>\n",
       "      <td>2</td>\n",
       "      <td>2</td>\n",
       "      <td>2</td>\n",
       "      <td>3</td>\n",
       "      <td>...</td>\n",
       "      <td>4</td>\n",
       "      <td>1</td>\n",
       "      <td>3</td>\n",
       "      <td>4</td>\n",
       "      <td>4</td>\n",
       "      <td>3</td>\n",
       "      <td>4</td>\n",
       "      <td>3</td>\n",
       "      <td>3</td>\n",
       "      <td>0</td>\n",
       "    </tr>\n",
       "  </tbody>\n",
       "</table>\n",
       "<p>4604 rows × 4604 columns</p>\n",
       "</div>"
      ],
      "text/plain": [
       "     0    1    2    3    4    5    6    7    8    9     ... 4594 4595 4596  \\\n",
       "0       0    _    _    _    _    _    3    3    3    3  ...    4    3    3   \n",
       "1       _    0    _    _    _    _    2    2    2    2  ...    4    2    3   \n",
       "2       _    _    0    _    _    _    3    3    2    2  ...    4    3    2   \n",
       "3       _    _    _    0    _    _    3    3    3    3  ...    4    2    2   \n",
       "4       _    _    _    _    0    _    2    2    3    2  ...    4    2    3   \n",
       "...   ...  ...  ...  ...  ...  ...  ...  ...  ...  ...  ...  ...  ...  ...   \n",
       "4599    _    _    _    _    _    _    2    2    2    2  ...    3    2    2   \n",
       "4600    _    _    _    _    _    _    3    3    3    3  ...    3    3    2   \n",
       "4601    _    _    _    _    _    _    2    2    2    2  ...    3    2    2   \n",
       "4602    _    _    _    _    _    _    3    3    3    3  ...    4    3    3   \n",
       "4603    _    _    _    _    _    _    2    2    2    3  ...    4    1    3   \n",
       "\n",
       "     4597 4598 4599 4600 4601 4602 4603  \n",
       "0       4    4    3    4    4    4    2  \n",
       "1       4    4    3    4    3    3    3  \n",
       "2       3    4    3    4    3    3    3  \n",
       "3       3    4    3    4    4    3    3  \n",
       "4       4    4    3    4    3    3    3  \n",
       "...   ...  ...  ...  ...  ...  ...  ...  \n",
       "4599    3    3    0    3    3    3    2  \n",
       "4600    2    3    3    0    3    4    3  \n",
       "4601    3    4    3    3    0    3    3  \n",
       "4602    4    4    3    5    4    0    3  \n",
       "4603    4    4    3    4    3    3    0  \n",
       "\n",
       "[4604 rows x 4604 columns]"
      ]
     },
     "execution_count": 42,
     "metadata": {},
     "output_type": "execute_result"
    }
   ],
   "source": [
    "# create reformatted shortest_path matrix to allow more informative analysis\n",
    "# code source: https://stackoverflow.com/questions/43848680/pandas-split-dataframe-column-for-every-character\n",
    "sp2 = shortest_path['path'].apply(lambda x: pd.Series(list(x)))\n",
    "\n",
    "sp2"
   ]
  },
  {
   "cell_type": "code",
   "execution_count": 43,
   "metadata": {},
   "outputs": [
    {
     "data": {
      "text/html": [
       "<div>\n",
       "<style scoped>\n",
       "    .dataframe tbody tr th:only-of-type {\n",
       "        vertical-align: middle;\n",
       "    }\n",
       "\n",
       "    .dataframe tbody tr th {\n",
       "        vertical-align: top;\n",
       "    }\n",
       "\n",
       "    .dataframe thead th {\n",
       "        text-align: right;\n",
       "    }\n",
       "</style>\n",
       "<table border=\"1\" class=\"dataframe\">\n",
       "  <thead>\n",
       "    <tr style=\"text-align: right;\">\n",
       "      <th></th>\n",
       "      <th>Áedán_mac_Gabráin</th>\n",
       "      <th>Åland</th>\n",
       "      <th>Édouard_Manet</th>\n",
       "      <th>Éire</th>\n",
       "      <th>Óengus_I_of_the_Picts</th>\n",
       "      <th>€2_commemorative_coins</th>\n",
       "      <th>10th_century</th>\n",
       "      <th>11th_century</th>\n",
       "      <th>12th_century</th>\n",
       "      <th>13th_century</th>\n",
       "      <th>...</th>\n",
       "      <th>Ziad_Jarrah</th>\n",
       "      <th>Zimbabwe</th>\n",
       "      <th>Zinc</th>\n",
       "      <th>Zinc_chloride</th>\n",
       "      <th>Zion_National_Park</th>\n",
       "      <th>Zionism</th>\n",
       "      <th>Zirconium</th>\n",
       "      <th>Zoroaster</th>\n",
       "      <th>Zuid-Gelders</th>\n",
       "      <th>Zulu</th>\n",
       "    </tr>\n",
       "  </thead>\n",
       "  <tbody>\n",
       "    <tr>\n",
       "      <th>Áedán_mac_Gabráin</th>\n",
       "      <td>0</td>\n",
       "      <td>_</td>\n",
       "      <td>_</td>\n",
       "      <td>_</td>\n",
       "      <td>_</td>\n",
       "      <td>_</td>\n",
       "      <td>3</td>\n",
       "      <td>3</td>\n",
       "      <td>3</td>\n",
       "      <td>3</td>\n",
       "      <td>...</td>\n",
       "      <td>4</td>\n",
       "      <td>3</td>\n",
       "      <td>3</td>\n",
       "      <td>4</td>\n",
       "      <td>4</td>\n",
       "      <td>3</td>\n",
       "      <td>4</td>\n",
       "      <td>4</td>\n",
       "      <td>4</td>\n",
       "      <td>2</td>\n",
       "    </tr>\n",
       "    <tr>\n",
       "      <th>Åland</th>\n",
       "      <td>_</td>\n",
       "      <td>0</td>\n",
       "      <td>_</td>\n",
       "      <td>_</td>\n",
       "      <td>_</td>\n",
       "      <td>_</td>\n",
       "      <td>2</td>\n",
       "      <td>2</td>\n",
       "      <td>2</td>\n",
       "      <td>2</td>\n",
       "      <td>...</td>\n",
       "      <td>4</td>\n",
       "      <td>2</td>\n",
       "      <td>3</td>\n",
       "      <td>4</td>\n",
       "      <td>4</td>\n",
       "      <td>3</td>\n",
       "      <td>4</td>\n",
       "      <td>3</td>\n",
       "      <td>3</td>\n",
       "      <td>3</td>\n",
       "    </tr>\n",
       "    <tr>\n",
       "      <th>Édouard_Manet</th>\n",
       "      <td>_</td>\n",
       "      <td>_</td>\n",
       "      <td>0</td>\n",
       "      <td>_</td>\n",
       "      <td>_</td>\n",
       "      <td>_</td>\n",
       "      <td>3</td>\n",
       "      <td>3</td>\n",
       "      <td>2</td>\n",
       "      <td>2</td>\n",
       "      <td>...</td>\n",
       "      <td>4</td>\n",
       "      <td>3</td>\n",
       "      <td>2</td>\n",
       "      <td>3</td>\n",
       "      <td>4</td>\n",
       "      <td>3</td>\n",
       "      <td>4</td>\n",
       "      <td>3</td>\n",
       "      <td>3</td>\n",
       "      <td>3</td>\n",
       "    </tr>\n",
       "    <tr>\n",
       "      <th>Éire</th>\n",
       "      <td>_</td>\n",
       "      <td>_</td>\n",
       "      <td>_</td>\n",
       "      <td>0</td>\n",
       "      <td>_</td>\n",
       "      <td>_</td>\n",
       "      <td>3</td>\n",
       "      <td>3</td>\n",
       "      <td>3</td>\n",
       "      <td>3</td>\n",
       "      <td>...</td>\n",
       "      <td>4</td>\n",
       "      <td>2</td>\n",
       "      <td>2</td>\n",
       "      <td>3</td>\n",
       "      <td>4</td>\n",
       "      <td>3</td>\n",
       "      <td>4</td>\n",
       "      <td>4</td>\n",
       "      <td>3</td>\n",
       "      <td>3</td>\n",
       "    </tr>\n",
       "    <tr>\n",
       "      <th>Óengus_I_of_the_Picts</th>\n",
       "      <td>_</td>\n",
       "      <td>_</td>\n",
       "      <td>_</td>\n",
       "      <td>_</td>\n",
       "      <td>0</td>\n",
       "      <td>_</td>\n",
       "      <td>2</td>\n",
       "      <td>2</td>\n",
       "      <td>3</td>\n",
       "      <td>2</td>\n",
       "      <td>...</td>\n",
       "      <td>4</td>\n",
       "      <td>2</td>\n",
       "      <td>3</td>\n",
       "      <td>4</td>\n",
       "      <td>4</td>\n",
       "      <td>3</td>\n",
       "      <td>4</td>\n",
       "      <td>3</td>\n",
       "      <td>3</td>\n",
       "      <td>3</td>\n",
       "    </tr>\n",
       "    <tr>\n",
       "      <th>...</th>\n",
       "      <td>...</td>\n",
       "      <td>...</td>\n",
       "      <td>...</td>\n",
       "      <td>...</td>\n",
       "      <td>...</td>\n",
       "      <td>...</td>\n",
       "      <td>...</td>\n",
       "      <td>...</td>\n",
       "      <td>...</td>\n",
       "      <td>...</td>\n",
       "      <td>...</td>\n",
       "      <td>...</td>\n",
       "      <td>...</td>\n",
       "      <td>...</td>\n",
       "      <td>...</td>\n",
       "      <td>...</td>\n",
       "      <td>...</td>\n",
       "      <td>...</td>\n",
       "      <td>...</td>\n",
       "      <td>...</td>\n",
       "      <td>...</td>\n",
       "    </tr>\n",
       "    <tr>\n",
       "      <th>Zionism</th>\n",
       "      <td>_</td>\n",
       "      <td>_</td>\n",
       "      <td>_</td>\n",
       "      <td>_</td>\n",
       "      <td>_</td>\n",
       "      <td>_</td>\n",
       "      <td>2</td>\n",
       "      <td>2</td>\n",
       "      <td>2</td>\n",
       "      <td>2</td>\n",
       "      <td>...</td>\n",
       "      <td>3</td>\n",
       "      <td>2</td>\n",
       "      <td>2</td>\n",
       "      <td>3</td>\n",
       "      <td>3</td>\n",
       "      <td>0</td>\n",
       "      <td>3</td>\n",
       "      <td>3</td>\n",
       "      <td>3</td>\n",
       "      <td>2</td>\n",
       "    </tr>\n",
       "    <tr>\n",
       "      <th>Zirconium</th>\n",
       "      <td>_</td>\n",
       "      <td>_</td>\n",
       "      <td>_</td>\n",
       "      <td>_</td>\n",
       "      <td>_</td>\n",
       "      <td>_</td>\n",
       "      <td>3</td>\n",
       "      <td>3</td>\n",
       "      <td>3</td>\n",
       "      <td>3</td>\n",
       "      <td>...</td>\n",
       "      <td>3</td>\n",
       "      <td>3</td>\n",
       "      <td>2</td>\n",
       "      <td>2</td>\n",
       "      <td>3</td>\n",
       "      <td>3</td>\n",
       "      <td>0</td>\n",
       "      <td>3</td>\n",
       "      <td>4</td>\n",
       "      <td>3</td>\n",
       "    </tr>\n",
       "    <tr>\n",
       "      <th>Zoroaster</th>\n",
       "      <td>_</td>\n",
       "      <td>_</td>\n",
       "      <td>_</td>\n",
       "      <td>_</td>\n",
       "      <td>_</td>\n",
       "      <td>_</td>\n",
       "      <td>2</td>\n",
       "      <td>2</td>\n",
       "      <td>2</td>\n",
       "      <td>2</td>\n",
       "      <td>...</td>\n",
       "      <td>3</td>\n",
       "      <td>2</td>\n",
       "      <td>2</td>\n",
       "      <td>3</td>\n",
       "      <td>4</td>\n",
       "      <td>3</td>\n",
       "      <td>3</td>\n",
       "      <td>0</td>\n",
       "      <td>3</td>\n",
       "      <td>3</td>\n",
       "    </tr>\n",
       "    <tr>\n",
       "      <th>Zuid-Gelders</th>\n",
       "      <td>_</td>\n",
       "      <td>_</td>\n",
       "      <td>_</td>\n",
       "      <td>_</td>\n",
       "      <td>_</td>\n",
       "      <td>_</td>\n",
       "      <td>3</td>\n",
       "      <td>3</td>\n",
       "      <td>3</td>\n",
       "      <td>3</td>\n",
       "      <td>...</td>\n",
       "      <td>4</td>\n",
       "      <td>3</td>\n",
       "      <td>3</td>\n",
       "      <td>4</td>\n",
       "      <td>4</td>\n",
       "      <td>3</td>\n",
       "      <td>5</td>\n",
       "      <td>4</td>\n",
       "      <td>0</td>\n",
       "      <td>3</td>\n",
       "    </tr>\n",
       "    <tr>\n",
       "      <th>Zulu</th>\n",
       "      <td>_</td>\n",
       "      <td>_</td>\n",
       "      <td>_</td>\n",
       "      <td>_</td>\n",
       "      <td>_</td>\n",
       "      <td>_</td>\n",
       "      <td>2</td>\n",
       "      <td>2</td>\n",
       "      <td>2</td>\n",
       "      <td>3</td>\n",
       "      <td>...</td>\n",
       "      <td>4</td>\n",
       "      <td>1</td>\n",
       "      <td>3</td>\n",
       "      <td>4</td>\n",
       "      <td>4</td>\n",
       "      <td>3</td>\n",
       "      <td>4</td>\n",
       "      <td>3</td>\n",
       "      <td>3</td>\n",
       "      <td>0</td>\n",
       "    </tr>\n",
       "  </tbody>\n",
       "</table>\n",
       "<p>4604 rows × 4604 columns</p>\n",
       "</div>"
      ],
      "text/plain": [
       "                      Áedán_mac_Gabráin Åland Édouard_Manet Éire  \\\n",
       "Áedán_mac_Gabráin                     0     _             _    _   \n",
       "Åland                                 _     0             _    _   \n",
       "Édouard_Manet                         _     _             0    _   \n",
       "Éire                                  _     _             _    0   \n",
       "Óengus_I_of_the_Picts                 _     _             _    _   \n",
       "...                                 ...   ...           ...  ...   \n",
       "Zionism                               _     _             _    _   \n",
       "Zirconium                             _     _             _    _   \n",
       "Zoroaster                             _     _             _    _   \n",
       "Zuid-Gelders                          _     _             _    _   \n",
       "Zulu                                  _     _             _    _   \n",
       "\n",
       "                      Óengus_I_of_the_Picts €2_commemorative_coins  \\\n",
       "Áedán_mac_Gabráin                         _                      _   \n",
       "Åland                                     _                      _   \n",
       "Édouard_Manet                             _                      _   \n",
       "Éire                                      _                      _   \n",
       "Óengus_I_of_the_Picts                     0                      _   \n",
       "...                                     ...                    ...   \n",
       "Zionism                                   _                      _   \n",
       "Zirconium                                 _                      _   \n",
       "Zoroaster                                 _                      _   \n",
       "Zuid-Gelders                              _                      _   \n",
       "Zulu                                      _                      _   \n",
       "\n",
       "                      10th_century 11th_century 12th_century 13th_century  \\\n",
       "Áedán_mac_Gabráin                3            3            3            3   \n",
       "Åland                            2            2            2            2   \n",
       "Édouard_Manet                    3            3            2            2   \n",
       "Éire                             3            3            3            3   \n",
       "Óengus_I_of_the_Picts            2            2            3            2   \n",
       "...                            ...          ...          ...          ...   \n",
       "Zionism                          2            2            2            2   \n",
       "Zirconium                        3            3            3            3   \n",
       "Zoroaster                        2            2            2            2   \n",
       "Zuid-Gelders                     3            3            3            3   \n",
       "Zulu                             2            2            2            3   \n",
       "\n",
       "                       ... Ziad_Jarrah Zimbabwe Zinc Zinc_chloride  \\\n",
       "Áedán_mac_Gabráin      ...           4        3    3             4   \n",
       "Åland                  ...           4        2    3             4   \n",
       "Édouard_Manet          ...           4        3    2             3   \n",
       "Éire                   ...           4        2    2             3   \n",
       "Óengus_I_of_the_Picts  ...           4        2    3             4   \n",
       "...                    ...         ...      ...  ...           ...   \n",
       "Zionism                ...           3        2    2             3   \n",
       "Zirconium              ...           3        3    2             2   \n",
       "Zoroaster              ...           3        2    2             3   \n",
       "Zuid-Gelders           ...           4        3    3             4   \n",
       "Zulu                   ...           4        1    3             4   \n",
       "\n",
       "                      Zion_National_Park Zionism Zirconium Zoroaster  \\\n",
       "Áedán_mac_Gabráin                      4       3         4         4   \n",
       "Åland                                  4       3         4         3   \n",
       "Édouard_Manet                          4       3         4         3   \n",
       "Éire                                   4       3         4         4   \n",
       "Óengus_I_of_the_Picts                  4       3         4         3   \n",
       "...                                  ...     ...       ...       ...   \n",
       "Zionism                                3       0         3         3   \n",
       "Zirconium                              3       3         0         3   \n",
       "Zoroaster                              4       3         3         0   \n",
       "Zuid-Gelders                           4       3         5         4   \n",
       "Zulu                                   4       3         4         3   \n",
       "\n",
       "                      Zuid-Gelders Zulu  \n",
       "Áedán_mac_Gabráin                4    2  \n",
       "Åland                            3    3  \n",
       "Édouard_Manet                    3    3  \n",
       "Éire                             3    3  \n",
       "Óengus_I_of_the_Picts            3    3  \n",
       "...                            ...  ...  \n",
       "Zionism                          3    2  \n",
       "Zirconium                        4    3  \n",
       "Zoroaster                        3    3  \n",
       "Zuid-Gelders                     0    3  \n",
       "Zulu                             3    0  \n",
       "\n",
       "[4604 rows x 4604 columns]"
      ]
     },
     "execution_count": 43,
     "metadata": {},
     "output_type": "execute_result"
    }
   ],
   "source": [
    "# Rename columns & provide a name for rows\n",
    "sp_names = sp2.rename(columns=articles['article'], inplace=False)\n",
    "sp_names = sp_names.rename(index=articles['article'], inplace=False)\n",
    "\n",
    "sp_names"
   ]
  },
  {
   "cell_type": "code",
   "execution_count": 44,
   "metadata": {},
   "outputs": [],
   "source": [
    "# clean the data a bit, make the _ into NaN so we can make the remainder numeric\n",
    "sp_names = sp_names.mask(sp_names == \"_\",np.nan)\n",
    "# make numeric\n",
    "sp_names = sp_names.apply(pd.to_numeric)"
   ]
  },
  {
   "cell_type": "code",
   "execution_count": 45,
   "metadata": {},
   "outputs": [
    {
     "data": {
      "text/html": [
       "<div>\n",
       "<style scoped>\n",
       "    .dataframe tbody tr th:only-of-type {\n",
       "        vertical-align: middle;\n",
       "    }\n",
       "\n",
       "    .dataframe tbody tr th {\n",
       "        vertical-align: top;\n",
       "    }\n",
       "\n",
       "    .dataframe thead th {\n",
       "        text-align: right;\n",
       "    }\n",
       "</style>\n",
       "<table border=\"1\" class=\"dataframe\">\n",
       "  <thead>\n",
       "    <tr style=\"text-align: right;\">\n",
       "      <th></th>\n",
       "      <th>Áedán_mac_Gabráin</th>\n",
       "      <th>Åland</th>\n",
       "      <th>Édouard_Manet</th>\n",
       "      <th>Éire</th>\n",
       "      <th>Óengus_I_of_the_Picts</th>\n",
       "      <th>€2_commemorative_coins</th>\n",
       "      <th>10th_century</th>\n",
       "      <th>11th_century</th>\n",
       "      <th>12th_century</th>\n",
       "      <th>13th_century</th>\n",
       "      <th>...</th>\n",
       "      <th>Ziad_Jarrah</th>\n",
       "      <th>Zimbabwe</th>\n",
       "      <th>Zinc</th>\n",
       "      <th>Zinc_chloride</th>\n",
       "      <th>Zion_National_Park</th>\n",
       "      <th>Zionism</th>\n",
       "      <th>Zirconium</th>\n",
       "      <th>Zoroaster</th>\n",
       "      <th>Zuid-Gelders</th>\n",
       "      <th>Zulu</th>\n",
       "    </tr>\n",
       "  </thead>\n",
       "  <tbody>\n",
       "    <tr>\n",
       "      <th>Áedán_mac_Gabráin</th>\n",
       "      <td>0.0</td>\n",
       "      <td>NaN</td>\n",
       "      <td>NaN</td>\n",
       "      <td>NaN</td>\n",
       "      <td>NaN</td>\n",
       "      <td>NaN</td>\n",
       "      <td>3.0</td>\n",
       "      <td>3.0</td>\n",
       "      <td>3.0</td>\n",
       "      <td>3.0</td>\n",
       "      <td>...</td>\n",
       "      <td>4.0</td>\n",
       "      <td>3.0</td>\n",
       "      <td>3.0</td>\n",
       "      <td>4.0</td>\n",
       "      <td>4.0</td>\n",
       "      <td>3.0</td>\n",
       "      <td>4.0</td>\n",
       "      <td>4.0</td>\n",
       "      <td>4.0</td>\n",
       "      <td>2.0</td>\n",
       "    </tr>\n",
       "    <tr>\n",
       "      <th>Åland</th>\n",
       "      <td>NaN</td>\n",
       "      <td>0.0</td>\n",
       "      <td>NaN</td>\n",
       "      <td>NaN</td>\n",
       "      <td>NaN</td>\n",
       "      <td>NaN</td>\n",
       "      <td>2.0</td>\n",
       "      <td>2.0</td>\n",
       "      <td>2.0</td>\n",
       "      <td>2.0</td>\n",
       "      <td>...</td>\n",
       "      <td>4.0</td>\n",
       "      <td>2.0</td>\n",
       "      <td>3.0</td>\n",
       "      <td>4.0</td>\n",
       "      <td>4.0</td>\n",
       "      <td>3.0</td>\n",
       "      <td>4.0</td>\n",
       "      <td>3.0</td>\n",
       "      <td>3.0</td>\n",
       "      <td>3.0</td>\n",
       "    </tr>\n",
       "    <tr>\n",
       "      <th>Édouard_Manet</th>\n",
       "      <td>NaN</td>\n",
       "      <td>NaN</td>\n",
       "      <td>0.0</td>\n",
       "      <td>NaN</td>\n",
       "      <td>NaN</td>\n",
       "      <td>NaN</td>\n",
       "      <td>3.0</td>\n",
       "      <td>3.0</td>\n",
       "      <td>2.0</td>\n",
       "      <td>2.0</td>\n",
       "      <td>...</td>\n",
       "      <td>4.0</td>\n",
       "      <td>3.0</td>\n",
       "      <td>2.0</td>\n",
       "      <td>3.0</td>\n",
       "      <td>4.0</td>\n",
       "      <td>3.0</td>\n",
       "      <td>4.0</td>\n",
       "      <td>3.0</td>\n",
       "      <td>3.0</td>\n",
       "      <td>3.0</td>\n",
       "    </tr>\n",
       "    <tr>\n",
       "      <th>Éire</th>\n",
       "      <td>NaN</td>\n",
       "      <td>NaN</td>\n",
       "      <td>NaN</td>\n",
       "      <td>0.0</td>\n",
       "      <td>NaN</td>\n",
       "      <td>NaN</td>\n",
       "      <td>3.0</td>\n",
       "      <td>3.0</td>\n",
       "      <td>3.0</td>\n",
       "      <td>3.0</td>\n",
       "      <td>...</td>\n",
       "      <td>4.0</td>\n",
       "      <td>2.0</td>\n",
       "      <td>2.0</td>\n",
       "      <td>3.0</td>\n",
       "      <td>4.0</td>\n",
       "      <td>3.0</td>\n",
       "      <td>4.0</td>\n",
       "      <td>4.0</td>\n",
       "      <td>3.0</td>\n",
       "      <td>3.0</td>\n",
       "    </tr>\n",
       "    <tr>\n",
       "      <th>Óengus_I_of_the_Picts</th>\n",
       "      <td>NaN</td>\n",
       "      <td>NaN</td>\n",
       "      <td>NaN</td>\n",
       "      <td>NaN</td>\n",
       "      <td>0.0</td>\n",
       "      <td>NaN</td>\n",
       "      <td>2.0</td>\n",
       "      <td>2.0</td>\n",
       "      <td>3.0</td>\n",
       "      <td>2.0</td>\n",
       "      <td>...</td>\n",
       "      <td>4.0</td>\n",
       "      <td>2.0</td>\n",
       "      <td>3.0</td>\n",
       "      <td>4.0</td>\n",
       "      <td>4.0</td>\n",
       "      <td>3.0</td>\n",
       "      <td>4.0</td>\n",
       "      <td>3.0</td>\n",
       "      <td>3.0</td>\n",
       "      <td>3.0</td>\n",
       "    </tr>\n",
       "  </tbody>\n",
       "</table>\n",
       "<p>5 rows × 4604 columns</p>\n",
       "</div>"
      ],
      "text/plain": [
       "                       Áedán_mac_Gabráin  Åland  Édouard_Manet  Éire  \\\n",
       "Áedán_mac_Gabráin                    0.0    NaN            NaN   NaN   \n",
       "Åland                                NaN    0.0            NaN   NaN   \n",
       "Édouard_Manet                        NaN    NaN            0.0   NaN   \n",
       "Éire                                 NaN    NaN            NaN   0.0   \n",
       "Óengus_I_of_the_Picts                NaN    NaN            NaN   NaN   \n",
       "\n",
       "                       Óengus_I_of_the_Picts  €2_commemorative_coins  \\\n",
       "Áedán_mac_Gabráin                        NaN                     NaN   \n",
       "Åland                                    NaN                     NaN   \n",
       "Édouard_Manet                            NaN                     NaN   \n",
       "Éire                                     NaN                     NaN   \n",
       "Óengus_I_of_the_Picts                    0.0                     NaN   \n",
       "\n",
       "                       10th_century  11th_century  12th_century  13th_century  \\\n",
       "Áedán_mac_Gabráin               3.0           3.0           3.0           3.0   \n",
       "Åland                           2.0           2.0           2.0           2.0   \n",
       "Édouard_Manet                   3.0           3.0           2.0           2.0   \n",
       "Éire                            3.0           3.0           3.0           3.0   \n",
       "Óengus_I_of_the_Picts           2.0           2.0           3.0           2.0   \n",
       "\n",
       "                       ...  Ziad_Jarrah  Zimbabwe  Zinc  Zinc_chloride  \\\n",
       "Áedán_mac_Gabráin      ...          4.0       3.0   3.0            4.0   \n",
       "Åland                  ...          4.0       2.0   3.0            4.0   \n",
       "Édouard_Manet          ...          4.0       3.0   2.0            3.0   \n",
       "Éire                   ...          4.0       2.0   2.0            3.0   \n",
       "Óengus_I_of_the_Picts  ...          4.0       2.0   3.0            4.0   \n",
       "\n",
       "                       Zion_National_Park  Zionism  Zirconium  Zoroaster  \\\n",
       "Áedán_mac_Gabráin                     4.0      3.0        4.0        4.0   \n",
       "Åland                                 4.0      3.0        4.0        3.0   \n",
       "Édouard_Manet                         4.0      3.0        4.0        3.0   \n",
       "Éire                                  4.0      3.0        4.0        4.0   \n",
       "Óengus_I_of_the_Picts                 4.0      3.0        4.0        3.0   \n",
       "\n",
       "                       Zuid-Gelders  Zulu  \n",
       "Áedán_mac_Gabráin               4.0   2.0  \n",
       "Åland                           3.0   3.0  \n",
       "Édouard_Manet                   3.0   3.0  \n",
       "Éire                            3.0   3.0  \n",
       "Óengus_I_of_the_Picts           3.0   3.0  \n",
       "\n",
       "[5 rows x 4604 columns]"
      ]
     },
     "execution_count": 45,
     "metadata": {},
     "output_type": "execute_result"
    }
   ],
   "source": [
    "sp_names.head()"
   ]
  },
  {
   "cell_type": "code",
   "execution_count": 46,
   "metadata": {},
   "outputs": [
    {
     "data": {
      "text/html": [
       "<div>\n",
       "<style scoped>\n",
       "    .dataframe tbody tr th:only-of-type {\n",
       "        vertical-align: middle;\n",
       "    }\n",
       "\n",
       "    .dataframe tbody tr th {\n",
       "        vertical-align: top;\n",
       "    }\n",
       "\n",
       "    .dataframe thead th {\n",
       "        text-align: right;\n",
       "    }\n",
       "</style>\n",
       "<table border=\"1\" class=\"dataframe\">\n",
       "  <thead>\n",
       "    <tr style=\"text-align: right;\">\n",
       "      <th></th>\n",
       "      <th></th>\n",
       "      <th>0</th>\n",
       "    </tr>\n",
       "  </thead>\n",
       "  <tbody>\n",
       "    <tr>\n",
       "      <th rowspan=\"5\" valign=\"top\">Áedán_mac_Gabráin</th>\n",
       "      <th>Bede</th>\n",
       "      <td>1.0</td>\n",
       "    </tr>\n",
       "    <tr>\n",
       "      <th>Columba</th>\n",
       "      <td>1.0</td>\n",
       "    </tr>\n",
       "    <tr>\n",
       "      <th>Dál_Riata</th>\n",
       "      <td>1.0</td>\n",
       "    </tr>\n",
       "    <tr>\n",
       "      <th>Great_Britain</th>\n",
       "      <td>1.0</td>\n",
       "    </tr>\n",
       "    <tr>\n",
       "      <th>Ireland</th>\n",
       "      <td>1.0</td>\n",
       "    </tr>\n",
       "    <tr>\n",
       "      <th>...</th>\n",
       "      <th>...</th>\n",
       "      <td>...</td>\n",
       "    </tr>\n",
       "    <tr>\n",
       "      <th rowspan=\"5\" valign=\"top\">Zulu</th>\n",
       "      <th>South_Africa</th>\n",
       "      <td>1.0</td>\n",
       "    </tr>\n",
       "    <tr>\n",
       "      <th>Swaziland</th>\n",
       "      <td>1.0</td>\n",
       "    </tr>\n",
       "    <tr>\n",
       "      <th>United_Kingdom</th>\n",
       "      <td>1.0</td>\n",
       "    </tr>\n",
       "    <tr>\n",
       "      <th>Zambia</th>\n",
       "      <td>1.0</td>\n",
       "    </tr>\n",
       "    <tr>\n",
       "      <th>Zimbabwe</th>\n",
       "      <td>1.0</td>\n",
       "    </tr>\n",
       "  </tbody>\n",
       "</table>\n",
       "<p>119772 rows × 1 columns</p>\n",
       "</div>"
      ],
      "text/plain": [
       "                                    0\n",
       "Áedán_mac_Gabráin Bede            1.0\n",
       "                  Columba         1.0\n",
       "                  Dál_Riata       1.0\n",
       "                  Great_Britain   1.0\n",
       "                  Ireland         1.0\n",
       "...                               ...\n",
       "Zulu              South_Africa    1.0\n",
       "                  Swaziland       1.0\n",
       "                  United_Kingdom  1.0\n",
       "                  Zambia          1.0\n",
       "                  Zimbabwe        1.0\n",
       "\n",
       "[119772 rows x 1 columns]"
      ]
     },
     "execution_count": 46,
     "metadata": {},
     "output_type": "execute_result"
    }
   ],
   "source": [
    "# pull all the articles with the shortest path connections\n",
    "sp_names_1 = sp_names.stack()\n",
    "sp_names_1 = sp_names_1[sp_names_1 ==1]\n",
    "sp_names_1.to_frame()"
   ]
  },
  {
   "cell_type": "code",
   "execution_count": 18,
   "metadata": {},
   "outputs": [],
   "source": [
    "# Trying to build a DF with source, target, paths for graph building, but also for digging into distributions, etc.\n",
    "# took way too long so I had to quit it, more than likely better code option\n",
    "#data = pd.DataFrame([])\n",
    "#for i in sp_names: \n",
    "#    for j in sp_names.columns:\n",
    "#            data = data.append(pd.DataFrame({'source': i, 'target': j, 'path': sp_names[i][j]}, index=[0]), ignore_index=True)"
   ]
  },
  {
   "cell_type": "code",
   "execution_count": 47,
   "metadata": {},
   "outputs": [
    {
     "name": "stdout",
     "output_type": "stream",
     "text": [
      "3.201729547596255\n"
     ]
    }
   ],
   "source": [
    "# Average distance \n",
    "#https://stackoverflow.com/questions/25140998/pandas-compute-mean-or-std-standard-deviation-over-entire-dataframe\n",
    "avg = sp_names.stack().mean()\n",
    "print(avg)"
   ]
  },
  {
   "cell_type": "code",
   "execution_count": 48,
   "metadata": {},
   "outputs": [
    {
     "data": {
      "text/plain": [
       "3.201729547596255"
      ]
     },
     "execution_count": 48,
     "metadata": {},
     "output_type": "execute_result"
    }
   ],
   "source": [
    "np.nanmean(sp_names)"
   ]
  },
  {
   "cell_type": "code",
   "execution_count": 36,
   "metadata": {},
   "outputs": [],
   "source": [
    "# Create nodes and edges from the array? hit rate limit\n",
    "#stacked_list = sp_names.values.tolist()\n",
    "#print(stacked_list)"
   ]
  },
  {
   "cell_type": "code",
   "execution_count": 37,
   "metadata": {},
   "outputs": [
    {
     "data": {
      "text/html": [
       "<div>\n",
       "<style scoped>\n",
       "    .dataframe tbody tr th:only-of-type {\n",
       "        vertical-align: middle;\n",
       "    }\n",
       "\n",
       "    .dataframe tbody tr th {\n",
       "        vertical-align: top;\n",
       "    }\n",
       "\n",
       "    .dataframe thead th {\n",
       "        text-align: right;\n",
       "    }\n",
       "</style>\n",
       "<table border=\"1\" class=\"dataframe\">\n",
       "  <thead>\n",
       "    <tr style=\"text-align: right;\">\n",
       "      <th></th>\n",
       "      <th>linkSource</th>\n",
       "      <th>linkTarget</th>\n",
       "    </tr>\n",
       "  </thead>\n",
       "  <tbody>\n",
       "    <tr>\n",
       "      <th>0</th>\n",
       "      <td>Áedán_mac_Gabráin</td>\n",
       "      <td>Bede</td>\n",
       "    </tr>\n",
       "    <tr>\n",
       "      <th>1</th>\n",
       "      <td>Áedán_mac_Gabráin</td>\n",
       "      <td>Columba</td>\n",
       "    </tr>\n",
       "    <tr>\n",
       "      <th>2</th>\n",
       "      <td>Áedán_mac_Gabráin</td>\n",
       "      <td>Dál_Riata</td>\n",
       "    </tr>\n",
       "    <tr>\n",
       "      <th>3</th>\n",
       "      <td>Áedán_mac_Gabráin</td>\n",
       "      <td>Great_Britain</td>\n",
       "    </tr>\n",
       "    <tr>\n",
       "      <th>4</th>\n",
       "      <td>Áedán_mac_Gabráin</td>\n",
       "      <td>Ireland</td>\n",
       "    </tr>\n",
       "    <tr>\n",
       "      <th>5</th>\n",
       "      <td>Áedán_mac_Gabráin</td>\n",
       "      <td>Isle_of_Man</td>\n",
       "    </tr>\n",
       "    <tr>\n",
       "      <th>6</th>\n",
       "      <td>Áedán_mac_Gabráin</td>\n",
       "      <td>Monarchy</td>\n",
       "    </tr>\n",
       "    <tr>\n",
       "      <th>7</th>\n",
       "      <td>Áedán_mac_Gabráin</td>\n",
       "      <td>Orkney</td>\n",
       "    </tr>\n",
       "    <tr>\n",
       "      <th>8</th>\n",
       "      <td>Áedán_mac_Gabráin</td>\n",
       "      <td>Picts</td>\n",
       "    </tr>\n",
       "    <tr>\n",
       "      <th>9</th>\n",
       "      <td>Áedán_mac_Gabráin</td>\n",
       "      <td>Scotland</td>\n",
       "    </tr>\n",
       "  </tbody>\n",
       "</table>\n",
       "</div>"
      ],
      "text/plain": [
       "          linkSource     linkTarget\n",
       "0  Áedán_mac_Gabráin           Bede\n",
       "1  Áedán_mac_Gabráin        Columba\n",
       "2  Áedán_mac_Gabráin      Dál_Riata\n",
       "3  Áedán_mac_Gabráin  Great_Britain\n",
       "4  Áedán_mac_Gabráin        Ireland\n",
       "5  Áedán_mac_Gabráin    Isle_of_Man\n",
       "6  Áedán_mac_Gabráin       Monarchy\n",
       "7  Áedán_mac_Gabráin         Orkney\n",
       "8  Áedán_mac_Gabráin          Picts\n",
       "9  Áedán_mac_Gabráin       Scotland"
      ]
     },
     "execution_count": 37,
     "metadata": {},
     "output_type": "execute_result"
    }
   ],
   "source": [
    "# Looking at page centrality based on Links?\n",
    "links.head(10)"
   ]
  },
  {
   "cell_type": "code",
   "execution_count": null,
   "metadata": {},
   "outputs": [],
   "source": []
  },
  {
   "cell_type": "markdown",
   "metadata": {},
   "source": [
    "#### Some of the Link endpoint names don't exactly match the docDF.article names, and we need them to match exactly"
   ]
  },
  {
   "cell_type": "code",
   "execution_count": 91,
   "metadata": {},
   "outputs": [],
   "source": [
    "linknames = set(links.linkSource.values).union(set(links.linkTarget.values))"
   ]
  },
  {
   "cell_type": "code",
   "execution_count": 178,
   "metadata": {},
   "outputs": [
    {
     "data": {
      "text/plain": [
       "4592"
      ]
     },
     "execution_count": 178,
     "metadata": {},
     "output_type": "execute_result"
    }
   ],
   "source": [
    "len(linknames)"
   ]
  },
  {
   "cell_type": "code",
   "execution_count": 179,
   "metadata": {},
   "outputs": [
    {
     "data": {
      "text/plain": [
       "306"
      ]
     },
     "execution_count": 179,
     "metadata": {},
     "output_type": "execute_result"
    }
   ],
   "source": [
    "errornames = [n for n in docDF.article if n not in linknames]\n",
    "len(errornames)"
   ]
  },
  {
   "cell_type": "code",
   "execution_count": 180,
   "metadata": {},
   "outputs": [
    {
     "data": {
      "text/plain": [
       "['Andriyivskyy_Descen',\n",
       " 'Fine_ar',\n",
       " 'Giza_pyramid_comple',\n",
       " 'Coconu',\n",
       " 'Great_Ti',\n",
       " 'Bernard_Hinaul',\n",
       " 'Martin_Luther_King,_Jr',\n",
       " 'Coo',\n",
       " 'Eifel_Aqueduc',\n",
       " 'Carro',\n",
       " 'Diamond_cu']"
      ]
     },
     "execution_count": 180,
     "metadata": {},
     "output_type": "execute_result"
    }
   ],
   "source": [
    "errornames[:11]"
   ]
  },
  {
   "cell_type": "markdown",
   "metadata": {},
   "source": [
    "For some reason, a lot of final 't' letters seem to be missing from the docDF article names. Let's see how many."
   ]
  },
  {
   "cell_type": "code",
   "execution_count": 181,
   "metadata": {},
   "outputs": [
    {
     "data": {
      "text/plain": [
       "253"
      ]
     },
     "execution_count": 181,
     "metadata": {},
     "output_type": "execute_result"
    }
   ],
   "source": [
    "docnames = set(docDF.article.values)\n",
    "# make sure not to correct to a name that already exists\n",
    "add_t = [n for n in errornames if (n + 't' in linknames) and (n + 't' not in docnames)]\n",
    "len(add_t)"
   ]
  },
  {
   "cell_type": "code",
   "execution_count": 182,
   "metadata": {},
   "outputs": [],
   "source": [
    "add_t = set(add_t)\n",
    "copynames = docDF.article.values[:]\n",
    "copynames = [cn + 't' if cn in add_t else cn for cn in copynames]"
   ]
  },
  {
   "cell_type": "markdown",
   "metadata": {},
   "source": [
    "Move on to remaining errors, using the copied array"
   ]
  },
  {
   "cell_type": "code",
   "execution_count": 183,
   "metadata": {},
   "outputs": [
    {
     "data": {
      "text/plain": [
       "53"
      ]
     },
     "execution_count": 183,
     "metadata": {},
     "output_type": "execute_result"
    }
   ],
   "source": [
    "errornames = [n for n in copynames if n not in linknames]\n",
    "len(errornames)"
   ]
  },
  {
   "cell_type": "code",
   "execution_count": 184,
   "metadata": {},
   "outputs": [
    {
     "data": {
      "text/plain": [
       "['Giza_pyramid_comple',\n",
       " 'Martin_Luther_King,_Jr',\n",
       " 'Archaeoptery',\n",
       " 'Fermi_parado',\n",
       " 'FairTa',\n",
       " 'Manchester_United_F.C',\n",
       " 'Sandy_Koufa',\n",
       " 'Badugi',\n",
       " 'Island_Fo',\n",
       " 'H.D',\n",
       " 'Earwa',\n",
       " 'Wowpurchase',\n",
       " 'Linu',\n",
       " 'Nouakcho',\n",
       " 'Monaco_Grand_Pri',\n",
       " 'Floyd_Mayweather_Jr',\n",
       " 'Private_Peaceful',\n",
       " 'Body_mass_inde',\n",
       " 'Walter_Sco',\n",
       " 'The_Lora',\n",
       " 'Thora',\n",
       " 'Lone_Wolf_(gamebooks)',\n",
       " 'Super_Mario_Bros',\n",
       " 'Physical_parado',\n",
       " 'Suikinkutsu',\n",
       " 'Vacutainer',\n",
       " 'Arp2_3_comple',\n",
       " 'James_T._Aubrey,_Jr',\n",
       " 'Wikipedia_Text_of_the_GNU_Free_Documentation_License',\n",
       " 'Fo',\n",
       " 'Underground_(stories)',\n",
       " 'Schatzki_ring',\n",
       " 'Wesse',\n",
       " 'Douglas_DC-4',\n",
       " 'Donation',\n",
       " 'Tottenham_Hotspur_F.C',\n",
       " 'Smallpo',\n",
       " 'Bat-eared_Fo',\n",
       " 'Karl_Mar',\n",
       " 'Arsenal_F.C',\n",
       " 'Dundee_United_F.C',\n",
       " 'Chelsea_F.C',\n",
       " 'Mozilla_Firefo',\n",
       " 'Uni',\n",
       " 'Liverpool_F.C',\n",
       " 'John_Seigenthaler,_Sr',\n",
       " 'Celtic_F.C',\n",
       " 'Color_Graphics_Adapter',\n",
       " 'Eso',\n",
       " 'Washington,_D.C',\n",
       " 'George_Fo',\n",
       " 'Samuel_Becke',\n",
       " 'James_Wa']"
      ]
     },
     "execution_count": 184,
     "metadata": {},
     "output_type": "execute_result"
    }
   ],
   "source": [
    "errornames"
   ]
  },
  {
   "cell_type": "markdown",
   "metadata": {},
   "source": [
    "Looks like 'tt', 'x', and '.' at the end of names will take care of the bulk of the rest."
   ]
  },
  {
   "cell_type": "code",
   "execution_count": 185,
   "metadata": {},
   "outputs": [
    {
     "data": {
      "text/plain": [
       "4"
      ]
     },
     "execution_count": 185,
     "metadata": {},
     "output_type": "execute_result"
    }
   ],
   "source": [
    "add_tt = set([n for n in errornames if (n + 'tt' in linknames) and (n + 'tt' not in docnames)])\n",
    "len(add_tt)"
   ]
  },
  {
   "cell_type": "code",
   "execution_count": 186,
   "metadata": {},
   "outputs": [
    {
     "data": {
      "text/plain": [
       "23"
      ]
     },
     "execution_count": 186,
     "metadata": {},
     "output_type": "execute_result"
    }
   ],
   "source": [
    "add_x = set([n for n in errornames if (n + 'x' in linknames) and (n + 'x' not in docnames)])\n",
    "len(add_x)"
   ]
  },
  {
   "cell_type": "code",
   "execution_count": 187,
   "metadata": {},
   "outputs": [
    {
     "data": {
      "text/plain": [
       "14"
      ]
     },
     "execution_count": 187,
     "metadata": {},
     "output_type": "execute_result"
    }
   ],
   "source": [
    "add_dot = set([n for n in errornames if (n + '.' in linknames) and (n + '.' not in docnames)])\n",
    "len(add_dot)"
   ]
  },
  {
   "cell_type": "code",
   "execution_count": 188,
   "metadata": {},
   "outputs": [],
   "source": [
    "copynames = [cn + 'tt' if cn in add_tt else cn for cn in copynames]\n",
    "copynames = [cn + 'x' if cn in add_x else cn for cn in copynames]\n",
    "copynames = [cn + '.' if cn in add_dot else cn for cn in copynames]"
   ]
  },
  {
   "cell_type": "code",
   "execution_count": 189,
   "metadata": {},
   "outputs": [
    {
     "data": {
      "text/plain": [
       "['Badugi',\n",
       " 'Wowpurchase',\n",
       " 'Private_Peaceful',\n",
       " 'Lone_Wolf_(gamebooks)',\n",
       " 'Suikinkutsu',\n",
       " 'Vacutainer',\n",
       " 'Wikipedia_Text_of_the_GNU_Free_Documentation_License',\n",
       " 'Underground_(stories)',\n",
       " 'Schatzki_ring',\n",
       " 'Douglas_DC-4',\n",
       " 'Donation',\n",
       " 'Color_Graphics_Adapter']"
      ]
     },
     "execution_count": 189,
     "metadata": {},
     "output_type": "execute_result"
    }
   ],
   "source": [
    "errornames = [n for n in copynames if n not in linknames]\n",
    "errornames"
   ]
  },
  {
   "cell_type": "markdown",
   "metadata": {},
   "source": [
    "It's not clear what's happening with these final 12.  Perhaps reversing the order of checking for inclusion will help."
   ]
  },
  {
   "cell_type": "code",
   "execution_count": 190,
   "metadata": {},
   "outputs": [],
   "source": [
    "cnames = set(copynames)"
   ]
  },
  {
   "cell_type": "code",
   "execution_count": 191,
   "metadata": {},
   "outputs": [
    {
     "data": {
      "text/plain": [
       "2"
      ]
     },
     "execution_count": 191,
     "metadata": {},
     "output_type": "execute_result"
    }
   ],
   "source": [
    "missing = [n for n in linknames if n not in cnames]\n",
    "len(missing)"
   ]
  },
  {
   "cell_type": "code",
   "execution_count": 192,
   "metadata": {},
   "outputs": [
    {
     "data": {
      "text/plain": [
       "['Beet', 'Boat']"
      ]
     },
     "execution_count": 192,
     "metadata": {},
     "output_type": "execute_result"
    }
   ],
   "source": [
    "missing"
   ]
  },
  {
   "cell_type": "markdown",
   "metadata": {},
   "source": [
    "For our purposes, we can safely remove the 12 articles in docDF that have no link edges in the other file.   But \"Beet\" and \"Boat\" are presumably on many solution paths, so we may need to scrape those and add them to the docDF frame."
   ]
  },
  {
   "cell_type": "code",
   "execution_count": 133,
   "metadata": {},
   "outputs": [],
   "source": [
    "beet = \"The beetroot is the taproot portion of a beet plant usually known in Canada and the USA as beets while the vegetable is referred to as beetroot in British English, and also known as the table beet, garden beet, red beet, dinner beet or golden beet. It is one of several cultivated varieties of Beta vulgaris grown for their edible taproots and leaves (called beet greens); they have been classified as B. vulgaris subsp. vulgaris Conditiva Group. Other cultivars of the same species include the sugar beet, the leaf vegetable known as chard or spinach beet, and mangelwurzel, which is a fodder crop. Three subspecies are typically recognized. Beets were domesticated in the ancient Middle East, primarily for their greens, and were grown by the Ancient Egyptians, Greeks and Romans. By the Roman era, it is thought that they were cultivated for their roots as well. From the Middle Ages, beetroot was used as a treatment for a variety of conditions, especially illnesses relating to digestion and the blood. Bartolomeo Platina recommended taking beetroot with garlic to nullify the effects of garlic-breath During the middle of the 19th century, wine often was coloured with beetroot juice.\"\n",
    "boat = \"A boat is a watercraft of a large range of types and sizes, but generally smaller than a ship, which is distinguished by its larger size, shape, cargo or passenger capacity, or its ability to carry boats. Small boats are typically found on inland waterways such as rivers and lakes, or in protected coastal areas. However, some boats, such as the whaleboat, were intended for use in an offshore environment. In modern naval terms, a boat is a vessel small enough to be carried aboard a ship. Anomalous definitions exist, as lake freighters 1,000 feet (300 m) long on the Great Lakes are called boats.Boats vary in proportion and construction methods with their intended purpose, available materials, or local traditions. Canoes have been used since prehistoric times and remain in use throughout the world for transportation, fishing, and sport. Fishing boats vary widely in style partly to match local conditions. Pleasure craft used in recreational boating include ski boats, pontoon boats, and sailboats. House boats may be used for vacationing or long-term residence. Lighters are used to convey cargo to and from large ships unable to get close to shore. Lifeboats have rescue and safety functions. Boats can be propelled by manpower (e.g. rowboats and paddle boats), wind (e.g. sailboats), and motor (including gasoline, diesel, and electric). Boats have served as transportation since the earliest times.[1] Circumstantial evidence, such as the early settlement of Australia over 40,000 years ago, findings in Crete dated 130,000 years ago,[2] and in Flores dated to 900,000 years ago,[3] suggest that boats have been used since prehistoric times. The earliest boats are thought to have been dugouts,[4] and the oldest boats found by archaeological excavation date from around 7,000–10,000 years ago. The oldest recovered boat in the world, the Pesse canoe, found in the Netherlands, is a dugout made from the hollowed tree trunk of a Pinus sylvestris that was constructed somewhere between 8200 and 7600 BC. This canoe is exhibited in the Drents Museum in Assen, Netherlands. Other very old dugout boats have also been recovered. Rafts have operated for at least 8,000 years. A 7,000-year-old seagoing reed boat has been found in Kuwait. Boats were used between 4000 and 3000 BC in Sumer, ancient Egypt and in the Indian Ocean.Boats played an important role in the commerce between the Indus Valley Civilization and Mesopotamia. Evidence of varying models of boats has also been discovered at various Indus Valley archaeological sites. Uru craft originate in Beypore, a village in south Calicut, Kerala, in southwestern India. This type of mammoth wooden ship was constructed solely of teak, with a transport capacity of 400 tonnes. The ancient Arabs and Greeks used such boats as trading vessels. The historians Herodotus, Pliny the Elder and Strabo record the use of boats for commerce, travel, and military purposes.\""
   ]
  },
  {
   "cell_type": "code",
   "execution_count": 134,
   "metadata": {},
   "outputs": [
    {
     "data": {
      "text/plain": [
       "'beetroot taproot portion beet plant usually known canada usa beets vegetable referred beetroot british english also known table beet garden beet red beet dinner beet golden beet one several cultivated varieties beta vulgaris grown edible taproots leaves called beet greens classified b vulgaris subsp vulgaris conditiva group cultivars species include sugar beet leaf vegetable known chard spinach beet mangelwurzel fodder crop three subspecies typically recognized beets domesticated ancient middle east primarily greens grown ancient egyptians greeks romans roman era thought cultivated roots well middle ages beetroot used treatment variety conditions especially illnesses relating digestion blood bartolomeo platina recommended taking beetroot garlic nullify effects garlic breath middle th century wine often coloured beetroot juice '"
      ]
     },
     "execution_count": 134,
     "metadata": {},
     "output_type": "execute_result"
    }
   ],
   "source": [
    "beet_clean = \" \".join(re.sub(r'[^a-zA-Z]', ' ' , w).lower() for w in beet.split() if re.sub(r'[^a-zA-Z]',' ',w).lower() not in stop_words_lower)\n",
    "beet_clean = re.sub(r'\\s+', ' ' , beet_clean)\n",
    "beet_clean"
   ]
  },
  {
   "cell_type": "code",
   "execution_count": 135,
   "metadata": {},
   "outputs": [
    {
     "data": {
      "text/plain": [
       "'boat watercraft large range types sizes generally smaller ship distinguished larger size shape cargo passenger capacity ability carry boats small boats typically found inland waterways rivers lakes protected coastal areas however boats whaleboat intended use offshore environment modern naval terms boat vessel small enough carried aboard ship anomalous definitions exist lake freighters feet m long great lakes called boats boats vary proportion construction methods intended purpose available materials local traditions canoes used since prehistoric times remain use throughout world transportation fishing sport fishing boats vary widely style partly match local conditions pleasure craft used recreational boating include ski boats pontoon boats sailboats house boats may used vacationing long term residence lighters used convey cargo large ships unable get close shore lifeboats rescue safety functions boats propelled manpower e g rowboats paddle boats wind e g sailboats motor including gasoline diesel electric boats served transportation since earliest times circumstantial evidence early settlement australia years ago findings crete dated years ago flores dated years ago suggest boats used since prehistoric times earliest boats thought dugouts oldest boats found archaeological excavation date around years ago oldest recovered boat world pesse canoe found netherlands dugout made hollowed tree trunk pinus sylvestris constructed somewhere bc canoe exhibited drents museum assen netherlands old dugout boats also recovered rafts operated least years year old seagoing reed boat found kuwait boats used bc sumer ancient egypt indian ocean boats played important role commerce indus valley civilization mesopotamia evidence varying models boats also discovered various indus valley archaeological sites uru craft originate beypore village south calicut kerala southwestern india type mammoth wooden ship constructed solely teak transport capacity tonnes ancient arabs greeks used boats trading vessels historians herodotus pliny elder strabo record use boats commerce travel military purposes '"
      ]
     },
     "execution_count": 135,
     "metadata": {},
     "output_type": "execute_result"
    }
   ],
   "source": [
    "boat_clean = \" \".join(re.sub(r'[^a-zA-Z]', ' ' , w).lower() for w in boat.split() if re.sub(r'[^a-zA-Z]',' ',w).lower() not in stop_words_lower)\n",
    "boat_clean = re.sub(r'\\s+', ' ' , boat_clean)\n",
    "boat_clean"
   ]
  },
  {
   "cell_type": "code",
   "execution_count": 194,
   "metadata": {},
   "outputs": [],
   "source": [
    "docDF.article = copynames\n",
    "keepers = [art not in errornames for art in copynames]\n",
    "namekeep = docDF.article.values[keepers]\n",
    "textkeep = docDF.texts.values[keepers]"
   ]
  },
  {
   "cell_type": "code",
   "execution_count": 195,
   "metadata": {},
   "outputs": [
    {
     "name": "stdout",
     "output_type": "stream",
     "text": [
      "4594 4594\n"
     ]
    }
   ],
   "source": [
    "namekeep = list(namekeep) + ['Beet', 'Boat']\n",
    "textkeep = list(textkeep) + [beet_clean, boat_clean]\n",
    "print(len(namekeep), len(textkeep))"
   ]
  },
  {
   "cell_type": "code",
   "execution_count": 196,
   "metadata": {},
   "outputs": [],
   "source": [
    "docDF = pd.DataFrame({'article': namekeep, 'texts': textkeep})"
   ]
  },
  {
   "cell_type": "code",
   "execution_count": 197,
   "metadata": {},
   "outputs": [
    {
     "data": {
      "text/html": [
       "<div>\n",
       "<style scoped>\n",
       "    .dataframe tbody tr th:only-of-type {\n",
       "        vertical-align: middle;\n",
       "    }\n",
       "\n",
       "    .dataframe tbody tr th {\n",
       "        vertical-align: top;\n",
       "    }\n",
       "\n",
       "    .dataframe thead th {\n",
       "        text-align: right;\n",
       "    }\n",
       "</style>\n",
       "<table border=\"1\" class=\"dataframe\">\n",
       "  <thead>\n",
       "    <tr style=\"text-align: right;\">\n",
       "      <th></th>\n",
       "      <th>article</th>\n",
       "      <th>texts</th>\n",
       "    </tr>\n",
       "  </thead>\n",
       "  <tbody>\n",
       "    <tr>\n",
       "      <th>4589</th>\n",
       "      <td>Banknote</td>\n",
       "      <td>banknote  currency numismatics numismatic te...</td>\n",
       "    </tr>\n",
       "    <tr>\n",
       "      <th>4590</th>\n",
       "      <td>Weyto_language</td>\n",
       "      <td>weyto language  languages weyto language bel...</td>\n",
       "    </tr>\n",
       "    <tr>\n",
       "      <th>4591</th>\n",
       "      <td>Marseille</td>\n",
       "      <td>marseille  european geography ville de marse...</td>\n",
       "    </tr>\n",
       "    <tr>\n",
       "      <th>4592</th>\n",
       "      <td>Beet</td>\n",
       "      <td>beetroot taproot portion beet plant usually kn...</td>\n",
       "    </tr>\n",
       "    <tr>\n",
       "      <th>4593</th>\n",
       "      <td>Boat</td>\n",
       "      <td>boat watercraft large range types sizes genera...</td>\n",
       "    </tr>\n",
       "  </tbody>\n",
       "</table>\n",
       "</div>"
      ],
      "text/plain": [
       "             article                                              texts\n",
       "4589        Banknote    banknote  currency numismatics numismatic te...\n",
       "4590  Weyto_language    weyto language  languages weyto language bel...\n",
       "4591       Marseille    marseille  european geography ville de marse...\n",
       "4592            Beet  beetroot taproot portion beet plant usually kn...\n",
       "4593            Boat  boat watercraft large range types sizes genera..."
      ]
     },
     "execution_count": 197,
     "metadata": {},
     "output_type": "execute_result"
    }
   ],
   "source": [
    "docDF.tail()"
   ]
  },
  {
   "cell_type": "code",
   "execution_count": 198,
   "metadata": {},
   "outputs": [],
   "source": [
    "# clean up memory\n",
    "namekeep = ''\n",
    "textkeep = ''"
   ]
  },
  {
   "cell_type": "code",
   "execution_count": 199,
   "metadata": {},
   "outputs": [],
   "source": [
    "# save that DF so that we don't have to include this code in the submission notebook\n",
    "docDF.to_csv('doctextDF.csv')"
   ]
  },
  {
   "cell_type": "markdown",
   "metadata": {},
   "source": [
    "#### Make a matrix of article pair semantic distances based on tfidf cosine differences."
   ]
  },
  {
   "cell_type": "code",
   "execution_count": 200,
   "metadata": {},
   "outputs": [],
   "source": [
    "t_vec=TfidfVectorizer()\n",
    "t_vec.fit(docDF.texts)\n",
    "tfidf_vectors=t_vec.transform(docDF.texts)\n",
    "# outer product to get all similarities into a matrix\n",
    "pairwise_similarities=np.dot(tfidf_vectors, tfidf_vectors.T).toarray()\n",
    "# somehow the euc.dists build in the outer product step??\n",
    "pairwise_differences=euclidean_distances(tfidf_vectors)"
   ]
  },
  {
   "cell_type": "code",
   "execution_count": 201,
   "metadata": {},
   "outputs": [
    {
     "name": "stdout",
     "output_type": "stream",
     "text": [
      "Document: Second_Crusade\n",
      "\n",
      "Similar Documents:\n",
      "\n",
      "\n",
      "Document: First_Crusade\n",
      "Cosine Similarity : 0.5636938399958338\n",
      "\n",
      "\n",
      "Document: Crusades\n",
      "Cosine Similarity : 0.5085333802507119\n",
      "\n",
      "\n",
      "Document: Manuel_I_Komnenos\n",
      "Cosine Similarity : 0.38542279865753126\n",
      "\n",
      "\n",
      "Document: Children's_Crusade\n",
      "Cosine Similarity : 0.37267426912228174\n",
      "\n",
      "\n",
      "Document: German_Crusade,_1096\n",
      "Cosine Similarity : 0.3373211731790233\n",
      "\n",
      "\n",
      "Document: Byzantine_Empire\n",
      "Cosine Similarity : 0.29820088845943765\n",
      "\n",
      "\n",
      "Document: Siege_of_Antioch\n",
      "Cosine Similarity : 0.2837476377305084\n",
      "\n",
      "\n",
      "Document: Frederick_II,_Holy_Roman_Emperor\n",
      "Cosine Similarity : 0.2537415253376982\n",
      "\n",
      "\n",
      "Document: Albigensian_Crusade\n",
      "Cosine Similarity : 0.23344682857791788\n",
      "\n",
      "\n",
      "Document: Louis_XIV_of_France\n",
      "Cosine Similarity : 0.21353974301740766\n",
      "\n",
      "\n",
      "Document: Richard_I_of_England\n",
      "Cosine Similarity : 0.19848800217703055\n",
      "\n",
      "\n",
      "Document: Jerusalem\n",
      "Cosine Similarity : 0.19029920240813405\n",
      "\n",
      "\n",
      "Document: List_of_French_monarchs\n",
      "Cosine Similarity : 0.19019358852149285\n",
      "\n",
      "\n",
      "Document: Damascus\n",
      "Cosine Similarity : 0.18916314464833547\n",
      "\n",
      "\n",
      "Document: War_of_the_Spanish_Succession\n",
      "Cosine Similarity : 0.18055593092574904\n",
      "\n",
      "\n",
      "Document: Holy_Roman_Empire\n",
      "Cosine Similarity : 0.17764223502015572\n",
      "\n",
      "\n",
      "Document: Saladin\n",
      "Cosine Similarity : 0.17713387110016812\n",
      "\n",
      "\n",
      "Document: Treaty_of_Devol\n",
      "Cosine Similarity : 0.1711844708743734\n",
      "\n",
      "\n",
      "Document: Port_Louis\n",
      "Cosine Similarity : 0.16124200290280344\n",
      "\n",
      "\n",
      "Document: Hundred_Years'_War\n",
      "Cosine Similarity : 0.15459758246934038\n",
      "===========\n",
      "=========== Check Euclidean distances, in reverse, i.e. same order as above\n",
      "===========\n",
      "Document: Second_Crusade\n",
      "\n",
      "Similar Documents:\n",
      "\n",
      "\n",
      "Document: First_Crusade\n",
      "Euclidean Distance : 0.9341372062006384\n",
      "\n",
      "\n",
      "Document: Crusades\n",
      "Euclidean Distance : 0.9914298964115295\n",
      "\n",
      "\n",
      "Document: Manuel_I_Komnenos\n",
      "Euclidean Distance : 1.1086723603864832\n",
      "\n",
      "\n",
      "Document: Children's_Crusade\n",
      "Euclidean Distance : 1.120112254086812\n",
      "\n",
      "\n",
      "Document: German_Crusade,_1096\n",
      "Euclidean Distance : 1.151241787654512\n",
      "\n",
      "\n",
      "Document: Byzantine_Empire\n",
      "Euclidean Distance : 1.184735507647646\n",
      "\n",
      "\n",
      "Document: Siege_of_Antioch\n",
      "Euclidean Distance : 1.1968728940614308\n",
      "\n",
      "\n",
      "Document: Frederick_II,_Holy_Roman_Emperor\n",
      "Euclidean Distance : 1.221686109164137\n",
      "\n",
      "\n",
      "Document: Albigensian_Crusade\n",
      "Euclidean Distance : 1.2381867156629358\n",
      "\n",
      "\n",
      "Document: Louis_XIV_of_France\n",
      "Euclidean Distance : 1.2541612790886136\n",
      "\n",
      "\n",
      "Document: Richard_I_of_England\n",
      "Euclidean Distance : 1.2661058390379285\n",
      "\n",
      "\n",
      "Document: Jerusalem\n",
      "Euclidean Distance : 1.2725571088103407\n",
      "\n",
      "\n",
      "Document: List_of_French_monarchs\n",
      "Euclidean Distance : 1.2726400995399352\n",
      "\n",
      "\n",
      "Document: Damascus\n",
      "Euclidean Distance : 1.2734495320598032\n",
      "\n",
      "\n",
      "Document: War_of_the_Spanish_Succession\n",
      "Euclidean Distance : 1.2801906647638495\n",
      "\n",
      "\n",
      "Document: Holy_Roman_Empire\n",
      "Euclidean Distance : 1.2824646310755292\n",
      "\n",
      "\n",
      "Document: Saladin\n",
      "Euclidean Distance : 1.2828609658882228\n",
      "\n",
      "\n",
      "Document: Treaty_of_Devol\n",
      "Euclidean Distance : 1.2874902167594344\n",
      "\n",
      "\n",
      "Document: Port_Louis\n",
      "Euclidean Distance : 1.2951895591744076\n",
      "\n",
      "\n",
      "Document: Hundred_Years'_War\n",
      "Euclidean Distance : 1.3003095151006632\n"
     ]
    }
   ],
   "source": [
    "# adapted/stolen from https://towardsdatascience.com/calculating-document-similarities-using-bert-and-other-models-b2c1a29c9630\n",
    "def most_similar_N(doc_id, similarity_matrix, matrix, N):\n",
    "    print(f'Document: {docDF.iloc[doc_id][\"article\"]}\\n')\n",
    "    print('Similar Documents:')\n",
    "    if matrix == 'Cosine Similarity':\n",
    "        similar_ix = np.argsort(similarity_matrix[doc_id])[::-1][:N+1]\n",
    "    elif matrix == 'Euclidean Distance':\n",
    "        similar_ix = np.argsort(similarity_matrix[doc_id])[:N+1] # same as previous line, essentially\n",
    "    for ix in similar_ix:\n",
    "        if ix == doc_id:  # don't measure self vs self\n",
    "            continue\n",
    "        print('\\n')\n",
    "        print(f'Document: {docDF.iloc[ix][\"article\"]}')\n",
    "        print(f'{matrix} : {similarity_matrix[doc_id][ix]}')\n",
    "\n",
    "# Second Crusade article, for example\n",
    "most_similar_N(0, pairwise_similarities, 'Cosine Similarity', 20)\n",
    "print(\"===========\")\n",
    "print(\"=========== Check Euclidean distances, in reverse, i.e. same order as above\")\n",
    "print(\"===========\")\n",
    "most_similar_N(0, pairwise_differences, 'Euclidean Distance', 20) "
   ]
  },
  {
   "cell_type": "markdown",
   "metadata": {},
   "source": [
    "**That just prints out the most similar documents, without assigning them to any variable.  The Euclidean Distance is just ordered opposite from the Cosine Similarity, so they measure the same thing, in reverse, but the scale is different.**\n",
    "\n",
    "We could use article similarity as a weighting on graph edges, in order to find shortest paths using something other than just number of links.  To do so, we need to subtract cosine similarity from 1 so that the shortest path algorithm can search for the lowest numbers."
   ]
  },
  {
   "cell_type": "code",
   "execution_count": 202,
   "metadata": {},
   "outputs": [
    {
     "data": {
      "text/plain": [
       "array([[1.        , 0.01588951],\n",
       "       [0.01588951, 1.        ]])"
      ]
     },
     "execution_count": 202,
     "metadata": {},
     "output_type": "execute_result"
    }
   ],
   "source": [
    "pairwise_similarities[:2,:2]"
   ]
  },
  {
   "cell_type": "code",
   "execution_count": 242,
   "metadata": {},
   "outputs": [
    {
     "data": {
      "text/plain": [
       "array([[-2.22044605e-15,  9.84110486e-01],\n",
       "       [ 9.84110486e-01, -1.33226763e-15]])"
      ]
     },
     "execution_count": 242,
     "metadata": {},
     "output_type": "execute_result"
    }
   ],
   "source": [
    "cosine_diffs = 1 - pairwise_similarities\n",
    "cosine_diffs[:2,:2]"
   ]
  },
  {
   "cell_type": "markdown",
   "metadata": {},
   "source": [
    "Those rounding errors for self-similarities have drifted negative, which will break shortest path algorithms, so we'll eliminate them by making them be 1 instead of 0.  "
   ]
  },
  {
   "cell_type": "code",
   "execution_count": 243,
   "metadata": {},
   "outputs": [
    {
     "data": {
      "text/plain": [
       "array([[1.        , 0.98411049],\n",
       "       [0.98411049, 1.        ]])"
      ]
     },
     "execution_count": 243,
     "metadata": {},
     "output_type": "execute_result"
    }
   ],
   "source": [
    "cosine_diffs = np.where(cosine_diffs <= 0, 1, cosine_diffs)\n",
    "cosine_diffs[:2,:2]"
   ]
  },
  {
   "cell_type": "code",
   "execution_count": 236,
   "metadata": {},
   "outputs": [
    {
     "data": {
      "text/plain": [
       "(4594, 4594)"
      ]
     },
     "execution_count": 236,
     "metadata": {},
     "output_type": "execute_result"
    }
   ],
   "source": [
    "cosine_diffs.shape"
   ]
  },
  {
   "cell_type": "markdown",
   "metadata": {},
   "source": [
    "Build a directed graph representing how you could navigate around these articles by clicking their hyperlinks.  Use cosine distance between tfidf vectors for each node as connecting edge weight attribute."
   ]
  },
  {
   "cell_type": "code",
   "execution_count": 245,
   "metadata": {},
   "outputs": [],
   "source": [
    "DG = nx.DiGraph()\n",
    "# create map from article names to tfidf distance matrix indexes\n",
    "doc_ids = {article:idx for idx, article in enumerate(docDF.article)}\n",
    "\n",
    "for source, target in zip(links.linkSource.values, links.linkTarget.values):\n",
    "    cos_distance = cosine_diffs[doc_ids[source], doc_ids[target]]\n",
    "    DG.add_edge(source, target, cos_dist=float(cos_distance)) # can't use numpy floats with graphml"
   ]
  },
  {
   "cell_type": "code",
   "execution_count": 246,
   "metadata": {},
   "outputs": [
    {
     "data": {
      "text/plain": [
       "119882"
      ]
     },
     "execution_count": 246,
     "metadata": {},
     "output_type": "execute_result"
    }
   ],
   "source": [
    "len(DG.edges())"
   ]
  },
  {
   "cell_type": "markdown",
   "metadata": {},
   "source": [
    "Since the graph of links is directed, paths from A to B won't always have the same length as paths from B to A:"
   ]
  },
  {
   "cell_type": "code",
   "execution_count": 51,
   "metadata": {},
   "outputs": [
    {
     "name": "stdout",
     "output_type": "stream",
     "text": [
      "3.0 2.0\n"
     ]
    }
   ],
   "source": [
    "print(sp_names.loc['Fruit', 'Walt_Disney'], sp_names.loc['Walt_Disney', 'Fruit'])"
   ]
  },
  {
   "cell_type": "code",
   "execution_count": 208,
   "metadata": {},
   "outputs": [
    {
     "data": {
      "text/plain": [
       "['Fruit', 'Apple', 'Johnny_Appleseed', 'Walt_Disney']"
      ]
     },
     "execution_count": 208,
     "metadata": {},
     "output_type": "execute_result"
    }
   ],
   "source": [
    "nx.shortest_path(DG, 'Fruit', 'Walt_Disney')"
   ]
  },
  {
   "cell_type": "code",
   "execution_count": 209,
   "metadata": {},
   "outputs": [
    {
     "data": {
      "text/plain": [
       "['Walt_Disney', 'California', 'Fruit']"
      ]
     },
     "execution_count": 209,
     "metadata": {},
     "output_type": "execute_result"
    }
   ],
   "source": [
    "nx.shortest_path(DG, 'Walt_Disney', 'Fruit')"
   ]
  },
  {
   "cell_type": "markdown",
   "metadata": {},
   "source": [
    "The path from general to specific took longer than the other way, in this case.  Let's test that notion on another pair."
   ]
  },
  {
   "cell_type": "code",
   "execution_count": 210,
   "metadata": {},
   "outputs": [
    {
     "data": {
      "text/plain": [
       "['Weather',\n",
       " 'Acid_rain',\n",
       " 'Manchester',\n",
       " 'Manchester_United_F.C.',\n",
       " 'David_Beckham']"
      ]
     },
     "execution_count": 210,
     "metadata": {},
     "output_type": "execute_result"
    }
   ],
   "source": [
    "nx.shortest_path(DG, 'Weather', 'David_Beckham')"
   ]
  },
  {
   "cell_type": "code",
   "execution_count": 211,
   "metadata": {},
   "outputs": [
    {
     "data": {
      "text/plain": [
       "['David_Beckham', 'England', 'Birmingham', 'Weather']"
      ]
     },
     "execution_count": 211,
     "metadata": {},
     "output_type": "execute_result"
    }
   ],
   "source": [
    "nx.shortest_path(DG, 'David_Beckham', 'Weather')"
   ]
  },
  {
   "cell_type": "code",
   "execution_count": 212,
   "metadata": {},
   "outputs": [
    {
     "data": {
      "text/plain": [
       "['Natalie_Portman', 'Romania']"
      ]
     },
     "execution_count": 212,
     "metadata": {},
     "output_type": "execute_result"
    }
   ],
   "source": [
    "nx.shortest_path(DG, 'Natalie_Portman', 'Romania')"
   ]
  },
  {
   "cell_type": "code",
   "execution_count": 213,
   "metadata": {},
   "outputs": [
    {
     "data": {
      "text/plain": [
       "['Romania', 'Crimean_War', 'Jerusalem', 'Natalie_Portman']"
      ]
     },
     "execution_count": 213,
     "metadata": {},
     "output_type": "execute_result"
    }
   ],
   "source": [
    "nx.shortest_path(DG, 'Romania', 'Natalie_Portman')"
   ]
  },
  {
   "cell_type": "markdown",
   "metadata": {},
   "source": [
    "That asymmetry highlights a problem with using path distance as a proxy for semantic relatedness."
   ]
  },
  {
   "cell_type": "markdown",
   "metadata": {},
   "source": [
    "#### With cosine distances as edge weights now, we can also measure a shortest path in terms of how low the total edge distance is between source and target."
   ]
  },
  {
   "cell_type": "code",
   "execution_count": 231,
   "metadata": {},
   "outputs": [
    {
     "data": {
      "text/plain": [
       "['Natalie_Portman', 'Romania']"
      ]
     },
     "execution_count": 231,
     "metadata": {},
     "output_type": "execute_result"
    }
   ],
   "source": [
    "nx.shortest_path(DG, 'Natalie_Portman', 'Romania', weight='cos_dist')"
   ]
  },
  {
   "cell_type": "code",
   "execution_count": 232,
   "metadata": {},
   "outputs": [
    {
     "data": {
      "text/plain": [
       "0.9742942193969387"
      ]
     },
     "execution_count": 232,
     "metadata": {},
     "output_type": "execute_result"
    }
   ],
   "source": [
    "nx.shortest_path_length(DG, 'Natalie_Portman', 'Romania', weight='cos_dist')"
   ]
  },
  {
   "cell_type": "code",
   "execution_count": 233,
   "metadata": {},
   "outputs": [
    {
     "name": "stdout",
     "output_type": "stream",
     "text": [
      "['Weather', 'Acid_rain', 'Manchester', 'Manchester_United_F.C.', 'David_Beckham']\n"
     ]
    },
    {
     "data": {
      "text/plain": [
       "3.214608012197848"
      ]
     },
     "execution_count": 233,
     "metadata": {},
     "output_type": "execute_result"
    }
   ],
   "source": [
    "print(nx.shortest_path(DG, 'Weather', 'David_Beckham', weight='cos_dist'))\n",
    "nx.shortest_path_length(DG, 'Weather', 'David_Beckham', weight='cos_dist')"
   ]
  },
  {
   "cell_type": "code",
   "execution_count": null,
   "metadata": {},
   "outputs": [],
   "source": []
  },
  {
   "cell_type": "code",
   "execution_count": 247,
   "metadata": {},
   "outputs": [],
   "source": [
    "# Ran this once, so commenting it out\n",
    "#nx.write_graphml(DG, 'weighted_link_dg.graphml')"
   ]
  },
  {
   "cell_type": "code",
   "execution_count": 248,
   "metadata": {},
   "outputs": [
    {
     "name": "stdout",
     "output_type": "stream",
     "text": [
      "Name: \n",
      "Type: DiGraph\n",
      "Number of nodes: 4592\n",
      "Number of edges: 119882\n",
      "Average in degree:  26.1067\n",
      "Average out degree:  26.1067\n"
     ]
    }
   ],
   "source": [
    "print(nx.info(DG))"
   ]
  },
  {
   "cell_type": "code",
   "execution_count": 61,
   "metadata": {},
   "outputs": [
    {
     "name": "stderr",
     "output_type": "stream",
     "text": [
      "/Users/ethanhaley/opt/anaconda3/envs/sps620env/lib/python3.7/site-packages/networkx/drawing/nx_pylab.py:522: MatplotlibDeprecationWarning: The is_string_like function was deprecated in version 2.1.\n",
      "  if not cb.is_string_like(edge_color) \\\n",
      "/Users/ethanhaley/opt/anaconda3/envs/sps620env/lib/python3.7/site-packages/networkx/drawing/nx_pylab.py:543: MatplotlibDeprecationWarning: The is_string_like function was deprecated in version 2.1.\n",
      "  if cb.is_string_like(edge_color) or len(edge_color) == 1:\n",
      "/Users/ethanhaley/opt/anaconda3/envs/sps620env/lib/python3.7/site-packages/networkx/drawing/nx_pylab.py:724: MatplotlibDeprecationWarning: The is_string_like function was deprecated in version 2.1.\n",
      "  if not cb.is_string_like(label):\n"
     ]
    },
    {
     "data": {
      "image/png": "[encoded data removed]",
      "text/plain": [
       "<Figure size 2160x2160 with 1 Axes>"
      ]
     },
     "metadata": {
      "needs_background": "light"
     },
     "output_type": "display_data"
    }
   ],
   "source": [
    "# takes a long time to run, huge graph\n",
    "plt.figure(figsize = (30, 30))\n",
    "ax = plt.subplot()\n",
    "\n",
    "nx.draw_networkx(DG, ax=ax)"
   ]
  },
  {
   "cell_type": "code",
   "execution_count": 68,
   "metadata": {},
   "outputs": [],
   "source": [
    "def sorted_map(dd: dict) -> dict:\n",
    "    \"\"\"\n",
    "    Sorts dict by its values (desc)\n",
    "    \n",
    "    :param dd: dictionary with numeric values\n",
    "    :return sorted dictionary ordered by its numeric value\n",
    "    \"\"\"\n",
    "    sorted_dict = sorted(dd.items(), key=lambda x: (-x[1], x[0]))\n",
    "    sorted_dict = [(x[0], round(x[1], 4)) for x in sorted_dict]\n",
    "    return sorted_dict"
   ]
  },
  {
   "cell_type": "code",
   "execution_count": 63,
   "metadata": {},
   "outputs": [],
   "source": [
    "# takes a long time to run\n",
    "d = nx.degree_centrality(DG)\n",
    "dsm = sorted_map(d)\n",
    "\n",
    "c = nx.closeness_centrality(DG)\n",
    "csm = sorted_map(c)\n",
    "\n",
    "b = nx.betweenness_centrality(DG)\n",
    "bsm = sorted_map(b)\n",
    "\n",
    "ident1 = [x[0] for x in dsm[:15]]\n",
    "ident2 = [x[0] for x in csm[:15]]\n",
    "ident3 = [x[0] for x in bsm[:15]]\n",
    "ident = list(set(ident1) | set(ident2) | set(ident3))"
   ]
  },
  {
   "cell_type": "code",
   "execution_count": 64,
   "metadata": {},
   "outputs": [
    {
     "name": "stdout",
     "output_type": "stream",
     "text": [
      "\n",
      "\n",
      "================== Most Central Pages, ccGr[0] ================\n",
      "\n",
      "\n"
     ]
    },
    {
     "data": {
      "text/html": [
       "<div>\n",
       "<style scoped>\n",
       "    .dataframe tbody tr th:only-of-type {\n",
       "        vertical-align: middle;\n",
       "    }\n",
       "\n",
       "    .dataframe tbody tr th {\n",
       "        vertical-align: top;\n",
       "    }\n",
       "\n",
       "    .dataframe thead th {\n",
       "        text-align: right;\n",
       "    }\n",
       "</style>\n",
       "<table border=\"1\" class=\"dataframe\">\n",
       "  <thead>\n",
       "    <tr style=\"text-align: right;\">\n",
       "      <th></th>\n",
       "      <th>GroupID</th>\n",
       "      <th>Degree Centrality</th>\n",
       "      <th>Closeness</th>\n",
       "      <th>Betweenness</th>\n",
       "      <th>Sum Centrality</th>\n",
       "    </tr>\n",
       "  </thead>\n",
       "  <tbody>\n",
       "    <tr>\n",
       "      <th>3</th>\n",
       "      <td>United_States</td>\n",
       "      <td>0.401873</td>\n",
       "      <td>0.355281</td>\n",
       "      <td>0.094090</td>\n",
       "      <td>0.851245</td>\n",
       "    </tr>\n",
       "    <tr>\n",
       "      <th>7</th>\n",
       "      <td>United_Kingdom</td>\n",
       "      <td>0.248312</td>\n",
       "      <td>0.338741</td>\n",
       "      <td>0.042384</td>\n",
       "      <td>0.629437</td>\n",
       "    </tr>\n",
       "    <tr>\n",
       "      <th>12</th>\n",
       "      <td>Europe</td>\n",
       "      <td>0.237857</td>\n",
       "      <td>0.333347</td>\n",
       "      <td>0.026992</td>\n",
       "      <td>0.598195</td>\n",
       "    </tr>\n",
       "    <tr>\n",
       "      <th>0</th>\n",
       "      <td>England</td>\n",
       "      <td>0.201046</td>\n",
       "      <td>0.331894</td>\n",
       "      <td>0.032403</td>\n",
       "      <td>0.565343</td>\n",
       "    </tr>\n",
       "    <tr>\n",
       "      <th>13</th>\n",
       "      <td>France</td>\n",
       "      <td>0.227401</td>\n",
       "      <td>0.317500</td>\n",
       "      <td>0.012002</td>\n",
       "      <td>0.556903</td>\n",
       "    </tr>\n",
       "    <tr>\n",
       "      <th>10</th>\n",
       "      <td>Germany</td>\n",
       "      <td>0.198650</td>\n",
       "      <td>0.336069</td>\n",
       "      <td>0.019409</td>\n",
       "      <td>0.554128</td>\n",
       "    </tr>\n",
       "    <tr>\n",
       "      <th>18</th>\n",
       "      <td>World_War_II</td>\n",
       "      <td>0.189501</td>\n",
       "      <td>0.319284</td>\n",
       "      <td>0.015500</td>\n",
       "      <td>0.524285</td>\n",
       "    </tr>\n",
       "    <tr>\n",
       "      <th>19</th>\n",
       "      <td>Africa</td>\n",
       "      <td>0.150076</td>\n",
       "      <td>0.336575</td>\n",
       "      <td>0.024204</td>\n",
       "      <td>0.510855</td>\n",
       "    </tr>\n",
       "    <tr>\n",
       "      <th>8</th>\n",
       "      <td>English_language</td>\n",
       "      <td>0.155957</td>\n",
       "      <td>0.321463</td>\n",
       "      <td>0.014041</td>\n",
       "      <td>0.491461</td>\n",
       "    </tr>\n",
       "    <tr>\n",
       "      <th>5</th>\n",
       "      <td>Japan</td>\n",
       "      <td>0.146156</td>\n",
       "      <td>0.324170</td>\n",
       "      <td>0.012973</td>\n",
       "      <td>0.483299</td>\n",
       "    </tr>\n",
       "    <tr>\n",
       "      <th>14</th>\n",
       "      <td>London</td>\n",
       "      <td>0.150076</td>\n",
       "      <td>0.318092</td>\n",
       "      <td>0.014675</td>\n",
       "      <td>0.482844</td>\n",
       "    </tr>\n",
       "    <tr>\n",
       "      <th>11</th>\n",
       "      <td>India</td>\n",
       "      <td>0.150730</td>\n",
       "      <td>0.316126</td>\n",
       "      <td>0.011256</td>\n",
       "      <td>0.478112</td>\n",
       "    </tr>\n",
       "    <tr>\n",
       "      <th>24</th>\n",
       "      <td>Australia</td>\n",
       "      <td>0.141364</td>\n",
       "      <td>0.317444</td>\n",
       "      <td>0.012527</td>\n",
       "      <td>0.471334</td>\n",
       "    </tr>\n",
       "    <tr>\n",
       "      <th>6</th>\n",
       "      <td>Italy</td>\n",
       "      <td>0.138314</td>\n",
       "      <td>0.317697</td>\n",
       "      <td>0.007087</td>\n",
       "      <td>0.463098</td>\n",
       "    </tr>\n",
       "    <tr>\n",
       "      <th>4</th>\n",
       "      <td>19th_century</td>\n",
       "      <td>0.098671</td>\n",
       "      <td>0.340060</td>\n",
       "      <td>0.014824</td>\n",
       "      <td>0.453555</td>\n",
       "    </tr>\n",
       "    <tr>\n",
       "      <th>25</th>\n",
       "      <td>Canada</td>\n",
       "      <td>0.138096</td>\n",
       "      <td>0.305419</td>\n",
       "      <td>0.009267</td>\n",
       "      <td>0.452782</td>\n",
       "    </tr>\n",
       "    <tr>\n",
       "      <th>17</th>\n",
       "      <td>Earth</td>\n",
       "      <td>0.084295</td>\n",
       "      <td>0.328755</td>\n",
       "      <td>0.013850</td>\n",
       "      <td>0.426900</td>\n",
       "    </tr>\n",
       "    <tr>\n",
       "      <th>22</th>\n",
       "      <td>Israel</td>\n",
       "      <td>0.088216</td>\n",
       "      <td>0.333223</td>\n",
       "      <td>0.004333</td>\n",
       "      <td>0.425772</td>\n",
       "    </tr>\n",
       "    <tr>\n",
       "      <th>23</th>\n",
       "      <td>Argentina</td>\n",
       "      <td>0.076672</td>\n",
       "      <td>0.341325</td>\n",
       "      <td>0.007605</td>\n",
       "      <td>0.425601</td>\n",
       "    </tr>\n",
       "    <tr>\n",
       "      <th>1</th>\n",
       "      <td>Water</td>\n",
       "      <td>0.070137</td>\n",
       "      <td>0.333409</td>\n",
       "      <td>0.008643</td>\n",
       "      <td>0.412189</td>\n",
       "    </tr>\n",
       "    <tr>\n",
       "      <th>2</th>\n",
       "      <td>Lebanon</td>\n",
       "      <td>0.066652</td>\n",
       "      <td>0.333720</td>\n",
       "      <td>0.001499</td>\n",
       "      <td>0.401871</td>\n",
       "    </tr>\n",
       "    <tr>\n",
       "      <th>9</th>\n",
       "      <td>British_Empire</td>\n",
       "      <td>0.059029</td>\n",
       "      <td>0.333254</td>\n",
       "      <td>0.003482</td>\n",
       "      <td>0.395764</td>\n",
       "    </tr>\n",
       "    <tr>\n",
       "      <th>15</th>\n",
       "      <td>Driving_on_the_left_or_right</td>\n",
       "      <td>0.055543</td>\n",
       "      <td>0.338396</td>\n",
       "      <td>0.000000</td>\n",
       "      <td>0.393939</td>\n",
       "    </tr>\n",
       "    <tr>\n",
       "      <th>20</th>\n",
       "      <td>21st_century</td>\n",
       "      <td>0.041168</td>\n",
       "      <td>0.344378</td>\n",
       "      <td>0.004867</td>\n",
       "      <td>0.390413</td>\n",
       "    </tr>\n",
       "    <tr>\n",
       "      <th>16</th>\n",
       "      <td>History_of_the_world</td>\n",
       "      <td>0.033544</td>\n",
       "      <td>0.342336</td>\n",
       "      <td>0.000184</td>\n",
       "      <td>0.376064</td>\n",
       "    </tr>\n",
       "    <tr>\n",
       "      <th>21</th>\n",
       "      <td>Swastika</td>\n",
       "      <td>0.026356</td>\n",
       "      <td>0.336133</td>\n",
       "      <td>0.000578</td>\n",
       "      <td>0.363067</td>\n",
       "    </tr>\n",
       "  </tbody>\n",
       "</table>\n",
       "</div>"
      ],
      "text/plain": [
       "                         GroupID  Degree Centrality  Closeness  Betweenness  \\\n",
       "3                  United_States           0.401873   0.355281     0.094090   \n",
       "7                 United_Kingdom           0.248312   0.338741     0.042384   \n",
       "12                        Europe           0.237857   0.333347     0.026992   \n",
       "0                        England           0.201046   0.331894     0.032403   \n",
       "13                        France           0.227401   0.317500     0.012002   \n",
       "10                       Germany           0.198650   0.336069     0.019409   \n",
       "18                  World_War_II           0.189501   0.319284     0.015500   \n",
       "19                        Africa           0.150076   0.336575     0.024204   \n",
       "8               English_language           0.155957   0.321463     0.014041   \n",
       "5                          Japan           0.146156   0.324170     0.012973   \n",
       "14                        London           0.150076   0.318092     0.014675   \n",
       "11                         India           0.150730   0.316126     0.011256   \n",
       "24                     Australia           0.141364   0.317444     0.012527   \n",
       "6                          Italy           0.138314   0.317697     0.007087   \n",
       "4                   19th_century           0.098671   0.340060     0.014824   \n",
       "25                        Canada           0.138096   0.305419     0.009267   \n",
       "17                         Earth           0.084295   0.328755     0.013850   \n",
       "22                        Israel           0.088216   0.333223     0.004333   \n",
       "23                     Argentina           0.076672   0.341325     0.007605   \n",
       "1                          Water           0.070137   0.333409     0.008643   \n",
       "2                        Lebanon           0.066652   0.333720     0.001499   \n",
       "9                 British_Empire           0.059029   0.333254     0.003482   \n",
       "15  Driving_on_the_left_or_right           0.055543   0.338396     0.000000   \n",
       "20                  21st_century           0.041168   0.344378     0.004867   \n",
       "16          History_of_the_world           0.033544   0.342336     0.000184   \n",
       "21                      Swastika           0.026356   0.336133     0.000578   \n",
       "\n",
       "    Sum Centrality  \n",
       "3         0.851245  \n",
       "7         0.629437  \n",
       "12        0.598195  \n",
       "0         0.565343  \n",
       "13        0.556903  \n",
       "10        0.554128  \n",
       "18        0.524285  \n",
       "19        0.510855  \n",
       "8         0.491461  \n",
       "5         0.483299  \n",
       "14        0.482844  \n",
       "11        0.478112  \n",
       "24        0.471334  \n",
       "6         0.463098  \n",
       "4         0.453555  \n",
       "25        0.452782  \n",
       "17        0.426900  \n",
       "22        0.425772  \n",
       "23        0.425601  \n",
       "1         0.412189  \n",
       "2         0.401871  \n",
       "9         0.395764  \n",
       "15        0.393939  \n",
       "20        0.390413  \n",
       "16        0.376064  \n",
       "21        0.363067  "
      ]
     },
     "execution_count": 64,
     "metadata": {},
     "output_type": "execute_result"
    }
   ],
   "source": [
    "summary_df = pd.DataFrame({'GroupID': ident,\n",
    "    'Degree Centrality': [d[i] for i in ident],\n",
    "    'Closeness': [c[i] for i in ident], \n",
    "    'Betweenness': [b[i] for i in ident]})\n",
    "\n",
    "\n",
    "summary_df['Sum Centrality'] = sum([summary_df['Degree Centrality'],\n",
    "                                   summary_df.Closeness,\n",
    "                                   summary_df.Betweenness])\n",
    "\n",
    "print('\\n\\n================== Most Central Pages, ccGr[0] ================\\n\\n')\n",
    "summary_df.sort_values(by='Sum Centrality', ascending=False)"
   ]
  },
  {
   "cell_type": "markdown",
   "metadata": {},
   "source": [
    "Since the graph is directed, its PageRank can also tell us a lot about the articles"
   ]
  },
  {
   "cell_type": "code",
   "execution_count": 65,
   "metadata": {},
   "outputs": [],
   "source": [
    "pr = nx.pagerank(DG)"
   ]
  },
  {
   "cell_type": "code",
   "execution_count": 69,
   "metadata": {},
   "outputs": [
    {
     "data": {
      "text/plain": [
       "[('United_States', 0.0096),\n",
       " ('France', 0.0064),\n",
       " ('Europe', 0.0063),\n",
       " ('United_Kingdom', 0.0062),\n",
       " ('English_language', 0.0049),\n",
       " ('Germany', 0.0048),\n",
       " ('World_War_II', 0.0047),\n",
       " ('England', 0.0045),\n",
       " ('Latin', 0.0044),\n",
       " ('India', 0.004),\n",
       " ('Japan', 0.0039),\n",
       " ('Italy', 0.0037),\n",
       " ('Spain', 0.0036),\n",
       " ('China', 0.0036),\n",
       " ('Russia', 0.0035),\n",
       " ('Time_zone', 0.0035),\n",
       " ('Canada', 0.0034),\n",
       " ('Currency', 0.0032),\n",
       " ('Australia', 0.0032),\n",
       " ('Africa', 0.0032),\n",
       " ('London', 0.0031),\n",
       " ('Christianity', 0.003)]"
      ]
     },
     "execution_count": 69,
     "metadata": {},
     "output_type": "execute_result"
    }
   ],
   "source": [
    "sorted_map(pr)[:22]"
   ]
  },
  {
   "cell_type": "code",
   "execution_count": null,
   "metadata": {},
   "outputs": [],
   "source": []
  }
 ],
 "metadata": {
  "interpreter": {
   "hash": "dcc31e1a7e69f3bac09774c1c2b5c2aa9dc1d0a05c8f25c5f2eca31d66a996d6"
  },
  "kernelspec": {
   "display_name": "Python 3",
   "language": "python",
   "name": "python3"
  },
  "language_info": {
   "codemirror_mode": {
    "name": "ipython",
    "version": 3
   },
   "file_extension": ".py",
   "mimetype": "text/x-python",
   "name": "python",
   "nbconvert_exporter": "python",
   "pygments_lexer": "ipython3",
   "version": "3.7.10"
  }
 },
 "nbformat": 4,
 "nbformat_minor": 2
}
