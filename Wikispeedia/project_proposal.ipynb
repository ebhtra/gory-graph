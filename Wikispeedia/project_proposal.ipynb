{
 "metadata": {
  "language_info": {
   "codemirror_mode": {
    "name": "ipython",
    "version": 3
   },
   "file_extension": ".py",
   "mimetype": "text/x-python",
   "name": "python",
   "nbconvert_exporter": "python",
   "pygments_lexer": "ipython3",
   "version": "3.7.10"
  },
  "orig_nbformat": 4,
  "kernelspec": {
   "name": "python3",
   "display_name": "Python 3.7.10 64-bit ('sps620env': conda)"
  },
  "interpreter": {
   "hash": "dcc31e1a7e69f3bac09774c1c2b5c2aa9dc1d0a05c8f25c5f2eca31d66a996d6"
  }
 },
 "nbformat": 4,
 "nbformat_minor": 2,
 "cells": [
  {
   "source": [
    "## Final Project Proposal - DATA 620\n",
    "### Summer 2021\n",
    "**Authors:** GOAT Team (Estaban Aramayo, Ethan Haley, Claire Meyer, and Tyler Frankenburg)\n",
    "\n",
    "#### Proposal Requirements\n",
    "Your proposal should describe at a high level what you’re seeking to accomplish, and your motivation for performing this analysis. A guiding question or hypothesis to test is one good way to start. If you are going to work in a small group (encouraged!), you should also list your partners’ names. \n",
    "You should briefly describe your data sources; plan for doing the work, and up front concerns. If you are working in a group, please describe the roles and responsibilities of each group member. \n",
    "We’ll treat this proposal as a planning document, not a blue print containing “firm, fixed requirements.” \n",
    "\n",
    "#### Final Project Requirements\n",
    "\n",
    "Final Project Your project should incorporate one or both of the two main themes of this course: network analysis and text processing. You need to show all of your work in a coherent workflow, and in a reproducible format, such as an IPython Notebook or an R Markdown document. If you are building a model or models, explain how you evaluate the “goodness” of the chosen model and parameters.\n"
   ],
   "cell_type": "markdown",
   "metadata": {}
  },
  {
   "source": [
    "### 1.  Research Question & Hypothesis\n",
    "\n",
    "What can the text content of Wikipedia articles tell us about the connectedness of concepts, in conjunction with centrality measures derived from network analysis of paths through the Wikispeedia game?\n",
    "\n",
    "*We hypothesize that similarity of text content is correlated with centrality and that a model can be developed that accurately predicts centrality based on text content.*"
   ],
   "cell_type": "markdown",
   "metadata": {}
  },
  {
   "source": [
    "### 2. The Dataset - SNAP: Wikispeedia \n",
    "\n",
    "In this project, we'll examine the **Stanford SNAP** \"Wikispedia\" network. This dataset is available from: https://snap.stanford.edu/data/wikispeedia.html.\n",
    "\n",
    "#### Dataset Description from SNAP\n",
    "\n",
    "*This dataset contains human navigation paths on Wikipedia, collected through the human-computation game Wikispeedia. In Wikispeedia, users are asked to navigate from a given source to a given target article, by only clicking Wikipedia links. A condensed version of Wikipedia (4,604 articles) is used. In addition to the navigation paths, we provide the full HTML package of this version of Wikipedia, as well as all articles in plaintext.*\n",
    "\n",
    "#### Dataset Sources\n",
    "\n",
    "Robert West and Jure Leskovec: *Human Wayfinding in Information Networks*. 21st International World Wide Web Conference (WWW), 2012.\n",
    "\n",
    "Robert West, Joelle Pineau, and Doina Precup: *Wikispeedia: An Online Game for Inferring Semantic Distances between Concepts*. 21st International Joint Conference on Artificial Intelligence (IJCAI), 2009. "
   ],
   "cell_type": "markdown",
   "metadata": {}
  },
  {
   "source": [
    "### 3. The Workflow\n",
    "\n",
    "Our team of 4 will execute the following steps collaboratively:\n",
    "- Extract tar.gz files to .tsv, host data in github repo and load to Pandas dataframes - Tyler\n",
    "- Exploratory analysis and vizualization of article network\n",
    "- Exploratory analysis and vizualization of article text content\n",
    "- Document classification/ frequency Analysis\n",
    "- Hypothesis Test\n",
    "- Summary of findings and recommendations for future research"
   ],
   "cell_type": "markdown",
   "metadata": {}
  },
  {
   "source": [
    "### 4. Questions and Concerns to be resolved\n",
    "\n",
    "Is predicting centrality based on text content a conceptually sound approach?  \n",
    "Is the analysis feasible to conduct over 7 days?  \n",
    "What NLP method (frequency, classification, etc.) will allow the most useful numeric value for statistical modeling?  \n",
    "What measure of network centrality is most appropriate for statistical modeling?  \n",
    "What is a reasonable target for accuracy in this model?"
   ],
   "cell_type": "markdown",
   "metadata": {}
  }
 ]
}