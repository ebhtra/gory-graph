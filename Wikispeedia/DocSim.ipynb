{
 "cells": [
  {
   "cell_type": "markdown",
   "id": "6842ba4a",
   "metadata": {},
   "source": [
    "### This is a diversion into the various ways to compute similarity for the Wikipedia articles in GOAT 620 Final Proj"
   ]
  },
  {
   "cell_type": "code",
   "execution_count": 3,
   "id": "2c5b2a9e",
   "metadata": {},
   "outputs": [
    {
     "name": "stderr",
     "output_type": "stream",
     "text": [
      "\n",
      "Bad key text.latex.unicode in file /Users/ethanhaley/opt/anaconda3/envs/sps620env/lib/python3.7/site-packages/matplotlib/mpl-data/stylelib/_classic_test.mplstyle, line 112 ('text.latex.unicode : False # use \"ucs\" and \"inputenc\" LaTeX packages for handling')\n",
      "You probably need to get an updated matplotlibrc file from\n",
      "https://github.com/matplotlib/matplotlib/blob/v3.3.4/matplotlibrc.template\n",
      "or from the matplotlib source distribution\n",
      "\n",
      "Bad key savefig.frameon in file /Users/ethanhaley/opt/anaconda3/envs/sps620env/lib/python3.7/site-packages/matplotlib/mpl-data/stylelib/_classic_test.mplstyle, line 423 ('savefig.frameon : True')\n",
      "You probably need to get an updated matplotlibrc file from\n",
      "https://github.com/matplotlib/matplotlib/blob/v3.3.4/matplotlibrc.template\n",
      "or from the matplotlib source distribution\n",
      "\n",
      "Bad key pgf.debug in file /Users/ethanhaley/opt/anaconda3/envs/sps620env/lib/python3.7/site-packages/matplotlib/mpl-data/stylelib/_classic_test.mplstyle, line 444 ('pgf.debug           : False')\n",
      "You probably need to get an updated matplotlibrc file from\n",
      "https://github.com/matplotlib/matplotlib/blob/v3.3.4/matplotlibrc.template\n",
      "or from the matplotlib source distribution\n",
      "\n",
      "Bad key verbose.level in file /Users/ethanhaley/opt/anaconda3/envs/sps620env/lib/python3.7/site-packages/matplotlib/mpl-data/stylelib/_classic_test.mplstyle, line 475 ('verbose.level  : silent      # one of silent, helpful, debug, debug-annoying')\n",
      "You probably need to get an updated matplotlibrc file from\n",
      "https://github.com/matplotlib/matplotlib/blob/v3.3.4/matplotlibrc.template\n",
      "or from the matplotlib source distribution\n",
      "\n",
      "Bad key verbose.fileo in file /Users/ethanhaley/opt/anaconda3/envs/sps620env/lib/python3.7/site-packages/matplotlib/mpl-data/stylelib/_classic_test.mplstyle, line 476 ('verbose.fileo  : sys.stdout  # a log filename, sys.stdout or sys.stderr')\n",
      "You probably need to get an updated matplotlibrc file from\n",
      "https://github.com/matplotlib/matplotlib/blob/v3.3.4/matplotlibrc.template\n",
      "or from the matplotlib source distribution\n",
      "In /Users/ethanhaley/opt/anaconda3/envs/sps620env/lib/python3.7/site-packages/matplotlib/mpl-data/stylelib/_classic_test.mplstyle: \n",
      "The text.latex.preview rcparam was deprecated in Matplotlib 3.3 and will be removed two minor releases later.\n",
      "In /Users/ethanhaley/opt/anaconda3/envs/sps620env/lib/python3.7/site-packages/matplotlib/mpl-data/stylelib/_classic_test.mplstyle: \n",
      "The mathtext.fallback_to_cm rcparam was deprecated in Matplotlib 3.3 and will be removed two minor releases later.\n",
      "In /Users/ethanhaley/opt/anaconda3/envs/sps620env/lib/python3.7/site-packages/matplotlib/mpl-data/stylelib/_classic_test.mplstyle: Support for setting the 'mathtext.fallback_to_cm' rcParam is deprecated since 3.3 and will be removed two minor releases later; use 'mathtext.fallback : 'cm' instead.\n",
      "In /Users/ethanhaley/opt/anaconda3/envs/sps620env/lib/python3.7/site-packages/matplotlib/mpl-data/stylelib/_classic_test.mplstyle: \n",
      "The validate_bool_maybe_none function was deprecated in Matplotlib 3.3 and will be removed two minor releases later.\n",
      "In /Users/ethanhaley/opt/anaconda3/envs/sps620env/lib/python3.7/site-packages/matplotlib/mpl-data/stylelib/_classic_test.mplstyle: \n",
      "The savefig.jpeg_quality rcparam was deprecated in Matplotlib 3.3 and will be removed two minor releases later.\n",
      "In /Users/ethanhaley/opt/anaconda3/envs/sps620env/lib/python3.7/site-packages/matplotlib/mpl-data/stylelib/_classic_test.mplstyle: \n",
      "The keymap.all_axes rcparam was deprecated in Matplotlib 3.3 and will be removed two minor releases later.\n",
      "In /Users/ethanhaley/opt/anaconda3/envs/sps620env/lib/python3.7/site-packages/matplotlib/mpl-data/stylelib/_classic_test.mplstyle: \n",
      "The animation.avconv_path rcparam was deprecated in Matplotlib 3.3 and will be removed two minor releases later.\n",
      "In /Users/ethanhaley/opt/anaconda3/envs/sps620env/lib/python3.7/site-packages/matplotlib/mpl-data/stylelib/_classic_test.mplstyle: \n",
      "The animation.avconv_args rcparam was deprecated in Matplotlib 3.3 and will be removed two minor releases later.\n"
     ]
    }
   ],
   "source": [
    "import pandas as pd\n",
    "import numpy as np\n",
    "import matplotlib.pyplot as plt\n",
    "\n",
    "from sklearn.feature_extraction.text import TfidfVectorizer \n",
    "from sklearn.metrics.pairwise import cosine_similarity\n",
    "from sklearn.metrics.pairwise import euclidean_distances\n",
    "\n",
    "import nltk\n",
    "from nltk.stem import PorterStemmer, SnowballStemmer\n",
    "from nltk.corpus import stopwords\n",
    "from urllib import parse"
   ]
  },
  {
   "cell_type": "code",
   "execution_count": 4,
   "id": "2555a2ea",
   "metadata": {},
   "outputs": [],
   "source": [
    "docDF = pd.read_csv('doctextDF.csv', index_col=0)"
   ]
  },
  {
   "cell_type": "code",
   "execution_count": 5,
   "id": "8a3d7dcd",
   "metadata": {},
   "outputs": [
    {
     "data": {
      "text/html": [
       "<div>\n",
       "<style scoped>\n",
       "    .dataframe tbody tr th:only-of-type {\n",
       "        vertical-align: middle;\n",
       "    }\n",
       "\n",
       "    .dataframe tbody tr th {\n",
       "        vertical-align: top;\n",
       "    }\n",
       "\n",
       "    .dataframe thead th {\n",
       "        text-align: right;\n",
       "    }\n",
       "</style>\n",
       "<table border=\"1\" class=\"dataframe\">\n",
       "  <thead>\n",
       "    <tr style=\"text-align: right;\">\n",
       "      <th></th>\n",
       "      <th>article</th>\n",
       "      <th>texts</th>\n",
       "    </tr>\n",
       "  </thead>\n",
       "  <tbody>\n",
       "    <tr>\n",
       "      <th>0</th>\n",
       "      <td>Second_Crusade</td>\n",
       "      <td>second crusade  military history war religio...</td>\n",
       "    </tr>\n",
       "    <tr>\n",
       "      <th>1</th>\n",
       "      <td>Navassa_Island</td>\n",
       "      <td>navassa island  north american geography nav...</td>\n",
       "    </tr>\n",
       "  </tbody>\n",
       "</table>\n",
       "</div>"
      ],
      "text/plain": [
       "          article                                              texts\n",
       "0  Second_Crusade    second crusade  military history war religio...\n",
       "1  Navassa_Island    navassa island  north american geography nav..."
      ]
     },
     "execution_count": 5,
     "metadata": {},
     "output_type": "execute_result"
    }
   ],
   "source": [
    "docDF.head(2)"
   ]
  },
  {
   "cell_type": "markdown",
   "id": "beb67301",
   "metadata": {},
   "source": [
    "Combine multiple versions of word into one"
   ]
  },
  {
   "cell_type": "code",
   "execution_count": 6,
   "id": "5438dc61",
   "metadata": {},
   "outputs": [
    {
     "ename": "KeyboardInterrupt",
     "evalue": "",
     "output_type": "error",
     "traceback": [
      "\u001b[0;31m---------------------------------------------------------------------------\u001b[0m",
      "\u001b[0;31mKeyboardInterrupt\u001b[0m                         Traceback (most recent call last)",
      "\u001b[0;32m<ipython-input-6-3faf8f4f1110>\u001b[0m in \u001b[0;36m<module>\u001b[0;34m\u001b[0m\n\u001b[1;32m      1\u001b[0m \u001b[0;31m# ~ 2 minutes\u001b[0m\u001b[0;34m\u001b[0m\u001b[0;34m\u001b[0m\u001b[0;34m\u001b[0m\u001b[0m\n\u001b[1;32m      2\u001b[0m \u001b[0mporter\u001b[0m \u001b[0;34m=\u001b[0m \u001b[0mPorterStemmer\u001b[0m\u001b[0;34m(\u001b[0m\u001b[0;34m)\u001b[0m\u001b[0;34m\u001b[0m\u001b[0;34m\u001b[0m\u001b[0m\n\u001b[0;32m----> 3\u001b[0;31m \u001b[0mdocDF\u001b[0m\u001b[0;34m.\u001b[0m\u001b[0mtexts\u001b[0m \u001b[0;34m=\u001b[0m \u001b[0mdocDF\u001b[0m\u001b[0;34m.\u001b[0m\u001b[0mtexts\u001b[0m\u001b[0;34m.\u001b[0m\u001b[0mapply\u001b[0m\u001b[0;34m(\u001b[0m\u001b[0;32mlambda\u001b[0m \u001b[0mt\u001b[0m\u001b[0;34m:\u001b[0m \u001b[0;34m' '\u001b[0m\u001b[0;34m.\u001b[0m\u001b[0mjoin\u001b[0m\u001b[0;34m(\u001b[0m\u001b[0;34m[\u001b[0m\u001b[0mporter\u001b[0m\u001b[0;34m.\u001b[0m\u001b[0mstem\u001b[0m\u001b[0;34m(\u001b[0m\u001b[0mword\u001b[0m\u001b[0;34m)\u001b[0m \u001b[0;32mfor\u001b[0m \u001b[0mword\u001b[0m \u001b[0;32min\u001b[0m \u001b[0mt\u001b[0m\u001b[0;34m.\u001b[0m\u001b[0msplit\u001b[0m\u001b[0;34m(\u001b[0m\u001b[0;34m)\u001b[0m\u001b[0;34m]\u001b[0m\u001b[0;34m)\u001b[0m\u001b[0;34m)\u001b[0m\u001b[0;34m\u001b[0m\u001b[0;34m\u001b[0m\u001b[0m\n\u001b[0m",
      "\u001b[0;32m~/opt/anaconda3/envs/sps620env/lib/python3.7/site-packages/pandas/core/series.py\u001b[0m in \u001b[0;36mapply\u001b[0;34m(self, func, convert_dtype, args, **kwds)\u001b[0m\n\u001b[1;32m   4136\u001b[0m             \u001b[0;32melse\u001b[0m\u001b[0;34m:\u001b[0m\u001b[0;34m\u001b[0m\u001b[0;34m\u001b[0m\u001b[0m\n\u001b[1;32m   4137\u001b[0m                 \u001b[0mvalues\u001b[0m \u001b[0;34m=\u001b[0m \u001b[0mself\u001b[0m\u001b[0;34m.\u001b[0m\u001b[0mastype\u001b[0m\u001b[0;34m(\u001b[0m\u001b[0mobject\u001b[0m\u001b[0;34m)\u001b[0m\u001b[0;34m.\u001b[0m\u001b[0m_values\u001b[0m\u001b[0;34m\u001b[0m\u001b[0;34m\u001b[0m\u001b[0m\n\u001b[0;32m-> 4138\u001b[0;31m                 \u001b[0mmapped\u001b[0m \u001b[0;34m=\u001b[0m \u001b[0mlib\u001b[0m\u001b[0;34m.\u001b[0m\u001b[0mmap_infer\u001b[0m\u001b[0;34m(\u001b[0m\u001b[0mvalues\u001b[0m\u001b[0;34m,\u001b[0m \u001b[0mf\u001b[0m\u001b[0;34m,\u001b[0m \u001b[0mconvert\u001b[0m\u001b[0;34m=\u001b[0m\u001b[0mconvert_dtype\u001b[0m\u001b[0;34m)\u001b[0m\u001b[0;34m\u001b[0m\u001b[0;34m\u001b[0m\u001b[0m\n\u001b[0m\u001b[1;32m   4139\u001b[0m \u001b[0;34m\u001b[0m\u001b[0m\n\u001b[1;32m   4140\u001b[0m         \u001b[0;32mif\u001b[0m \u001b[0mlen\u001b[0m\u001b[0;34m(\u001b[0m\u001b[0mmapped\u001b[0m\u001b[0;34m)\u001b[0m \u001b[0;32mand\u001b[0m \u001b[0misinstance\u001b[0m\u001b[0;34m(\u001b[0m\u001b[0mmapped\u001b[0m\u001b[0;34m[\u001b[0m\u001b[0;36m0\u001b[0m\u001b[0;34m]\u001b[0m\u001b[0;34m,\u001b[0m \u001b[0mSeries\u001b[0m\u001b[0;34m)\u001b[0m\u001b[0;34m:\u001b[0m\u001b[0;34m\u001b[0m\u001b[0;34m\u001b[0m\u001b[0m\n",
      "\u001b[0;32mpandas/_libs/lib.pyx\u001b[0m in \u001b[0;36mpandas._libs.lib.map_infer\u001b[0;34m()\u001b[0m\n",
      "\u001b[0;32m<ipython-input-6-3faf8f4f1110>\u001b[0m in \u001b[0;36m<lambda>\u001b[0;34m(t)\u001b[0m\n\u001b[1;32m      1\u001b[0m \u001b[0;31m# ~ 2 minutes\u001b[0m\u001b[0;34m\u001b[0m\u001b[0;34m\u001b[0m\u001b[0;34m\u001b[0m\u001b[0m\n\u001b[1;32m      2\u001b[0m \u001b[0mporter\u001b[0m \u001b[0;34m=\u001b[0m \u001b[0mPorterStemmer\u001b[0m\u001b[0;34m(\u001b[0m\u001b[0;34m)\u001b[0m\u001b[0;34m\u001b[0m\u001b[0;34m\u001b[0m\u001b[0m\n\u001b[0;32m----> 3\u001b[0;31m \u001b[0mdocDF\u001b[0m\u001b[0;34m.\u001b[0m\u001b[0mtexts\u001b[0m \u001b[0;34m=\u001b[0m \u001b[0mdocDF\u001b[0m\u001b[0;34m.\u001b[0m\u001b[0mtexts\u001b[0m\u001b[0;34m.\u001b[0m\u001b[0mapply\u001b[0m\u001b[0;34m(\u001b[0m\u001b[0;32mlambda\u001b[0m \u001b[0mt\u001b[0m\u001b[0;34m:\u001b[0m \u001b[0;34m' '\u001b[0m\u001b[0;34m.\u001b[0m\u001b[0mjoin\u001b[0m\u001b[0;34m(\u001b[0m\u001b[0;34m[\u001b[0m\u001b[0mporter\u001b[0m\u001b[0;34m.\u001b[0m\u001b[0mstem\u001b[0m\u001b[0;34m(\u001b[0m\u001b[0mword\u001b[0m\u001b[0;34m)\u001b[0m \u001b[0;32mfor\u001b[0m \u001b[0mword\u001b[0m \u001b[0;32min\u001b[0m \u001b[0mt\u001b[0m\u001b[0;34m.\u001b[0m\u001b[0msplit\u001b[0m\u001b[0;34m(\u001b[0m\u001b[0;34m)\u001b[0m\u001b[0;34m]\u001b[0m\u001b[0;34m)\u001b[0m\u001b[0;34m)\u001b[0m\u001b[0;34m\u001b[0m\u001b[0;34m\u001b[0m\u001b[0m\n\u001b[0m",
      "\u001b[0;32m<ipython-input-6-3faf8f4f1110>\u001b[0m in \u001b[0;36m<listcomp>\u001b[0;34m(.0)\u001b[0m\n\u001b[1;32m      1\u001b[0m \u001b[0;31m# ~ 2 minutes\u001b[0m\u001b[0;34m\u001b[0m\u001b[0;34m\u001b[0m\u001b[0;34m\u001b[0m\u001b[0m\n\u001b[1;32m      2\u001b[0m \u001b[0mporter\u001b[0m \u001b[0;34m=\u001b[0m \u001b[0mPorterStemmer\u001b[0m\u001b[0;34m(\u001b[0m\u001b[0;34m)\u001b[0m\u001b[0;34m\u001b[0m\u001b[0;34m\u001b[0m\u001b[0m\n\u001b[0;32m----> 3\u001b[0;31m \u001b[0mdocDF\u001b[0m\u001b[0;34m.\u001b[0m\u001b[0mtexts\u001b[0m \u001b[0;34m=\u001b[0m \u001b[0mdocDF\u001b[0m\u001b[0;34m.\u001b[0m\u001b[0mtexts\u001b[0m\u001b[0;34m.\u001b[0m\u001b[0mapply\u001b[0m\u001b[0;34m(\u001b[0m\u001b[0;32mlambda\u001b[0m \u001b[0mt\u001b[0m\u001b[0;34m:\u001b[0m \u001b[0;34m' '\u001b[0m\u001b[0;34m.\u001b[0m\u001b[0mjoin\u001b[0m\u001b[0;34m(\u001b[0m\u001b[0;34m[\u001b[0m\u001b[0mporter\u001b[0m\u001b[0;34m.\u001b[0m\u001b[0mstem\u001b[0m\u001b[0;34m(\u001b[0m\u001b[0mword\u001b[0m\u001b[0;34m)\u001b[0m \u001b[0;32mfor\u001b[0m \u001b[0mword\u001b[0m \u001b[0;32min\u001b[0m \u001b[0mt\u001b[0m\u001b[0;34m.\u001b[0m\u001b[0msplit\u001b[0m\u001b[0;34m(\u001b[0m\u001b[0;34m)\u001b[0m\u001b[0;34m]\u001b[0m\u001b[0;34m)\u001b[0m\u001b[0;34m)\u001b[0m\u001b[0;34m\u001b[0m\u001b[0;34m\u001b[0m\u001b[0m\n\u001b[0m",
      "\u001b[0;32m~/opt/anaconda3/envs/sps620env/lib/python3.7/site-packages/nltk/stem/porter.py\u001b[0m in \u001b[0;36mstem\u001b[0;34m(self, word, to_lowercase)\u001b[0m\n\u001b[1;32m    665\u001b[0m \u001b[0;34m\u001b[0m\u001b[0m\n\u001b[1;32m    666\u001b[0m \u001b[0;34m\u001b[0m\u001b[0m\n\u001b[0;32m--> 667\u001b[0;31m         \u001b[0mstem\u001b[0m \u001b[0;34m=\u001b[0m \u001b[0mself\u001b[0m\u001b[0;34m.\u001b[0m\u001b[0m_step1a\u001b[0m\u001b[0;34m(\u001b[0m\u001b[0mstem\u001b[0m\u001b[0;34m)\u001b[0m\u001b[0;34m\u001b[0m\u001b[0;34m\u001b[0m\u001b[0m\n\u001b[0m\u001b[1;32m    668\u001b[0m         \u001b[0mstem\u001b[0m \u001b[0;34m=\u001b[0m \u001b[0mself\u001b[0m\u001b[0;34m.\u001b[0m\u001b[0m_step1b\u001b[0m\u001b[0;34m(\u001b[0m\u001b[0mstem\u001b[0m\u001b[0;34m)\u001b[0m\u001b[0;34m\u001b[0m\u001b[0;34m\u001b[0m\u001b[0m\n\u001b[1;32m    669\u001b[0m         \u001b[0mstem\u001b[0m \u001b[0;34m=\u001b[0m \u001b[0mself\u001b[0m\u001b[0;34m.\u001b[0m\u001b[0m_step1c\u001b[0m\u001b[0;34m(\u001b[0m\u001b[0mstem\u001b[0m\u001b[0;34m)\u001b[0m\u001b[0;34m\u001b[0m\u001b[0;34m\u001b[0m\u001b[0m\n",
      "\u001b[0;32m~/opt/anaconda3/envs/sps620env/lib/python3.7/site-packages/nltk/stem/porter.py\u001b[0m in \u001b[0;36m_step1a\u001b[0;34m(self, word)\u001b[0m\n\u001b[1;32m    294\u001b[0m                 \u001b[0;34m(\u001b[0m\u001b[0;34m\"ies\"\u001b[0m\u001b[0;34m,\u001b[0m \u001b[0;34m\"i\"\u001b[0m\u001b[0;34m,\u001b[0m \u001b[0;32mNone\u001b[0m\u001b[0;34m)\u001b[0m\u001b[0;34m,\u001b[0m  \u001b[0;31m# IES  -> I\u001b[0m\u001b[0;34m\u001b[0m\u001b[0;34m\u001b[0m\u001b[0m\n\u001b[1;32m    295\u001b[0m                 \u001b[0;34m(\u001b[0m\u001b[0;34m\"ss\"\u001b[0m\u001b[0;34m,\u001b[0m \u001b[0;34m\"ss\"\u001b[0m\u001b[0;34m,\u001b[0m \u001b[0;32mNone\u001b[0m\u001b[0;34m)\u001b[0m\u001b[0;34m,\u001b[0m  \u001b[0;31m# SS   -> SS\u001b[0m\u001b[0;34m\u001b[0m\u001b[0;34m\u001b[0m\u001b[0m\n\u001b[0;32m--> 296\u001b[0;31m                 \u001b[0;34m(\u001b[0m\u001b[0;34m\"s\"\u001b[0m\u001b[0;34m,\u001b[0m \u001b[0;34m\"\"\u001b[0m\u001b[0;34m,\u001b[0m \u001b[0;32mNone\u001b[0m\u001b[0;34m)\u001b[0m\u001b[0;34m,\u001b[0m  \u001b[0;31m# S    ->\u001b[0m\u001b[0;34m\u001b[0m\u001b[0;34m\u001b[0m\u001b[0m\n\u001b[0m\u001b[1;32m    297\u001b[0m             ],\n\u001b[1;32m    298\u001b[0m         )\n",
      "\u001b[0;32m~/opt/anaconda3/envs/sps620env/lib/python3.7/site-packages/nltk/stem/porter.py\u001b[0m in \u001b[0;36m_apply_rule_list\u001b[0;34m(self, word, rules)\u001b[0m\n\u001b[1;32m    261\u001b[0m                     \u001b[0;31m# Don't try any further rules\u001b[0m\u001b[0;34m\u001b[0m\u001b[0;34m\u001b[0m\u001b[0;34m\u001b[0m\u001b[0m\n\u001b[1;32m    262\u001b[0m                     \u001b[0;32mreturn\u001b[0m \u001b[0mword\u001b[0m\u001b[0;34m\u001b[0m\u001b[0;34m\u001b[0m\u001b[0m\n\u001b[0;32m--> 263\u001b[0;31m             \u001b[0;32mif\u001b[0m \u001b[0mword\u001b[0m\u001b[0;34m.\u001b[0m\u001b[0mendswith\u001b[0m\u001b[0;34m(\u001b[0m\u001b[0msuffix\u001b[0m\u001b[0;34m)\u001b[0m\u001b[0;34m:\u001b[0m\u001b[0;34m\u001b[0m\u001b[0;34m\u001b[0m\u001b[0m\n\u001b[0m\u001b[1;32m    264\u001b[0m                 \u001b[0mstem\u001b[0m \u001b[0;34m=\u001b[0m \u001b[0mself\u001b[0m\u001b[0;34m.\u001b[0m\u001b[0m_replace_suffix\u001b[0m\u001b[0;34m(\u001b[0m\u001b[0mword\u001b[0m\u001b[0;34m,\u001b[0m \u001b[0msuffix\u001b[0m\u001b[0;34m,\u001b[0m \u001b[0;34m\"\"\u001b[0m\u001b[0;34m)\u001b[0m\u001b[0;34m\u001b[0m\u001b[0;34m\u001b[0m\u001b[0m\n\u001b[1;32m    265\u001b[0m                 \u001b[0;32mif\u001b[0m \u001b[0mcondition\u001b[0m \u001b[0;32mis\u001b[0m \u001b[0;32mNone\u001b[0m \u001b[0;32mor\u001b[0m \u001b[0mcondition\u001b[0m\u001b[0;34m(\u001b[0m\u001b[0mstem\u001b[0m\u001b[0;34m)\u001b[0m\u001b[0;34m:\u001b[0m\u001b[0;34m\u001b[0m\u001b[0;34m\u001b[0m\u001b[0m\n",
      "\u001b[0;31mKeyboardInterrupt\u001b[0m: "
     ]
    }
   ],
   "source": [
    "# ~ 2 minutes\n",
    "porter = PorterStemmer()\n",
    "docDF.texts = docDF.texts.apply(lambda t: ' '.join([porter.stem(word) for word in t.split()]))"
   ]
  },
  {
   "cell_type": "code",
   "execution_count": null,
   "id": "e5519f23",
   "metadata": {},
   "outputs": [],
   "source": [
    "t_vec=TfidfVectorizer()\n",
    "t_vec.fit(docDF.texts)\n",
    "tfidf_vectors=t_vec.transform(docDF.texts)\n",
    "# outer product to get all similarities into a matrix\n",
    "pairwise_similarities = np.dot(tfidf_vectors, tfidf_vectors.T).toarray()\n",
    "# somehow the euc.dists build in the outer product step??\n",
    "pairwise_differences = euclidean_distances(tfidf_vectors)"
   ]
  },
  {
   "cell_type": "code",
   "execution_count": 34,
   "id": "41c28323",
   "metadata": {},
   "outputs": [
    {
     "name": "stdout",
     "output_type": "stream",
     "text": [
      "Document: Second_Crusade\n",
      "\n",
      "Similar Documents:\n",
      "\n",
      "\n",
      "Document: First_Crusade\n",
      "Cosine Similarity : 0.6892982474933448\n",
      "\n",
      "\n",
      "Document: Crusades\n",
      "Cosine Similarity : 0.6818562367198493\n",
      "\n",
      "\n",
      "Document: Children's_Crusade\n",
      "Cosine Similarity : 0.5101256951752262\n",
      "\n",
      "\n",
      "Document: German_Crusade,_1096\n",
      "Cosine Similarity : 0.4661940780932937\n",
      "\n",
      "\n",
      "Document: Siege_of_Antioch\n",
      "Cosine Similarity : 0.4397620276169076\n",
      "\n",
      "\n",
      "Document: Manuel_I_Komnenos\n",
      "Cosine Similarity : 0.4369850187960746\n",
      "\n",
      "\n",
      "Document: Byzantine_Empire\n",
      "Cosine Similarity : 0.3422705314277949\n",
      "\n",
      "\n",
      "Document: Albigensian_Crusade\n",
      "Cosine Similarity : 0.29955268888508685\n",
      "\n",
      "\n",
      "Document: Frederick_II,_Holy_Roman_Emperor\n",
      "Cosine Similarity : 0.2796289551710849\n",
      "\n",
      "\n",
      "Document: Saladin\n",
      "Cosine Similarity : 0.24613715937955752\n",
      "\n",
      "\n",
      "Document: Treaty_of_Devol\n",
      "Cosine Similarity : 0.2343323103678108\n",
      "\n",
      "\n",
      "Document: Richard_I_of_England\n",
      "Cosine Similarity : 0.22121684063016328\n",
      "\n",
      "\n",
      "Document: Louis_XIV_of_France\n",
      "Cosine Similarity : 0.2037638614083885\n",
      "\n",
      "\n",
      "Document: Holy_Roman_Empire\n",
      "Cosine Similarity : 0.1918821891336695\n",
      "\n",
      "\n",
      "Document: Jerusalem\n",
      "Cosine Similarity : 0.1896471834819926\n",
      "\n",
      "\n",
      "Document: Damascus\n",
      "Cosine Similarity : 0.18700335133247953\n",
      "\n",
      "\n",
      "Document: List_of_French_monarchs\n",
      "Cosine Similarity : 0.1806176034302839\n",
      "\n",
      "\n",
      "Document: War_of_the_Spanish_Succession\n",
      "Cosine Similarity : 0.17809327329451588\n",
      "\n",
      "\n",
      "Document: Military_history_of_France\n",
      "Cosine Similarity : 0.16773143747620128\n",
      "\n",
      "\n",
      "Document: Hundred_Years'_War\n",
      "Cosine Similarity : 0.16060540021362196\n",
      "===========\n",
      "=========== Check Euclidean distances, in reverse, i.e. same order as above\n",
      "===========\n",
      "Document: Second_Crusade\n",
      "\n",
      "Similar Documents:\n",
      "\n",
      "\n",
      "Document: First_Crusade\n",
      "Euclidean Distance : 0.7882915101745732\n",
      "\n",
      "\n",
      "Document: Crusades\n",
      "Euclidean Distance : 0.7976763294471636\n",
      "\n",
      "\n",
      "Document: Children's_Crusade\n",
      "Euclidean Distance : 0.9898225142163353\n",
      "\n",
      "\n",
      "Document: German_Crusade,_1096\n",
      "Euclidean Distance : 1.0332530395858566\n",
      "\n",
      "\n",
      "Document: Siege_of_Antioch\n",
      "Euclidean Distance : 1.0585253633079292\n",
      "\n",
      "\n",
      "Document: Manuel_I_Komnenos\n",
      "Euclidean Distance : 1.0611455896378446\n",
      "\n",
      "\n",
      "Document: Byzantine_Empire\n",
      "Euclidean Distance : 1.1469345827659096\n",
      "\n",
      "\n",
      "Document: Albigensian_Crusade\n",
      "Euclidean Distance : 1.1835939431366762\n",
      "\n",
      "\n",
      "Document: Frederick_II,_Holy_Roman_Emperor\n",
      "Euclidean Distance : 1.2003091641980534\n",
      "\n",
      "\n",
      "Document: Saladin\n",
      "Euclidean Distance : 1.2278948168474704\n",
      "\n",
      "\n",
      "Document: Treaty_of_Devol\n",
      "Euclidean Distance : 1.2374713650280467\n",
      "\n",
      "\n",
      "Document: Richard_I_of_England\n",
      "Euclidean Distance : 1.2480249671940349\n",
      "\n",
      "\n",
      "Document: Louis_XIV_of_France\n",
      "Euclidean Distance : 1.2619319621846592\n",
      "\n",
      "\n",
      "Document: Holy_Roman_Empire\n",
      "Euclidean Distance : 1.2713125586309055\n",
      "\n",
      "\n",
      "Document: Jerusalem\n",
      "Euclidean Distance : 1.273069374793069\n",
      "\n",
      "\n",
      "Document: Damascus\n",
      "Euclidean Distance : 1.2751444221479546\n",
      "\n",
      "\n",
      "Document: List_of_French_monarchs\n",
      "Euclidean Distance : 1.2801424893891429\n",
      "\n",
      "\n",
      "Document: War_of_the_Spanish_Succession\n",
      "Euclidean Distance : 1.2821128863758322\n",
      "\n",
      "\n",
      "Document: Military_history_of_France\n",
      "Euclidean Distance : 1.2901694171881455\n",
      "\n",
      "\n",
      "Document: Hundred_Years'_War\n",
      "Euclidean Distance : 1.2956809790888943\n"
     ]
    }
   ],
   "source": [
    "# adapted/stolen from https://towardsdatascience.com/calculating-document-similarities-using-bert-and-other-models-b2c1a29c9630\n",
    "def most_similar_N(doc_id, similarity_matrix, matrix, N):\n",
    "    print(f'Document: {docDF.iloc[doc_id][\"article\"]}\\n')\n",
    "    print('Similar Documents:')\n",
    "    if matrix == 'Cosine Similarity':\n",
    "        similar_ix = np.argsort(similarity_matrix[doc_id])[::-1][:N+1]\n",
    "    elif matrix == 'Euclidean Distance':\n",
    "        similar_ix = np.argsort(similarity_matrix[doc_id])[:N+1] # same as previous line, essentially\n",
    "    for ix in similar_ix:\n",
    "        if ix == doc_id:  # don't measure self vs self\n",
    "            continue\n",
    "        print('\\n')\n",
    "        print(f'Document: {docDF.iloc[ix][\"article\"]}')\n",
    "        print(f'{matrix} : {similarity_matrix[doc_id][ix]}')\n",
    "\n",
    "# Second Crusade article, for example\n",
    "most_similar_N(0, pairwise_similarities, 'Cosine Similarity', 20)\n",
    "print(\"===========\")\n",
    "print(\"=========== Check Euclidean distances, in reverse, i.e. same order as above\")\n",
    "print(\"===========\")\n",
    "most_similar_N(0, pairwise_differences, 'Euclidean Distance', 20) "
   ]
  },
  {
   "cell_type": "code",
   "execution_count": 35,
   "id": "edefb10e",
   "metadata": {},
   "outputs": [
    {
     "data": {
      "text/plain": [
       "(4594, 4594)"
      ]
     },
     "execution_count": 35,
     "metadata": {},
     "output_type": "execute_result"
    }
   ],
   "source": [
    "# convert similarities to differences\n",
    "cosine_diffs = 1 - pairwise_similarities\n",
    "# give self-similarities maximum difference score to avoid self in path\n",
    "cosine_diffs = np.where(cosine_diffs <= 0, 1, cosine_diffs)\n",
    "cosine_diffs.shape"
   ]
  },
  {
   "cell_type": "markdown",
   "id": "026afe3d",
   "metadata": {},
   "source": [
    "Load the wiki links and look up the cos_diffs of each connected pair"
   ]
  },
  {
   "cell_type": "code",
   "execution_count": 10,
   "id": "ce591cfa",
   "metadata": {},
   "outputs": [
    {
     "data": {
      "text/html": [
       "<div>\n",
       "<style scoped>\n",
       "    .dataframe tbody tr th:only-of-type {\n",
       "        vertical-align: middle;\n",
       "    }\n",
       "\n",
       "    .dataframe tbody tr th {\n",
       "        vertical-align: top;\n",
       "    }\n",
       "\n",
       "    .dataframe thead th {\n",
       "        text-align: right;\n",
       "    }\n",
       "</style>\n",
       "<table border=\"1\" class=\"dataframe\">\n",
       "  <thead>\n",
       "    <tr style=\"text-align: right;\">\n",
       "      <th></th>\n",
       "      <th>linkSource</th>\n",
       "      <th>linkTarget</th>\n",
       "    </tr>\n",
       "  </thead>\n",
       "  <tbody>\n",
       "    <tr>\n",
       "      <th>0</th>\n",
       "      <td>Áedán_mac_Gabráin</td>\n",
       "      <td>Bede</td>\n",
       "    </tr>\n",
       "    <tr>\n",
       "      <th>1</th>\n",
       "      <td>Áedán_mac_Gabráin</td>\n",
       "      <td>Columba</td>\n",
       "    </tr>\n",
       "    <tr>\n",
       "      <th>2</th>\n",
       "      <td>Áedán_mac_Gabráin</td>\n",
       "      <td>Dál_Riata</td>\n",
       "    </tr>\n",
       "    <tr>\n",
       "      <th>3</th>\n",
       "      <td>Áedán_mac_Gabráin</td>\n",
       "      <td>Great_Britain</td>\n",
       "    </tr>\n",
       "    <tr>\n",
       "      <th>4</th>\n",
       "      <td>Áedán_mac_Gabráin</td>\n",
       "      <td>Ireland</td>\n",
       "    </tr>\n",
       "    <tr>\n",
       "      <th>5</th>\n",
       "      <td>Áedán_mac_Gabráin</td>\n",
       "      <td>Isle_of_Man</td>\n",
       "    </tr>\n",
       "    <tr>\n",
       "      <th>6</th>\n",
       "      <td>Áedán_mac_Gabráin</td>\n",
       "      <td>Monarchy</td>\n",
       "    </tr>\n",
       "    <tr>\n",
       "      <th>7</th>\n",
       "      <td>Áedán_mac_Gabráin</td>\n",
       "      <td>Orkney</td>\n",
       "    </tr>\n",
       "    <tr>\n",
       "      <th>8</th>\n",
       "      <td>Áedán_mac_Gabráin</td>\n",
       "      <td>Picts</td>\n",
       "    </tr>\n",
       "    <tr>\n",
       "      <th>9</th>\n",
       "      <td>Áedán_mac_Gabráin</td>\n",
       "      <td>Scotland</td>\n",
       "    </tr>\n",
       "  </tbody>\n",
       "</table>\n",
       "</div>"
      ],
      "text/plain": [
       "          linkSource     linkTarget\n",
       "0  Áedán_mac_Gabráin           Bede\n",
       "1  Áedán_mac_Gabráin        Columba\n",
       "2  Áedán_mac_Gabráin      Dál_Riata\n",
       "3  Áedán_mac_Gabráin  Great_Britain\n",
       "4  Áedán_mac_Gabráin        Ireland\n",
       "5  Áedán_mac_Gabráin    Isle_of_Man\n",
       "6  Áedán_mac_Gabráin       Monarchy\n",
       "7  Áedán_mac_Gabráin         Orkney\n",
       "8  Áedán_mac_Gabráin          Picts\n",
       "9  Áedán_mac_Gabráin       Scotland"
      ]
     },
     "execution_count": 10,
     "metadata": {},
     "output_type": "execute_result"
    }
   ],
   "source": [
    "# The list of all links between articles.\n",
    "links = pd.read_csv(\"https://raw.githubusercontent.com/ebhtra/gory-graph/TF3/Wikispeedia/wikispeedia_paths-and-graph/links.tsv\", sep='\\t', names = np.array(['linkSource', 'linkTarget']), skiprows=12)\n",
    "\n",
    "# decode UTF-8 special characters using urllib.parse.unquote()\n",
    "links['linkSource'] = links['linkSource'].apply(lambda x: parse.unquote(x))\n",
    "links['linkTarget'] = links['linkTarget'].apply(lambda x: parse.unquote(x))\n",
    "\n",
    "links.head(10)"
   ]
  },
  {
   "cell_type": "code",
   "execution_count": 11,
   "id": "8b982e6a",
   "metadata": {},
   "outputs": [],
   "source": [
    "# create map from article names to tfidf distance matrix indexes\n",
    "doc_ids = {article:idx for idx, article in enumerate(docDF.article)}"
   ]
  },
  {
   "cell_type": "code",
   "execution_count": 12,
   "id": "d9c4e8ad",
   "metadata": {},
   "outputs": [],
   "source": [
    "links['cosDist'] = [cosine_diffs[doc_ids[source], doc_ids[target]] \n",
    "         for source, target in zip(links.linkSource.values, links.linkTarget.values)]"
   ]
  },
  {
   "cell_type": "code",
   "execution_count": 13,
   "id": "4f877a7f",
   "metadata": {},
   "outputs": [
    {
     "data": {
      "image/png": "[encoded data removed]",
      "text/plain": [
       "<Figure size 432x288 with 1 Axes>"
      ]
     },
     "metadata": {
      "needs_background": "light"
     },
     "output_type": "display_data"
    }
   ],
   "source": [
    "links.cosDist.plot(kind='hist', bins=1000);"
   ]
  },
  {
   "cell_type": "code",
   "execution_count": 14,
   "id": "ae286249",
   "metadata": {},
   "outputs": [
    {
     "data": {
      "text/plain": [
       "0.889625172743701"
      ]
     },
     "execution_count": 14,
     "metadata": {},
     "output_type": "execute_result"
    }
   ],
   "source": [
    "links.cosDist.mean()"
   ]
  },
  {
   "cell_type": "markdown",
   "id": "30227439",
   "metadata": {},
   "source": [
    "Without the porter stemmer, that mean was .902, so stemming barely helped.\n",
    "Could try another stemmer"
   ]
  },
  {
   "cell_type": "code",
   "execution_count": 7,
   "id": "18c8ee98",
   "metadata": {},
   "outputs": [],
   "source": [
    "# ~ 2 minutes\n",
    "snowball = SnowballStemmer('english')\n",
    "docDF.texts = docDF.texts.apply(lambda t: ' '.join([snowball.stem(word) for word in t.split()]))"
   ]
  },
  {
   "cell_type": "code",
   "execution_count": 8,
   "id": "d935e99e",
   "metadata": {},
   "outputs": [],
   "source": [
    "t_vec = TfidfVectorizer()\n",
    "t_vec.fit(docDF.texts)\n",
    "tfidf_vectors = t_vec.transform(docDF.texts)\n",
    "# outer product to get all similarities into a matrix\n",
    "pairwise_similarities = np.dot(tfidf_vectors, tfidf_vectors.T).toarray()"
   ]
  },
  {
   "cell_type": "code",
   "execution_count": 9,
   "id": "1126e0df",
   "metadata": {},
   "outputs": [
    {
     "data": {
      "text/plain": [
       "(4594, 4594)"
      ]
     },
     "execution_count": 9,
     "metadata": {},
     "output_type": "execute_result"
    }
   ],
   "source": [
    "# convert similarities to differences\n",
    "cosine_diffs = 1 - pairwise_similarities\n",
    "# give self-similarities maximum difference score to avoid self in path\n",
    "cosine_diffs = np.where(cosine_diffs <= 0, 1, cosine_diffs)\n",
    "cosine_diffs.shape"
   ]
  },
  {
   "cell_type": "code",
   "execution_count": 15,
   "id": "a8722c30",
   "metadata": {},
   "outputs": [],
   "source": [
    "links['cosDist'] = [cosine_diffs[doc_ids[source], doc_ids[target]] \n",
    "         for source, target in zip(links.linkSource.values, links.linkTarget.values)]"
   ]
  },
  {
   "cell_type": "code",
   "execution_count": 16,
   "id": "a410e0a0",
   "metadata": {},
   "outputs": [
    {
     "data": {
      "text/plain": [
       "0.889625172743701"
      ]
     },
     "execution_count": 16,
     "metadata": {},
     "output_type": "execute_result"
    }
   ],
   "source": [
    "links.cosDist.mean()"
   ]
  },
  {
   "cell_type": "markdown",
   "id": "07d82c61",
   "metadata": {},
   "source": [
    "Microscopically better/lower with snowball stemmer."
   ]
  },
  {
   "cell_type": "code",
   "execution_count": 17,
   "id": "e8c90c8e",
   "metadata": {},
   "outputs": [
    {
     "data": {
      "text/html": [
       "<div>\n",
       "<style scoped>\n",
       "    .dataframe tbody tr th:only-of-type {\n",
       "        vertical-align: middle;\n",
       "    }\n",
       "\n",
       "    .dataframe tbody tr th {\n",
       "        vertical-align: top;\n",
       "    }\n",
       "\n",
       "    .dataframe thead th {\n",
       "        text-align: right;\n",
       "    }\n",
       "</style>\n",
       "<table border=\"1\" class=\"dataframe\">\n",
       "  <thead>\n",
       "    <tr style=\"text-align: right;\">\n",
       "      <th></th>\n",
       "      <th>linkSource</th>\n",
       "      <th>linkTarget</th>\n",
       "      <th>cosDist</th>\n",
       "    </tr>\n",
       "  </thead>\n",
       "  <tbody>\n",
       "    <tr>\n",
       "      <th>119877</th>\n",
       "      <td>Zulu</td>\n",
       "      <td>South_Africa</td>\n",
       "      <td>0.725960</td>\n",
       "    </tr>\n",
       "    <tr>\n",
       "      <th>119878</th>\n",
       "      <td>Zulu</td>\n",
       "      <td>Swaziland</td>\n",
       "      <td>0.923599</td>\n",
       "    </tr>\n",
       "    <tr>\n",
       "      <th>119879</th>\n",
       "      <td>Zulu</td>\n",
       "      <td>United_Kingdom</td>\n",
       "      <td>0.924757</td>\n",
       "    </tr>\n",
       "    <tr>\n",
       "      <th>119880</th>\n",
       "      <td>Zulu</td>\n",
       "      <td>Zambia</td>\n",
       "      <td>0.937556</td>\n",
       "    </tr>\n",
       "    <tr>\n",
       "      <th>119881</th>\n",
       "      <td>Zulu</td>\n",
       "      <td>Zimbabwe</td>\n",
       "      <td>0.915958</td>\n",
       "    </tr>\n",
       "  </tbody>\n",
       "</table>\n",
       "</div>"
      ],
      "text/plain": [
       "       linkSource      linkTarget   cosDist\n",
       "119877       Zulu    South_Africa  0.725960\n",
       "119878       Zulu       Swaziland  0.923599\n",
       "119879       Zulu  United_Kingdom  0.924757\n",
       "119880       Zulu          Zambia  0.937556\n",
       "119881       Zulu        Zimbabwe  0.915958"
      ]
     },
     "execution_count": 17,
     "metadata": {},
     "output_type": "execute_result"
    }
   ],
   "source": [
    "links.tail()"
   ]
  },
  {
   "cell_type": "markdown",
   "id": "e04d36c8",
   "metadata": {},
   "source": [
    "Try Doc2Vec embeddings"
   ]
  },
  {
   "cell_type": "code",
   "execution_count": 18,
   "id": "47e61449",
   "metadata": {},
   "outputs": [
    {
     "name": "stderr",
     "output_type": "stream",
     "text": [
      "[nltk_data] Downloading package punkt to\n",
      "[nltk_data]     /Users/ethanhaley/nltk_data...\n",
      "[nltk_data]   Package punkt is already up-to-date!\n"
     ]
    },
    {
     "data": {
      "text/plain": [
       "True"
      ]
     },
     "execution_count": 18,
     "metadata": {},
     "output_type": "execute_result"
    }
   ],
   "source": [
    "from gensim.models.doc2vec import Doc2Vec, TaggedDocument\n",
    "from nltk.tokenize import word_tokenize\n",
    "nltk.download('punkt')"
   ]
  },
  {
   "cell_type": "markdown",
   "id": "2a6d5176",
   "metadata": {},
   "source": [
    "====== Next cell takes awhile (as in 2 hours) to run, to train Doc2Vec model =============="
   ]
  },
  {
   "cell_type": "code",
   "execution_count": 19,
   "id": "9c58dc77",
   "metadata": {},
   "outputs": [
    {
     "name": "stderr",
     "output_type": "stream",
     "text": [
      "/Users/ethanhaley/opt/anaconda3/envs/sps620env/lib/python3.7/site-packages/ipykernel_launcher.py:14: DeprecationWarning: Call to deprecated `docvecs` (The `docvecs` property has been renamed `dv`.).\n",
      "  \n"
     ]
    }
   ],
   "source": [
    "#https://towardsdatascience.com/calculating-document-similarities-using-bert-and-other-models-b2c1a29c9630\n",
    "\n",
    "tagged_data = [TaggedDocument(words=word_tokenize(doc), tags=[i]) for i, doc in enumerate(docDF.texts)]\n",
    "model_d2v = Doc2Vec(vector_size=100,alpha=0.025, min_count=1)\n",
    "  \n",
    "model_d2v.build_vocab(tagged_data)\n",
    "\n",
    "for epoch in range(100):\n",
    "    model_d2v.train(tagged_data,\n",
    "                total_examples=model_d2v.corpus_count,\n",
    "                epochs=model_d2v.epochs)\n",
    "    \n",
    "document_embeddings=np.zeros((docDF.shape[0],100))\n",
    "\n",
    "for i in range(len(document_embeddings)):\n",
    "    document_embeddings[i]=model_d2v.docvecs[i]\n",
    "    \n",
    "    \n",
    "docsims=cosine_similarity(document_embeddings)\n",
    "#docdiffs=euclidean_distances(document_embeddings)"
   ]
  },
  {
   "cell_type": "code",
   "execution_count": 20,
   "id": "50e8066f",
   "metadata": {},
   "outputs": [
    {
     "data": {
      "text/plain": [
       "(4594, 4594)"
      ]
     },
     "execution_count": 20,
     "metadata": {},
     "output_type": "execute_result"
    }
   ],
   "source": [
    "docsims.shape"
   ]
  },
  {
   "cell_type": "code",
   "execution_count": 22,
   "id": "f6f5ee1a",
   "metadata": {},
   "outputs": [],
   "source": [
    "docCosDiffs = 1 - docsims\n",
    "docCosDiffs = np.where(docCosDiffs <= 0, 1, docCosDiffs)\n",
    "links['doc2vecDist'] = [docCosDiffs[doc_ids[source], doc_ids[target]] \n",
    "         for source, target in zip(links.linkSource.values, links.linkTarget.values)]"
   ]
  },
  {
   "cell_type": "code",
   "execution_count": 27,
   "id": "7cf56242",
   "metadata": {},
   "outputs": [
    {
     "data": {
      "image/png": "[encoded data removed]",
      "text/plain": [
       "<Figure size 432x288 with 1 Axes>"
      ]
     },
     "metadata": {
      "needs_background": "light"
     },
     "output_type": "display_data"
    }
   ],
   "source": [
    "links.doc2vecDist.plot(kind='hist', bins=50)\n",
    "plt.title('Cosine Distance for All Linked Nodes, Using Doc2Vec Embeddings');"
   ]
  },
  {
   "cell_type": "markdown",
   "id": "b2b7fc05",
   "metadata": {},
   "source": [
    "What are the 20 most unrelated links?  One way of viewing these is that they fooled the Doc2Vec model.  If they were so unrelated, why are they even linked?"
   ]
  },
  {
   "cell_type": "code",
   "execution_count": 31,
   "id": "6f301671",
   "metadata": {},
   "outputs": [
    {
     "data": {
      "text/html": [
       "<div>\n",
       "<style scoped>\n",
       "    .dataframe tbody tr th:only-of-type {\n",
       "        vertical-align: middle;\n",
       "    }\n",
       "\n",
       "    .dataframe tbody tr th {\n",
       "        vertical-align: top;\n",
       "    }\n",
       "\n",
       "    .dataframe thead th {\n",
       "        text-align: right;\n",
       "    }\n",
       "</style>\n",
       "<table border=\"1\" class=\"dataframe\">\n",
       "  <thead>\n",
       "    <tr style=\"text-align: right;\">\n",
       "      <th></th>\n",
       "      <th>linkSource</th>\n",
       "      <th>linkTarget</th>\n",
       "      <th>cosDist</th>\n",
       "      <th>doc2vecDist</th>\n",
       "    </tr>\n",
       "  </thead>\n",
       "  <tbody>\n",
       "    <tr>\n",
       "      <th>34278</th>\n",
       "      <td>Edward_II_of_England</td>\n",
       "      <td>19th_century</td>\n",
       "      <td>0.959940</td>\n",
       "      <td>1.101189</td>\n",
       "    </tr>\n",
       "    <tr>\n",
       "      <th>9510</th>\n",
       "      <td>Arthur_Sullivan</td>\n",
       "      <td>20th_century</td>\n",
       "      <td>0.959240</td>\n",
       "      <td>1.101269</td>\n",
       "    </tr>\n",
       "    <tr>\n",
       "      <th>61985</th>\n",
       "      <td>Lake_District</td>\n",
       "      <td>Silver</td>\n",
       "      <td>0.968567</td>\n",
       "      <td>1.103090</td>\n",
       "    </tr>\n",
       "    <tr>\n",
       "      <th>109757</th>\n",
       "      <td>Transit_of_Venus</td>\n",
       "      <td>India</td>\n",
       "      <td>0.967005</td>\n",
       "      <td>1.103516</td>\n",
       "    </tr>\n",
       "    <tr>\n",
       "      <th>99991</th>\n",
       "      <td>Solomon_Islands</td>\n",
       "      <td>Zinc</td>\n",
       "      <td>0.982641</td>\n",
       "      <td>1.106267</td>\n",
       "    </tr>\n",
       "    <tr>\n",
       "      <th>23277</th>\n",
       "      <td>Chicken</td>\n",
       "      <td>12th_century</td>\n",
       "      <td>0.981592</td>\n",
       "      <td>1.112251</td>\n",
       "    </tr>\n",
       "    <tr>\n",
       "      <th>98704</th>\n",
       "      <td>Simón_Bolívar</td>\n",
       "      <td>United_Kingdom</td>\n",
       "      <td>0.973233</td>\n",
       "      <td>1.115123</td>\n",
       "    </tr>\n",
       "    <tr>\n",
       "      <th>14814</th>\n",
       "      <td>Bertrand_Russell</td>\n",
       "      <td>Cairo</td>\n",
       "      <td>0.975411</td>\n",
       "      <td>1.115856</td>\n",
       "    </tr>\n",
       "    <tr>\n",
       "      <th>99315</th>\n",
       "      <td>Smallpox</td>\n",
       "      <td>Dorset</td>\n",
       "      <td>0.978464</td>\n",
       "      <td>1.116117</td>\n",
       "    </tr>\n",
       "    <tr>\n",
       "      <th>82486</th>\n",
       "      <td>PONG</td>\n",
       "      <td>Europe</td>\n",
       "      <td>0.986798</td>\n",
       "      <td>1.117708</td>\n",
       "    </tr>\n",
       "    <tr>\n",
       "      <th>28083</th>\n",
       "      <td>Crossbill</td>\n",
       "      <td>20th_century</td>\n",
       "      <td>0.984978</td>\n",
       "      <td>1.118646</td>\n",
       "    </tr>\n",
       "    <tr>\n",
       "      <th>67771</th>\n",
       "      <td>Lyme_disease</td>\n",
       "      <td>Sweden</td>\n",
       "      <td>0.977642</td>\n",
       "      <td>1.119146</td>\n",
       "    </tr>\n",
       "    <tr>\n",
       "      <th>50713</th>\n",
       "      <td>History_of_Wikipedia</td>\n",
       "      <td>18th_century</td>\n",
       "      <td>0.955413</td>\n",
       "      <td>1.121397</td>\n",
       "    </tr>\n",
       "    <tr>\n",
       "      <th>97894</th>\n",
       "      <td>Sheffield</td>\n",
       "      <td>Cholera</td>\n",
       "      <td>0.981395</td>\n",
       "      <td>1.122270</td>\n",
       "    </tr>\n",
       "    <tr>\n",
       "      <th>10676</th>\n",
       "      <td>Attack_on_Pearl_Harbor</td>\n",
       "      <td>Europe</td>\n",
       "      <td>0.946313</td>\n",
       "      <td>1.131722</td>\n",
       "    </tr>\n",
       "    <tr>\n",
       "      <th>67332</th>\n",
       "      <td>Louis_Armstrong</td>\n",
       "      <td>Asia</td>\n",
       "      <td>0.979972</td>\n",
       "      <td>1.133606</td>\n",
       "    </tr>\n",
       "    <tr>\n",
       "      <th>44513</th>\n",
       "      <td>Glasgow</td>\n",
       "      <td>Armadillo</td>\n",
       "      <td>0.990238</td>\n",
       "      <td>1.143975</td>\n",
       "    </tr>\n",
       "    <tr>\n",
       "      <th>14930</th>\n",
       "      <td>Bette_Davis</td>\n",
       "      <td>Europe</td>\n",
       "      <td>0.972202</td>\n",
       "      <td>1.151904</td>\n",
       "    </tr>\n",
       "    <tr>\n",
       "      <th>76538</th>\n",
       "      <td>Myxobolus_cerebralis</td>\n",
       "      <td>Lebanon</td>\n",
       "      <td>0.976424</td>\n",
       "      <td>1.161943</td>\n",
       "    </tr>\n",
       "    <tr>\n",
       "      <th>58041</th>\n",
       "      <td>James_T._Aubrey,_Jr.</td>\n",
       "      <td>Europe</td>\n",
       "      <td>0.983260</td>\n",
       "      <td>1.171509</td>\n",
       "    </tr>\n",
       "  </tbody>\n",
       "</table>\n",
       "</div>"
      ],
      "text/plain": [
       "                    linkSource      linkTarget   cosDist  doc2vecDist\n",
       "34278     Edward_II_of_England    19th_century  0.959940     1.101189\n",
       "9510           Arthur_Sullivan    20th_century  0.959240     1.101269\n",
       "61985            Lake_District          Silver  0.968567     1.103090\n",
       "109757        Transit_of_Venus           India  0.967005     1.103516\n",
       "99991          Solomon_Islands            Zinc  0.982641     1.106267\n",
       "23277                  Chicken    12th_century  0.981592     1.112251\n",
       "98704            Simón_Bolívar  United_Kingdom  0.973233     1.115123\n",
       "14814         Bertrand_Russell           Cairo  0.975411     1.115856\n",
       "99315                 Smallpox          Dorset  0.978464     1.116117\n",
       "82486                     PONG          Europe  0.986798     1.117708\n",
       "28083                Crossbill    20th_century  0.984978     1.118646\n",
       "67771             Lyme_disease          Sweden  0.977642     1.119146\n",
       "50713     History_of_Wikipedia    18th_century  0.955413     1.121397\n",
       "97894                Sheffield         Cholera  0.981395     1.122270\n",
       "10676   Attack_on_Pearl_Harbor          Europe  0.946313     1.131722\n",
       "67332          Louis_Armstrong            Asia  0.979972     1.133606\n",
       "44513                  Glasgow       Armadillo  0.990238     1.143975\n",
       "14930              Bette_Davis          Europe  0.972202     1.151904\n",
       "76538     Myxobolus_cerebralis         Lebanon  0.976424     1.161943\n",
       "58041     James_T._Aubrey,_Jr.          Europe  0.983260     1.171509"
      ]
     },
     "execution_count": 31,
     "metadata": {},
     "output_type": "execute_result"
    }
   ],
   "source": [
    "links.sort_values('doc2vecDist').tail(20)"
   ]
  },
  {
   "cell_type": "code",
   "execution_count": 26,
   "id": "bbd492e2",
   "metadata": {},
   "outputs": [
    {
     "name": "stdout",
     "output_type": "stream",
     "text": [
      "1.1102230246251565e-16 1.171509005439511 0.6555400868421665 0.16318603697469114\n"
     ]
    }
   ],
   "source": [
    "print(links.doc2vecDist.min(), links.doc2vecDist.max(), links.doc2vecDist.mean(), links.doc2vecDist.std())"
   ]
  },
  {
   "cell_type": "markdown",
   "id": "8d6e6e5e",
   "metadata": {},
   "source": [
    "Save everything so we don't need to recompute it"
   ]
  },
  {
   "cell_type": "code",
   "execution_count": 32,
   "id": "ce1c06f7",
   "metadata": {},
   "outputs": [],
   "source": [
    "links.to_csv('linksDF.csv')"
   ]
  },
  {
   "cell_type": "code",
   "execution_count": 33,
   "id": "98f218e2",
   "metadata": {},
   "outputs": [],
   "source": [
    "with open('cosDistMat.npy', 'wb') as f:\n",
    "    np.save(f, cosine_diffs)\n",
    "with open('doc2vecMat.npy', 'wb') as f:\n",
    "    np.save(f, docCosDiffs) "
   ]
  },
  {
   "cell_type": "markdown",
   "id": "ce1ccd3f",
   "metadata": {},
   "source": [
    "Test loading these matrices"
   ]
  },
  {
   "cell_type": "code",
   "execution_count": 34,
   "id": "87310180",
   "metadata": {},
   "outputs": [
    {
     "name": "stdout",
     "output_type": "stream",
     "text": [
      "DiGraph_with_Weighted_Edges-Copy1.ipynb glove.6B.200d.txt\r\n",
      "DiGraph_with_Weighted_Edges.ipynb       linksDF.csv\r\n",
      "DocSim.ipynb                            \u001b[34mplaintext_articles\u001b[m\u001b[m\r\n",
      "GOAT_final_project.ipynb                project_proposal.ipynb\r\n",
      "NLPedia.ipynb                           unweighted_link_dg\r\n",
      "\u001b[34mTAR files\u001b[m\u001b[m                               unweighted_link_dg.graphml\r\n",
      "cosDistMat.npy                          weighted_link_dg.graphml\r\n",
      "doc2vecMat.npy                          \u001b[34mwikispeedia_paths-and-graph\u001b[m\u001b[m\r\n",
      "doctextDF.csv\r\n"
     ]
    }
   ],
   "source": [
    "!ls"
   ]
  },
  {
   "cell_type": "code",
   "execution_count": 35,
   "id": "61b805f2",
   "metadata": {},
   "outputs": [
    {
     "name": "stdout",
     "output_type": "stream",
     "text": [
      "(4594, 4594) 1.0 1.1102230246251565e-16\n"
     ]
    }
   ],
   "source": [
    "with open('cosDistMat.npy', 'rb') as f:\n",
    "    test = np.load(f)\n",
    "print(test.shape, np.max(test), np.min(test))"
   ]
  },
  {
   "cell_type": "code",
   "execution_count": 36,
   "id": "19d4a627",
   "metadata": {},
   "outputs": [
    {
     "name": "stdout",
     "output_type": "stream",
     "text": [
      "(4594, 4594) 1.3405004073428357 1.1102230246251565e-16\n"
     ]
    }
   ],
   "source": [
    "with open('doc2vecMat.npy', 'rb') as f:\n",
    "    test = np.load(f)\n",
    "print(test.shape, np.max(test), np.min(test))"
   ]
  },
  {
   "cell_type": "code",
   "execution_count": null,
   "id": "9009a277",
   "metadata": {},
   "outputs": [],
   "source": []
  }
 ],
 "metadata": {
  "kernelspec": {
   "display_name": "Python 3",
   "language": "python",
   "name": "python3"
  },
  "language_info": {
   "codemirror_mode": {
    "name": "ipython",
    "version": 3
   },
   "file_extension": ".py",
   "mimetype": "text/x-python",
   "name": "python",
   "nbconvert_exporter": "python",
   "pygments_lexer": "ipython3",
   "version": "3.7.10"
  }
 },
 "nbformat": 4,
 "nbformat_minor": 5
}
