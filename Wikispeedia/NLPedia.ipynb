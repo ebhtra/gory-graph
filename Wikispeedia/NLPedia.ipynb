{
 "cells": [
  {
   "cell_type": "code",
   "execution_count": 1,
   "id": "2ec49c2d",
   "metadata": {},
   "outputs": [
    {
     "name": "stderr",
     "output_type": "stream",
     "text": [
      "[nltk_data] Downloading package stopwords to\n",
      "[nltk_data]     /Users/ethanhaley/nltk_data...\n",
      "[nltk_data]   Package stopwords is already up-to-date!\n"
     ]
    }
   ],
   "source": [
    "import pandas as pd\n",
    "import numpy as np\n",
    "import nltk\n",
    "from nltk.corpus import stopwords\n",
    "nltk.download('stopwords')\n",
    "import re\n",
    "import os"
   ]
  },
  {
   "cell_type": "code",
   "execution_count": 2,
   "id": "a9cef67a",
   "metadata": {},
   "outputs": [],
   "source": [
    "# reference for help:\n",
    "# https://towardsdatascience.com/calculating-document-similarities-using-bert-and-other-models-b2c1a29c9630"
   ]
  },
  {
   "cell_type": "code",
   "execution_count": 3,
   "id": "ba777eb9",
   "metadata": {},
   "outputs": [],
   "source": [
    "stop_words_lower = set(stopwords.words('english'))"
   ]
  },
  {
   "cell_type": "code",
   "execution_count": 4,
   "id": "3c387694",
   "metadata": {},
   "outputs": [],
   "source": [
    "# make list of all files, one for each article in wikispeedia.\n",
    "# NOTE: Hopefully there is an order/index here that matches with other files in project!\n",
    "doctexts = os.listdir('./plaintext_articles/')"
   ]
  },
  {
   "cell_type": "code",
   "execution_count": 5,
   "id": "7c24689b",
   "metadata": {},
   "outputs": [
    {
     "data": {
      "text/plain": [
       "4604"
      ]
     },
     "execution_count": 5,
     "metadata": {},
     "output_type": "execute_result"
    }
   ],
   "source": [
    "len(doctexts) # So far so good--this is the right number of articles at least"
   ]
  },
  {
   "cell_type": "markdown",
   "id": "92e84218",
   "metadata": {},
   "source": [
    "Check if the indexes align.  `articles` file has index 6 attached to \"10th_century\" article"
   ]
  },
  {
   "cell_type": "code",
   "execution_count": 6,
   "id": "4be9406c",
   "metadata": {},
   "outputs": [
    {
     "data": {
      "text/plain": [
       "'John_W._Campbell.txt'"
      ]
     },
     "execution_count": 6,
     "metadata": {},
     "output_type": "execute_result"
    }
   ],
   "source": [
    "# hopefully \"10th_century.txt\"\n",
    "doctexts[6]"
   ]
  },
  {
   "cell_type": "markdown",
   "id": "b99b4ee5",
   "metadata": {},
   "source": [
    "OK well that's not good.  Next best hope is that \"10th_century\", exactly as in `articles`, at least has an exact name match in `doctexts`"
   ]
  },
  {
   "cell_type": "code",
   "execution_count": 7,
   "id": "18fb7668",
   "metadata": {},
   "outputs": [
    {
     "data": {
      "text/plain": [
       "True"
      ]
     },
     "execution_count": 7,
     "metadata": {},
     "output_type": "execute_result"
    }
   ],
   "source": [
    "\"10th_century.txt\" in doctexts"
   ]
  },
  {
   "cell_type": "markdown",
   "id": "f608be8a",
   "metadata": {},
   "source": [
    "(breath of relief)"
   ]
  },
  {
   "cell_type": "code",
   "execution_count": 8,
   "id": "bb935136",
   "metadata": {},
   "outputs": [],
   "source": [
    "# Inspect and clean sample article\n",
    "with open('plaintext_articles/10th_century.txt', 'r') as txt:\n",
    "    doc = txt.readlines()"
   ]
  },
  {
   "cell_type": "code",
   "execution_count": 9,
   "id": "c336ca59",
   "metadata": {},
   "outputs": [
    {
     "data": {
      "text/plain": [
       "['   #copyright\\n',\n",
       " '\\n',\n",
       " '10th century\\n',\n",
       " '\\n',\n",
       " '2007 Schools Wikipedia Selection. Related subjects: General history\\n']"
      ]
     },
     "execution_count": 9,
     "metadata": {},
     "output_type": "execute_result"
    }
   ],
   "source": [
    "doc[:5]"
   ]
  },
  {
   "cell_type": "code",
   "execution_count": 10,
   "id": "696213ba",
   "metadata": {},
   "outputs": [],
   "source": [
    "doc = ' '.join([line.strip('\\n') for line in doc])"
   ]
  },
  {
   "cell_type": "code",
   "execution_count": 11,
   "id": "0edfb660",
   "metadata": {},
   "outputs": [
    {
     "data": {
      "text/plain": [
       "' copyright th century schools wikipedia selection related subjects general history millennium st millennium bc st millennium nd millennium centuries th century th century th century decades s s s s s s s s s s means recording passage time th century century lasted overview tenth century usually regarded low point european history china also period political upheaval islamdom however cultural zenith especially spain medievalist historian technology lynn white said to modern eye nearly darkest dark ages concluded dark darkness womb similarly helen waddell wrote tenth century in textbooks disputes seventh bad eminence nadir human intellect even fifteenth century lorenzo valla described century lead iron events statue yogini goddess created kaveripakkam tamil nadu india th century enlarge statue yogini goddess created kaveripakkam tamil nadu india th century beginning medieval warm period viking groups settle northern france norse become normans foundation cluny first federated monastic order incursions magyar hungarian cavalry throughout western europe expeditions germany italy france mieszko i first duke poland baptised christian khazar kingdom attacked defeated kievan rus vladimir i prince kievan rus baptised christian collapse central lowland maya civilization end classic maya period begin post classic maya rise toltecs mexico collapse great moravia buddhist temple construction commences bagan myanmar laguna copperplate inscription kavi script inscribed luzon philippines dated saka year ad medieval croatian state becomes unified kingdom tomislav twentieth century belgian astronomer jean meeus asserts orbits nine planets within arc solar system february next time thought occur may coastal cities malay peninsula seed first recorded malay kingdoms fatimid dynasty arises eastern algeria swedish influence extends black sea christian nubian kingdom reaches peak prosperity military power early history sudan mississippian culture begins present day southern usa byzantine empire reaches height military economic strength baile tha cliath dublin founded reindeer become extinct scotland lions become extinct caucasus significant people topiltzin ce acatl quetzalcoatl semi legendaric toltec ruler exact years life unknown abd ar rahman iii cordoba nicephorus ii emperor eastern roman empire lived reigned otto great holy roman emperor lived reigned king edmund england lived reigned john tzimisces emperor eastern roman empire lived reigned hugh capet lived first capetian king france g za hungary ruler magyars lived reigned otto ii holy roman emperor lived reigned theophanu wife otto ii mother regent otto iii lived reigned tsar samuil bulgaria lived reigned vladimir i prince kievan rus lived basil ii emperor eastern roman empire lived reigned otto iii holy roman emperor lived reigned ferdowsi persian poet erik red viking explorer founded greenland ubayd allah al mahdi billah founder fatamid dynasty inventions discoveries introductions hop plant first mentioned connection beer brewing decades years s s s s s s s s s s s s retrieved http en wikipedia org wiki th century reference article mainly selected english wikipedia minor checks changes see www wikipedia org details authors sources available gnu free documentation license see also disclaimer '"
      ]
     },
     "execution_count": 11,
     "metadata": {},
     "output_type": "execute_result"
    }
   ],
   "source": [
    "doc_clean = \" \".join(re.sub(r'[^a-zA-Z]', ' ' , w).lower() for w in doc.split() if re.sub(r'[^a-zA-Z]',' ',w).lower() not in stop_words_lower)\n",
    "doc_clean = re.sub(r'\\s+', ' ' , doc_clean)\n",
    "doc_clean"
   ]
  },
  {
   "cell_type": "markdown",
   "id": "ac54a02f",
   "metadata": {},
   "source": [
    "**We've removed all numbers there.  Seems like 4 digit years would be meaningful, but then what about 3 digit years like in this tenth-century article?  And how much info is gained by having specific years in the article, semantically?  All those individual \"s\"es, by the way, are from decades.  Are those meaningful without just being a central node through which any unrelated topic can pass?  Very open for debate....**"
   ]
  },
  {
   "cell_type": "markdown",
   "id": "6e7ff8a5",
   "metadata": {},
   "source": [
    "To join each article with other data in other notebooks, we'll make a DataFrame with `article` column and cleaned text column.  The word \"cleaned\" seems a bit dirty at this point, but nevermind."
   ]
  },
  {
   "cell_type": "code",
   "execution_count": 12,
   "id": "a6c7ed05",
   "metadata": {},
   "outputs": [],
   "source": [
    "# collect all article names and cleaned texts in lists to make a DF\n",
    "# (((((THIS IS A BIT SLOPPY, BOTH PROCESS AND CODE, SO TAKES ABOUT 30-60 SECS)))))\n",
    "names = []\n",
    "texts = []\n",
    "for dt in doctexts:\n",
    "    # read in single textfile, into a list of lines\n",
    "    with open(f'plaintext_articles/{dt}', 'r') as txt:\n",
    "        doc = txt.readlines()\n",
    "    # remove endlines\n",
    "    doc = ' '.join([line.strip('\\n') for line in doc])\n",
    "    # eliminate stopwords and non-alpha characters\n",
    "    doc_clean = \" \".join(re.sub(r'[^a-zA-Z]', ' ' , w).lower() for w in doc.split() \n",
    "                         if re.sub(r'[^a-zA-Z]',' ',w).lower() not in stop_words_lower)\n",
    "    # reduce long whitespace to single spaces\n",
    "    doc_clean = re.sub(r'\\s+', ' ' , doc_clean)\n",
    "    # append article name and \"clean\" text to lists\n",
    "    names.append(dt.rstrip('.txt'))\n",
    "    texts.append(doc_clean)"
   ]
  },
  {
   "cell_type": "code",
   "execution_count": 13,
   "id": "85b3f5a3",
   "metadata": {},
   "outputs": [
    {
     "data": {
      "text/plain": [
       "True"
      ]
     },
     "execution_count": 13,
     "metadata": {},
     "output_type": "execute_result"
    }
   ],
   "source": [
    "len(names) == len(texts) == 4604"
   ]
  },
  {
   "cell_type": "code",
   "execution_count": 14,
   "id": "f9e9b3a9",
   "metadata": {},
   "outputs": [],
   "source": [
    "docDF = pd.DataFrame({'article': names, 'texts': texts})"
   ]
  },
  {
   "cell_type": "code",
   "execution_count": 15,
   "id": "106c0842",
   "metadata": {},
   "outputs": [
    {
     "data": {
      "text/html": [
       "<div>\n",
       "<style scoped>\n",
       "    .dataframe tbody tr th:only-of-type {\n",
       "        vertical-align: middle;\n",
       "    }\n",
       "\n",
       "    .dataframe tbody tr th {\n",
       "        vertical-align: top;\n",
       "    }\n",
       "\n",
       "    .dataframe thead th {\n",
       "        text-align: right;\n",
       "    }\n",
       "</style>\n",
       "<table border=\"1\" class=\"dataframe\">\n",
       "  <thead>\n",
       "    <tr style=\"text-align: right;\">\n",
       "      <th></th>\n",
       "      <th>article</th>\n",
       "      <th>texts</th>\n",
       "    </tr>\n",
       "  </thead>\n",
       "  <tbody>\n",
       "    <tr>\n",
       "      <th>0</th>\n",
       "      <td>Second_Crusade</td>\n",
       "      <td>copyright second crusade schools wikipedia se...</td>\n",
       "    </tr>\n",
       "    <tr>\n",
       "      <th>1</th>\n",
       "      <td>Navassa_Island</td>\n",
       "      <td>copyright navassa island schools wikipedia se...</td>\n",
       "    </tr>\n",
       "  </tbody>\n",
       "</table>\n",
       "</div>"
      ],
      "text/plain": [
       "          article                                              texts\n",
       "0  Second_Crusade   copyright second crusade schools wikipedia se...\n",
       "1  Navassa_Island   copyright navassa island schools wikipedia se..."
      ]
     },
     "execution_count": 15,
     "metadata": {},
     "output_type": "execute_result"
    }
   ],
   "source": [
    "docDF.head(2)"
   ]
  },
  {
   "cell_type": "code",
   "execution_count": 16,
   "id": "598557f8",
   "metadata": {},
   "outputs": [
    {
     "data": {
      "text/plain": [
       "' copyright second crusade schools wikipedia selection related subjects military history war religiou'"
      ]
     },
     "execution_count": 16,
     "metadata": {},
     "output_type": "execute_result"
    }
   ],
   "source": [
    "docDF.texts[0][:100]"
   ]
  },
  {
   "cell_type": "markdown",
   "id": "1049ed1a",
   "metadata": {},
   "source": [
    "That constant reflexivity of \"copyright\" and \"wikipedia\" is probably just the tip of the annoying iceberg, but let's erase it since we easily can."
   ]
  },
  {
   "cell_type": "code",
   "execution_count": 17,
   "id": "be56e27a",
   "metadata": {},
   "outputs": [],
   "source": [
    "docDF.texts = docDF.texts.apply(lambda txt: txt.replace('copyright', '').replace\n",
    "                                ('schools wikipedia selection related subjects', ''))"
   ]
  },
  {
   "cell_type": "code",
   "execution_count": 18,
   "id": "79a69466",
   "metadata": {},
   "outputs": [
    {
     "data": {
      "text/html": [
       "<div>\n",
       "<style scoped>\n",
       "    .dataframe tbody tr th:only-of-type {\n",
       "        vertical-align: middle;\n",
       "    }\n",
       "\n",
       "    .dataframe tbody tr th {\n",
       "        vertical-align: top;\n",
       "    }\n",
       "\n",
       "    .dataframe thead th {\n",
       "        text-align: right;\n",
       "    }\n",
       "</style>\n",
       "<table border=\"1\" class=\"dataframe\">\n",
       "  <thead>\n",
       "    <tr style=\"text-align: right;\">\n",
       "      <th></th>\n",
       "      <th>article</th>\n",
       "      <th>texts</th>\n",
       "    </tr>\n",
       "  </thead>\n",
       "  <tbody>\n",
       "    <tr>\n",
       "      <th>0</th>\n",
       "      <td>Second_Crusade</td>\n",
       "      <td>second crusade  military history war religio...</td>\n",
       "    </tr>\n",
       "    <tr>\n",
       "      <th>1</th>\n",
       "      <td>Navassa_Island</td>\n",
       "      <td>navassa island  north american geography nav...</td>\n",
       "    </tr>\n",
       "  </tbody>\n",
       "</table>\n",
       "</div>"
      ],
      "text/plain": [
       "          article                                              texts\n",
       "0  Second_Crusade    second crusade  military history war religio...\n",
       "1  Navassa_Island    navassa island  north american geography nav..."
      ]
     },
     "execution_count": 18,
     "metadata": {},
     "output_type": "execute_result"
    }
   ],
   "source": [
    "docDF.head(2)"
   ]
  },
  {
   "cell_type": "code",
   "execution_count": 19,
   "id": "b8c61088",
   "metadata": {},
   "outputs": [],
   "source": [
    "# clean up memory\n",
    "texts = ''\n",
    "names = ''"
   ]
  },
  {
   "cell_type": "markdown",
   "id": "a7771bdf",
   "metadata": {},
   "source": [
    "**Use Tfidf to encode documents for similarities**"
   ]
  },
  {
   "cell_type": "code",
   "execution_count": 21,
   "id": "5d0e779c",
   "metadata": {},
   "outputs": [],
   "source": [
    "from sklearn.feature_extraction.text import TfidfVectorizer \n",
    "from sklearn.metrics.pairwise import cosine_similarity\n",
    "from sklearn.metrics.pairwise import euclidean_distances"
   ]
  },
  {
   "cell_type": "code",
   "execution_count": 28,
   "id": "948440f8",
   "metadata": {},
   "outputs": [],
   "source": [
    "t_vec=TfidfVectorizer()\n",
    "t_vec.fit(docDF.texts)\n",
    "tfidf_vectors=t_vec.transform(docDF.texts)\n",
    "# outer product to get all similarities into a matrix\n",
    "pairwise_similarities=np.dot(tfidf_vectors, tfidf_vectors.T).toarray()\n",
    "# somehow the euc.dists build in the outer product step??\n",
    "pairwise_differences=euclidean_distances(tfidf_vectors)"
   ]
  },
  {
   "cell_type": "code",
   "execution_count": 31,
   "id": "882e3c6c",
   "metadata": {},
   "outputs": [
    {
     "name": "stdout",
     "output_type": "stream",
     "text": [
      "Document: Second_Crusade\n",
      "\n",
      "Similar Documents:\n",
      "\n",
      "\n",
      "Document: First_Crusade\n",
      "Cosine Similarity : 0.5637263879771479\n",
      "\n",
      "\n",
      "Document: Crusades\n",
      "Cosine Similarity : 0.5085422037504989\n",
      "\n",
      "\n",
      "Document: Manuel_I_Komnenos\n",
      "Cosine Similarity : 0.385435350924748\n",
      "\n",
      "\n",
      "Document: Children%27s_Crusade\n",
      "Cosine Similarity : 0.37271318568969597\n",
      "\n",
      "\n",
      "Document: German_Crusade%2C_1096\n",
      "Cosine Similarity : 0.3373274276031265\n",
      "\n",
      "\n",
      "Document: Byzantine_Empire\n",
      "Cosine Similarity : 0.2982105637354369\n",
      "\n",
      "\n",
      "Document: Siege_of_Antioch\n",
      "Cosine Similarity : 0.28376038533800585\n",
      "\n",
      "\n",
      "Document: Frederick_II%2C_Holy_Roman_Emperor\n",
      "Cosine Similarity : 0.2537583205723986\n",
      "\n",
      "\n",
      "Document: Albigensian_Crusade\n",
      "Cosine Similarity : 0.23347395069057522\n",
      "\n",
      "\n",
      "Document: Louis_XIV_of_France\n",
      "Cosine Similarity : 0.2135986288889125\n",
      "\n",
      "\n",
      "Document: Richard_I_of_England\n",
      "Cosine Similarity : 0.19852069910136796\n",
      "\n",
      "\n",
      "Document: Jerusalem\n",
      "Cosine Similarity : 0.1903148584833818\n",
      "\n",
      "\n",
      "Document: List_of_French_monarchs\n",
      "Cosine Similarity : 0.19025322019136176\n",
      "\n",
      "\n",
      "Document: Damascus\n",
      "Cosine Similarity : 0.1891693788571095\n",
      "\n",
      "\n",
      "Document: War_of_the_Spanish_Succession\n",
      "Cosine Similarity : 0.18059350132983143\n",
      "\n",
      "\n",
      "Document: Holy_Roman_Empire\n",
      "Cosine Similarity : 0.17766485159000966\n",
      "\n",
      "\n",
      "Document: Saladin\n",
      "Cosine Similarity : 0.17714814521240466\n",
      "\n",
      "\n",
      "Document: Treaty_of_Devol\n",
      "Cosine Similarity : 0.17119793637060501\n",
      "\n",
      "\n",
      "Document: Port_Louis\n",
      "Cosine Similarity : 0.16131625316954992\n",
      "\n",
      "\n",
      "Document: Hundred_Years%27_War\n",
      "Cosine Similarity : 0.1546154973970337\n",
      "===========\n",
      "=========== Check Euclidean distances, in reverse, i.e. same order as above\n",
      "===========\n",
      "Document: Second_Crusade\n",
      "\n",
      "Similar Documents:\n",
      "\n",
      "\n",
      "Document: First_Crusade\n",
      "Euclidean Distance : 0.9341023627235415\n",
      "\n",
      "\n",
      "Document: Crusades\n",
      "Euclidean Distance : 0.9914209965998311\n",
      "\n",
      "\n",
      "Document: Manuel_I_Komnenos\n",
      "Euclidean Distance : 1.108661038438037\n",
      "\n",
      "\n",
      "Document: Children%27s_Crusade\n",
      "Euclidean Distance : 1.1200775100949967\n",
      "\n",
      "\n",
      "Document: German_Crusade%2C_1096\n",
      "Euclidean Distance : 1.151236354878418\n",
      "\n",
      "\n",
      "Document: Byzantine_Empire\n",
      "Euclidean Distance : 1.1847273410068337\n",
      "\n",
      "\n",
      "Document: Siege_of_Antioch\n",
      "Euclidean Distance : 1.1968622432527425\n",
      "\n",
      "\n",
      "Document: Frederick_II%2C_Holy_Roman_Emperor\n",
      "Euclidean Distance : 1.2216723615009073\n",
      "\n",
      "\n",
      "Document: Albigensian_Crusade\n",
      "Euclidean Distance : 1.2381648107658572\n",
      "\n",
      "\n",
      "Document: Louis_XIV_of_France\n",
      "Euclidean Distance : 1.2541143258180916\n",
      "\n",
      "\n",
      "Document: Richard_I_of_England\n",
      "Euclidean Distance : 1.2660800139790789\n",
      "\n",
      "\n",
      "Document: Jerusalem\n",
      "Euclidean Distance : 1.272544805903995\n",
      "\n",
      "\n",
      "Document: List_of_French_monarchs\n",
      "Euclidean Distance : 1.2725932420130466\n",
      "\n",
      "\n",
      "Document: Damascus\n",
      "Euclidean Distance : 1.273444636521659\n",
      "\n",
      "\n",
      "Document: War_of_the_Spanish_Succession\n",
      "Euclidean Distance : 1.2801613169207764\n",
      "\n",
      "\n",
      "Document: Holy_Roman_Empire\n",
      "Euclidean Distance : 1.2824469957156048\n",
      "\n",
      "\n",
      "Document: Saladin\n",
      "Euclidean Distance : 1.282849839059579\n",
      "\n",
      "\n",
      "Document: Treaty_of_Devol\n",
      "Euclidean Distance : 1.2874797579996315\n",
      "\n",
      "\n",
      "Document: Port_Louis\n",
      "Euclidean Distance : 1.2951322301838144\n",
      "\n",
      "\n",
      "Document: Hundred_Years%27_War\n",
      "Euclidean Distance : 1.3002957375943107\n"
     ]
    }
   ],
   "source": [
    "# adapted/stolen from https://towardsdatascience.com/calculating-document-similarities-using-bert-and-other-models-b2c1a29c9630\n",
    "def most_similar_N(doc_id, similarity_matrix, matrix, N):\n",
    "    print(f'Document: {docDF.iloc[doc_id][\"article\"]}\\n')\n",
    "    print('Similar Documents:')\n",
    "    if matrix == 'Cosine Similarity':\n",
    "        similar_ix = np.argsort(similarity_matrix[doc_id])[::-1][:N+1]\n",
    "    elif matrix == 'Euclidean Distance':\n",
    "        similar_ix = np.argsort(similarity_matrix[doc_id])[:N+1] # same as previous line, essentially\n",
    "    for ix in similar_ix:\n",
    "        if ix == doc_id:  # don't measure self vs self\n",
    "            continue\n",
    "        print('\\n')\n",
    "        print(f'Document: {docDF.iloc[ix][\"article\"]}')\n",
    "        print(f'{matrix} : {similarity_matrix[doc_id][ix]}')\n",
    "\n",
    "# Second Crusade article, for example\n",
    "most_similar_N(0, pairwise_similarities, 'Cosine Similarity', 20)\n",
    "print(\"===========\")\n",
    "print(\"=========== Check Euclidean distances, in reverse, i.e. same order as above\")\n",
    "print(\"===========\")\n",
    "most_similar_N(0, pairwise_differences, 'Euclidean Distance', 20)       "
   ]
  },
  {
   "cell_type": "markdown",
   "id": "97cd829e",
   "metadata": {},
   "source": [
    "**That just prints out the most similar documents, without assigning them to any variable.  The Euclidean Distance is just ordered opposite from the Cosine Similarity, so they measure the same thing, in reverse, but the scale is different.**"
   ]
  },
  {
   "cell_type": "markdown",
   "id": "aa625488",
   "metadata": {},
   "source": [
    "### TODO -- Try to measure document similarity with BERT.  Installing `sentence-transformers` and then importing `sentence_transformers` didn't find the module that installed"
   ]
  },
  {
   "cell_type": "code",
   "execution_count": null,
   "id": "8bb24fbf",
   "metadata": {},
   "outputs": [],
   "source": []
  }
 ],
 "metadata": {
  "kernelspec": {
   "display_name": "Python 3",
   "language": "python",
   "name": "python3"
  },
  "language_info": {
   "codemirror_mode": {
    "name": "ipython",
    "version": 3
   },
   "file_extension": ".py",
   "mimetype": "text/x-python",
   "name": "python",
   "nbconvert_exporter": "python",
   "pygments_lexer": "ipython3",
   "version": "3.7.10"
  }
 },
 "nbformat": 4,
 "nbformat_minor": 5
}
