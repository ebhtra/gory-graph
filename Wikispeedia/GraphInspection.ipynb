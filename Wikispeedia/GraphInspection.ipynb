{
 "cells": [
  {
   "cell_type": "code",
   "execution_count": null,
   "id": "09761d6d",
   "metadata": {},
   "outputs": [],
   "source": [
    "import networkx as nx\n",
    "import matplotlib.pyplot as plt\n",
    "import numpy as np\n",
    "import pandas as pd"
   ]
  },
  {
   "cell_type": "markdown",
   "id": "13bcf77b",
   "metadata": {},
   "source": [
    "## In this short notebook, we view the Wikispeedia graph through the lens of an ego subgraph within it."
   ]
  },
  {
   "cell_type": "markdown",
   "id": "b1fa6bf5",
   "metadata": {},
   "source": [
    "### Try to find a subgraph that's small enough to plot but large enough to be meaningful"
   ]
  },
  {
   "cell_type": "markdown",
   "id": "a53cd388",
   "metadata": {},
   "source": [
    "Build the graph from 2 saved DataFrames"
   ]
  },
  {
   "cell_type": "code",
   "execution_count": 7,
   "id": "510034ed",
   "metadata": {},
   "outputs": [
    {
     "data": {
      "text/html": [
       "<div>\n",
       "<style scoped>\n",
       "    .dataframe tbody tr th:only-of-type {\n",
       "        vertical-align: middle;\n",
       "    }\n",
       "\n",
       "    .dataframe tbody tr th {\n",
       "        vertical-align: top;\n",
       "    }\n",
       "\n",
       "    .dataframe thead th {\n",
       "        text-align: right;\n",
       "    }\n",
       "</style>\n",
       "<table border=\"1\" class=\"dataframe\">\n",
       "  <thead>\n",
       "    <tr style=\"text-align: right;\">\n",
       "      <th></th>\n",
       "      <th>linkSource</th>\n",
       "      <th>linkTarget</th>\n",
       "      <th>cosDist</th>\n",
       "      <th>doc2vecDist</th>\n",
       "    </tr>\n",
       "  </thead>\n",
       "  <tbody>\n",
       "    <tr>\n",
       "      <th>0</th>\n",
       "      <td>Áedán_mac_Gabráin</td>\n",
       "      <td>Bede</td>\n",
       "      <td>0.906869</td>\n",
       "      <td>0.626857</td>\n",
       "    </tr>\n",
       "    <tr>\n",
       "      <th>1</th>\n",
       "      <td>Áedán_mac_Gabráin</td>\n",
       "      <td>Columba</td>\n",
       "      <td>0.771878</td>\n",
       "      <td>0.376003</td>\n",
       "    </tr>\n",
       "  </tbody>\n",
       "</table>\n",
       "</div>"
      ],
      "text/plain": [
       "          linkSource linkTarget   cosDist  doc2vecDist\n",
       "0  Áedán_mac_Gabráin       Bede  0.906869     0.626857\n",
       "1  Áedán_mac_Gabráin    Columba  0.771878     0.376003"
      ]
     },
     "execution_count": 7,
     "metadata": {},
     "output_type": "execute_result"
    }
   ],
   "source": [
    "linksDF = pd.read_csv('linksDF.csv', index_col=0)\n",
    "linksDF.head(2)"
   ]
  },
  {
   "cell_type": "code",
   "execution_count": 8,
   "id": "79a01a79",
   "metadata": {},
   "outputs": [
    {
     "data": {
      "text/html": [
       "<div>\n",
       "<style scoped>\n",
       "    .dataframe tbody tr th:only-of-type {\n",
       "        vertical-align: middle;\n",
       "    }\n",
       "\n",
       "    .dataframe tbody tr th {\n",
       "        vertical-align: top;\n",
       "    }\n",
       "\n",
       "    .dataframe thead th {\n",
       "        text-align: right;\n",
       "    }\n",
       "</style>\n",
       "<table border=\"1\" class=\"dataframe\">\n",
       "  <thead>\n",
       "    <tr style=\"text-align: right;\">\n",
       "      <th></th>\n",
       "      <th>topic</th>\n",
       "      <th>in_dgr</th>\n",
       "      <th>out_dgr</th>\n",
       "      <th>generality</th>\n",
       "    </tr>\n",
       "  </thead>\n",
       "  <tbody>\n",
       "    <tr>\n",
       "      <th>0</th>\n",
       "      <td>Second_Crusade</td>\n",
       "      <td>9</td>\n",
       "      <td>26</td>\n",
       "      <td>0.346154</td>\n",
       "    </tr>\n",
       "    <tr>\n",
       "      <th>1</th>\n",
       "      <td>Navassa_Island</td>\n",
       "      <td>4</td>\n",
       "      <td>56</td>\n",
       "      <td>0.071429</td>\n",
       "    </tr>\n",
       "  </tbody>\n",
       "</table>\n",
       "</div>"
      ],
      "text/plain": [
       "            topic  in_dgr  out_dgr  generality\n",
       "0  Second_Crusade       9       26    0.346154\n",
       "1  Navassa_Island       4       56    0.071429"
      ]
     },
     "execution_count": 8,
     "metadata": {},
     "output_type": "execute_result"
    }
   ],
   "source": [
    "degreeDF = pd.read_csv('degreeDF.csv', index_col=0)\n",
    "degreeDF.head(2)"
   ]
  },
  {
   "cell_type": "code",
   "execution_count": 14,
   "id": "45888dd4",
   "metadata": {},
   "outputs": [],
   "source": [
    "# quick lookup table for node attr (generality of node topic)\n",
    "gens = {top:gen for top,gen in zip(degreeDF.topic, degreeDF.generality)}\n",
    "# all link ends\n",
    "linknames = set(linksDF.linkSource).union(set(linksDF.linkTarget))\n",
    "\n",
    "DG = nx.DiGraph()\n",
    "for topic in linknames:\n",
    "    # topics with no out degrees don't have generality scores yet.  Set to 0.\n",
    "    if topic not in gens: gens[topic]=0\n",
    "    DG.add_node(topic, gen=gens[topic])\n",
    "for s, t, d in zip(linksDF.linkSource, linksDF.linkTarget, linksDF.doc2vecDist):\n",
    "    delta_gen = gens[t]\n",
    "    DG.add_edge(s, t, d2v=d, d_gen=gens[t]-gens[s])"
   ]
  },
  {
   "cell_type": "code",
   "execution_count": 18,
   "id": "2e647c2c",
   "metadata": {},
   "outputs": [
    {
     "name": "stdout",
     "output_type": "stream",
     "text": [
      "Name: \n",
      "Type: DiGraph\n",
      "Number of nodes: 4592\n",
      "Number of edges: 119882\n",
      "Average in degree:  26.1067\n",
      "Average out degree:  26.1067\n"
     ]
    }
   ],
   "source": [
    "print(nx.info(DG))"
   ]
  },
  {
   "cell_type": "code",
   "execution_count": 20,
   "id": "981597d4",
   "metadata": {},
   "outputs": [
    {
     "data": {
      "text/plain": [
       "{'gen': 11.282352941176471}"
      ]
     },
     "execution_count": 20,
     "metadata": {},
     "output_type": "execute_result"
    }
   ],
   "source": [
    "DG.node['France']"
   ]
  },
  {
   "cell_type": "code",
   "execution_count": 27,
   "id": "774ebfef",
   "metadata": {},
   "outputs": [
    {
     "data": {
      "text/plain": [
       "{'d2v': 0.3606382791996672, 'd_gen': -8.532352941176471}"
      ]
     },
     "execution_count": 27,
     "metadata": {},
     "output_type": "execute_result"
    }
   ],
   "source": [
    "DG.edge['France']['Paris']"
   ]
  },
  {
   "cell_type": "markdown",
   "id": "43a5d374",
   "metadata": {},
   "source": [
    "Note that a negative `d_gen` encodes moving from a more general topic to a less general one."
   ]
  },
  {
   "cell_type": "markdown",
   "id": "ffe995ae",
   "metadata": {},
   "source": [
    "#### Let's try an ego graph for Pompeii.  Since a common shortest path is 4, let's use a radius of 2 in each direction, into and out of Pompeii.  That could give us a picture of what sorts of optimal paths Pompeii lies on."
   ]
  },
  {
   "cell_type": "code",
   "execution_count": 72,
   "id": "4f24406e",
   "metadata": {},
   "outputs": [
    {
     "data": {
      "text/plain": [
       "{'1st_century': {'d2v': 0.7858200710957813, 'd_gen': -0.525987525987526},\n",
       " 'Ancient_Rome': {'d2v': 0.5553679442127262, 'd_gen': 0.2875874125874125},\n",
       " 'Archaeology': {'d2v': 0.6455686268960943, 'd_gen': 0.02146690518783556},\n",
       " 'BBC': {'d2v': 0.8448764072825363, 'd_gen': 2.555769230769231},\n",
       " 'Drought': {'d2v': 0.7905698660449316, 'd_gen': 1.764102564102564},\n",
       " 'Earthquake': {'d2v': 0.8676231723336092, 'd_gen': 2.5807692307692305},\n",
       " 'Great_Britain': {'d2v': 0.9272456481169232, 'd_gen': 3.373626373626374},\n",
       " 'Greece': {'d2v': 0.7116976838841338, 'd_gen': 0.38866396761133615},\n",
       " 'Italy': {'d2v': 0.6197929368858993, 'd_gen': 4.701357466063349},\n",
       " 'Latin': {'d2v': 0.6359986031936685, 'd_gen': 13.50663129973475},\n",
       " 'Mount_Vesuvius': {'d2v': 0.3994719493645049, 'd_gen': -1.5292307692307692},\n",
       " 'Volcano': {'d2v': 0.7033479267248763, 'd_gen': 0.15614236509758928},\n",
       " 'World_Heritage_Site': {'d2v': 0.8588057016025433,\n",
       "  'd_gen': -0.16208791208791196}}"
      ]
     },
     "execution_count": 72,
     "metadata": {},
     "output_type": "execute_result"
    }
   ],
   "source": [
    "DG['Pompeii']  # links from Pompeii to these"
   ]
  },
  {
   "cell_type": "code",
   "execution_count": 78,
   "id": "bff57c9d",
   "metadata": {},
   "outputs": [
    {
     "data": {
      "text/plain": [
       "1962"
      ]
     },
     "execution_count": 78,
     "metadata": {},
     "output_type": "execute_result"
    }
   ],
   "source": [
    "pompeii = nx.ego_graph(DG, 'Pompeii', radius=2, undirected=True, distance=None) # using path steps as distance\n",
    "pompeii.number_of_nodes()"
   ]
  },
  {
   "cell_type": "markdown",
   "id": "94945943",
   "metadata": {},
   "source": [
    "Pompeii has 23 in-links and 13 out-links, but each of those 36 connections adds so many other nodes that we get to 1962 very fast.  For better viewing, let's shrink that down to the first 36 only, and then afterwards we'll try using doc2vec distance as the metric and see how many more nodes we add, since those distances are less than 1 usually."
   ]
  },
  {
   "cell_type": "code",
   "execution_count": 82,
   "id": "5b8b6875",
   "metadata": {},
   "outputs": [
    {
     "data": {
      "text/plain": [
       "34"
      ]
     },
     "execution_count": 82,
     "metadata": {},
     "output_type": "execute_result"
    }
   ],
   "source": [
    "pompeii = nx.ego_graph(DG, 'Pompeii', radius=1, undirected=True, distance=None) # using path steps as distance\n",
    "pompeii.number_of_nodes()"
   ]
  },
  {
   "cell_type": "markdown",
   "id": "6c00e3b5",
   "metadata": {},
   "source": [
    "34 nodes, not 37, so 3 connections are reciprocal."
   ]
  },
  {
   "cell_type": "code",
   "execution_count": 83,
   "id": "f98086a5",
   "metadata": {},
   "outputs": [],
   "source": [
    "nx.write_graphml(pompeii, 'pompeii.graphml')"
   ]
  },
  {
   "cell_type": "code",
   "execution_count": 84,
   "id": "ea8e65a2",
   "metadata": {},
   "outputs": [
    {
     "data": {
      "text/plain": [
       "73"
      ]
     },
     "execution_count": 84,
     "metadata": {},
     "output_type": "execute_result"
    }
   ],
   "source": [
    "pompeiier = nx.ego_graph(DG, 'Pompeii', radius=1, undirected=True, distance='d2v')\n",
    "pompeiier.number_of_nodes()"
   ]
  },
  {
   "cell_type": "code",
   "execution_count": 85,
   "id": "9b5033f2",
   "metadata": {},
   "outputs": [],
   "source": [
    "nx.write_graphml(pompeiier, 'pompeiier.graphml')"
   ]
  },
  {
   "cell_type": "markdown",
   "id": "02093444",
   "metadata": {},
   "source": [
    "**Here's the smaller ego graph, showing all topics one step away from Pompeii, in both directions.  The larger the node, the more general of a score it has in the Wikispeedia graph, i.e. the more in-links it has compared to out-links.  The colors of the nodes and edges are darker red when the topic has a closer semantic similarity to Pompeii, according to the cosine distances generated from our Doc2Vec embeddings.**"
   ]
  },
  {
   "cell_type": "markdown",
   "id": "d7c6a297",
   "metadata": {},
   "source": [
    "![Pompeii](https://raw.githubusercontent.com/ebhtra/gory-graph/main/Wikispeedia/images/pompeii.svg)"
   ]
  },
  {
   "cell_type": "markdown",
   "id": "4bdc102b",
   "metadata": {},
   "source": [
    "**It's clear from the smaller graph that the lighter nodes, i.e. the topics that are less semantically close to Pompeii, are pointing to Pompeii, without Pompeii linking back.  The topics that Pompeii tends to point to, on the other hand, tend to be more closely related to it (darker hued).  There's no reason that asymmetry should necessarily occur, other than if Pompeii is more general of a topic than the nodes that point to it.**"
   ]
  },
  {
   "cell_type": "code",
   "execution_count": 98,
   "id": "b70ae078",
   "metadata": {},
   "outputs": [
    {
     "data": {
      "text/plain": [
       "{'gen': 1.7692307692307692}"
      ]
     },
     "execution_count": 98,
     "metadata": {},
     "output_type": "execute_result"
    }
   ],
   "source": [
    "# Pompeii generality\n",
    "DG.node['Pompeii']"
   ]
  },
  {
   "cell_type": "code",
   "execution_count": 99,
   "id": "632e4c2c",
   "metadata": {},
   "outputs": [
    {
     "data": {
      "text/plain": [
       "0.4705882352941176"
      ]
     },
     "execution_count": 99,
     "metadata": {},
     "output_type": "execute_result"
    }
   ],
   "source": [
    "# Median generality of whole Wikispeedia graph\n",
    "degreeDF.generality.median()"
   ]
  },
  {
   "cell_type": "markdown",
   "id": "34ecb84d",
   "metadata": {},
   "source": [
    "**So Pompeii is much more general than the median topic, but the topics nearby it also tend to be more general, as evidenced by the fact that nodes linking to it yet not being particularly close to it semantically, such as Literacy, Advertising, Lemon, and Book, are similar to it in terms of size.**  "
   ]
  },
  {
   "cell_type": "markdown",
   "id": "967c3406",
   "metadata": {},
   "source": [
    "**The larger graph gets cluttered fast, being so connected. There are twice as many topics, since any node that can be reached by clicking on links that sum up to less than the radius of 1 are included.**"
   ]
  },
  {
   "cell_type": "markdown",
   "id": "14e83c6f",
   "metadata": {},
   "source": [
    "**This brings a couple of broader topics into the mix, with Spain and Portugal now on the radar, by virtue of being very closely related to topics Pompeii is very closely related to (Italy and Latin, e.g.).  There are also a lot of more specific nodes within reach now as well, for the same reason (individual Roman emperors, e.g.).  Most of those smaller nodes are still closely related to the text of Pompeii, as seen by their medium hues, yet they simply don't happen to be linked directly to Pompeii, since larger topics like \"Italy\" are more convenient links for Wiki-historians.**"
   ]
  },
  {
   "cell_type": "markdown",
   "id": "b0a496c6",
   "metadata": {},
   "source": [
    "![pompeiier](https://raw.githubusercontent.com/ebhtra/gory-graph/main/Wikispeedia/images/pompeiier.svg)"
   ]
  },
  {
   "cell_type": "code",
   "execution_count": null,
   "id": "fd892670",
   "metadata": {},
   "outputs": [],
   "source": []
  }
 ],
 "metadata": {
  "kernelspec": {
   "display_name": "Python 3",
   "language": "python",
   "name": "python3"
  },
  "language_info": {
   "codemirror_mode": {
    "name": "ipython",
    "version": 3
   },
   "file_extension": ".py",
   "mimetype": "text/x-python",
   "name": "python",
   "nbconvert_exporter": "python",
   "pygments_lexer": "ipython3",
   "version": "3.7.10"
  }
 },
 "nbformat": 4,
 "nbformat_minor": 5
}
