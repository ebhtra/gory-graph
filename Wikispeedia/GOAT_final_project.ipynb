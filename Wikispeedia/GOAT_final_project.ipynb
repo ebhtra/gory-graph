{
 "metadata": {
  "language_info": {
   "codemirror_mode": {
    "name": "ipython",
    "version": 3
   },
   "file_extension": ".py",
   "mimetype": "text/x-python",
   "name": "python",
   "nbconvert_exporter": "python",
   "pygments_lexer": "ipython3",
   "version": "3.7.10"
  },
  "orig_nbformat": 4,
  "kernelspec": {
   "name": "python3",
   "display_name": "Python 3.7.10 64-bit ('sps620env': conda)"
  },
  "interpreter": {
   "hash": "dcc31e1a7e69f3bac09774c1c2b5c2aa9dc1d0a05c8f25c5f2eca31d66a996d6"
  }
 },
 "nbformat": 4,
 "nbformat_minor": 2,
 "cells": [
  {
   "source": [
    "### Importing the Network Data"
   ],
   "cell_type": "markdown",
   "metadata": {}
  },
  {
   "cell_type": "code",
   "execution_count": 12,
   "metadata": {},
   "outputs": [],
   "source": [
    "import pandas as pd\n",
    "import numpy as np\n",
    "import networkx as nx\n",
    "from matplotlib import pyplot as plt\n",
    "from urllib import parse"
   ]
  },
  {
   "cell_type": "code",
   "execution_count": 17,
   "metadata": {},
   "outputs": [
    {
     "output_type": "execute_result",
     "data": {
      "text/plain": [
       "                  article\n",
       "0       Áedán_mac_Gabráin\n",
       "1                   Åland\n",
       "2           Édouard_Manet\n",
       "3                    Éire\n",
       "4   Óengus_I_of_the_Picts\n",
       "5  €2_commemorative_coins\n",
       "6            10th_century\n",
       "7            11th_century\n",
       "8            12th_century\n",
       "9            13th_century"
      ],
      "text/html": "<div>\n<style scoped>\n    .dataframe tbody tr th:only-of-type {\n        vertical-align: middle;\n    }\n\n    .dataframe tbody tr th {\n        vertical-align: top;\n    }\n\n    .dataframe thead th {\n        text-align: right;\n    }\n</style>\n<table border=\"1\" class=\"dataframe\">\n  <thead>\n    <tr style=\"text-align: right;\">\n      <th></th>\n      <th>article</th>\n    </tr>\n  </thead>\n  <tbody>\n    <tr>\n      <th>0</th>\n      <td>Áedán_mac_Gabráin</td>\n    </tr>\n    <tr>\n      <th>1</th>\n      <td>Åland</td>\n    </tr>\n    <tr>\n      <th>2</th>\n      <td>Édouard_Manet</td>\n    </tr>\n    <tr>\n      <th>3</th>\n      <td>Éire</td>\n    </tr>\n    <tr>\n      <th>4</th>\n      <td>Óengus_I_of_the_Picts</td>\n    </tr>\n    <tr>\n      <th>5</th>\n      <td>€2_commemorative_coins</td>\n    </tr>\n    <tr>\n      <th>6</th>\n      <td>10th_century</td>\n    </tr>\n    <tr>\n      <th>7</th>\n      <td>11th_century</td>\n    </tr>\n    <tr>\n      <th>8</th>\n      <td>12th_century</td>\n    </tr>\n    <tr>\n      <th>9</th>\n      <td>13th_century</td>\n    </tr>\n  </tbody>\n</table>\n</div>"
     },
     "metadata": {},
     "execution_count": 17
    }
   ],
   "source": [
    "# The list of all articles.\n",
    "# Article names are URL-encoded; e.g., in Java they can be decoded using java.net.URLDecoder.decode(articleName, \"UTF-8\").\n",
    "articles = pd.read_csv(\"https://raw.githubusercontent.com/ebhtra/gory-graph/TF3/Wikispeedia/wikispeedia_paths-and-graph/articles.tsv\", sep='\\t', names = np.array(['article']), skiprows=12)\n",
    "\n",
    "# decode UTF-8 special characters using urllib.parse.unquote()\n",
    "articles['article'] = articles['article'].apply(lambda x: parse.unquote(x))\n",
    "\n",
    "articles.head(10)"
   ]
  },
  {
   "cell_type": "code",
   "execution_count": 18,
   "metadata": {},
   "outputs": [
    {
     "output_type": "execute_result",
     "data": {
      "text/plain": [
       "                  article                                           category\n",
       "0       Áedán_mac_Gabráin  subject.History.British_History.British_Histor...\n",
       "1       Áedán_mac_Gabráin                  subject.People.Historical_figures\n",
       "2                   Åland                                  subject.Countries\n",
       "3                   Åland  subject.Geography.European_Geography.European_...\n",
       "4           Édouard_Manet                             subject.People.Artists\n",
       "5                    Éire                                  subject.Countries\n",
       "6                    Éire  subject.Geography.European_Geography.European_...\n",
       "7   Óengus_I_of_the_Picts  subject.History.British_History.British_Histor...\n",
       "8   Óengus_I_of_the_Picts                  subject.People.Historical_figures\n",
       "9  €2_commemorative_coins                  subject.Business_Studies.Currency"
      ],
      "text/html": "<div>\n<style scoped>\n    .dataframe tbody tr th:only-of-type {\n        vertical-align: middle;\n    }\n\n    .dataframe tbody tr th {\n        vertical-align: top;\n    }\n\n    .dataframe thead th {\n        text-align: right;\n    }\n</style>\n<table border=\"1\" class=\"dataframe\">\n  <thead>\n    <tr style=\"text-align: right;\">\n      <th></th>\n      <th>article</th>\n      <th>category</th>\n    </tr>\n  </thead>\n  <tbody>\n    <tr>\n      <th>0</th>\n      <td>Áedán_mac_Gabráin</td>\n      <td>subject.History.British_History.British_Histor...</td>\n    </tr>\n    <tr>\n      <th>1</th>\n      <td>Áedán_mac_Gabráin</td>\n      <td>subject.People.Historical_figures</td>\n    </tr>\n    <tr>\n      <th>2</th>\n      <td>Åland</td>\n      <td>subject.Countries</td>\n    </tr>\n    <tr>\n      <th>3</th>\n      <td>Åland</td>\n      <td>subject.Geography.European_Geography.European_...</td>\n    </tr>\n    <tr>\n      <th>4</th>\n      <td>Édouard_Manet</td>\n      <td>subject.People.Artists</td>\n    </tr>\n    <tr>\n      <th>5</th>\n      <td>Éire</td>\n      <td>subject.Countries</td>\n    </tr>\n    <tr>\n      <th>6</th>\n      <td>Éire</td>\n      <td>subject.Geography.European_Geography.European_...</td>\n    </tr>\n    <tr>\n      <th>7</th>\n      <td>Óengus_I_of_the_Picts</td>\n      <td>subject.History.British_History.British_Histor...</td>\n    </tr>\n    <tr>\n      <th>8</th>\n      <td>Óengus_I_of_the_Picts</td>\n      <td>subject.People.Historical_figures</td>\n    </tr>\n    <tr>\n      <th>9</th>\n      <td>€2_commemorative_coins</td>\n      <td>subject.Business_Studies.Currency</td>\n    </tr>\n  </tbody>\n</table>\n</div>"
     },
     "metadata": {},
     "execution_count": 18
    }
   ],
   "source": [
    "# Hierarchical categories of all articles.\n",
    "# Many articles have more than one category. Some articles have no category.\n",
    "# Article names are URL-encoded; e.g., in Java they can be decoded using java.net.URLDecoder.decode(articleName, \"UTF-8\").\n",
    "categories = pd.read_csv(\"https://raw.githubusercontent.com/ebhtra/gory-graph/TF3/Wikispeedia/wikispeedia_paths-and-graph/categories.tsv\", sep='\\t', names = np.array(['article', 'category']), skiprows=13)\n",
    "\n",
    "# decode UTF-8 special characters using urllib.parse.unquote()\n",
    "categories['article'] = categories['article'].apply(lambda x: parse.unquote(x))\n",
    "\n",
    "categories.head(10)"
   ]
  },
  {
   "cell_type": "code",
   "execution_count": 19,
   "metadata": {},
   "outputs": [
    {
     "output_type": "execute_result",
     "data": {
      "text/plain": [
       "          linkSource     linkTarget\n",
       "0  Áedán_mac_Gabráin           Bede\n",
       "1  Áedán_mac_Gabráin        Columba\n",
       "2  Áedán_mac_Gabráin      Dál_Riata\n",
       "3  Áedán_mac_Gabráin  Great_Britain\n",
       "4  Áedán_mac_Gabráin        Ireland\n",
       "5  Áedán_mac_Gabráin    Isle_of_Man\n",
       "6  Áedán_mac_Gabráin       Monarchy\n",
       "7  Áedán_mac_Gabráin         Orkney\n",
       "8  Áedán_mac_Gabráin          Picts\n",
       "9  Áedán_mac_Gabráin       Scotland"
      ],
      "text/html": "<div>\n<style scoped>\n    .dataframe tbody tr th:only-of-type {\n        vertical-align: middle;\n    }\n\n    .dataframe tbody tr th {\n        vertical-align: top;\n    }\n\n    .dataframe thead th {\n        text-align: right;\n    }\n</style>\n<table border=\"1\" class=\"dataframe\">\n  <thead>\n    <tr style=\"text-align: right;\">\n      <th></th>\n      <th>linkSource</th>\n      <th>linkTarget</th>\n    </tr>\n  </thead>\n  <tbody>\n    <tr>\n      <th>0</th>\n      <td>Áedán_mac_Gabráin</td>\n      <td>Bede</td>\n    </tr>\n    <tr>\n      <th>1</th>\n      <td>Áedán_mac_Gabráin</td>\n      <td>Columba</td>\n    </tr>\n    <tr>\n      <th>2</th>\n      <td>Áedán_mac_Gabráin</td>\n      <td>Dál_Riata</td>\n    </tr>\n    <tr>\n      <th>3</th>\n      <td>Áedán_mac_Gabráin</td>\n      <td>Great_Britain</td>\n    </tr>\n    <tr>\n      <th>4</th>\n      <td>Áedán_mac_Gabráin</td>\n      <td>Ireland</td>\n    </tr>\n    <tr>\n      <th>5</th>\n      <td>Áedán_mac_Gabráin</td>\n      <td>Isle_of_Man</td>\n    </tr>\n    <tr>\n      <th>6</th>\n      <td>Áedán_mac_Gabráin</td>\n      <td>Monarchy</td>\n    </tr>\n    <tr>\n      <th>7</th>\n      <td>Áedán_mac_Gabráin</td>\n      <td>Orkney</td>\n    </tr>\n    <tr>\n      <th>8</th>\n      <td>Áedán_mac_Gabráin</td>\n      <td>Picts</td>\n    </tr>\n    <tr>\n      <th>9</th>\n      <td>Áedán_mac_Gabráin</td>\n      <td>Scotland</td>\n    </tr>\n  </tbody>\n</table>\n</div>"
     },
     "metadata": {},
     "execution_count": 19
    }
   ],
   "source": [
    "# The list of all links between articles.\n",
    "links = pd.read_csv(\"https://raw.githubusercontent.com/ebhtra/gory-graph/TF3/Wikispeedia/wikispeedia_paths-and-graph/links.tsv\", sep='\\t', names = np.array(['linkSource', 'linkTarget']), skiprows=12)\n",
    "\n",
    "# decode UTF-8 special characters using urllib.parse.unquote()\n",
    "links['linkSource'] = links['linkSource'].apply(lambda x: parse.unquote(x))\n",
    "links['linkTarget'] = links['linkTarget'].apply(lambda x: parse.unquote(x))\n",
    "\n",
    "links.head(10)"
   ]
  },
  {
   "cell_type": "code",
   "execution_count": 20,
   "metadata": {},
   "outputs": [
    {
     "output_type": "execute_result",
     "data": {
      "text/plain": [
       "    hashedIpAddress   timestamp  durationInSec  \\\n",
       "0  6a3701d319fc3754  1297740409            166   \n",
       "1  3824310e536af032  1344753412             88   \n",
       "2  415612e93584d30e  1349298640            138   \n",
       "3  64dd5cd342e3780c  1265613925             37   \n",
       "4  015245d773376aab  1366730828            175   \n",
       "5  5295bca242be81fe  1372890414            110   \n",
       "6  36dabfa133b20e3c  1249525912            112   \n",
       "7  20418ff4797f96be  1229188046            139   \n",
       "8  08888b1b428dd90e  1232241510             74   \n",
       "9  08888b1b428dd90e  1232241601            167   \n",
       "\n",
       "                                                path  rating  \n",
       "0  14th_century;15th_century;16th_century;Pacific...     NaN  \n",
       "1  14th_century;Europe;Africa;Atlantic_slave_trad...     3.0  \n",
       "2  14th_century;Niger;Nigeria;British_Empire;Slav...     NaN  \n",
       "3     14th_century;Renaissance;Ancient_Greece;Greece     NaN  \n",
       "4  14th_century;Italy;Roman_Catholic_Church;HIV;R...     3.0  \n",
       "5  14th_century;Europe;North_America;United_State...     NaN  \n",
       "6                  14th_century;China;Gunpowder;Fire     2.0  \n",
       "7  14th_century;Time;Isaac_Newton;Light;Color;Rai...     1.0  \n",
       "8                    14th_century;Time;Light;Rainbow     3.0  \n",
       "9  14th_century;15th_century;Plato;Nature;Ultravi...     NaN  "
      ],
      "text/html": "<div>\n<style scoped>\n    .dataframe tbody tr th:only-of-type {\n        vertical-align: middle;\n    }\n\n    .dataframe tbody tr th {\n        vertical-align: top;\n    }\n\n    .dataframe thead th {\n        text-align: right;\n    }\n</style>\n<table border=\"1\" class=\"dataframe\">\n  <thead>\n    <tr style=\"text-align: right;\">\n      <th></th>\n      <th>hashedIpAddress</th>\n      <th>timestamp</th>\n      <th>durationInSec</th>\n      <th>path</th>\n      <th>rating</th>\n    </tr>\n  </thead>\n  <tbody>\n    <tr>\n      <th>0</th>\n      <td>6a3701d319fc3754</td>\n      <td>1297740409</td>\n      <td>166</td>\n      <td>14th_century;15th_century;16th_century;Pacific...</td>\n      <td>NaN</td>\n    </tr>\n    <tr>\n      <th>1</th>\n      <td>3824310e536af032</td>\n      <td>1344753412</td>\n      <td>88</td>\n      <td>14th_century;Europe;Africa;Atlantic_slave_trad...</td>\n      <td>3.0</td>\n    </tr>\n    <tr>\n      <th>2</th>\n      <td>415612e93584d30e</td>\n      <td>1349298640</td>\n      <td>138</td>\n      <td>14th_century;Niger;Nigeria;British_Empire;Slav...</td>\n      <td>NaN</td>\n    </tr>\n    <tr>\n      <th>3</th>\n      <td>64dd5cd342e3780c</td>\n      <td>1265613925</td>\n      <td>37</td>\n      <td>14th_century;Renaissance;Ancient_Greece;Greece</td>\n      <td>NaN</td>\n    </tr>\n    <tr>\n      <th>4</th>\n      <td>015245d773376aab</td>\n      <td>1366730828</td>\n      <td>175</td>\n      <td>14th_century;Italy;Roman_Catholic_Church;HIV;R...</td>\n      <td>3.0</td>\n    </tr>\n    <tr>\n      <th>5</th>\n      <td>5295bca242be81fe</td>\n      <td>1372890414</td>\n      <td>110</td>\n      <td>14th_century;Europe;North_America;United_State...</td>\n      <td>NaN</td>\n    </tr>\n    <tr>\n      <th>6</th>\n      <td>36dabfa133b20e3c</td>\n      <td>1249525912</td>\n      <td>112</td>\n      <td>14th_century;China;Gunpowder;Fire</td>\n      <td>2.0</td>\n    </tr>\n    <tr>\n      <th>7</th>\n      <td>20418ff4797f96be</td>\n      <td>1229188046</td>\n      <td>139</td>\n      <td>14th_century;Time;Isaac_Newton;Light;Color;Rai...</td>\n      <td>1.0</td>\n    </tr>\n    <tr>\n      <th>8</th>\n      <td>08888b1b428dd90e</td>\n      <td>1232241510</td>\n      <td>74</td>\n      <td>14th_century;Time;Light;Rainbow</td>\n      <td>3.0</td>\n    </tr>\n    <tr>\n      <th>9</th>\n      <td>08888b1b428dd90e</td>\n      <td>1232241601</td>\n      <td>167</td>\n      <td>14th_century;15th_century;Plato;Nature;Ultravi...</td>\n      <td>NaN</td>\n    </tr>\n  </tbody>\n</table>\n</div>"
     },
     "metadata": {},
     "execution_count": 20
    }
   ],
   "source": [
    "# Successful (i.e., finished) Wikispeedia paths.\n",
    "# Article names are URL-encoded; e.g., in Java they can be decoded using java.net.URLDecoder.decode(articleName, \"UTF-8\").\n",
    "# Articles in a path are separated by \";\".\n",
    "# Back clicks are represented as \"<\".\n",
    "# Ratings are optionally given by the user after finishing the game and range from 1 (\"easy\") to 5 (\"brutal\").\n",
    "# Missing ratings are represented as \"NULL\".\n",
    "paths_finished = pd.read_csv(\"https://raw.githubusercontent.com/ebhtra/gory-graph/TF3/Wikispeedia/wikispeedia_paths-and-graph/paths_finished.tsv\", sep='\\t', names = np.array(['hashedIpAddress', 'timestamp', 'durationInSec', 'path', 'rating']), skiprows=16)\n",
    "\n",
    "# decode UTF-8 special characters using urllib.parse.unquote()\n",
    "paths_finished['path'] = paths_finished['path'].apply(lambda x: parse.unquote(x))\n",
    "\n",
    "paths_finished.head(10)"
   ]
  },
  {
   "cell_type": "code",
   "execution_count": 21,
   "metadata": {},
   "outputs": [
    {
     "output_type": "execute_result",
     "data": {
      "text/plain": [
       "    hashedIpAddress   timestamp  durationInSec  \\\n",
       "0  2426091a53125110  1297054935           1804   \n",
       "1  26141fd878806294  1297055651           1805   \n",
       "2  2b015fb8181c48f2  1297090819           1818   \n",
       "3  53a53bc244e08a6a  1297094761             49   \n",
       "4  53a53bc244e08a6a  1297099105           1808   \n",
       "5  131600803df4895e  1297100557           2009   \n",
       "6  486bb79910fe9dd2  1297101660           1932   \n",
       "7  6d136e371e42474f  1297102070            175   \n",
       "8  6d136e371e42474f  1297102100             19   \n",
       "9  6d136e371e42474f  1297104110           2006   \n",
       "\n",
       "                                                path                target  \\\n",
       "0                                     Obi-Wan_Kenobi             Microsoft   \n",
       "1                                      Julius_Caesar               Caracas   \n",
       "2               Malawi;Democracy;Alexander_the_Great         First_Crusade   \n",
       "3                                           Paraguay      Mount_St._Helens   \n",
       "4                                   Paraguay;Bolivia      Mount_St._Helens   \n",
       "5  Agriculture;History_of_the_world;China;Yangtze...  Grand_Canal_of_China   \n",
       "6  Mind;Christianity;Europe;Renaissance;Ancient_G...              Scouting   \n",
       "7    4-2-0;United_States;Agriculture;Sugar;Australia             Cane_Toad   \n",
       "8                                              Logic          Moon_landing   \n",
       "9  Logic;Computer_science;Science;Physical_scienc...          Moon_landing   \n",
       "\n",
       "      type  \n",
       "0  timeout  \n",
       "1  timeout  \n",
       "2  timeout  \n",
       "3  restart  \n",
       "4  timeout  \n",
       "5  timeout  \n",
       "6  timeout  \n",
       "7  restart  \n",
       "8  restart  \n",
       "9  timeout  "
      ],
      "text/html": "<div>\n<style scoped>\n    .dataframe tbody tr th:only-of-type {\n        vertical-align: middle;\n    }\n\n    .dataframe tbody tr th {\n        vertical-align: top;\n    }\n\n    .dataframe thead th {\n        text-align: right;\n    }\n</style>\n<table border=\"1\" class=\"dataframe\">\n  <thead>\n    <tr style=\"text-align: right;\">\n      <th></th>\n      <th>hashedIpAddress</th>\n      <th>timestamp</th>\n      <th>durationInSec</th>\n      <th>path</th>\n      <th>target</th>\n      <th>type</th>\n    </tr>\n  </thead>\n  <tbody>\n    <tr>\n      <th>0</th>\n      <td>2426091a53125110</td>\n      <td>1297054935</td>\n      <td>1804</td>\n      <td>Obi-Wan_Kenobi</td>\n      <td>Microsoft</td>\n      <td>timeout</td>\n    </tr>\n    <tr>\n      <th>1</th>\n      <td>26141fd878806294</td>\n      <td>1297055651</td>\n      <td>1805</td>\n      <td>Julius_Caesar</td>\n      <td>Caracas</td>\n      <td>timeout</td>\n    </tr>\n    <tr>\n      <th>2</th>\n      <td>2b015fb8181c48f2</td>\n      <td>1297090819</td>\n      <td>1818</td>\n      <td>Malawi;Democracy;Alexander_the_Great</td>\n      <td>First_Crusade</td>\n      <td>timeout</td>\n    </tr>\n    <tr>\n      <th>3</th>\n      <td>53a53bc244e08a6a</td>\n      <td>1297094761</td>\n      <td>49</td>\n      <td>Paraguay</td>\n      <td>Mount_St._Helens</td>\n      <td>restart</td>\n    </tr>\n    <tr>\n      <th>4</th>\n      <td>53a53bc244e08a6a</td>\n      <td>1297099105</td>\n      <td>1808</td>\n      <td>Paraguay;Bolivia</td>\n      <td>Mount_St._Helens</td>\n      <td>timeout</td>\n    </tr>\n    <tr>\n      <th>5</th>\n      <td>131600803df4895e</td>\n      <td>1297100557</td>\n      <td>2009</td>\n      <td>Agriculture;History_of_the_world;China;Yangtze...</td>\n      <td>Grand_Canal_of_China</td>\n      <td>timeout</td>\n    </tr>\n    <tr>\n      <th>6</th>\n      <td>486bb79910fe9dd2</td>\n      <td>1297101660</td>\n      <td>1932</td>\n      <td>Mind;Christianity;Europe;Renaissance;Ancient_G...</td>\n      <td>Scouting</td>\n      <td>timeout</td>\n    </tr>\n    <tr>\n      <th>7</th>\n      <td>6d136e371e42474f</td>\n      <td>1297102070</td>\n      <td>175</td>\n      <td>4-2-0;United_States;Agriculture;Sugar;Australia</td>\n      <td>Cane_Toad</td>\n      <td>restart</td>\n    </tr>\n    <tr>\n      <th>8</th>\n      <td>6d136e371e42474f</td>\n      <td>1297102100</td>\n      <td>19</td>\n      <td>Logic</td>\n      <td>Moon_landing</td>\n      <td>restart</td>\n    </tr>\n    <tr>\n      <th>9</th>\n      <td>6d136e371e42474f</td>\n      <td>1297104110</td>\n      <td>2006</td>\n      <td>Logic;Computer_science;Science;Physical_scienc...</td>\n      <td>Moon_landing</td>\n      <td>timeout</td>\n    </tr>\n  </tbody>\n</table>\n</div>"
     },
     "metadata": {},
     "execution_count": 21
    }
   ],
   "source": [
    "# Unsuccessful (i.e., unfinished) Wikispeedia paths.\n",
    "# Article names are URL-encoded; e.g., in Java they can be decoded using java.net.URLDecoder.decode(articleName, \"UTF-8\").\n",
    "# Articles in a path are separated by \";\".\n",
    "# Back clicks are represented as \"<\".\n",
    "# There are two types of quitting:\n",
    "# (1) \"timeout\" means that no click was made for 30 minutes;\n",
    "# (2) \"restart\" means that the user started a new game without finishing the current one.\n",
    "paths_unfinished = pd.read_csv(\"https://raw.githubusercontent.com/ebhtra/gory-graph/TF3/Wikispeedia/wikispeedia_paths-and-graph/paths_unfinished.tsv\", sep='\\t', names = np.array(['hashedIpAddress', 'timestamp', 'durationInSec', 'path', 'target', 'type']), skiprows=17)\n",
    "\n",
    "# decode UTF-8 special characters using urllib.parse.unquote()\n",
    "paths_unfinished['path'] = paths_unfinished['path'].apply(lambda x: parse.unquote(x))\n",
    "paths_unfinished['target'] = paths_unfinished['target'].apply(lambda x: parse.unquote(x))\n",
    "\n",
    "paths_unfinished.head(10)"
   ]
  },
  {
   "cell_type": "code",
   "execution_count": 8,
   "metadata": {},
   "outputs": [
    {
     "output_type": "execute_result",
     "data": {
      "text/plain": [
       "                                                path\n",
       "0  0_____33333325634333435_2433544334_3_422343544...\n",
       "1  _0____22222325623232424_2422544324_3_312242544...\n",
       "2  __0___33222425623232324_2333444433_3_422343434...\n",
       "3  ___0__33333325634233334_2433434333_2_423343433...\n",
       "4  ____0_22323335633332435_2433545434_3_423343544...\n",
       "5  _____032223324523222324_2332544333_3_422333544...\n",
       "6  ______01222324523232423_2222544334_3_422232544...\n",
       "7  ______10111414512131334_1311544323_2_311131544...\n",
       "8  ______11011414512131324_1311544323_2_311131544...\n",
       "9  ______22101325623232434_2422545434_3_422242544..."
      ],
      "text/html": "<div>\n<style scoped>\n    .dataframe tbody tr th:only-of-type {\n        vertical-align: middle;\n    }\n\n    .dataframe tbody tr th {\n        vertical-align: top;\n    }\n\n    .dataframe thead th {\n        text-align: right;\n    }\n</style>\n<table border=\"1\" class=\"dataframe\">\n  <thead>\n    <tr style=\"text-align: right;\">\n      <th></th>\n      <th>path</th>\n    </tr>\n  </thead>\n  <tbody>\n    <tr>\n      <th>0</th>\n      <td>0_____33333325634333435_2433544334_3_422343544...</td>\n    </tr>\n    <tr>\n      <th>1</th>\n      <td>_0____22222325623232424_2422544324_3_312242544...</td>\n    </tr>\n    <tr>\n      <th>2</th>\n      <td>__0___33222425623232324_2333444433_3_422343434...</td>\n    </tr>\n    <tr>\n      <th>3</th>\n      <td>___0__33333325634233334_2433434333_2_423343433...</td>\n    </tr>\n    <tr>\n      <th>4</th>\n      <td>____0_22323335633332435_2433545434_3_423343544...</td>\n    </tr>\n    <tr>\n      <th>5</th>\n      <td>_____032223324523222324_2332544333_3_422333544...</td>\n    </tr>\n    <tr>\n      <th>6</th>\n      <td>______01222324523232423_2222544334_3_422232544...</td>\n    </tr>\n    <tr>\n      <th>7</th>\n      <td>______10111414512131334_1311544323_2_311131544...</td>\n    </tr>\n    <tr>\n      <th>8</th>\n      <td>______11011414512131324_1311544323_2_311131544...</td>\n    </tr>\n    <tr>\n      <th>9</th>\n      <td>______22101325623232434_2422545434_3_422242544...</td>\n    </tr>\n  </tbody>\n</table>\n</div>"
     },
     "metadata": {},
     "execution_count": 8
    }
   ],
   "source": [
    "# The shortest-path distances between all pairs of articles, computed using the Floyd-Warshall algorithm. (https://en.wikipedia.org/wiki/Floyd%E2%80%93Warshall_algorithm)\n",
    "# FORMAT:\n",
    "# One row per article (the \"source\" of the shortest paths), in the same order as in articles.tsv.\n",
    "# Each row contains the distances from the source to all articles (the \"targets\" of the shortest paths),\n",
    "# again in the order of articles.tsv.\n",
    "# The shortest-path distance is represented as a single digit, with no separators between values. This\n",
    "# is possible because the longest shortest path happens to be of length 9.\n",
    "# An underscore (\"_\") is used to indicate that the target cannot be reached from the source.\n",
    "shortest_path = pd.read_csv(\"https://raw.githubusercontent.com/ebhtra/gory-graph/TF3/Wikispeedia/wikispeedia_paths-and-graph/shortest-path-distance-matrix.txt\", sep='\\t', names = np.array(['path']), skiprows=17)\n",
    "\n",
    "shortest_path.head(10)"
   ]
  },
  {
   "source": [
    "# create reformatted shortest_path matrix to allow more informative analysis\n",
    "# code source: https://stackoverflow.com/questions/43848680/pandas-split-dataframe-column-for-every-character\n",
    "sp2 = shortest_path['path'].apply(lambda x: pd.Series(list(x)))\n",
    "sp2"
   ],
   "cell_type": "code",
   "metadata": {},
   "execution_count": 33,
   "outputs": [
    {
     "output_type": "execute_result",
     "data": {
      "text/plain": [
       "     0    1    2    3    4    5    6    7    8    9     ... 4594 4595 4596  \\\n",
       "0       0    _    _    _    _    _    3    3    3    3  ...    4    3    3   \n",
       "1       _    0    _    _    _    _    2    2    2    2  ...    4    2    3   \n",
       "2       _    _    0    _    _    _    3    3    2    2  ...    4    3    2   \n",
       "3       _    _    _    0    _    _    3    3    3    3  ...    4    2    2   \n",
       "4       _    _    _    _    0    _    2    2    3    2  ...    4    2    3   \n",
       "...   ...  ...  ...  ...  ...  ...  ...  ...  ...  ...  ...  ...  ...  ...   \n",
       "4599    _    _    _    _    _    _    2    2    2    2  ...    3    2    2   \n",
       "4600    _    _    _    _    _    _    3    3    3    3  ...    3    3    2   \n",
       "4601    _    _    _    _    _    _    2    2    2    2  ...    3    2    2   \n",
       "4602    _    _    _    _    _    _    3    3    3    3  ...    4    3    3   \n",
       "4603    _    _    _    _    _    _    2    2    2    3  ...    4    1    3   \n",
       "\n",
       "     4597 4598 4599 4600 4601 4602 4603  \n",
       "0       4    4    3    4    4    4    2  \n",
       "1       4    4    3    4    3    3    3  \n",
       "2       3    4    3    4    3    3    3  \n",
       "3       3    4    3    4    4    3    3  \n",
       "4       4    4    3    4    3    3    3  \n",
       "...   ...  ...  ...  ...  ...  ...  ...  \n",
       "4599    3    3    0    3    3    3    2  \n",
       "4600    2    3    3    0    3    4    3  \n",
       "4601    3    4    3    3    0    3    3  \n",
       "4602    4    4    3    5    4    0    3  \n",
       "4603    4    4    3    4    3    3    0  \n",
       "\n",
       "[4604 rows x 4604 columns]"
      ],
      "text/html": "<div>\n<style scoped>\n    .dataframe tbody tr th:only-of-type {\n        vertical-align: middle;\n    }\n\n    .dataframe tbody tr th {\n        vertical-align: top;\n    }\n\n    .dataframe thead th {\n        text-align: right;\n    }\n</style>\n<table border=\"1\" class=\"dataframe\">\n  <thead>\n    <tr style=\"text-align: right;\">\n      <th></th>\n      <th>0</th>\n      <th>1</th>\n      <th>2</th>\n      <th>3</th>\n      <th>4</th>\n      <th>5</th>\n      <th>6</th>\n      <th>7</th>\n      <th>8</th>\n      <th>9</th>\n      <th>...</th>\n      <th>4594</th>\n      <th>4595</th>\n      <th>4596</th>\n      <th>4597</th>\n      <th>4598</th>\n      <th>4599</th>\n      <th>4600</th>\n      <th>4601</th>\n      <th>4602</th>\n      <th>4603</th>\n    </tr>\n  </thead>\n  <tbody>\n    <tr>\n      <th>0</th>\n      <td>0</td>\n      <td>_</td>\n      <td>_</td>\n      <td>_</td>\n      <td>_</td>\n      <td>_</td>\n      <td>3</td>\n      <td>3</td>\n      <td>3</td>\n      <td>3</td>\n      <td>...</td>\n      <td>4</td>\n      <td>3</td>\n      <td>3</td>\n      <td>4</td>\n      <td>4</td>\n      <td>3</td>\n      <td>4</td>\n      <td>4</td>\n      <td>4</td>\n      <td>2</td>\n    </tr>\n    <tr>\n      <th>1</th>\n      <td>_</td>\n      <td>0</td>\n      <td>_</td>\n      <td>_</td>\n      <td>_</td>\n      <td>_</td>\n      <td>2</td>\n      <td>2</td>\n      <td>2</td>\n      <td>2</td>\n      <td>...</td>\n      <td>4</td>\n      <td>2</td>\n      <td>3</td>\n      <td>4</td>\n      <td>4</td>\n      <td>3</td>\n      <td>4</td>\n      <td>3</td>\n      <td>3</td>\n      <td>3</td>\n    </tr>\n    <tr>\n      <th>2</th>\n      <td>_</td>\n      <td>_</td>\n      <td>0</td>\n      <td>_</td>\n      <td>_</td>\n      <td>_</td>\n      <td>3</td>\n      <td>3</td>\n      <td>2</td>\n      <td>2</td>\n      <td>...</td>\n      <td>4</td>\n      <td>3</td>\n      <td>2</td>\n      <td>3</td>\n      <td>4</td>\n      <td>3</td>\n      <td>4</td>\n      <td>3</td>\n      <td>3</td>\n      <td>3</td>\n    </tr>\n    <tr>\n      <th>3</th>\n      <td>_</td>\n      <td>_</td>\n      <td>_</td>\n      <td>0</td>\n      <td>_</td>\n      <td>_</td>\n      <td>3</td>\n      <td>3</td>\n      <td>3</td>\n      <td>3</td>\n      <td>...</td>\n      <td>4</td>\n      <td>2</td>\n      <td>2</td>\n      <td>3</td>\n      <td>4</td>\n      <td>3</td>\n      <td>4</td>\n      <td>4</td>\n      <td>3</td>\n      <td>3</td>\n    </tr>\n    <tr>\n      <th>4</th>\n      <td>_</td>\n      <td>_</td>\n      <td>_</td>\n      <td>_</td>\n      <td>0</td>\n      <td>_</td>\n      <td>2</td>\n      <td>2</td>\n      <td>3</td>\n      <td>2</td>\n      <td>...</td>\n      <td>4</td>\n      <td>2</td>\n      <td>3</td>\n      <td>4</td>\n      <td>4</td>\n      <td>3</td>\n      <td>4</td>\n      <td>3</td>\n      <td>3</td>\n      <td>3</td>\n    </tr>\n    <tr>\n      <th>...</th>\n      <td>...</td>\n      <td>...</td>\n      <td>...</td>\n      <td>...</td>\n      <td>...</td>\n      <td>...</td>\n      <td>...</td>\n      <td>...</td>\n      <td>...</td>\n      <td>...</td>\n      <td>...</td>\n      <td>...</td>\n      <td>...</td>\n      <td>...</td>\n      <td>...</td>\n      <td>...</td>\n      <td>...</td>\n      <td>...</td>\n      <td>...</td>\n      <td>...</td>\n      <td>...</td>\n    </tr>\n    <tr>\n      <th>4599</th>\n      <td>_</td>\n      <td>_</td>\n      <td>_</td>\n      <td>_</td>\n      <td>_</td>\n      <td>_</td>\n      <td>2</td>\n      <td>2</td>\n      <td>2</td>\n      <td>2</td>\n      <td>...</td>\n      <td>3</td>\n      <td>2</td>\n      <td>2</td>\n      <td>3</td>\n      <td>3</td>\n      <td>0</td>\n      <td>3</td>\n      <td>3</td>\n      <td>3</td>\n      <td>2</td>\n    </tr>\n    <tr>\n      <th>4600</th>\n      <td>_</td>\n      <td>_</td>\n      <td>_</td>\n      <td>_</td>\n      <td>_</td>\n      <td>_</td>\n      <td>3</td>\n      <td>3</td>\n      <td>3</td>\n      <td>3</td>\n      <td>...</td>\n      <td>3</td>\n      <td>3</td>\n      <td>2</td>\n      <td>2</td>\n      <td>3</td>\n      <td>3</td>\n      <td>0</td>\n      <td>3</td>\n      <td>4</td>\n      <td>3</td>\n    </tr>\n    <tr>\n      <th>4601</th>\n      <td>_</td>\n      <td>_</td>\n      <td>_</td>\n      <td>_</td>\n      <td>_</td>\n      <td>_</td>\n      <td>2</td>\n      <td>2</td>\n      <td>2</td>\n      <td>2</td>\n      <td>...</td>\n      <td>3</td>\n      <td>2</td>\n      <td>2</td>\n      <td>3</td>\n      <td>4</td>\n      <td>3</td>\n      <td>3</td>\n      <td>0</td>\n      <td>3</td>\n      <td>3</td>\n    </tr>\n    <tr>\n      <th>4602</th>\n      <td>_</td>\n      <td>_</td>\n      <td>_</td>\n      <td>_</td>\n      <td>_</td>\n      <td>_</td>\n      <td>3</td>\n      <td>3</td>\n      <td>3</td>\n      <td>3</td>\n      <td>...</td>\n      <td>4</td>\n      <td>3</td>\n      <td>3</td>\n      <td>4</td>\n      <td>4</td>\n      <td>3</td>\n      <td>5</td>\n      <td>4</td>\n      <td>0</td>\n      <td>3</td>\n    </tr>\n    <tr>\n      <th>4603</th>\n      <td>_</td>\n      <td>_</td>\n      <td>_</td>\n      <td>_</td>\n      <td>_</td>\n      <td>_</td>\n      <td>2</td>\n      <td>2</td>\n      <td>2</td>\n      <td>3</td>\n      <td>...</td>\n      <td>4</td>\n      <td>1</td>\n      <td>3</td>\n      <td>4</td>\n      <td>4</td>\n      <td>3</td>\n      <td>4</td>\n      <td>3</td>\n      <td>3</td>\n      <td>0</td>\n    </tr>\n  </tbody>\n</table>\n<p>4604 rows × 4604 columns</p>\n</div>"
     },
     "metadata": {},
     "execution_count": 33
    }
   ]
  },
  {
   "cell_type": "code",
   "execution_count": 32,
   "metadata": {},
   "outputs": [
    {
     "output_type": "execute_result",
     "data": {
      "text/plain": [
       "                      Áedán_mac_Gabráin Åland Édouard_Manet Éire  \\\n",
       "Áedán_mac_Gabráin                     0     _             _    _   \n",
       "Åland                                 _     0             _    _   \n",
       "Édouard_Manet                         _     _             0    _   \n",
       "Éire                                  _     _             _    0   \n",
       "Óengus_I_of_the_Picts                 _     _             _    _   \n",
       "...                                 ...   ...           ...  ...   \n",
       "Zionism                               _     _             _    _   \n",
       "Zirconium                             _     _             _    _   \n",
       "Zoroaster                             _     _             _    _   \n",
       "Zuid-Gelders                          _     _             _    _   \n",
       "Zulu                                  _     _             _    _   \n",
       "\n",
       "                      Óengus_I_of_the_Picts €2_commemorative_coins  \\\n",
       "Áedán_mac_Gabráin                         _                      _   \n",
       "Åland                                     _                      _   \n",
       "Édouard_Manet                             _                      _   \n",
       "Éire                                      _                      _   \n",
       "Óengus_I_of_the_Picts                     0                      _   \n",
       "...                                     ...                    ...   \n",
       "Zionism                                   _                      _   \n",
       "Zirconium                                 _                      _   \n",
       "Zoroaster                                 _                      _   \n",
       "Zuid-Gelders                              _                      _   \n",
       "Zulu                                      _                      _   \n",
       "\n",
       "                      10th_century 11th_century 12th_century 13th_century  \\\n",
       "Áedán_mac_Gabráin                3            3            3            3   \n",
       "Åland                            2            2            2            2   \n",
       "Édouard_Manet                    3            3            2            2   \n",
       "Éire                             3            3            3            3   \n",
       "Óengus_I_of_the_Picts            2            2            3            2   \n",
       "...                            ...          ...          ...          ...   \n",
       "Zionism                          2            2            2            2   \n",
       "Zirconium                        3            3            3            3   \n",
       "Zoroaster                        2            2            2            2   \n",
       "Zuid-Gelders                     3            3            3            3   \n",
       "Zulu                             2            2            2            3   \n",
       "\n",
       "                       ... Ziad_Jarrah Zimbabwe Zinc Zinc_chloride  \\\n",
       "Áedán_mac_Gabráin      ...           4        3    3             4   \n",
       "Åland                  ...           4        2    3             4   \n",
       "Édouard_Manet          ...           4        3    2             3   \n",
       "Éire                   ...           4        2    2             3   \n",
       "Óengus_I_of_the_Picts  ...           4        2    3             4   \n",
       "...                    ...         ...      ...  ...           ...   \n",
       "Zionism                ...           3        2    2             3   \n",
       "Zirconium              ...           3        3    2             2   \n",
       "Zoroaster              ...           3        2    2             3   \n",
       "Zuid-Gelders           ...           4        3    3             4   \n",
       "Zulu                   ...           4        1    3             4   \n",
       "\n",
       "                      Zion_National_Park Zionism Zirconium Zoroaster  \\\n",
       "Áedán_mac_Gabráin                      4       3         4         4   \n",
       "Åland                                  4       3         4         3   \n",
       "Édouard_Manet                          4       3         4         3   \n",
       "Éire                                   4       3         4         4   \n",
       "Óengus_I_of_the_Picts                  4       3         4         3   \n",
       "...                                  ...     ...       ...       ...   \n",
       "Zionism                                3       0         3         3   \n",
       "Zirconium                              3       3         0         3   \n",
       "Zoroaster                              4       3         3         0   \n",
       "Zuid-Gelders                           4       3         5         4   \n",
       "Zulu                                   4       3         4         3   \n",
       "\n",
       "                      Zuid-Gelders Zulu  \n",
       "Áedán_mac_Gabráin                4    2  \n",
       "Åland                            3    3  \n",
       "Édouard_Manet                    3    3  \n",
       "Éire                             3    3  \n",
       "Óengus_I_of_the_Picts            3    3  \n",
       "...                            ...  ...  \n",
       "Zionism                          3    2  \n",
       "Zirconium                        4    3  \n",
       "Zoroaster                        3    3  \n",
       "Zuid-Gelders                     0    3  \n",
       "Zulu                             3    0  \n",
       "\n",
       "[4604 rows x 4604 columns]"
      ],
      "text/html": "<div>\n<style scoped>\n    .dataframe tbody tr th:only-of-type {\n        vertical-align: middle;\n    }\n\n    .dataframe tbody tr th {\n        vertical-align: top;\n    }\n\n    .dataframe thead th {\n        text-align: right;\n    }\n</style>\n<table border=\"1\" class=\"dataframe\">\n  <thead>\n    <tr style=\"text-align: right;\">\n      <th></th>\n      <th>Áedán_mac_Gabráin</th>\n      <th>Åland</th>\n      <th>Édouard_Manet</th>\n      <th>Éire</th>\n      <th>Óengus_I_of_the_Picts</th>\n      <th>€2_commemorative_coins</th>\n      <th>10th_century</th>\n      <th>11th_century</th>\n      <th>12th_century</th>\n      <th>13th_century</th>\n      <th>...</th>\n      <th>Ziad_Jarrah</th>\n      <th>Zimbabwe</th>\n      <th>Zinc</th>\n      <th>Zinc_chloride</th>\n      <th>Zion_National_Park</th>\n      <th>Zionism</th>\n      <th>Zirconium</th>\n      <th>Zoroaster</th>\n      <th>Zuid-Gelders</th>\n      <th>Zulu</th>\n    </tr>\n  </thead>\n  <tbody>\n    <tr>\n      <th>Áedán_mac_Gabráin</th>\n      <td>0</td>\n      <td>_</td>\n      <td>_</td>\n      <td>_</td>\n      <td>_</td>\n      <td>_</td>\n      <td>3</td>\n      <td>3</td>\n      <td>3</td>\n      <td>3</td>\n      <td>...</td>\n      <td>4</td>\n      <td>3</td>\n      <td>3</td>\n      <td>4</td>\n      <td>4</td>\n      <td>3</td>\n      <td>4</td>\n      <td>4</td>\n      <td>4</td>\n      <td>2</td>\n    </tr>\n    <tr>\n      <th>Åland</th>\n      <td>_</td>\n      <td>0</td>\n      <td>_</td>\n      <td>_</td>\n      <td>_</td>\n      <td>_</td>\n      <td>2</td>\n      <td>2</td>\n      <td>2</td>\n      <td>2</td>\n      <td>...</td>\n      <td>4</td>\n      <td>2</td>\n      <td>3</td>\n      <td>4</td>\n      <td>4</td>\n      <td>3</td>\n      <td>4</td>\n      <td>3</td>\n      <td>3</td>\n      <td>3</td>\n    </tr>\n    <tr>\n      <th>Édouard_Manet</th>\n      <td>_</td>\n      <td>_</td>\n      <td>0</td>\n      <td>_</td>\n      <td>_</td>\n      <td>_</td>\n      <td>3</td>\n      <td>3</td>\n      <td>2</td>\n      <td>2</td>\n      <td>...</td>\n      <td>4</td>\n      <td>3</td>\n      <td>2</td>\n      <td>3</td>\n      <td>4</td>\n      <td>3</td>\n      <td>4</td>\n      <td>3</td>\n      <td>3</td>\n      <td>3</td>\n    </tr>\n    <tr>\n      <th>Éire</th>\n      <td>_</td>\n      <td>_</td>\n      <td>_</td>\n      <td>0</td>\n      <td>_</td>\n      <td>_</td>\n      <td>3</td>\n      <td>3</td>\n      <td>3</td>\n      <td>3</td>\n      <td>...</td>\n      <td>4</td>\n      <td>2</td>\n      <td>2</td>\n      <td>3</td>\n      <td>4</td>\n      <td>3</td>\n      <td>4</td>\n      <td>4</td>\n      <td>3</td>\n      <td>3</td>\n    </tr>\n    <tr>\n      <th>Óengus_I_of_the_Picts</th>\n      <td>_</td>\n      <td>_</td>\n      <td>_</td>\n      <td>_</td>\n      <td>0</td>\n      <td>_</td>\n      <td>2</td>\n      <td>2</td>\n      <td>3</td>\n      <td>2</td>\n      <td>...</td>\n      <td>4</td>\n      <td>2</td>\n      <td>3</td>\n      <td>4</td>\n      <td>4</td>\n      <td>3</td>\n      <td>4</td>\n      <td>3</td>\n      <td>3</td>\n      <td>3</td>\n    </tr>\n    <tr>\n      <th>...</th>\n      <td>...</td>\n      <td>...</td>\n      <td>...</td>\n      <td>...</td>\n      <td>...</td>\n      <td>...</td>\n      <td>...</td>\n      <td>...</td>\n      <td>...</td>\n      <td>...</td>\n      <td>...</td>\n      <td>...</td>\n      <td>...</td>\n      <td>...</td>\n      <td>...</td>\n      <td>...</td>\n      <td>...</td>\n      <td>...</td>\n      <td>...</td>\n      <td>...</td>\n      <td>...</td>\n    </tr>\n    <tr>\n      <th>Zionism</th>\n      <td>_</td>\n      <td>_</td>\n      <td>_</td>\n      <td>_</td>\n      <td>_</td>\n      <td>_</td>\n      <td>2</td>\n      <td>2</td>\n      <td>2</td>\n      <td>2</td>\n      <td>...</td>\n      <td>3</td>\n      <td>2</td>\n      <td>2</td>\n      <td>3</td>\n      <td>3</td>\n      <td>0</td>\n      <td>3</td>\n      <td>3</td>\n      <td>3</td>\n      <td>2</td>\n    </tr>\n    <tr>\n      <th>Zirconium</th>\n      <td>_</td>\n      <td>_</td>\n      <td>_</td>\n      <td>_</td>\n      <td>_</td>\n      <td>_</td>\n      <td>3</td>\n      <td>3</td>\n      <td>3</td>\n      <td>3</td>\n      <td>...</td>\n      <td>3</td>\n      <td>3</td>\n      <td>2</td>\n      <td>2</td>\n      <td>3</td>\n      <td>3</td>\n      <td>0</td>\n      <td>3</td>\n      <td>4</td>\n      <td>3</td>\n    </tr>\n    <tr>\n      <th>Zoroaster</th>\n      <td>_</td>\n      <td>_</td>\n      <td>_</td>\n      <td>_</td>\n      <td>_</td>\n      <td>_</td>\n      <td>2</td>\n      <td>2</td>\n      <td>2</td>\n      <td>2</td>\n      <td>...</td>\n      <td>3</td>\n      <td>2</td>\n      <td>2</td>\n      <td>3</td>\n      <td>4</td>\n      <td>3</td>\n      <td>3</td>\n      <td>0</td>\n      <td>3</td>\n      <td>3</td>\n    </tr>\n    <tr>\n      <th>Zuid-Gelders</th>\n      <td>_</td>\n      <td>_</td>\n      <td>_</td>\n      <td>_</td>\n      <td>_</td>\n      <td>_</td>\n      <td>3</td>\n      <td>3</td>\n      <td>3</td>\n      <td>3</td>\n      <td>...</td>\n      <td>4</td>\n      <td>3</td>\n      <td>3</td>\n      <td>4</td>\n      <td>4</td>\n      <td>3</td>\n      <td>5</td>\n      <td>4</td>\n      <td>0</td>\n      <td>3</td>\n    </tr>\n    <tr>\n      <th>Zulu</th>\n      <td>_</td>\n      <td>_</td>\n      <td>_</td>\n      <td>_</td>\n      <td>_</td>\n      <td>_</td>\n      <td>2</td>\n      <td>2</td>\n      <td>2</td>\n      <td>3</td>\n      <td>...</td>\n      <td>4</td>\n      <td>1</td>\n      <td>3</td>\n      <td>4</td>\n      <td>4</td>\n      <td>3</td>\n      <td>4</td>\n      <td>3</td>\n      <td>3</td>\n      <td>0</td>\n    </tr>\n  </tbody>\n</table>\n<p>4604 rows × 4604 columns</p>\n</div>"
     },
     "metadata": {},
     "execution_count": 32
    }
   ],
   "source": [
    "# Rename columns & provide a name for rows\n",
    "sp_names = sp2.rename(columns=articles['article'], inplace=False)\n",
    "sp_names = sp_names.rename(index=articles['article'], inplace=False)\n",
    "\n",
    "sp_names"
   ]
  },
  {
   "cell_type": "code",
   "execution_count": null,
   "metadata": {},
   "outputs": [],
   "source": []
  }
 ]
}