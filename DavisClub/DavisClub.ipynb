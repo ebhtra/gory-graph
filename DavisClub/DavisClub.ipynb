{
 "cells": [
  {
   "cell_type": "markdown",
   "metadata": {},
   "source": [
    "==========\n",
    "Davis Club\n",
    "==========\n",
    "\n",
    "Davis Southern Club Women\n",
    "\n",
    "Shows how to make unipartite projections of the graph and compute the\n",
    "properties of those graphs.\n",
    "\n",
    "These data were collected by Davis et al. in the 1930s.\n",
    "They represent observed attendance at 14 social events by 18 Southern women.\n",
    "The graph is bipartite (clubs, women).\n"
   ]
  },
  {
   "cell_type": "code",
   "execution_count": 1,
   "metadata": {},
   "outputs": [],
   "source": [
    "import matplotlib.pyplot as plt\n",
    "import networkx as nx\n",
    "import networkx.algorithms.bipartite as bipartite\n"
   ]
  },
  {
   "cell_type": "code",
   "execution_count": 2,
   "metadata": {},
   "outputs": [
    {
     "name": "stdout",
     "output_type": "stream",
     "text": [
      "Biadjacency matrix\n",
      "  (0, 0)\t1\n",
      "  (0, 1)\t1\n",
      "  (0, 2)\t1\n",
      "  (0, 3)\t1\n",
      "  (0, 4)\t1\n",
      "  (0, 5)\t1\n",
      "  (0, 7)\t1\n",
      "  (0, 8)\t1\n",
      "  (1, 0)\t1\n",
      "  (1, 1)\t1\n",
      "  (1, 2)\t1\n",
      "  (1, 4)\t1\n",
      "  (1, 5)\t1\n",
      "  (1, 6)\t1\n",
      "  (1, 7)\t1\n",
      "  (2, 1)\t1\n",
      "  (2, 2)\t1\n",
      "  (2, 3)\t1\n",
      "  (2, 4)\t1\n",
      "  (2, 5)\t1\n",
      "  (2, 6)\t1\n",
      "  (2, 7)\t1\n",
      "  (2, 8)\t1\n",
      "  (3, 0)\t1\n",
      "  (3, 2)\t1\n",
      "  :\t:\n",
      "  (12, 7)\t1\n",
      "  (12, 8)\t1\n",
      "  (12, 9)\t1\n",
      "  (12, 11)\t1\n",
      "  (12, 12)\t1\n",
      "  (12, 13)\t1\n",
      "  (13, 5)\t1\n",
      "  (13, 6)\t1\n",
      "  (13, 8)\t1\n",
      "  (13, 9)\t1\n",
      "  (13, 10)\t1\n",
      "  (13, 11)\t1\n",
      "  (13, 12)\t1\n",
      "  (13, 13)\t1\n",
      "  (14, 6)\t1\n",
      "  (14, 7)\t1\n",
      "  (14, 9)\t1\n",
      "  (14, 10)\t1\n",
      "  (14, 11)\t1\n",
      "  (15, 7)\t1\n",
      "  (15, 8)\t1\n",
      "  (16, 8)\t1\n",
      "  (16, 10)\t1\n",
      "  (17, 8)\t1\n",
      "  (17, 10)\t1\n"
     ]
    }
   ],
   "source": [
    "G = nx.davis_southern_women_graph()\n",
    "women = G.graph[\"top\"]\n",
    "clubs = G.graph[\"bottom\"]\n",
    "\n",
    "print(\"Biadjacency matrix\")\n",
    "print(bipartite.biadjacency_matrix(G, women, clubs))\n"
   ]
  },
  {
   "cell_type": "markdown",
   "metadata": {},
   "source": [
    "Explore degrees for each partition"
   ]
  },
  {
   "cell_type": "code",
   "execution_count": 3,
   "metadata": {},
   "outputs": [
    {
     "data": {
      "text/plain": [
       "{'Sylvia Avondale': 7,\n",
       " 'Myra Liddel': 4,\n",
       " 'Eleanor Nye': 4,\n",
       " 'Laura Mandeville': 7,\n",
       " 'Flora Price': 2,\n",
       " 'Frances Anderson': 4,\n",
       " 'Pearl Oglethorpe': 3,\n",
       " 'Evelyn Jefferson': 8,\n",
       " 'Katherina Rogers': 6,\n",
       " 'Helen Lloyd': 5,\n",
       " 'Charlotte McDowd': 4,\n",
       " 'Olivia Carleton': 2,\n",
       " 'Brenda Rogers': 7,\n",
       " 'Nora Fayette': 8,\n",
       " 'Ruth DeSand': 4,\n",
       " 'Verne Sanderson': 4,\n",
       " 'Dorothy Murchison': 2,\n",
       " 'Theresa Anderson': 8}"
      ]
     },
     "execution_count": 3,
     "metadata": {},
     "output_type": "execute_result"
    }
   ],
   "source": [
    "w_degs, c_degs = bipartite.degrees(G, clubs)\n",
    "w_degs"
   ]
  },
  {
   "cell_type": "code",
   "execution_count": 4,
   "metadata": {},
   "outputs": [
    {
     "data": {
      "image/png": "[encoded data removed]",
      "text/plain": [
       "<Figure size 720x288 with 2 Axes>"
      ]
     },
     "metadata": {
      "needs_background": "light"
     },
     "output_type": "display_data"
    }
   ],
   "source": [
    "plt.figure(figsize=(10,4))\n",
    "plt.subplot(121)\n",
    "plt.hist(w_degs.values(), bins=12)\n",
    "plt.title('Number of events per woman')\n",
    "plt.xlabel('Events')\n",
    "plt.ylabel('Count of women')\n",
    "plt.subplot(122)\n",
    "plt.hist(c_degs.values(), bins=12)\n",
    "plt.title('Number of women per event')\n",
    "plt.xlabel('Women')\n",
    "plt.ylabel('Count of events');"
   ]
  },
  {
   "cell_type": "markdown",
   "metadata": {},
   "source": [
    "Everyone attended at least 2 events, the most common number of events to have attended is 4, and a third of the people went to 7 or 8 events."
   ]
  },
  {
   "cell_type": "markdown",
   "metadata": {},
   "source": [
    "The most common number of attendees from this group at an event is only 3, but the average number is over 6. The two largest events had 12 and 14 from this group."
   ]
  },
  {
   "cell_type": "code",
   "execution_count": 3,
   "metadata": {},
   "outputs": [
    {
     "name": "stdout",
     "output_type": "stream",
     "text": [
      "\n",
      "#Friends, Member\n",
      "17 Evelyn Jefferson\n",
      "15 Laura Mandeville\n",
      "17 Theresa Anderson\n",
      "15 Brenda Rogers\n",
      "11 Charlotte McDowd\n",
      "15 Frances Anderson\n",
      "15 Eleanor Nye\n",
      "16 Pearl Oglethorpe\n",
      "17 Ruth DeSand\n",
      "17 Verne Sanderson\n",
      "16 Myra Liddel\n",
      "16 Katherina Rogers\n",
      "17 Sylvia Avondale\n",
      "17 Nora Fayette\n",
      "17 Helen Lloyd\n",
      "16 Dorothy Murchison\n",
      "12 Olivia Carleton\n",
      "12 Flora Price\n"
     ]
    }
   ],
   "source": [
    "# project bipartite graph onto women nodes\n",
    "W = bipartite.projected_graph(G, women)\n",
    "print()\n",
    "print(\"#Friends, Member\")\n",
    "for w in women:\n",
    "    print(f\"{W.degree(w)} {w}\")"
   ]
  },
  {
   "cell_type": "markdown",
   "metadata": {},
   "source": [
    "Using common attendance at a social event as a yardstick for friendship, we see that 7 of the women in this group are friends with everyone, another 4 are only missing friendship with one person, and 4 more lack only 2 links.  The \"less connected/more exclusive\" members of this group are just 3 people who are still friends with 2/3 of the group.  It might be interesting to see if those 3 are in their own small group that competes with a large group, or maybe for all we know two events were scheduled at the same time and these 3 had to opt for the smaller occasion for some reason."
   ]
  },
  {
   "cell_type": "code",
   "execution_count": 5,
   "metadata": {},
   "outputs": [
    {
     "name": "stdout",
     "output_type": "stream",
     "text": [
      "(Name, Event, Attendees from this group)\n"
     ]
    },
    {
     "data": {
      "text/plain": [
       "[('Charlotte McDowd', 'E3', 6),\n",
       " ('Charlotte McDowd', 'E4', 4),\n",
       " ('Charlotte McDowd', 'E5', 8),\n",
       " ('Charlotte McDowd', 'E7', 10),\n",
       " ('Olivia Carleton', 'E9', 12),\n",
       " ('Olivia Carleton', 'E11', 4),\n",
       " ('Flora Price', 'E9', 12),\n",
       " ('Flora Price', 'E11', 4)]"
      ]
     },
     "execution_count": 5,
     "metadata": {},
     "output_type": "execute_result"
    }
   ],
   "source": [
    "less_connected = [(name, event, c_degs[event]) for (name, event, _) in G.edges(data=True)\n",
    "                  if name in {'Olivia Carleton', 'Flora Price', 'Charlotte McDowd'}]\n",
    "print('(Name, Event, Attendees from this group)')\n",
    "less_connected"
   ]
  },
  {
   "cell_type": "markdown",
   "metadata": {},
   "source": [
    "Olivia and Flora only attended the same 2 events (E9 and E11), so they are probably a close pair of wingmen who aren't extremely social otherwise.\n",
    "\n",
    "Charlotte is an interesting case because she's the least connected by degree in the projected graph, yet she attended 4 events with significant numbers of attendees.  Still, she missed out on the 2 biggest events, which is where everyone else became friends with Olivia and Flora and a couple of others who only attended 2 or 3 events."
   ]
  },
  {
   "cell_type": "markdown",
   "metadata": {},
   "source": [
    "#### Same procedure for events:"
   ]
  },
  {
   "cell_type": "code",
   "execution_count": 6,
   "metadata": {},
   "outputs": [
    {
     "name": "stdout",
     "output_type": "stream",
     "text": [
      "\n",
      "Connected events | Event  |   Attendees\n",
      "8                   E1         3\n",
      "8                   E2         3\n",
      "8                   E3         6\n",
      "8                   E4         4\n",
      "8                   E5         8\n",
      "13                   E6         8\n",
      "13                   E7         10\n",
      "13                   E8         14\n",
      "13                   E9         12\n",
      "8                   E10         5\n",
      "8                   E11         4\n",
      "8                   E12         6\n",
      "8                   E13         3\n",
      "8                   E14         3\n"
     ]
    }
   ],
   "source": [
    "# project bipartite graph onto women nodes\n",
    "E = bipartite.projected_graph(G, clubs)\n",
    "print()\n",
    "print(\"Connected events | Event  |   Attendees\")\n",
    "for c in clubs:\n",
    "    print(f\"{E.degree(c)}                   {c}         {c_degs[c]}\")"
   ]
  },
  {
   "cell_type": "markdown",
   "metadata": {},
   "source": [
    "Events 6 through 9 are connected to all other events by at least one attendee, which would be expected after a glance at the high numbers of members at E6-E9."
   ]
  },
  {
   "cell_type": "markdown",
   "metadata": {},
   "source": [
    "Of possible interest is the question of why E5 and E6 each had 8 attendees from this group, yet E6 is connected to every other event while E5 is missing 5 links.  Let's see who's responsible."
   ]
  },
  {
   "cell_type": "code",
   "execution_count": 7,
   "metadata": {},
   "outputs": [
    {
     "name": "stdout",
     "output_type": "stream",
     "text": [
      "(Name, Event, Events Attended by Member)\n"
     ]
    },
    {
     "data": {
      "text/plain": [
       "[('Evelyn Jefferson', 'E5', 8),\n",
       " ('Evelyn Jefferson', 'E6', 8),\n",
       " ('Laura Mandeville', 'E5', 7),\n",
       " ('Laura Mandeville', 'E6', 7),\n",
       " ('Theresa Anderson', 'E5', 8),\n",
       " ('Theresa Anderson', 'E6', 8),\n",
       " ('Brenda Rogers', 'E5', 7),\n",
       " ('Brenda Rogers', 'E6', 7),\n",
       " ('Charlotte McDowd', 'E5', 4),\n",
       " ('Frances Anderson', 'E5', 4),\n",
       " ('Frances Anderson', 'E6', 4),\n",
       " ('Eleanor Nye', 'E5', 4),\n",
       " ('Eleanor Nye', 'E6', 4),\n",
       " ('Pearl Oglethorpe', 'E6', 3),\n",
       " ('Ruth DeSand', 'E5', 4),\n",
       " ('Nora Fayette', 'E6', 8)]"
      ]
     },
     "execution_count": 7,
     "metadata": {},
     "output_type": "execute_result"
    }
   ],
   "source": [
    "linkers = [(name, event, w_degs[name]) for (name, event, _) in G.edges(data=True)\n",
    "                  if event in ['E5','E6']]\n",
    "print('(Name, Event, Events Attended by Member)')\n",
    "linkers"
   ]
  },
  {
   "cell_type": "markdown",
   "metadata": {},
   "source": [
    "Who went to only one of those two events?"
   ]
  },
  {
   "cell_type": "code",
   "execution_count": 8,
   "metadata": {},
   "outputs": [
    {
     "name": "stdout",
     "output_type": "stream",
     "text": [
      "Charlotte McDowd E5 4\n",
      "Pearl Oglethorpe E6 3\n",
      "Ruth DeSand E5 4\n",
      "Nora Fayette E6 8\n"
     ]
    }
   ],
   "source": [
    "names, events, counts = list(zip(*linkers))\n",
    "for n in range(len(names)):\n",
    "    if names.count(names[n]) == 1:\n",
    "        print(names[n], events[n], counts[n])"
   ]
  },
  {
   "cell_type": "markdown",
   "metadata": {},
   "source": [
    "It appears that Nora may have a \"between\" role in connecting different types of events."
   ]
  },
  {
   "cell_type": "code",
   "execution_count": 4,
   "metadata": {},
   "outputs": [
    {
     "name": "stdout",
     "output_type": "stream",
     "text": [
      "\n",
      "#Friend meetings, Member\n",
      "50 Evelyn Jefferson\n",
      "45 Laura Mandeville\n",
      "57 Theresa Anderson\n",
      "46 Brenda Rogers\n",
      "24 Charlotte McDowd\n",
      "32 Frances Anderson\n",
      "36 Eleanor Nye\n",
      "31 Pearl Oglethorpe\n",
      "40 Ruth DeSand\n",
      "38 Verne Sanderson\n",
      "33 Myra Liddel\n",
      "37 Katherina Rogers\n",
      "46 Sylvia Avondale\n",
      "43 Nora Fayette\n",
      "34 Helen Lloyd\n",
      "24 Dorothy Murchison\n",
      "14 Olivia Carleton\n",
      "14 Flora Price\n"
     ]
    }
   ],
   "source": [
    "# project bipartite graph onto women nodes keeping number of co-occurence\n",
    "# the degree computed is weighted and counts the total number of shared contacts\n",
    "W = bipartite.weighted_projected_graph(G, women)\n",
    "print()\n",
    "print(\"#Friend meetings, Member\")\n",
    "for w in women:\n",
    "    print(f\"{W.degree(w, weight='weight')} {w}\")\n",
    "    "
   ]
  },
  {
   "cell_type": "code",
   "execution_count": 5,
   "metadata": {},
   "outputs": [
    {
     "name": "stderr",
     "output_type": "stream",
     "text": [
      "C:\\Users\\tsfra\\py_oh_my\\anaconda3\\envs\\sps620env\\lib\\site-packages\\networkx\\drawing\\nx_pylab.py:126: MatplotlibDeprecationWarning: pyplot.hold is deprecated.\n",
      "    Future behavior will be consistent with the long-time default:\n",
      "    plot commands add elements without first clearing the\n",
      "    Axes and/or Figure.\n",
      "  b = plt.ishold()\n",
      "C:\\Users\\tsfra\\py_oh_my\\anaconda3\\envs\\sps620env\\lib\\site-packages\\networkx\\drawing\\nx_pylab.py:522: MatplotlibDeprecationWarning: The is_string_like function was deprecated in version 2.1.\n",
      "  if not cb.is_string_like(edge_color) \\\n",
      "C:\\Users\\tsfra\\py_oh_my\\anaconda3\\envs\\sps620env\\lib\\site-packages\\networkx\\drawing\\nx_pylab.py:543: MatplotlibDeprecationWarning: The is_string_like function was deprecated in version 2.1.\n",
      "  if cb.is_string_like(edge_color) or len(edge_color) == 1:\n",
      "C:\\Users\\tsfra\\py_oh_my\\anaconda3\\envs\\sps620env\\lib\\site-packages\\networkx\\drawing\\nx_pylab.py:138: MatplotlibDeprecationWarning: pyplot.hold is deprecated.\n",
      "    Future behavior will be consistent with the long-time default:\n",
      "    plot commands add elements without first clearing the\n",
      "    Axes and/or Figure.\n",
      "  plt.hold(b)\n",
      "C:\\Users\\tsfra\\py_oh_my\\anaconda3\\envs\\sps620env\\lib\\site-packages\\matplotlib\\__init__.py:910: MatplotlibDeprecationWarning: axes.hold is deprecated. Please remove it from your matplotlibrc and/or style files.\n",
      "  mplDeprecation)\n",
      "C:\\Users\\tsfra\\py_oh_my\\anaconda3\\envs\\sps620env\\lib\\site-packages\\matplotlib\\rcsetup.py:156: MatplotlibDeprecationWarning: axes.hold is deprecated, will be removed in 3.0\n",
      "  mplDeprecation)\n"
     ]
    },
    {
     "data": {
      "image/png": "[encoded data removed]",
      "image/svg+xml": [
       "<?xml version=\"1.0\" encoding=\"utf-8\" standalone=\"no\"?>\r\n",
       "<!DOCTYPE svg PUBLIC \"-//W3C//DTD SVG 1.1//EN\"\r\n",
       "  \"http://www.w3.org/Graphics/SVG/1.1/DTD/svg11.dtd\">\r\n",
       "<!-- Created with matplotlib (http://matplotlib.org/) -->\r\n",
       "<svg height=\"322.578125pt\" version=\"1.1\" viewBox=\"0 0 472.803125 322.578125\" width=\"472.803125pt\" xmlns=\"http://www.w3.org/2000/svg\" xmlns:xlink=\"http://www.w3.org/1999/xlink\">\r\n",
       " <defs>\r\n",
       "  <style type=\"text/css\">\r\n",
       "*{stroke-linecap:butt;stroke-linejoin:round;}\r\n",
       "  </style>\r\n",
       " </defs>\r\n",
       " <g id=\"figure_1\">\r\n",
       "  <g id=\"patch_1\">\r\n",
       "   <path d=\"M 0 322.578125 \r\n",
       "L 472.803125 322.578125 \r\n",
       "L 472.803125 0 \r\n",
       "L 0 0 \r\n",
       "z\r\n",
       "\" style=\"fill:#ffffff;\"/>\r\n",
       "  </g>\r\n",
       "  <g id=\"axes_1\">\r\n",
       "   <g id=\"LineCollection_1\">\r\n",
       "    <path clip-path=\"url(#pbe4c141c99)\" d=\"M 310.282782 99.394938 \r\n",
       "L 272.063761 35.691736 \r\n",
       "\" style=\"fill:none;stroke:#000000;\"/>\r\n",
       "    <path clip-path=\"url(#pbe4c141c99)\" d=\"M 310.282782 99.394938 \r\n",
       "L 313.15513 41.222952 \r\n",
       "\" style=\"fill:none;stroke:#000000;\"/>\r\n",
       "    <path clip-path=\"url(#pbe4c141c99)\" d=\"M 310.282782 99.394938 \r\n",
       "L 389.944126 88.859294 \r\n",
       "\" style=\"fill:none;stroke:#000000;\"/>\r\n",
       "    <path clip-path=\"url(#pbe4c141c99)\" d=\"M 310.282782 99.394938 \r\n",
       "L 379.1627 59.507429 \r\n",
       "\" style=\"fill:none;stroke:#000000;\"/>\r\n",
       "    <path clip-path=\"url(#pbe4c141c99)\" d=\"M 310.282782 99.394938 \r\n",
       "L 383.971336 132.004809 \r\n",
       "\" style=\"fill:none;stroke:#000000;\"/>\r\n",
       "    <path clip-path=\"url(#pbe4c141c99)\" d=\"M 310.282782 99.394938 \r\n",
       "L 319.234805 159.625181 \r\n",
       "\" style=\"fill:none;stroke:#000000;\"/>\r\n",
       "    <path clip-path=\"url(#pbe4c141c99)\" d=\"M 310.282782 99.394938 \r\n",
       "L 282.593171 189.208885 \r\n",
       "\" style=\"fill:none;stroke:#000000;\"/>\r\n",
       "    <path clip-path=\"url(#pbe4c141c99)\" d=\"M 310.282782 99.394938 \r\n",
       "L 223.075981 184.129878 \r\n",
       "\" style=\"fill:none;stroke:#000000;\"/>\r\n",
       "    <path clip-path=\"url(#pbe4c141c99)\" d=\"M 288.492615 95.941267 \r\n",
       "L 272.063761 35.691736 \r\n",
       "\" style=\"fill:none;stroke:#000000;\"/>\r\n",
       "    <path clip-path=\"url(#pbe4c141c99)\" d=\"M 288.492615 95.941267 \r\n",
       "L 313.15513 41.222952 \r\n",
       "\" style=\"fill:none;stroke:#000000;\"/>\r\n",
       "    <path clip-path=\"url(#pbe4c141c99)\" d=\"M 288.492615 95.941267 \r\n",
       "L 389.944126 88.859294 \r\n",
       "\" style=\"fill:none;stroke:#000000;\"/>\r\n",
       "    <path clip-path=\"url(#pbe4c141c99)\" d=\"M 288.492615 95.941267 \r\n",
       "L 383.971336 132.004809 \r\n",
       "\" style=\"fill:none;stroke:#000000;\"/>\r\n",
       "    <path clip-path=\"url(#pbe4c141c99)\" d=\"M 288.492615 95.941267 \r\n",
       "L 319.234805 159.625181 \r\n",
       "\" style=\"fill:none;stroke:#000000;\"/>\r\n",
       "    <path clip-path=\"url(#pbe4c141c99)\" d=\"M 288.492615 95.941267 \r\n",
       "L 278.349159 163.248846 \r\n",
       "\" style=\"fill:none;stroke:#000000;\"/>\r\n",
       "    <path clip-path=\"url(#pbe4c141c99)\" d=\"M 288.492615 95.941267 \r\n",
       "L 282.593171 189.208885 \r\n",
       "\" style=\"fill:none;stroke:#000000;\"/>\r\n",
       "    <path clip-path=\"url(#pbe4c141c99)\" d=\"M 318.397792 122.313262 \r\n",
       "L 313.15513 41.222952 \r\n",
       "\" style=\"fill:none;stroke:#000000;\"/>\r\n",
       "    <path clip-path=\"url(#pbe4c141c99)\" d=\"M 318.397792 122.313262 \r\n",
       "L 389.944126 88.859294 \r\n",
       "\" style=\"fill:none;stroke:#000000;\"/>\r\n",
       "    <path clip-path=\"url(#pbe4c141c99)\" d=\"M 318.397792 122.313262 \r\n",
       "L 379.1627 59.507429 \r\n",
       "\" style=\"fill:none;stroke:#000000;\"/>\r\n",
       "    <path clip-path=\"url(#pbe4c141c99)\" d=\"M 318.397792 122.313262 \r\n",
       "L 383.971336 132.004809 \r\n",
       "\" style=\"fill:none;stroke:#000000;\"/>\r\n",
       "    <path clip-path=\"url(#pbe4c141c99)\" d=\"M 318.397792 122.313262 \r\n",
       "L 319.234805 159.625181 \r\n",
       "\" style=\"fill:none;stroke:#000000;\"/>\r\n",
       "    <path clip-path=\"url(#pbe4c141c99)\" d=\"M 318.397792 122.313262 \r\n",
       "L 278.349159 163.248846 \r\n",
       "\" style=\"fill:none;stroke:#000000;\"/>\r\n",
       "    <path clip-path=\"url(#pbe4c141c99)\" d=\"M 318.397792 122.313262 \r\n",
       "L 282.593171 189.208885 \r\n",
       "\" style=\"fill:none;stroke:#000000;\"/>\r\n",
       "    <path clip-path=\"url(#pbe4c141c99)\" d=\"M 318.397792 122.313262 \r\n",
       "L 223.075981 184.129878 \r\n",
       "\" style=\"fill:none;stroke:#000000;\"/>\r\n",
       "    <path clip-path=\"url(#pbe4c141c99)\" d=\"M 341.581647 100.800021 \r\n",
       "L 272.063761 35.691736 \r\n",
       "\" style=\"fill:none;stroke:#000000;\"/>\r\n",
       "    <path clip-path=\"url(#pbe4c141c99)\" d=\"M 341.581647 100.800021 \r\n",
       "L 389.944126 88.859294 \r\n",
       "\" style=\"fill:none;stroke:#000000;\"/>\r\n",
       "    <path clip-path=\"url(#pbe4c141c99)\" d=\"M 341.581647 100.800021 \r\n",
       "L 379.1627 59.507429 \r\n",
       "\" style=\"fill:none;stroke:#000000;\"/>\r\n",
       "    <path clip-path=\"url(#pbe4c141c99)\" d=\"M 341.581647 100.800021 \r\n",
       "L 383.971336 132.004809 \r\n",
       "\" style=\"fill:none;stroke:#000000;\"/>\r\n",
       "    <path clip-path=\"url(#pbe4c141c99)\" d=\"M 341.581647 100.800021 \r\n",
       "L 319.234805 159.625181 \r\n",
       "\" style=\"fill:none;stroke:#000000;\"/>\r\n",
       "    <path clip-path=\"url(#pbe4c141c99)\" d=\"M 341.581647 100.800021 \r\n",
       "L 278.349159 163.248846 \r\n",
       "\" style=\"fill:none;stroke:#000000;\"/>\r\n",
       "    <path clip-path=\"url(#pbe4c141c99)\" d=\"M 341.581647 100.800021 \r\n",
       "L 282.593171 189.208885 \r\n",
       "\" style=\"fill:none;stroke:#000000;\"/>\r\n",
       "    <path clip-path=\"url(#pbe4c141c99)\" d=\"M 424.615522 107.283042 \r\n",
       "L 389.944126 88.859294 \r\n",
       "\" style=\"fill:none;stroke:#000000;\"/>\r\n",
       "    <path clip-path=\"url(#pbe4c141c99)\" d=\"M 424.615522 107.283042 \r\n",
       "L 379.1627 59.507429 \r\n",
       "\" style=\"fill:none;stroke:#000000;\"/>\r\n",
       "    <path clip-path=\"url(#pbe4c141c99)\" d=\"M 424.615522 107.283042 \r\n",
       "L 383.971336 132.004809 \r\n",
       "\" style=\"fill:none;stroke:#000000;\"/>\r\n",
       "    <path clip-path=\"url(#pbe4c141c99)\" d=\"M 424.615522 107.283042 \r\n",
       "L 278.349159 163.248846 \r\n",
       "\" style=\"fill:none;stroke:#000000;\"/>\r\n",
       "    <path clip-path=\"url(#pbe4c141c99)\" d=\"M 416.288327 159.426273 \r\n",
       "L 389.944126 88.859294 \r\n",
       "\" style=\"fill:none;stroke:#000000;\"/>\r\n",
       "    <path clip-path=\"url(#pbe4c141c99)\" d=\"M 416.288327 159.426273 \r\n",
       "L 383.971336 132.004809 \r\n",
       "\" style=\"fill:none;stroke:#000000;\"/>\r\n",
       "    <path clip-path=\"url(#pbe4c141c99)\" d=\"M 416.288327 159.426273 \r\n",
       "L 319.234805 159.625181 \r\n",
       "\" style=\"fill:none;stroke:#000000;\"/>\r\n",
       "    <path clip-path=\"url(#pbe4c141c99)\" d=\"M 416.288327 159.426273 \r\n",
       "L 282.593171 189.208885 \r\n",
       "\" style=\"fill:none;stroke:#000000;\"/>\r\n",
       "    <path clip-path=\"url(#pbe4c141c99)\" d=\"M 387.182763 191.797655 \r\n",
       "L 383.971336 132.004809 \r\n",
       "\" style=\"fill:none;stroke:#000000;\"/>\r\n",
       "    <path clip-path=\"url(#pbe4c141c99)\" d=\"M 387.182763 191.797655 \r\n",
       "L 319.234805 159.625181 \r\n",
       "\" style=\"fill:none;stroke:#000000;\"/>\r\n",
       "    <path clip-path=\"url(#pbe4c141c99)\" d=\"M 387.182763 191.797655 \r\n",
       "L 278.349159 163.248846 \r\n",
       "\" style=\"fill:none;stroke:#000000;\"/>\r\n",
       "    <path clip-path=\"url(#pbe4c141c99)\" d=\"M 387.182763 191.797655 \r\n",
       "L 282.593171 189.208885 \r\n",
       "\" style=\"fill:none;stroke:#000000;\"/>\r\n",
       "    <path clip-path=\"url(#pbe4c141c99)\" d=\"M 329.854582 232.577683 \r\n",
       "L 319.234805 159.625181 \r\n",
       "\" style=\"fill:none;stroke:#000000;\"/>\r\n",
       "    <path clip-path=\"url(#pbe4c141c99)\" d=\"M 329.854582 232.577683 \r\n",
       "L 282.593171 189.208885 \r\n",
       "\" style=\"fill:none;stroke:#000000;\"/>\r\n",
       "    <path clip-path=\"url(#pbe4c141c99)\" d=\"M 329.854582 232.577683 \r\n",
       "L 223.075981 184.129878 \r\n",
       "\" style=\"fill:none;stroke:#000000;\"/>\r\n",
       "    <path clip-path=\"url(#pbe4c141c99)\" d=\"M 341.527006 195.07177 \r\n",
       "L 383.971336 132.004809 \r\n",
       "\" style=\"fill:none;stroke:#000000;\"/>\r\n",
       "    <path clip-path=\"url(#pbe4c141c99)\" d=\"M 341.527006 195.07177 \r\n",
       "L 278.349159 163.248846 \r\n",
       "\" style=\"fill:none;stroke:#000000;\"/>\r\n",
       "    <path clip-path=\"url(#pbe4c141c99)\" d=\"M 341.527006 195.07177 \r\n",
       "L 282.593171 189.208885 \r\n",
       "\" style=\"fill:none;stroke:#000000;\"/>\r\n",
       "    <path clip-path=\"url(#pbe4c141c99)\" d=\"M 341.527006 195.07177 \r\n",
       "L 223.075981 184.129878 \r\n",
       "\" style=\"fill:none;stroke:#000000;\"/>\r\n",
       "    <path clip-path=\"url(#pbe4c141c99)\" d=\"M 255.077877 240.05128 \r\n",
       "L 278.349159 163.248846 \r\n",
       "\" style=\"fill:none;stroke:#000000;\"/>\r\n",
       "    <path clip-path=\"url(#pbe4c141c99)\" d=\"M 255.077877 240.05128 \r\n",
       "L 282.593171 189.208885 \r\n",
       "\" style=\"fill:none;stroke:#000000;\"/>\r\n",
       "    <path clip-path=\"url(#pbe4c141c99)\" d=\"M 255.077877 240.05128 \r\n",
       "L 223.075981 184.129878 \r\n",
       "\" style=\"fill:none;stroke:#000000;\"/>\r\n",
       "    <path clip-path=\"url(#pbe4c141c99)\" d=\"M 255.077877 240.05128 \r\n",
       "L 175.600142 267.105554 \r\n",
       "\" style=\"fill:none;stroke:#000000;\"/>\r\n",
       "    <path clip-path=\"url(#pbe4c141c99)\" d=\"M 224.372306 273.708264 \r\n",
       "L 282.593171 189.208885 \r\n",
       "\" style=\"fill:none;stroke:#000000;\"/>\r\n",
       "    <path clip-path=\"url(#pbe4c141c99)\" d=\"M 224.372306 273.708264 \r\n",
       "L 223.075981 184.129878 \r\n",
       "\" style=\"fill:none;stroke:#000000;\"/>\r\n",
       "    <path clip-path=\"url(#pbe4c141c99)\" d=\"M 224.372306 273.708264 \r\n",
       "L 136.40137 266.024696 \r\n",
       "\" style=\"fill:none;stroke:#000000;\"/>\r\n",
       "    <path clip-path=\"url(#pbe4c141c99)\" d=\"M 224.372306 273.708264 \r\n",
       "L 175.600142 267.105554 \r\n",
       "\" style=\"fill:none;stroke:#000000;\"/>\r\n",
       "    <path clip-path=\"url(#pbe4c141c99)\" d=\"M 144.599267 232.640265 \r\n",
       "L 282.593171 189.208885 \r\n",
       "\" style=\"fill:none;stroke:#000000;\"/>\r\n",
       "    <path clip-path=\"url(#pbe4c141c99)\" d=\"M 144.599267 232.640265 \r\n",
       "L 223.075981 184.129878 \r\n",
       "\" style=\"fill:none;stroke:#000000;\"/>\r\n",
       "    <path clip-path=\"url(#pbe4c141c99)\" d=\"M 144.599267 232.640265 \r\n",
       "L 136.40137 266.024696 \r\n",
       "\" style=\"fill:none;stroke:#000000;\"/>\r\n",
       "    <path clip-path=\"url(#pbe4c141c99)\" d=\"M 144.599267 232.640265 \r\n",
       "L 175.600142 267.105554 \r\n",
       "\" style=\"fill:none;stroke:#000000;\"/>\r\n",
       "    <path clip-path=\"url(#pbe4c141c99)\" d=\"M 144.599267 232.640265 \r\n",
       "L 71.307927 224.51619 \r\n",
       "\" style=\"fill:none;stroke:#000000;\"/>\r\n",
       "    <path clip-path=\"url(#pbe4c141c99)\" d=\"M 144.599267 232.640265 \r\n",
       "L 94.859421 253.408088 \r\n",
       "\" style=\"fill:none;stroke:#000000;\"/>\r\n",
       "    <path clip-path=\"url(#pbe4c141c99)\" d=\"M 182.765684 227.190045 \r\n",
       "L 278.349159 163.248846 \r\n",
       "\" style=\"fill:none;stroke:#000000;\"/>\r\n",
       "    <path clip-path=\"url(#pbe4c141c99)\" d=\"M 182.765684 227.190045 \r\n",
       "L 282.593171 189.208885 \r\n",
       "\" style=\"fill:none;stroke:#000000;\"/>\r\n",
       "    <path clip-path=\"url(#pbe4c141c99)\" d=\"M 182.765684 227.190045 \r\n",
       "L 223.075981 184.129878 \r\n",
       "\" style=\"fill:none;stroke:#000000;\"/>\r\n",
       "    <path clip-path=\"url(#pbe4c141c99)\" d=\"M 182.765684 227.190045 \r\n",
       "L 136.40137 266.024696 \r\n",
       "\" style=\"fill:none;stroke:#000000;\"/>\r\n",
       "    <path clip-path=\"url(#pbe4c141c99)\" d=\"M 182.765684 227.190045 \r\n",
       "L 175.600142 267.105554 \r\n",
       "\" style=\"fill:none;stroke:#000000;\"/>\r\n",
       "    <path clip-path=\"url(#pbe4c141c99)\" d=\"M 182.765684 227.190045 \r\n",
       "L 71.307927 224.51619 \r\n",
       "\" style=\"fill:none;stroke:#000000;\"/>\r\n",
       "    <path clip-path=\"url(#pbe4c141c99)\" d=\"M 182.765684 227.190045 \r\n",
       "L 94.859421 253.408088 \r\n",
       "\" style=\"fill:none;stroke:#000000;\"/>\r\n",
       "    <path clip-path=\"url(#pbe4c141c99)\" d=\"M 163.9393 203.358523 \r\n",
       "L 319.234805 159.625181 \r\n",
       "\" style=\"fill:none;stroke:#000000;\"/>\r\n",
       "    <path clip-path=\"url(#pbe4c141c99)\" d=\"M 163.9393 203.358523 \r\n",
       "L 278.349159 163.248846 \r\n",
       "\" style=\"fill:none;stroke:#000000;\"/>\r\n",
       "    <path clip-path=\"url(#pbe4c141c99)\" d=\"M 163.9393 203.358523 \r\n",
       "L 223.075981 184.129878 \r\n",
       "\" style=\"fill:none;stroke:#000000;\"/>\r\n",
       "    <path clip-path=\"url(#pbe4c141c99)\" d=\"M 163.9393 203.358523 \r\n",
       "L 136.40137 266.024696 \r\n",
       "\" style=\"fill:none;stroke:#000000;\"/>\r\n",
       "    <path clip-path=\"url(#pbe4c141c99)\" d=\"M 163.9393 203.358523 \r\n",
       "L 67.590728 158.647648 \r\n",
       "\" style=\"fill:none;stroke:#000000;\"/>\r\n",
       "    <path clip-path=\"url(#pbe4c141c99)\" d=\"M 163.9393 203.358523 \r\n",
       "L 175.600142 267.105554 \r\n",
       "\" style=\"fill:none;stroke:#000000;\"/>\r\n",
       "    <path clip-path=\"url(#pbe4c141c99)\" d=\"M 163.9393 203.358523 \r\n",
       "L 71.307927 224.51619 \r\n",
       "\" style=\"fill:none;stroke:#000000;\"/>\r\n",
       "    <path clip-path=\"url(#pbe4c141c99)\" d=\"M 163.9393 203.358523 \r\n",
       "L 94.859421 253.408088 \r\n",
       "\" style=\"fill:none;stroke:#000000;\"/>\r\n",
       "    <path clip-path=\"url(#pbe4c141c99)\" d=\"M 158.696153 186.515936 \r\n",
       "L 278.349159 163.248846 \r\n",
       "\" style=\"fill:none;stroke:#000000;\"/>\r\n",
       "    <path clip-path=\"url(#pbe4c141c99)\" d=\"M 158.696153 186.515936 \r\n",
       "L 282.593171 189.208885 \r\n",
       "\" style=\"fill:none;stroke:#000000;\"/>\r\n",
       "    <path clip-path=\"url(#pbe4c141c99)\" d=\"M 158.696153 186.515936 \r\n",
       "L 136.40137 266.024696 \r\n",
       "\" style=\"fill:none;stroke:#000000;\"/>\r\n",
       "    <path clip-path=\"url(#pbe4c141c99)\" d=\"M 158.696153 186.515936 \r\n",
       "L 67.590728 158.647648 \r\n",
       "\" style=\"fill:none;stroke:#000000;\"/>\r\n",
       "    <path clip-path=\"url(#pbe4c141c99)\" d=\"M 158.696153 186.515936 \r\n",
       "L 175.600142 267.105554 \r\n",
       "\" style=\"fill:none;stroke:#000000;\"/>\r\n",
       "    <path clip-path=\"url(#pbe4c141c99)\" d=\"M 301.805264 271.492245 \r\n",
       "L 282.593171 189.208885 \r\n",
       "\" style=\"fill:none;stroke:#000000;\"/>\r\n",
       "    <path clip-path=\"url(#pbe4c141c99)\" d=\"M 301.805264 271.492245 \r\n",
       "L 223.075981 184.129878 \r\n",
       "\" style=\"fill:none;stroke:#000000;\"/>\r\n",
       "    <path clip-path=\"url(#pbe4c141c99)\" d=\"M 73.982894 128.082163 \r\n",
       "L 223.075981 184.129878 \r\n",
       "\" style=\"fill:none;stroke:#000000;\"/>\r\n",
       "    <path clip-path=\"url(#pbe4c141c99)\" d=\"M 73.982894 128.082163 \r\n",
       "L 67.590728 158.647648 \r\n",
       "\" style=\"fill:none;stroke:#000000;\"/>\r\n",
       "    <path clip-path=\"url(#pbe4c141c99)\" d=\"M 105.41207 107.541558 \r\n",
       "L 223.075981 184.129878 \r\n",
       "\" style=\"fill:none;stroke:#000000;\"/>\r\n",
       "    <path clip-path=\"url(#pbe4c141c99)\" d=\"M 105.41207 107.541558 \r\n",
       "L 67.590728 158.647648 \r\n",
       "\" style=\"fill:none;stroke:#000000;\"/>\r\n",
       "   </g>\r\n",
       "   <g id=\"PathCollection_1\">\r\n",
       "    <defs>\r\n",
       "     <path d=\"M 0 8.660254 \r\n",
       "C 2.296726 8.660254 4.499694 7.747755 6.123724 6.123724 \r\n",
       "C 7.747755 4.499694 8.660254 2.296726 8.660254 0 \r\n",
       "C 8.660254 -2.296726 7.747755 -4.499694 6.123724 -6.123724 \r\n",
       "C 4.499694 -7.747755 2.296726 -8.660254 0 -8.660254 \r\n",
       "C -2.296726 -8.660254 -4.499694 -7.747755 -6.123724 -6.123724 \r\n",
       "C -7.747755 -4.499694 -8.660254 -2.296726 -8.660254 0 \r\n",
       "C -8.660254 2.296726 -7.747755 4.499694 -6.123724 6.123724 \r\n",
       "C -4.499694 7.747755 -2.296726 8.660254 0 8.660254 \r\n",
       "z\r\n",
       "\" id=\"m5da4778915\" style=\"stroke:#ff0000;\"/>\r\n",
       "    </defs>\r\n",
       "    <g clip-path=\"url(#pbe4c141c99)\">\r\n",
       "     <use style=\"fill:#ff0000;stroke:#ff0000;\" x=\"310.282782\" xlink:href=\"#m5da4778915\" y=\"99.394938\"/>\r\n",
       "     <use style=\"fill:#ff0000;stroke:#ff0000;\" x=\"288.492615\" xlink:href=\"#m5da4778915\" y=\"95.941267\"/>\r\n",
       "     <use style=\"fill:#ff0000;stroke:#ff0000;\" x=\"318.397792\" xlink:href=\"#m5da4778915\" y=\"122.313262\"/>\r\n",
       "     <use style=\"fill:#ff0000;stroke:#ff0000;\" x=\"341.581647\" xlink:href=\"#m5da4778915\" y=\"100.800021\"/>\r\n",
       "     <use style=\"fill:#ff0000;stroke:#ff0000;\" x=\"424.615522\" xlink:href=\"#m5da4778915\" y=\"107.283042\"/>\r\n",
       "     <use style=\"fill:#ff0000;stroke:#ff0000;\" x=\"416.288327\" xlink:href=\"#m5da4778915\" y=\"159.426273\"/>\r\n",
       "     <use style=\"fill:#ff0000;stroke:#ff0000;\" x=\"387.182763\" xlink:href=\"#m5da4778915\" y=\"191.797655\"/>\r\n",
       "     <use style=\"fill:#ff0000;stroke:#ff0000;\" x=\"329.854582\" xlink:href=\"#m5da4778915\" y=\"232.577683\"/>\r\n",
       "     <use style=\"fill:#ff0000;stroke:#ff0000;\" x=\"341.527006\" xlink:href=\"#m5da4778915\" y=\"195.07177\"/>\r\n",
       "     <use style=\"fill:#ff0000;stroke:#ff0000;\" x=\"255.077877\" xlink:href=\"#m5da4778915\" y=\"240.05128\"/>\r\n",
       "     <use style=\"fill:#ff0000;stroke:#ff0000;\" x=\"224.372306\" xlink:href=\"#m5da4778915\" y=\"273.708264\"/>\r\n",
       "     <use style=\"fill:#ff0000;stroke:#ff0000;\" x=\"144.599267\" xlink:href=\"#m5da4778915\" y=\"232.640265\"/>\r\n",
       "     <use style=\"fill:#ff0000;stroke:#ff0000;\" x=\"182.765684\" xlink:href=\"#m5da4778915\" y=\"227.190045\"/>\r\n",
       "     <use style=\"fill:#ff0000;stroke:#ff0000;\" x=\"163.9393\" xlink:href=\"#m5da4778915\" y=\"203.358523\"/>\r\n",
       "     <use style=\"fill:#ff0000;stroke:#ff0000;\" x=\"158.696153\" xlink:href=\"#m5da4778915\" y=\"186.515936\"/>\r\n",
       "     <use style=\"fill:#ff0000;stroke:#ff0000;\" x=\"301.805264\" xlink:href=\"#m5da4778915\" y=\"271.492245\"/>\r\n",
       "     <use style=\"fill:#ff0000;stroke:#ff0000;\" x=\"73.982894\" xlink:href=\"#m5da4778915\" y=\"128.082163\"/>\r\n",
       "     <use style=\"fill:#ff0000;stroke:#ff0000;\" x=\"105.41207\" xlink:href=\"#m5da4778915\" y=\"107.541558\"/>\r\n",
       "     <use style=\"fill:#ff0000;stroke:#ff0000;\" x=\"272.063761\" xlink:href=\"#m5da4778915\" y=\"35.691736\"/>\r\n",
       "     <use style=\"fill:#ff0000;stroke:#ff0000;\" x=\"313.15513\" xlink:href=\"#m5da4778915\" y=\"41.222952\"/>\r\n",
       "     <use style=\"fill:#ff0000;stroke:#ff0000;\" x=\"389.944126\" xlink:href=\"#m5da4778915\" y=\"88.859294\"/>\r\n",
       "     <use style=\"fill:#ff0000;stroke:#ff0000;\" x=\"379.1627\" xlink:href=\"#m5da4778915\" y=\"59.507429\"/>\r\n",
       "     <use style=\"fill:#ff0000;stroke:#ff0000;\" x=\"383.971336\" xlink:href=\"#m5da4778915\" y=\"132.004809\"/>\r\n",
       "     <use style=\"fill:#ff0000;stroke:#ff0000;\" x=\"319.234805\" xlink:href=\"#m5da4778915\" y=\"159.625181\"/>\r\n",
       "     <use style=\"fill:#ff0000;stroke:#ff0000;\" x=\"278.349159\" xlink:href=\"#m5da4778915\" y=\"163.248846\"/>\r\n",
       "     <use style=\"fill:#ff0000;stroke:#ff0000;\" x=\"282.593171\" xlink:href=\"#m5da4778915\" y=\"189.208885\"/>\r\n",
       "     <use style=\"fill:#ff0000;stroke:#ff0000;\" x=\"223.075981\" xlink:href=\"#m5da4778915\" y=\"184.129878\"/>\r\n",
       "     <use style=\"fill:#ff0000;stroke:#ff0000;\" x=\"136.40137\" xlink:href=\"#m5da4778915\" y=\"266.024696\"/>\r\n",
       "     <use style=\"fill:#ff0000;stroke:#ff0000;\" x=\"67.590728\" xlink:href=\"#m5da4778915\" y=\"158.647648\"/>\r\n",
       "     <use style=\"fill:#ff0000;stroke:#ff0000;\" x=\"175.600142\" xlink:href=\"#m5da4778915\" y=\"267.105554\"/>\r\n",
       "     <use style=\"fill:#ff0000;stroke:#ff0000;\" x=\"71.307927\" xlink:href=\"#m5da4778915\" y=\"224.51619\"/>\r\n",
       "     <use style=\"fill:#ff0000;stroke:#ff0000;\" x=\"94.859421\" xlink:href=\"#m5da4778915\" y=\"253.408088\"/>\r\n",
       "    </g>\r\n",
       "   </g>\r\n",
       "  </g>\r\n",
       " </g>\r\n",
       " <defs>\r\n",
       "  <clipPath id=\"pbe4c141c99\">\r\n",
       "   <rect height=\"288\" width=\"432\" x=\"30.103125\" y=\"10.7\"/>\r\n",
       "  </clipPath>\r\n",
       " </defs>\r\n",
       "</svg>\r\n"
      ],
      "text/plain": [
       "<Figure size 432x288 with 1 Axes>"
      ]
     },
     "metadata": {},
     "output_type": "display_data"
    }
   ],
   "source": [
    "nx.draw(G)\n",
    "plt.show()"
   ]
  },
  {
   "cell_type": "markdown",
   "metadata": {},
   "source": [
    "What can you infer about the relationships between (1) the women, and (2) the social events?"
   ]
  },
  {
   "cell_type": "code",
   "execution_count": null,
   "metadata": {},
   "outputs": [],
   "source": []
  }
 ],
 "metadata": {
  "interpreter": {
   "hash": "dcc31e1a7e69f3bac09774c1c2b5c2aa9dc1d0a05c8f25c5f2eca31d66a996d6"
  },
  "kernelspec": {
   "display_name": "Python 3",
   "language": "python",
   "name": "python3"
  },
  "language_info": {
   "codemirror_mode": {
    "name": "ipython",
    "version": 3
   },
   "file_extension": ".py",
   "mimetype": "text/x-python",
   "name": "python",
   "nbconvert_exporter": "python",
   "pygments_lexer": "ipython3",
   "version": "3.7.10"
  }
 },
 "nbformat": 4,
 "nbformat_minor": 2
}
