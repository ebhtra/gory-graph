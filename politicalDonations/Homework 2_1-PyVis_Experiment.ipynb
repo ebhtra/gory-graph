{
 "cells": [
  {
   "cell_type": "markdown",
   "id": "52a8d808",
   "metadata": {},
   "source": [
    "### Assignment 3: Graph Visualization\n",
    "\n",
    "#### Summer 2021\n",
    "**Authors:** GOAT Team (Estaban Aramayo, Ethan Haley, Claire Meyer, and Tyler Frankenburg) "
   ]
  },
  {
   "cell_type": "markdown",
   "id": "bff375f6",
   "metadata": {},
   "source": [
    "This assignment looks at a CSV of Donor + Donor Recipient Data from OpenSecret, which tracks political donations.\n",
    "\n",
    "This particular dataset tracks the donation total during the 2020 election cycle from individuals, companies, and PACs/Super PACs to the 148 members of congress who objected to certification of 2020 Electoral College results in January 2021.\n",
    "\n",
    "This data is available [here](https://docs.google.com/spreadsheets/d/1PPjz-U1LueQYHaVCU8iCYf3O4lc-OYN7uOf3OknhYxo/edit#gid=1325242852). \n"
   ]
  },
  {
   "cell_type": "code",
   "execution_count": 1,
   "id": "61af6ac4",
   "metadata": {},
   "outputs": [],
   "source": [
    "import networkx as nx\n",
    "import pandas\n",
    "import matplotlib.pyplot as plt\n",
    "from pyvis.network import Network"
   ]
  },
  {
   "cell_type": "markdown",
   "id": "b1361c2e",
   "metadata": {},
   "source": [
    "First we import the CSV and do a couple quick checks to see the shape and form of the data. "
   ]
  },
  {
   "cell_type": "code",
   "execution_count": 2,
   "id": "de387053",
   "metadata": {},
   "outputs": [
    {
     "output_type": "execute_result",
     "data": {
      "text/plain": [
       "                     PAC        CID           CRPName Distid    Total  \\\n",
       "0  American Medical Assn  N00025219  Burgess, Michael   TX26  $20,000   \n",
       "1  American Medical Assn  N00028152   McCarthy, Kevin   CA23  $20,000   \n",
       "2   American Dental Assn  N00005736      Babin, Brian   TX36  $20,000   \n",
       "3   American Dental Assn  N00025219  Burgess, Michael   TX26  $20,000   \n",
       "4   American Dental Assn  N00035346     Carter, Buddy   GA01  $17,500   \n",
       "\n",
       "   Unnamed: 5                                         Unnamed: 6  \n",
       "0         NaN                                                NaN  \n",
       "1         NaN  Direct contributions data covers the 2020 elec...  \n",
       "2         NaN                                                NaN  \n",
       "3         NaN                                                NaN  \n",
       "4         NaN                                                NaN  "
      ],
      "text/html": "<div>\n<style scoped>\n    .dataframe tbody tr th:only-of-type {\n        vertical-align: middle;\n    }\n\n    .dataframe tbody tr th {\n        vertical-align: top;\n    }\n\n    .dataframe thead th {\n        text-align: right;\n    }\n</style>\n<table border=\"1\" class=\"dataframe\">\n  <thead>\n    <tr style=\"text-align: right;\">\n      <th></th>\n      <th>PAC</th>\n      <th>CID</th>\n      <th>CRPName</th>\n      <th>Distid</th>\n      <th>Total</th>\n      <th>Unnamed: 5</th>\n      <th>Unnamed: 6</th>\n    </tr>\n  </thead>\n  <tbody>\n    <tr>\n      <th>0</th>\n      <td>American Medical Assn</td>\n      <td>N00025219</td>\n      <td>Burgess, Michael</td>\n      <td>TX26</td>\n      <td>$20,000</td>\n      <td>NaN</td>\n      <td>NaN</td>\n    </tr>\n    <tr>\n      <th>1</th>\n      <td>American Medical Assn</td>\n      <td>N00028152</td>\n      <td>McCarthy, Kevin</td>\n      <td>CA23</td>\n      <td>$20,000</td>\n      <td>NaN</td>\n      <td>Direct contributions data covers the 2020 elec...</td>\n    </tr>\n    <tr>\n      <th>2</th>\n      <td>American Dental Assn</td>\n      <td>N00005736</td>\n      <td>Babin, Brian</td>\n      <td>TX36</td>\n      <td>$20,000</td>\n      <td>NaN</td>\n      <td>NaN</td>\n    </tr>\n    <tr>\n      <th>3</th>\n      <td>American Dental Assn</td>\n      <td>N00025219</td>\n      <td>Burgess, Michael</td>\n      <td>TX26</td>\n      <td>$20,000</td>\n      <td>NaN</td>\n      <td>NaN</td>\n    </tr>\n    <tr>\n      <th>4</th>\n      <td>American Dental Assn</td>\n      <td>N00035346</td>\n      <td>Carter, Buddy</td>\n      <td>GA01</td>\n      <td>$17,500</td>\n      <td>NaN</td>\n      <td>NaN</td>\n    </tr>\n  </tbody>\n</table>\n</div>"
     },
     "metadata": {},
     "execution_count": 2
    }
   ],
   "source": [
    "df = pandas.read_csv('donor_members.csv')\n",
    "df.head()"
   ]
  },
  {
   "cell_type": "code",
   "execution_count": 3,
   "id": "23a96a19",
   "metadata": {},
   "outputs": [
    {
     "output_type": "execute_result",
     "data": {
      "text/plain": [
       "(2686, 7)"
      ]
     },
     "metadata": {},
     "execution_count": 3
    }
   ],
   "source": [
    "df.shape"
   ]
  },
  {
   "cell_type": "code",
   "execution_count": 4,
   "id": "6080e845",
   "metadata": {},
   "outputs": [
    {
     "output_type": "stream",
     "name": "stdout",
     "text": [
      "<class 'pandas.core.frame.DataFrame'>\nRangeIndex: 2686 entries, 0 to 2685\nData columns (total 7 columns):\n #   Column      Non-Null Count  Dtype  \n---  ------      --------------  -----  \n 0   PAC         2686 non-null   object \n 1   CID         2686 non-null   object \n 2   CRPName     2686 non-null   object \n 3   Distid      2686 non-null   object \n 4   Total       2686 non-null   object \n 5   Unnamed: 5  0 non-null      float64\n 6   Unnamed: 6  1 non-null      object \ndtypes: float64(1), object(6)\nmemory usage: 147.0+ KB\n"
     ]
    }
   ],
   "source": [
    "df.info()"
   ]
  },
  {
   "cell_type": "markdown",
   "id": "7626fd94",
   "metadata": {},
   "source": [
    "Convert the `Total` (donation) column to integer"
   ]
  },
  {
   "cell_type": "code",
   "execution_count": 5,
   "id": "5987af34",
   "metadata": {},
   "outputs": [],
   "source": [
    "df.Total = [int(''.join(c for c in donation if str.isnumeric(c))) for donation in df.Total]"
   ]
  },
  {
   "cell_type": "code",
   "execution_count": 6,
   "id": "06ec71f6",
   "metadata": {},
   "outputs": [
    {
     "output_type": "stream",
     "name": "stdout",
     "text": [
      "Donations range from 10000 to 30000 dollars.\n"
     ]
    }
   ],
   "source": [
    "print(f'Donations range from {min(df.Total)} to {max(df.Total)} dollars.')"
   ]
  },
  {
   "cell_type": "markdown",
   "id": "9334dbbd",
   "metadata": {},
   "source": [
    "Then, we use the `from_pandas_dataframe` function to create a networkx graph from the dataframe. [Source](https://networkx.org/documentation/networkx-1.10/reference/generated/networkx.convert_matrix.from_pandas_dataframe.html). "
   ]
  },
  {
   "cell_type": "code",
   "execution_count": 7,
   "id": "f8d02be9",
   "metadata": {},
   "outputs": [],
   "source": [
    "test_graph = nx.from_pandas_dataframe(df, source=\"PAC\", target=\"CRPName\", edge_attr=\"Total\")"
   ]
  },
  {
   "cell_type": "code",
   "execution_count": 8,
   "id": "5fa113e4",
   "metadata": {},
   "outputs": [
    {
     "output_type": "stream",
     "name": "stdout",
     "text": [
      "Name: \nType: Graph\nNumber of nodes: 712\nNumber of edges: 2675\nAverage degree:   7.5140\n"
     ]
    }
   ],
   "source": [
    "print(nx.info(test_graph))"
   ]
  },
  {
   "cell_type": "markdown",
   "id": "a692eb79",
   "metadata": {},
   "source": [
    "For this assignment we want to explore diameter. However, diameter requires a connected graph. First, let's check if this graph is, with the `is_connected` function. [Source](https://networkx.org/documentation/stable/reference/algorithms/generated/networkx.algorithms.components.is_connected.html#networkx.algorithms.components.is_connected)."
   ]
  },
  {
   "cell_type": "code",
   "execution_count": 9,
   "id": "09c54082",
   "metadata": {},
   "outputs": [
    {
     "output_type": "stream",
     "name": "stdout",
     "text": [
      "False\n"
     ]
    }
   ],
   "source": [
    "print(nx.is_connected(test_graph))"
   ]
  },
  {
   "cell_type": "markdown",
   "id": "b41c9d8a",
   "metadata": {},
   "source": [
    "This graph is not connected. We can look for subgraphs that are however, and focus measurement there. The `connected_component_subgraphs` function generates any available connected subgraphs. [Source](https://networkx.org/documentation/networkx-1.9.1/reference/generated/networkx.algorithms.components.connected.connected_component_subgraphs.html)."
   ]
  },
  {
   "cell_type": "code",
   "execution_count": 10,
   "id": "8c64026c",
   "metadata": {},
   "outputs": [
    {
     "output_type": "stream",
     "name": "stdout",
     "text": [
      "There are 2 connected subgraphs in this graph.\n"
     ]
    }
   ],
   "source": [
    "graphs = list(nx.connected_component_subgraphs(test_graph))\n",
    "print(\"There are\", len(graphs), \"connected subgraphs in this graph.\")"
   ]
  },
  {
   "cell_type": "markdown",
   "id": "dd43191e",
   "metadata": {},
   "source": [
    "Let's compare the size of these subgraphs by the number of nodes."
   ]
  },
  {
   "cell_type": "code",
   "execution_count": 11,
   "id": "14059415",
   "metadata": {},
   "outputs": [
    {
     "output_type": "stream",
     "name": "stdout",
     "text": [
      "The first subgraph has 710 nodes.\nThe second subgraph has 2 nodes.\n"
     ]
    }
   ],
   "source": [
    "print(\"The first subgraph has\", len(graphs[0].nodes()), \"nodes.\")\n",
    "print(\"The second subgraph has\", len(graphs[1].nodes()), \"nodes.\")"
   ]
  },
  {
   "cell_type": "markdown",
   "id": "0a91ff23",
   "metadata": {},
   "source": [
    "Let's select the larger of the two, and explore further.\n",
    "\n"
   ]
  },
  {
   "cell_type": "code",
   "execution_count": 12,
   "id": "e35bb4fb",
   "metadata": {},
   "outputs": [],
   "source": [
    "subgraph_test = graphs[0]\n",
    "\n",
    "colors = []\n",
    "for node in subgraph_test:\n",
    "    if node in df[\"CRPName\"].values:\n",
    "        colors.append(\"violet\")\n",
    "    else: colors.append(\"lightgreen\")\n",
    "        \n",
    "#node colors `for` loop source: https://stackoverflow.com/a/59473049"
   ]
  },
  {
   "cell_type": "code",
   "execution_count": 13,
   "metadata": {},
   "outputs": [],
   "source": [
    "sgt_net = Network(height='750px', width='100%', bgcolor='#222222', font_color='white', heading=\"Donors to Electoral College Objectors, 2020 Cycle\", notebook=False)\n",
    "\n",
    "# set the physics layout of the network\n",
    "sgt_net.barnes_hut()\n",
    "\n",
    "sources = df['PAC']\n",
    "targets = df['CRPName']\n",
    "\n",
    "edge_data = zip(sources, targets)\n",
    "\n",
    "for e in edge_data:\n",
    "    src = e[0]\n",
    "    dst = e[1]\n",
    "    \n",
    "    sgt_net.add_node(src, src, title=src, color='violet')\n",
    "    sgt_net.add_node(dst, dst, title=dst, color='lightgreen')\n",
    "    sgt_net.add_edge(src, dst)\n",
    "\n",
    "neighbor_map = sgt_net.get_adj_list()\n",
    "\n",
    "# add neighbor data to node hover data\n",
    "for node in sgt_net.nodes:\n",
    "    node['title'] += ' Neighbors:<br>' + '<br>'.join(neighbor_map[node['id']])\n",
    "    node['value'] = len(neighbor_map[node['id']])\n",
    "\n",
    "#sgt_net.show_buttons()  #to use, must comment out `set options` code below\n",
    "\n",
    "#options JSON string can be pasted into set.options() from dynamic editor after running the html with show_buttons() above\n",
    "sgt_net.set_options(\"\"\"\n",
    "var options = {\n",
    "  \"nodes\": {\n",
    "    \"borderWidth\": 0\n",
    "  },\n",
    "  \"edges\": {\n",
    "    \"color\": {\n",
    "      \"color\": \"rgba(25,148,150,1)\",\n",
    "      \"highlight\": \"rgba(210,254,255,1)\",\n",
    "      \"hover\": \"rgba(29,225,229,1)\",\n",
    "      \"inherit\": false\n",
    "    },\n",
    "    \"smooth\": false\n",
    "  },\n",
    "  \"physics\": {\n",
    "    \"barnesHut\": {\n",
    "      \"gravitationalConstant\": -80000,\n",
    "      \"springLength\": 150,\n",
    "      \"springConstant\": 0.001\n",
    "    },\n",
    "    \"maxVelocity\": 20,\n",
    "    \"minVelocity\": 0.75\n",
    "  }\n",
    "}\"\"\")\n",
    "\n",
    "#sgt_net.show('political_donations.html') #writes the local html file, and launches in browser\n"
   ]
  },
  {
   "cell_type": "code",
   "execution_count": 14,
   "metadata": {},
   "outputs": [
    {
     "output_type": "execute_result",
     "data": {
      "text/plain": [
       "<IPython.lib.display.IFrame at 0x1bd22898208>"
      ],
      "text/html": "\n        <iframe\n            width=\"1000\"\n            height=\"1000\"\n            src=\"https://curdferguson.github.io/gory-graph/\"\n            frameborder=\"0\"\n            allowfullscreen\n        ></iframe>\n        "
     },
     "metadata": {},
     "execution_count": 14
    }
   ],
   "source": [
    "from IPython.display import IFrame\n",
    "\n",
    "IFrame('https://curdferguson.github.io/gory-graph/', width=1000, height=1000) #this version is a demo hosted on github rep curdferguson/gory-graph branch TFpyvis"
   ]
  },
  {
   "cell_type": "code",
   "execution_count": null,
   "id": "9b364bc1",
   "metadata": {},
   "outputs": [],
   "source": [
    "plt.figure(figsize = (30, 30))\n",
    "ax = plt.subplot()\n",
    "\n",
    "nx.draw_networkx(subgraph_test, ax=ax, node_color=colors)\n",
    "\n",
    "plt.figtext(.5,.9,'Network Analysis - Donors to 2020 Electoral College Objectors', fontsize=50, ha='center')\n",
    "plt.show()"
   ]
  },
  {
   "cell_type": "markdown",
   "id": "6998a0b8",
   "metadata": {},
   "source": [
    "We can use the built in diameter function to determine the diameter of this subgraph."
   ]
  },
  {
   "cell_type": "code",
   "execution_count": null,
   "id": "2199ca57",
   "metadata": {},
   "outputs": [],
   "source": [
    "diameter_test = nx.diameter(subgraph_test)"
   ]
  },
  {
   "cell_type": "code",
   "execution_count": null,
   "id": "94751579",
   "metadata": {},
   "outputs": [],
   "source": [
    "print(\"The diameter is: \", diameter_test)"
   ]
  },
  {
   "cell_type": "markdown",
   "id": "38817122",
   "metadata": {},
   "source": [
    "We can also look at top nodes based on some of our centrality measures, e.g. degree centrality, closeness, and betweenness. We start by pulling the sorted_map function from [the textbook's repo](https://www.oreilly.com/library/view/social-network-analysis/9781449311377/), then using different NetworkX built in centrality functions. "
   ]
  },
  {
   "cell_type": "code",
   "execution_count": null,
   "id": "e9e34de8",
   "metadata": {},
   "outputs": [],
   "source": [
    "def sorted_map(dd: dict) -> dict:\n",
    "    \"\"\"\n",
    "    Sorts dict by its values (desc)\n",
    "    \n",
    "    :param dd: dictionary with numeric values\n",
    "    :return sorted dictionary ordered by its numeric value\n",
    "    \"\"\"\n",
    "    sorted_dict = sorted(dd.items(), key=lambda x: (-x[1], x[0]))\n",
    "    return sorted_dict"
   ]
  },
  {
   "cell_type": "code",
   "execution_count": null,
   "id": "d017e5a3",
   "metadata": {},
   "outputs": [],
   "source": [
    "d = nx.degree_centrality(subgraph_test)\n",
    "ds = sorted_map(d)\n",
    "ds[:10]"
   ]
  },
  {
   "cell_type": "code",
   "execution_count": null,
   "id": "fd9d31b7",
   "metadata": {},
   "outputs": [],
   "source": [
    "c = nx.closeness_centrality(subgraph_test)\n",
    "cs = sorted_map(c)\n",
    "cs[:10]"
   ]
  },
  {
   "cell_type": "code",
   "execution_count": null,
   "id": "bc5404ba",
   "metadata": {},
   "outputs": [],
   "source": [
    "b = nx.betweenness_centrality(subgraph_test)\n",
    "bs = sorted_map(b)\n",
    "bs[:10]"
   ]
  },
  {
   "cell_type": "markdown",
   "id": "d95301b8",
   "metadata": {},
   "source": [
    "There are some consistent names across all 3."
   ]
  },
  {
   "cell_type": "markdown",
   "id": "677e1097",
   "metadata": {},
   "source": [
    "#### Let's look at the more central nodes in the graph"
   ]
  },
  {
   "cell_type": "code",
   "execution_count": null,
   "id": "cadbd946",
   "metadata": {},
   "outputs": [],
   "source": [
    "# while we're at it, let's make it bipartite \n",
    "from networkx.algorithms import bipartite\n",
    "\n",
    "# separates pols from PACs\n",
    "pols = set(df.CRPName)\n",
    "pacs = set(df.PAC)\n",
    "\n",
    "bip = nx.Graph()\n",
    "bip.add_nodes_from(pols, bipartite=0)\n",
    "bip.add_nodes_from(pacs, bipartite=1)\n",
    "\n",
    "bip.add_weighted_edges_from(zip(df.CRPName, df.PAC, df.Total), weight='donation')"
   ]
  },
  {
   "cell_type": "markdown",
   "id": "1ba59d80",
   "metadata": {},
   "source": [
    "#### If we only consider nodes with more connections, what's a good cutoff to remove the others?"
   ]
  },
  {
   "cell_type": "code",
   "execution_count": null,
   "id": "0496c216",
   "metadata": {},
   "outputs": [],
   "source": [
    "plt.hist([len(bip[n]) for n in bip if len(bip[n]) < 30], bins=30)\n",
    "plt.xlabel('Donations per pol/PAC')\n",
    "plt.ylabel('Number of pols/PACs');"
   ]
  },
  {
   "cell_type": "markdown",
   "id": "6634ce41",
   "metadata": {},
   "source": [
    "Looks like removing nodes with 3 or fewer connections will remove over half of them"
   ]
  },
  {
   "cell_type": "code",
   "execution_count": null,
   "id": "303574a4",
   "metadata": {},
   "outputs": [],
   "source": [
    "# Resulting graph still too crowded.  How about 10 or more connections:\n",
    "bigs = [n for n in bip if len(bip[n]) > 10]\n",
    "bigs = bip.subgraph(bigs)        \n",
    "len(bigs.nodes())"
   ]
  },
  {
   "cell_type": "code",
   "execution_count": null,
   "id": "2f220182",
   "metadata": {},
   "outputs": [],
   "source": [
    "colors = ['lightgreen' if n in pacs else 'violet' for n in bigs]\n",
    "len(colors)"
   ]
  },
  {
   "cell_type": "code",
   "execution_count": null,
   "id": "68640d44",
   "metadata": {},
   "outputs": [],
   "source": [
    "plt.figure(figsize = (30, 30))\n",
    "ax = plt.subplot()\n",
    "\n",
    "nx.draw_networkx(bigs, ax=ax, node_color=colors)\n",
    "\n",
    "plt.figtext(.5,.9,'Network Analysis - Key Donors to 2020 Electoral College Objectors', fontsize=40, ha='center')\n",
    "plt.show()"
   ]
  },
  {
   "cell_type": "markdown",
   "id": "9af719da",
   "metadata": {},
   "source": [
    "### Look at only the pols and PACs who appear in the top 20 of at least one centrality measure"
   ]
  },
  {
   "cell_type": "code",
   "execution_count": null,
   "id": "7d918fe5",
   "metadata": {},
   "outputs": [],
   "source": [
    "centrals = [n for n in bip if (n in list(zip(*ds[:20]))[0]\n",
    "                               or n in list(zip(*bs[:20]))[0]\n",
    "                               or n in list(zip(*cs[:20]))[0])]\n",
    "centrals = bip.subgraph(centrals)\n",
    "len(centrals)                              "
   ]
  },
  {
   "cell_type": "code",
   "execution_count": null,
   "id": "4a23c118",
   "metadata": {},
   "outputs": [],
   "source": [
    "colors = ['lightgreen' if n in pacs else 'violet' for n in centrals]\n",
    "len(colors)"
   ]
  },
  {
   "cell_type": "code",
   "execution_count": null,
   "id": "e6ae01b9",
   "metadata": {},
   "outputs": [],
   "source": [
    "plt.figure(figsize = (30, 30))\n",
    "ax = plt.subplot()\n",
    "\n",
    "nx.draw_networkx(centrals, ax=ax, node_color=colors)\n",
    "\n",
    "plt.figtext(.5,.9,'Network Analysis - Key Donors and 2020 Electoral College Objectors', fontsize=40, ha='center')\n",
    "plt.show()"
   ]
  },
  {
   "cell_type": "markdown",
   "id": "25bad712",
   "metadata": {},
   "source": [
    "Project the bipartite graph onto the politician side"
   ]
  },
  {
   "cell_type": "code",
   "execution_count": null,
   "id": "ed760095",
   "metadata": {},
   "outputs": [],
   "source": [
    "lpart = bipartite.weighted_projected_graph(bip, pols)"
   ]
  },
  {
   "cell_type": "code",
   "execution_count": null,
   "id": "cddb6b3b",
   "metadata": {},
   "outputs": [],
   "source": [
    "colors = ['lightgreen' if n in pacs else 'violet' for n in lpart]\n",
    "plt.figure(figsize = (30, 30))\n",
    "ax = plt.subplot()\n",
    "\n",
    "nx.draw_networkx(lpart, ax=ax, node_color=colors, seed=620)\n",
    "\n",
    "plt.figtext(.5,.9,'Network Analysis - Bipartite Weighted Projection', fontsize=40, ha='center')\n",
    "plt.show()"
   ]
  },
  {
   "cell_type": "code",
   "execution_count": null,
   "id": "8727a252",
   "metadata": {},
   "outputs": [],
   "source": [
    "bipartite.weighted_projected_graph?"
   ]
  },
  {
   "cell_type": "code",
   "execution_count": null,
   "id": "9e093428",
   "metadata": {},
   "outputs": [],
   "source": [
    "nx.layout?"
   ]
  },
  {
   "cell_type": "code",
   "execution_count": null,
   "id": "2be74b80",
   "metadata": {},
   "outputs": [],
   "source": [
    "#nx.write_graphml(lpart, \"lpart_test.graphml\")"
   ]
  },
  {
   "cell_type": "code",
   "execution_count": null,
   "id": "9825fa9d",
   "metadata": {},
   "outputs": [],
   "source": []
  },
  {
   "cell_type": "code",
   "execution_count": null,
   "id": "bd3bf9e6",
   "metadata": {},
   "outputs": [],
   "source": []
  },
  {
   "cell_type": "code",
   "execution_count": null,
   "id": "cd404815",
   "metadata": {},
   "outputs": [],
   "source": []
  },
  {
   "cell_type": "markdown",
   "id": "9d4ac4d1",
   "metadata": {},
   "source": [
    "----------(below is the original notebook)-------------"
   ]
  },
  {
   "cell_type": "code",
   "execution_count": null,
   "id": "44b2931d",
   "metadata": {},
   "outputs": [],
   "source": [
    "#nx.write_graphml(subgraph_test, \"subgraph_test.graphml\")"
   ]
  },
  {
   "cell_type": "code",
   "execution_count": null,
   "id": "72be5b97",
   "metadata": {},
   "outputs": [],
   "source": [
    "IFrame('https://ebhtra.github.io/gory-graph/network/', width=1000, height=1000)"
   ]
  }
 ],
 "metadata": {
  "kernelspec": {
   "name": "python3",
   "display_name": "Python 3.7.10 64-bit ('sps620env': conda)"
  },
  "language_info": {
   "codemirror_mode": {
    "name": "ipython",
    "version": 3
   },
   "file_extension": ".py",
   "mimetype": "text/x-python",
   "name": "python",
   "nbconvert_exporter": "python",
   "pygments_lexer": "ipython3",
   "version": "3.7.10"
  },
  "interpreter": {
   "hash": "dcc31e1a7e69f3bac09774c1c2b5c2aa9dc1d0a05c8f25c5f2eca31d66a996d6"
  }
 },
 "nbformat": 4,
 "nbformat_minor": 5
}