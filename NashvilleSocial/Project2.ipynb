{
 "metadata": {
  "language_info": {
   "codemirror_mode": {
    "name": "ipython",
    "version": 3
   },
   "file_extension": ".py",
   "mimetype": "text/x-python",
   "name": "python",
   "nbconvert_exporter": "python",
   "pygments_lexer": "ipython3",
   "version": "3.7.10"
  },
  "orig_nbformat": 4,
  "kernelspec": {
   "name": "python3",
   "display_name": "Python 3.7.10 64-bit ('sps620env': conda)"
  },
  "interpreter": {
   "hash": "dcc31e1a7e69f3bac09774c1c2b5c2aa9dc1d0a05c8f25c5f2eca31d66a996d6"
  }
 },
 "nbformat": 4,
 "nbformat_minor": 2,
 "cells": [
  {
   "cell_type": "code",
   "execution_count": 1,
   "metadata": {},
   "outputs": [],
   "source": [
    "import pandas as pd \n",
    "import numpy as np\n",
    "import matplotlib.pyplot as plt \n",
    "import networkx as nx "
   ]
  },
  {
   "cell_type": "code",
   "execution_count": 4,
   "metadata": {},
   "outputs": [
    {
     "output_type": "execute_result",
     "data": {
      "text/plain": [
       "   Unnamed: 0    group1    group2  weight\n",
       "0           0  19292162    535553       2\n",
       "1           1  19292162  19194894       1\n",
       "2           2  19292162  19728145       1\n",
       "3           3  19292162  18850080       2\n",
       "4           4  19292162   1728035       1"
      ],
      "text/html": "<div>\n<style scoped>\n    .dataframe tbody tr th:only-of-type {\n        vertical-align: middle;\n    }\n\n    .dataframe tbody tr th {\n        vertical-align: top;\n    }\n\n    .dataframe thead th {\n        text-align: right;\n    }\n</style>\n<table border=\"1\" class=\"dataframe\">\n  <thead>\n    <tr style=\"text-align: right;\">\n      <th></th>\n      <th>Unnamed: 0</th>\n      <th>group1</th>\n      <th>group2</th>\n      <th>weight</th>\n    </tr>\n  </thead>\n  <tbody>\n    <tr>\n      <th>0</th>\n      <td>0</td>\n      <td>19292162</td>\n      <td>535553</td>\n      <td>2</td>\n    </tr>\n    <tr>\n      <th>1</th>\n      <td>1</td>\n      <td>19292162</td>\n      <td>19194894</td>\n      <td>1</td>\n    </tr>\n    <tr>\n      <th>2</th>\n      <td>2</td>\n      <td>19292162</td>\n      <td>19728145</td>\n      <td>1</td>\n    </tr>\n    <tr>\n      <th>3</th>\n      <td>3</td>\n      <td>19292162</td>\n      <td>18850080</td>\n      <td>2</td>\n    </tr>\n    <tr>\n      <th>4</th>\n      <td>4</td>\n      <td>19292162</td>\n      <td>1728035</td>\n      <td>1</td>\n    </tr>\n  </tbody>\n</table>\n</div>"
     },
     "metadata": {},
     "execution_count": 4
    }
   ],
   "source": [
    "#read in group_edges.csv to pd dataframe from github repo\n",
    "group_edges = pd.read_csv(\"https://raw.githubusercontent.com/ebhtra/gory-graph/main/NashvilleSocial/group-edges.csv\")\n",
    "group_edges.head(5)"
   ]
  },
  {
   "cell_type": "code",
   "execution_count": 6,
   "metadata": {},
   "outputs": [
    {
     "output_type": "execute_result",
     "data": {
      "text/plain": [
       "   Unnamed: 0    member1    member2  weight\n",
       "0           0  198737924  220654721       1\n",
       "1           1  198737924  208201738       1\n",
       "2           2  198737924   88664332       1\n",
       "3           3  198737924    8640526       1\n",
       "4           4  198737924   56356372       1"
      ],
      "text/html": "<div>\n<style scoped>\n    .dataframe tbody tr th:only-of-type {\n        vertical-align: middle;\n    }\n\n    .dataframe tbody tr th {\n        vertical-align: top;\n    }\n\n    .dataframe thead th {\n        text-align: right;\n    }\n</style>\n<table border=\"1\" class=\"dataframe\">\n  <thead>\n    <tr style=\"text-align: right;\">\n      <th></th>\n      <th>Unnamed: 0</th>\n      <th>member1</th>\n      <th>member2</th>\n      <th>weight</th>\n    </tr>\n  </thead>\n  <tbody>\n    <tr>\n      <th>0</th>\n      <td>0</td>\n      <td>198737924</td>\n      <td>220654721</td>\n      <td>1</td>\n    </tr>\n    <tr>\n      <th>1</th>\n      <td>1</td>\n      <td>198737924</td>\n      <td>208201738</td>\n      <td>1</td>\n    </tr>\n    <tr>\n      <th>2</th>\n      <td>2</td>\n      <td>198737924</td>\n      <td>88664332</td>\n      <td>1</td>\n    </tr>\n    <tr>\n      <th>3</th>\n      <td>3</td>\n      <td>198737924</td>\n      <td>8640526</td>\n      <td>1</td>\n    </tr>\n    <tr>\n      <th>4</th>\n      <td>4</td>\n      <td>198737924</td>\n      <td>56356372</td>\n      <td>1</td>\n    </tr>\n  </tbody>\n</table>\n</div>"
     },
     "metadata": {},
     "execution_count": 6
    }
   ],
   "source": [
    "#read in group_edges.csv to pd dataframe from github repo\n",
    "member_edges = pd.read_csv(\"https://raw.githubusercontent.com/ebhtra/gory-graph/main/NashvilleSocial/member-edges.csv\")\n",
    "member_edges.head(5)"
   ]
  },
  {
   "cell_type": "code",
   "execution_count": 7,
   "metadata": {},
   "outputs": [
    {
     "output_type": "execute_result",
     "data": {
      "text/plain": [
       "   member_id  group_id  weight\n",
       "0       2069  19277993       3\n",
       "1     625050  19277993       2\n",
       "2    1939496  19277993       1\n",
       "3    2606806  19277993       4\n",
       "4    3438546  19277993       1"
      ],
      "text/html": "<div>\n<style scoped>\n    .dataframe tbody tr th:only-of-type {\n        vertical-align: middle;\n    }\n\n    .dataframe tbody tr th {\n        vertical-align: top;\n    }\n\n    .dataframe thead th {\n        text-align: right;\n    }\n</style>\n<table border=\"1\" class=\"dataframe\">\n  <thead>\n    <tr style=\"text-align: right;\">\n      <th></th>\n      <th>member_id</th>\n      <th>group_id</th>\n      <th>weight</th>\n    </tr>\n  </thead>\n  <tbody>\n    <tr>\n      <th>0</th>\n      <td>2069</td>\n      <td>19277993</td>\n      <td>3</td>\n    </tr>\n    <tr>\n      <th>1</th>\n      <td>625050</td>\n      <td>19277993</td>\n      <td>2</td>\n    </tr>\n    <tr>\n      <th>2</th>\n      <td>1939496</td>\n      <td>19277993</td>\n      <td>1</td>\n    </tr>\n    <tr>\n      <th>3</th>\n      <td>2606806</td>\n      <td>19277993</td>\n      <td>4</td>\n    </tr>\n    <tr>\n      <th>4</th>\n      <td>3438546</td>\n      <td>19277993</td>\n      <td>1</td>\n    </tr>\n  </tbody>\n</table>\n</div>"
     },
     "metadata": {},
     "execution_count": 7
    }
   ],
   "source": [
    "#read in member_to_group_edges.csv to pd dataframe from github repo\n",
    "mem2grp_edges = pd.read_csv(\"https://raw.githubusercontent.com/ebhtra/gory-graph/main/NashvilleSocial/member-to-group-edges.csv\")\n",
    "mem2grp_edges.head(5)"
   ]
  },
  {
   "cell_type": "code",
   "execution_count": 11,
   "metadata": {},
   "outputs": [
    {
     "output_type": "execute_result",
     "data": {
      "text/plain": [
       "       event_id  group_id                                               name  \\\n",
       "0     243930425  26140018  2017 Nashville Walk to End Alzheimers - Octob...   \n",
       "1     244208851  25604533                          Steak Dinner on the Patio   \n",
       "2  pxlktnywnbfb  25973656                                    Schedule Meetup   \n",
       "3     244444551  18571126  Happy Hour Wednesday, Jonathan's Green Hills, ...   \n",
       "4     244257722  18571126           Happy Hour Wednesday, Brentwood, Oct. 18   \n",
       "\n",
       "                  time  \n",
       "0  2017-10-14 12:00:00  \n",
       "1  2017-10-15 00:15:00  \n",
       "2  2017-10-03 23:30:00  \n",
       "3  2017-10-25 22:30:00  \n",
       "4  2017-10-18 22:30:00  "
      ],
      "text/html": "<div>\n<style scoped>\n    .dataframe tbody tr th:only-of-type {\n        vertical-align: middle;\n    }\n\n    .dataframe tbody tr th {\n        vertical-align: top;\n    }\n\n    .dataframe thead th {\n        text-align: right;\n    }\n</style>\n<table border=\"1\" class=\"dataframe\">\n  <thead>\n    <tr style=\"text-align: right;\">\n      <th></th>\n      <th>event_id</th>\n      <th>group_id</th>\n      <th>name</th>\n      <th>time</th>\n    </tr>\n  </thead>\n  <tbody>\n    <tr>\n      <th>0</th>\n      <td>243930425</td>\n      <td>26140018</td>\n      <td>2017 Nashville Walk to End Alzheimers - Octob...</td>\n      <td>2017-10-14 12:00:00</td>\n    </tr>\n    <tr>\n      <th>1</th>\n      <td>244208851</td>\n      <td>25604533</td>\n      <td>Steak Dinner on the Patio</td>\n      <td>2017-10-15 00:15:00</td>\n    </tr>\n    <tr>\n      <th>2</th>\n      <td>pxlktnywnbfb</td>\n      <td>25973656</td>\n      <td>Schedule Meetup</td>\n      <td>2017-10-03 23:30:00</td>\n    </tr>\n    <tr>\n      <th>3</th>\n      <td>244444551</td>\n      <td>18571126</td>\n      <td>Happy Hour Wednesday, Jonathan's Green Hills, ...</td>\n      <td>2017-10-25 22:30:00</td>\n    </tr>\n    <tr>\n      <th>4</th>\n      <td>244257722</td>\n      <td>18571126</td>\n      <td>Happy Hour Wednesday, Brentwood, Oct. 18</td>\n      <td>2017-10-18 22:30:00</td>\n    </tr>\n  </tbody>\n</table>\n</div>"
     },
     "metadata": {},
     "execution_count": 11
    }
   ],
   "source": [
    "#read in meta-events.csv to pd dataframe from github repo\n",
    "meta_events = pd.read_csv(\"https://raw.githubusercontent.com/ebhtra/gory-graph/main/NashvilleSocial/meta-events.csv\")\n",
    "meta_events.head(5)"
   ]
  },
  {
   "cell_type": "code",
   "execution_count": 10,
   "metadata": {},
   "outputs": [
    {
     "output_type": "execute_result",
     "data": {
      "text/plain": [
       "   group_id                                 group_name  num_members  \\\n",
       "0    339011                    Nashville Hiking Meetup        15838   \n",
       "1  19728145           Stepping Out Social Dance Meetup         1778   \n",
       "2   6335372                           Nashville soccer         2869   \n",
       "3  10016242                                     NashJS         1975   \n",
       "4  21174496  20's & 30's Women looking for girlfriends         2782   \n",
       "\n",
       "   category_id         category_name  organizer_id             group_urlname  \n",
       "0           23  Outdoors & Adventure       4353803          nashville-hiking  \n",
       "1            5               Dancing     118484462    steppingoutsocialdance  \n",
       "2           32   Sports & Recreation     108448302          Nashville-soccer  \n",
       "3           34                  Tech       8111102                    nashjs  \n",
       "4           31           Socializing     184580248  new-friends-in-Nashville  "
      ],
      "text/html": "<div>\n<style scoped>\n    .dataframe tbody tr th:only-of-type {\n        vertical-align: middle;\n    }\n\n    .dataframe tbody tr th {\n        vertical-align: top;\n    }\n\n    .dataframe thead th {\n        text-align: right;\n    }\n</style>\n<table border=\"1\" class=\"dataframe\">\n  <thead>\n    <tr style=\"text-align: right;\">\n      <th></th>\n      <th>group_id</th>\n      <th>group_name</th>\n      <th>num_members</th>\n      <th>category_id</th>\n      <th>category_name</th>\n      <th>organizer_id</th>\n      <th>group_urlname</th>\n    </tr>\n  </thead>\n  <tbody>\n    <tr>\n      <th>0</th>\n      <td>339011</td>\n      <td>Nashville Hiking Meetup</td>\n      <td>15838</td>\n      <td>23</td>\n      <td>Outdoors &amp; Adventure</td>\n      <td>4353803</td>\n      <td>nashville-hiking</td>\n    </tr>\n    <tr>\n      <th>1</th>\n      <td>19728145</td>\n      <td>Stepping Out Social Dance Meetup</td>\n      <td>1778</td>\n      <td>5</td>\n      <td>Dancing</td>\n      <td>118484462</td>\n      <td>steppingoutsocialdance</td>\n    </tr>\n    <tr>\n      <th>2</th>\n      <td>6335372</td>\n      <td>Nashville soccer</td>\n      <td>2869</td>\n      <td>32</td>\n      <td>Sports &amp; Recreation</td>\n      <td>108448302</td>\n      <td>Nashville-soccer</td>\n    </tr>\n    <tr>\n      <th>3</th>\n      <td>10016242</td>\n      <td>NashJS</td>\n      <td>1975</td>\n      <td>34</td>\n      <td>Tech</td>\n      <td>8111102</td>\n      <td>nashjs</td>\n    </tr>\n    <tr>\n      <th>4</th>\n      <td>21174496</td>\n      <td>20's &amp; 30's Women looking for girlfriends</td>\n      <td>2782</td>\n      <td>31</td>\n      <td>Socializing</td>\n      <td>184580248</td>\n      <td>new-friends-in-Nashville</td>\n    </tr>\n  </tbody>\n</table>\n</div>"
     },
     "metadata": {},
     "execution_count": 10
    }
   ],
   "source": [
    "#read in meta-groups.csv to pd dataframe from github repo\n",
    "meta_groups = pd.read_csv(\"https://raw.githubusercontent.com/ebhtra/gory-graph/main/NashvilleSocial/meta-groups.csv\")\n",
    "meta_groups.head(5)"
   ]
  },
  {
   "cell_type": "code",
   "execution_count": 12,
   "metadata": {},
   "outputs": [
    {
     "output_type": "execute_result",
     "data": {
      "text/plain": [
       "   member_id                 name        hometown       city state    lat  \\\n",
       "0       2069  Wesley Duffee-Braun       Brentwood  Brentwood    TN  36.00   \n",
       "1       8386                  Tim       Nashville  Nashville    TN  36.07   \n",
       "2       9205               Brenda       Brentwood  Brentwood    TN  36.00   \n",
       "3      17903                Steve             NaN  Nashville    TN  36.13   \n",
       "4      20418      Andrea Reynolds  Huntington, WV  Nashville    TN  36.17   \n",
       "\n",
       "     lon  \n",
       "0 -86.79  \n",
       "1 -86.78  \n",
       "2 -86.79  \n",
       "3 -86.80  \n",
       "4 -86.72  "
      ],
      "text/html": "<div>\n<style scoped>\n    .dataframe tbody tr th:only-of-type {\n        vertical-align: middle;\n    }\n\n    .dataframe tbody tr th {\n        vertical-align: top;\n    }\n\n    .dataframe thead th {\n        text-align: right;\n    }\n</style>\n<table border=\"1\" class=\"dataframe\">\n  <thead>\n    <tr style=\"text-align: right;\">\n      <th></th>\n      <th>member_id</th>\n      <th>name</th>\n      <th>hometown</th>\n      <th>city</th>\n      <th>state</th>\n      <th>lat</th>\n      <th>lon</th>\n    </tr>\n  </thead>\n  <tbody>\n    <tr>\n      <th>0</th>\n      <td>2069</td>\n      <td>Wesley Duffee-Braun</td>\n      <td>Brentwood</td>\n      <td>Brentwood</td>\n      <td>TN</td>\n      <td>36.00</td>\n      <td>-86.79</td>\n    </tr>\n    <tr>\n      <th>1</th>\n      <td>8386</td>\n      <td>Tim</td>\n      <td>Nashville</td>\n      <td>Nashville</td>\n      <td>TN</td>\n      <td>36.07</td>\n      <td>-86.78</td>\n    </tr>\n    <tr>\n      <th>2</th>\n      <td>9205</td>\n      <td>Brenda</td>\n      <td>Brentwood</td>\n      <td>Brentwood</td>\n      <td>TN</td>\n      <td>36.00</td>\n      <td>-86.79</td>\n    </tr>\n    <tr>\n      <th>3</th>\n      <td>17903</td>\n      <td>Steve</td>\n      <td>NaN</td>\n      <td>Nashville</td>\n      <td>TN</td>\n      <td>36.13</td>\n      <td>-86.80</td>\n    </tr>\n    <tr>\n      <th>4</th>\n      <td>20418</td>\n      <td>Andrea Reynolds</td>\n      <td>Huntington, WV</td>\n      <td>Nashville</td>\n      <td>TN</td>\n      <td>36.17</td>\n      <td>-86.72</td>\n    </tr>\n  </tbody>\n</table>\n</div>"
     },
     "metadata": {},
     "execution_count": 12
    }
   ],
   "source": [
    "#read in meta-members.csv to pd dataframe from github repo\n",
    "meta_members = pd.read_csv(\"https://raw.githubusercontent.com/ebhtra/gory-graph/main/NashvilleSocial/meta-members.csv\")\n",
    "meta_members.head(5)"
   ]
  },
  {
   "cell_type": "code",
   "execution_count": 13,
   "metadata": {},
   "outputs": [
    {
     "output_type": "execute_result",
     "data": {
      "text/plain": [
       "   Unnamed: 0      event_id  member_id  group_id\n",
       "0           0     243930425    6770985  26140018\n",
       "1           1     244208851  234724627  25604533\n",
       "2           2  pxlktnywnbfb  199563568  25973656\n",
       "3           3  pxlktnywnbfb  208888939  25973656\n",
       "4           4     244444551    1720391  18571126"
      ],
      "text/html": "<div>\n<style scoped>\n    .dataframe tbody tr th:only-of-type {\n        vertical-align: middle;\n    }\n\n    .dataframe tbody tr th {\n        vertical-align: top;\n    }\n\n    .dataframe thead th {\n        text-align: right;\n    }\n</style>\n<table border=\"1\" class=\"dataframe\">\n  <thead>\n    <tr style=\"text-align: right;\">\n      <th></th>\n      <th>Unnamed: 0</th>\n      <th>event_id</th>\n      <th>member_id</th>\n      <th>group_id</th>\n    </tr>\n  </thead>\n  <tbody>\n    <tr>\n      <th>0</th>\n      <td>0</td>\n      <td>243930425</td>\n      <td>6770985</td>\n      <td>26140018</td>\n    </tr>\n    <tr>\n      <th>1</th>\n      <td>1</td>\n      <td>244208851</td>\n      <td>234724627</td>\n      <td>25604533</td>\n    </tr>\n    <tr>\n      <th>2</th>\n      <td>2</td>\n      <td>pxlktnywnbfb</td>\n      <td>199563568</td>\n      <td>25973656</td>\n    </tr>\n    <tr>\n      <th>3</th>\n      <td>3</td>\n      <td>pxlktnywnbfb</td>\n      <td>208888939</td>\n      <td>25973656</td>\n    </tr>\n    <tr>\n      <th>4</th>\n      <td>4</td>\n      <td>244444551</td>\n      <td>1720391</td>\n      <td>18571126</td>\n    </tr>\n  </tbody>\n</table>\n</div>"
     },
     "metadata": {},
     "execution_count": 13
    }
   ],
   "source": [
    "#read in rsvps.csv to pd dataframe from github repo\n",
    "rsvps = pd.read_csv(\"https://raw.githubusercontent.com/ebhtra/gory-graph/main/NashvilleSocial/rsvps.csv\")\n",
    "rsvps.head(5)"
   ]
  },
  {
   "cell_type": "code",
   "execution_count": 11,
   "metadata": {},
   "outputs": [
    {
     "output_type": "stream",
     "name": "stdout",
     "text": [
      "Name: \nType: Graph\nNumber of nodes: 896305\nNumber of edges: 3782454\nAverage degree:   8.4401\n"
     ]
    }
   ],
   "source": []
  },
  {
   "cell_type": "code",
   "execution_count": 15,
   "metadata": {},
   "outputs": [
    {
     "output_type": "stream",
     "name": "stdout",
     "text": [
      "True\n",
      "There are 1 connected subgraphs in this graph.\n"
     ]
    }
   ],
   "source": []
  },
  {
   "cell_type": "code",
   "execution_count": 13,
   "metadata": {},
   "outputs": [
    {
     "output_type": "stream",
     "name": "stdout",
     "text": [
      "[<networkx.classes.graph.Graph object at 0x000001716AF8D848>]\n"
     ]
    }
   ],
   "source": []
  },
  {
   "cell_type": "code",
   "execution_count": null,
   "metadata": {},
   "outputs": [],
   "source": []
  }
 ]
}